{
 "cells": [
  {
   "cell_type": "code",
   "execution_count": 1,
   "metadata": {
    "scrolled": true
   },
   "outputs": [
    {
     "name": "stdout",
     "output_type": "stream",
     "text": [
      "Pixiedust database opened successfully\n"
     ]
    },
    {
     "data": {
      "text/html": [
       "\n",
       "        <div style=\"margin:10px\">\n",
       "            <a href=\"https://github.com/ibm-watson-data-lab/pixiedust\" target=\"_new\">\n",
       "                <img src=\"https://github.com/ibm-watson-data-lab/pixiedust/raw/master/docs/_static/pd_icon32.png\" style=\"float:left;margin-right:10px\"/>\n",
       "            </a>\n",
       "            <span>Pixiedust version 1.1.15</span>\n",
       "        </div>\n",
       "        "
      ],
      "text/plain": [
       "<IPython.core.display.HTML object>"
      ]
     },
     "metadata": {},
     "output_type": "display_data"
    }
   ],
   "source": [
    "%matplotlib inline\n",
    "import warnings\n",
    "warnings.filterwarnings(\"ignore\")\n",
    "\n",
    "import sqlite3\n",
    "import numpy as np\n",
    "import pandas as pd\n",
    "import matplotlib.pyplot as plt\n",
    "import string\n",
    "import seaborn as sns\n",
    "\n",
    "from sklearn.feature_extraction.text import TfidfVectorizer\n",
    "from sklearn.feature_extraction.text import CountVectorizer\n",
    "from sklearn.decomposition import TruncatedSVD\n",
    "from sklearn.preprocessing import StandardScaler\n",
    "from sklearn.cluster import KMeans\n",
    "from scipy.sparse import csr_matrix\n",
    "from scipy.sparse import diags\n",
    "import pixiedust\n",
    "import itertools"
   ]
  },
  {
   "cell_type": "code",
   "execution_count": 2,
   "metadata": {},
   "outputs": [],
   "source": [
    "conn = conn = sqlite3.connect(r'D:\\\\Studies\\\\AppliedAi\\\\AmazonFoodReviews\\\\Cleaned_Text.sqlite')\n",
    "\n",
    "filtered_data = pd.read_sql_query(\"\"\"SELECT CleanedText FROM Reviews\"\"\", conn)"
   ]
  },
  {
   "cell_type": "code",
   "execution_count": 3,
   "metadata": {
    "scrolled": true
   },
   "outputs": [
    {
     "data": {
      "text/html": [
       "<div>\n",
       "<style scoped>\n",
       "    .dataframe tbody tr th:only-of-type {\n",
       "        vertical-align: middle;\n",
       "    }\n",
       "\n",
       "    .dataframe tbody tr th {\n",
       "        vertical-align: top;\n",
       "    }\n",
       "\n",
       "    .dataframe thead th {\n",
       "        text-align: right;\n",
       "    }\n",
       "</style>\n",
       "<table border=\"1\" class=\"dataframe\">\n",
       "  <thead>\n",
       "    <tr style=\"text-align: right;\">\n",
       "      <th></th>\n",
       "      <th>CleanedText</th>\n",
       "    </tr>\n",
       "  </thead>\n",
       "  <tbody>\n",
       "    <tr>\n",
       "      <th>0</th>\n",
       "      <td>alway enjoy movi funni entertain didnt hesit p...</td>\n",
       "    </tr>\n",
       "    <tr>\n",
       "      <th>1</th>\n",
       "      <td>realli good idea final product outstand use de...</td>\n",
       "    </tr>\n",
       "    <tr>\n",
       "      <th>2</th>\n",
       "      <td>receiv shipment could hard wait tri product lo...</td>\n",
       "    </tr>\n",
       "    <tr>\n",
       "      <th>3</th>\n",
       "      <td>continu amaz shoddi treatment movi get dvd rel...</td>\n",
       "    </tr>\n",
       "    <tr>\n",
       "      <th>4</th>\n",
       "      <td>let know movi one person favorit ghost movi sa...</td>\n",
       "    </tr>\n",
       "  </tbody>\n",
       "</table>\n",
       "</div>"
      ],
      "text/plain": [
       "                                         CleanedText\n",
       "0  alway enjoy movi funni entertain didnt hesit p...\n",
       "1  realli good idea final product outstand use de...\n",
       "2  receiv shipment could hard wait tri product lo...\n",
       "3  continu amaz shoddi treatment movi get dvd rel...\n",
       "4  let know movi one person favorit ghost movi sa..."
      ]
     },
     "execution_count": 3,
     "metadata": {},
     "output_type": "execute_result"
    }
   ],
   "source": [
    "filtered_data.head()"
   ]
  },
  {
   "cell_type": "code",
   "execution_count": 4,
   "metadata": {},
   "outputs": [],
   "source": [
    "all_reviews = filtered_data[\"CleanedText\"].tolist()"
   ]
  },
  {
   "cell_type": "code",
   "execution_count": 5,
   "metadata": {},
   "outputs": [],
   "source": [
    "del filtered_data"
   ]
  },
  {
   "cell_type": "code",
   "execution_count": 6,
   "metadata": {},
   "outputs": [],
   "source": [
    "tfidf_vectorizer = TfidfVectorizer(ngram_range=(1,1), min_df=5)\n",
    "tfidf_data = tfidf_vectorizer.fit_transform(all_reviews)"
   ]
  },
  {
   "cell_type": "code",
   "execution_count": 7,
   "metadata": {},
   "outputs": [
    {
     "data": {
      "text/plain": [
       "(10155,)"
      ]
     },
     "execution_count": 7,
     "metadata": {},
     "output_type": "execute_result"
    }
   ],
   "source": [
    "tfidf_vectorizer.idf_.shape"
   ]
  },
  {
   "cell_type": "code",
   "execution_count": 8,
   "metadata": {},
   "outputs": [],
   "source": [
    "top_tfidf_indices = list(np.argsort(tfidf_vectorizer.idf_)[::-1])[:2000]"
   ]
  },
  {
   "cell_type": "code",
   "execution_count": 9,
   "metadata": {},
   "outputs": [
    {
     "data": {
      "text/plain": [
       "2000"
      ]
     },
     "execution_count": 9,
     "metadata": {},
     "output_type": "execute_result"
    }
   ],
   "source": [
    "len(top_tfidf_indices)"
   ]
  },
  {
   "cell_type": "code",
   "execution_count": 10,
   "metadata": {},
   "outputs": [],
   "source": [
    "featureNames = tfidf_vectorizer.get_feature_names()\n",
    "top_features = [featureNames[i] for i in top_tfidf_indices]"
   ]
  },
  {
   "cell_type": "code",
   "execution_count": 11,
   "metadata": {},
   "outputs": [
    {
     "data": {
      "text/plain": [
       "2000"
      ]
     },
     "execution_count": 11,
     "metadata": {},
     "output_type": "execute_result"
    }
   ],
   "source": [
    "len(top_features)"
   ]
  },
  {
   "cell_type": "code",
   "execution_count": 12,
   "metadata": {},
   "outputs": [
    {
     "data": {
      "text/plain": [
       "['disppoint',\n",
       " 'chedder',\n",
       " 'pepcid',\n",
       " 'peoni',\n",
       " 'flex',\n",
       " 'tibetan',\n",
       " 'peg',\n",
       " 'peev',\n",
       " 'fleur',\n",
       " 'ped',\n",
       " 'perfumi',\n",
       " 'peal',\n",
       " 'has',\n",
       " 'chem',\n",
       " 'patrick',\n",
       " 'tilapia',\n",
       " 'tilda',\n",
       " 'tilia',\n",
       " 'tht',\n",
       " 'distrust']"
      ]
     },
     "execution_count": 12,
     "metadata": {},
     "output_type": "execute_result"
    }
   ],
   "source": [
    "top_features[0:20]"
   ]
  },
  {
   "cell_type": "code",
   "execution_count": 18,
   "metadata": {
    "pixiedust": {
     "displayParams": {}
    },
    "scrolled": false
   },
   "outputs": [
    {
     "name": "stdout",
     "output_type": "stream",
     "text": [
      "Number of reviews = 60000\n",
      "review #-60000\r"
     ]
    }
   ],
   "source": [
    "#%%pixie_debugger\n",
    "\n",
    "def update_matrix(row_col_tuples, top_features, co_occurence_matrix):\n",
    "    for row_col in row_col_tuples:\n",
    "        row = row_col[0]; col = row_col[1]\n",
    "        if (row in top_features) and (col in top_features):\n",
    "            row = top_features.index(row)\n",
    "            col = top_features.index(col)\n",
    "            co_occurence_matrix[row, col] = co_occurence_matrix[row, col] + 1\n",
    "            co_occurence_matrix[col, row] = co_occurence_matrix[col, row] + 1\n",
    "\n",
    "def populate_matrix(window_size, all_reviews, top_features, co_occurence_matrix):\n",
    "    progress = 0\n",
    "    print(f'Number of reviews = {len(all_reviews)}')\n",
    "    for review in [r.split() for r in all_reviews]:\n",
    "        progress = progress + 1\n",
    "        print(f'review #-{progress}', end='\\r')\n",
    "        start_sub_string  = review[0: window_size]\n",
    "        row_col_tuples = list(itertools.combinations(start_sub_string, 2))\n",
    "        update_matrix(row_col_tuples, top_features, co_occurence_matrix)\n",
    "        \n",
    "        sentence_length = len(review)\n",
    "        for i in range(1, sentence_length):\n",
    "            \n",
    "            window_end_index = window_size + i\n",
    "            \n",
    "            if window_end_index > sentence_length:\n",
    "                i = sentence_length\n",
    "                continue\n",
    "            \n",
    "            start_sub_string = review[i : window_end_index]\n",
    "            last_word = start_sub_string[-1]\n",
    "            start_sub_string = start_sub_string[0:-1]\n",
    "            row_col_tuples = list(map(lambda x : (last_word, x), start_sub_string))\n",
    "            update_matrix(row_col_tuples, top_features, co_occurence_matrix)\n",
    "\n",
    "co_occurence_matrix = csr_matrix((len(top_features),len(top_features)), dtype='uint32')\n",
    "            \n",
    "for i in range(0,len(top_features)):\n",
    "    co_occurence_matrix[i,i] = 1\n",
    "    \n",
    "populate_matrix(5, all_reviews, top_features, co_occurence_matrix)"
   ]
  },
  {
   "cell_type": "markdown",
   "metadata": {},
   "source": [
    "### 200 dimensions explain 68% of the data"
   ]
  },
  {
   "cell_type": "code",
   "execution_count": 20,
   "metadata": {},
   "outputs": [
    {
     "data": {
      "text/plain": [
       "0.681847360362582"
      ]
     },
     "execution_count": 20,
     "metadata": {},
     "output_type": "execute_result"
    }
   ],
   "source": [
    "svd_200 = TruncatedSVD(n_components=200)\n",
    "data_200 = svd_200.fit_transform(co_occurence_matrix)\n",
    "svd_200.explained_variance_ratio_.sum()"
   ]
  },
  {
   "cell_type": "markdown",
   "metadata": {},
   "source": [
    "### 400 dimensions explain 81% of the data"
   ]
  },
  {
   "cell_type": "code",
   "execution_count": 21,
   "metadata": {},
   "outputs": [
    {
     "data": {
      "text/plain": [
       "0.8108603029718134"
      ]
     },
     "execution_count": 21,
     "metadata": {},
     "output_type": "execute_result"
    }
   ],
   "source": [
    "svd_400 = TruncatedSVD(n_components=400)\n",
    "data_400 = svd_400.fit_transform(co_occurence_matrix)\n",
    "svd_400.explained_variance_ratio_.sum()"
   ]
  },
  {
   "cell_type": "markdown",
   "metadata": {},
   "source": [
    "### 600 dimensions explain 84% of the data"
   ]
  },
  {
   "cell_type": "code",
   "execution_count": 28,
   "metadata": {},
   "outputs": [
    {
     "data": {
      "text/plain": [
       "0.8424408810030994"
      ]
     },
     "execution_count": 28,
     "metadata": {},
     "output_type": "execute_result"
    }
   ],
   "source": [
    "svd_600 = TruncatedSVD(n_components=600)\n",
    "data_600 = svd_600.fit_transform(co_occurence_matrix)\n",
    "svd_600.explained_variance_ratio_.sum()"
   ]
  },
  {
   "cell_type": "markdown",
   "metadata": {},
   "source": [
    "## Beyond 600 increase in dimensions does no increase the variance explained drastically"
   ]
  },
  {
   "cell_type": "code",
   "execution_count": 32,
   "metadata": {},
   "outputs": [],
   "source": [
    "std_scalar = StandardScaler()\n",
    "data_600_std = std_scalar.fit_transform(data_600)"
   ]
  },
  {
   "cell_type": "code",
   "execution_count": 35,
   "metadata": {},
   "outputs": [
    {
     "data": {
      "text/plain": [
       "numpy.ndarray"
      ]
     },
     "execution_count": 35,
     "metadata": {},
     "output_type": "execute_result"
    }
   ],
   "source": [
    "type(data_600_std)"
   ]
  },
  {
   "cell_type": "code",
   "execution_count": 36,
   "metadata": {},
   "outputs": [
    {
     "data": {
      "text/plain": [
       "(2000, 600)"
      ]
     },
     "execution_count": 36,
     "metadata": {},
     "output_type": "execute_result"
    }
   ],
   "source": [
    "data_600_std.shape"
   ]
  },
  {
   "cell_type": "code",
   "execution_count": 37,
   "metadata": {},
   "outputs": [],
   "source": [
    "import operator\n",
    "import math\n",
    "from sklearn.metrics.pairwise import cosine_similarity"
   ]
  },
  {
   "cell_type": "code",
   "execution_count": 38,
   "metadata": {},
   "outputs": [],
   "source": [
    "def GetDotProduct(v1, v2):\n",
    "    return sum(map(operator.mul, v1, v2))\n",
    "\n",
    "\n",
    "def GetCosineSimilarity(v1, v2):\n",
    "    prod = GetDotProduct(v1, v2)\n",
    "    len1 = math.sqrt(GetDotProduct(v1, v1))\n",
    "    len2 = math.sqrt(GetDotProduct(v2, v2))\n",
    "    return prod / (len1 * len2)"
   ]
  },
  {
   "cell_type": "code",
   "execution_count": 39,
   "metadata": {},
   "outputs": [],
   "source": [
    "def GetSimilarWords(interested_word, number_of_similar_words):\n",
    "    index_of_the_word = top_features.index(interested_word)\n",
    "    cosine_similarities = []\n",
    "    all_indices_except_interested_word = list(range(0,2000))\n",
    "    all_indices_except_interested_word.remove(index_of_the_word)\n",
    "    for i in all_indices_except_interested_word:\n",
    "        cos_sim = GetCosineSimilarity(data_600_std[index_of_the_word], data_600_std[i])\n",
    "        cosine_similarities.append(cos_sim)\n",
    "    \n",
    "    top_n_similar_word_indices = np.argsort(cosine_similarities)[::-1][:number_of_similar_words]\n",
    "    print(top_n_similar_word_indices)\n",
    "    return [top_features[i] for i in top_n_similar_word_indices]"
   ]
  },
  {
   "cell_type": "code",
   "execution_count": 41,
   "metadata": {},
   "outputs": [],
   "source": [
    "import random"
   ]
  },
  {
   "cell_type": "markdown",
   "metadata": {},
   "source": [
    "### Using Cosine similarity to calculate the similarity and getting 5 closest words "
   ]
  },
  {
   "cell_type": "code",
   "execution_count": 43,
   "metadata": {
    "pixiedust": {
     "displayParams": {}
    }
   },
   "outputs": [
    {
     "name": "stdout",
     "output_type": "stream",
     "text": [
      "*******************************************************************************************************************************\n",
      "Word of interest - oacute\n",
      "[ 597  528  566 1068  559]\n",
      "Similar word #1 -> rehab\n",
      "Similar word #2 -> camellia\n",
      "Similar word #3 -> arkansa\n",
      "Similar word #4 -> instantan\n",
      "Similar word #5 -> stoop\n",
      "*******************************************************************************************************************************\n",
      "*******************************************************************************************************************************\n",
      "Word of interest - thees\n",
      "[1001 1865  878 1978   78]\n",
      "Similar word #1 -> whisker\n",
      "Similar word #2 -> cheeper\n",
      "Similar word #3 -> luke\n",
      "Similar word #4 -> aquir\n",
      "Similar word #5 -> agon\n",
      "*******************************************************************************************************************************\n",
      "*******************************************************************************************************************************\n",
      "Word of interest - conic\n",
      "[1484  170 1580  774 1383]\n",
      "Similar word #1 -> turnov\n",
      "Similar word #2 -> hitch\n",
      "Similar word #3 -> pharmaceut\n",
      "Similar word #4 -> crostini\n",
      "Similar word #5 -> precook\n",
      "*******************************************************************************************************************************\n",
      "*******************************************************************************************************************************\n",
      "Word of interest - egrave\n",
      "[1112 1436  366 1129 1269]\n",
      "Similar word #1 -> slash\n",
      "Similar word #2 -> natural\n",
      "Similar word #3 -> bobbi\n",
      "Similar word #4 -> smush\n",
      "Similar word #5 -> booger\n",
      "*******************************************************************************************************************************\n",
      "*******************************************************************************************************************************\n",
      "Word of interest - nibbler\n",
      "[ 321 1164 1878  443  189]\n",
      "Similar word #1 -> bites\n",
      "Similar word #2 -> earthier\n",
      "Similar word #3 -> overhead\n",
      "Similar word #4 -> shasta\n",
      "Similar word #5 -> nonreturn\n",
      "*******************************************************************************************************************************\n"
     ]
    }
   ],
   "source": [
    "def GetWords():\n",
    "    word_indices = random.sample(range(0,2000), 5)\n",
    "    random_5_words = [top_features[i] for i in word_indices]\n",
    "    for random_word in random_5_words:\n",
    "        print('*'*127)\n",
    "        print(f'Word of interest - {random_word}')\n",
    "        similar_words = GetSimilarWords(random_word, 5)\n",
    "        for (index,similar_word) in enumerate(similar_words):\n",
    "            print(f'Similar word #{index+1} -> {similar_word}')\n",
    "        print('*'*127)\n",
    "        \n",
    "GetWords()"
   ]
  },
  {
   "cell_type": "code",
   "execution_count": 45,
   "metadata": {
    "scrolled": true
   },
   "outputs": [
    {
     "data": {
      "image/png": "[encoded data removed]",
      "text/plain": [
       "<Figure size 432x288 with 1 Axes>"
      ]
     },
     "metadata": {},
     "output_type": "display_data"
    }
   ],
   "source": [
    "elbow_dict = {}\n",
    "for k in range(2,10):\n",
    "    cluster_model = KMeans(k, n_jobs = -1).fit(data_600)\n",
    "    elbow_dict[k] = cluster_model.inertia_\n",
    "\n",
    "plt.figure()\n",
    "plt.plot(list(elbow_dict.keys()), list(elbow_dict.values()))\n",
    "plt.xlabel(\"Number of cluster\")\n",
    "plt.ylabel(\"Sum of the squred distances for the point to its closest centroid\")\n",
    "plt.show()"
   ]
  },
  {
   "cell_type": "markdown",
   "metadata": {},
   "source": [
    "### Elbow method revealed 6 as the best K"
   ]
  },
  {
   "cell_type": "code",
   "execution_count": null,
   "metadata": {
    "scrolled": true
   },
   "outputs": [],
   "source": [
    "best_k = 6\n",
    "best_model = KMeans(best_k, n_jobs = -1).fit(data_600_std)\n",
    "\n",
    "labels = np.array(best_model.labels_)"
   ]
  },
  {
   "cell_type": "code",
   "execution_count": 52,
   "metadata": {},
   "outputs": [
    {
     "name": "stdout",
     "output_type": "stream",
     "text": [
      "*******************************************************************************************************************************\n",
      "==============================\n",
      "Cluster Number 0\n",
      "==============================\n",
      "overblown\n",
      "-------------------------------------------------------------------------------------------------------------------------------\n",
      "streak\n",
      "-------------------------------------------------------------------------------------------------------------------------------\n",
      "obliter\n",
      "-------------------------------------------------------------------------------------------------------------------------------\n",
      "edema\n",
      "-------------------------------------------------------------------------------------------------------------------------------\n",
      "2002\n",
      "-------------------------------------------------------------------------------------------------------------------------------\n",
      "*******************************************************************************************************************************\n",
      "*******************************************************************************************************************************\n",
      "==============================\n",
      "Cluster Number 1\n",
      "==============================\n",
      "assimil\n",
      "-------------------------------------------------------------------------------------------------------------------------------\n",
      "latex\n",
      "-------------------------------------------------------------------------------------------------------------------------------\n",
      "bisquik\n",
      "-------------------------------------------------------------------------------------------------------------------------------\n",
      "embarras\n",
      "-------------------------------------------------------------------------------------------------------------------------------\n",
      "beliz\n",
      "-------------------------------------------------------------------------------------------------------------------------------\n",
      "*******************************************************************************************************************************\n",
      "*******************************************************************************************************************************\n",
      "==============================\n",
      "Cluster Number 2\n",
      "==============================\n",
      "multiport\n",
      "-------------------------------------------------------------------------------------------------------------------------------\n",
      "mildew\n",
      "-------------------------------------------------------------------------------------------------------------------------------\n",
      "shrunk\n",
      "-------------------------------------------------------------------------------------------------------------------------------\n",
      "difference\n",
      "-------------------------------------------------------------------------------------------------------------------------------\n",
      "nan\n",
      "-------------------------------------------------------------------------------------------------------------------------------\n",
      "*******************************************************************************************************************************\n",
      "*******************************************************************************************************************************\n",
      "==============================\n",
      "Cluster Number 4\n",
      "==============================\n",
      "sprue\n",
      "-------------------------------------------------------------------------------------------------------------------------------\n",
      "meaningless\n",
      "-------------------------------------------------------------------------------------------------------------------------------\n",
      "plow\n",
      "-------------------------------------------------------------------------------------------------------------------------------\n",
      "nutshell\n",
      "-------------------------------------------------------------------------------------------------------------------------------\n",
      "grater\n",
      "-------------------------------------------------------------------------------------------------------------------------------\n",
      "*******************************************************************************************************************************\n"
     ]
    }
   ],
   "source": [
    "\n",
    "for cluster_label in range(0, best_k):\n",
    "    \n",
    "    grouped_cluster = np.where(labels == cluster_label)[0]\n",
    "    \n",
    "    if(grouped_cluster.size < 5):\n",
    "        continue\n",
    "\n",
    "    print(\"*\" * 127)\n",
    "    print(\"=\" * 30)\n",
    "    print(f'Cluster Number {cluster_label}')\n",
    "    print(\"=\" * 30)\n",
    "    \n",
    "    cluster_words = [top_features[i] for i in grouped_cluster]\n",
    "    \n",
    "    random_indices = random.sample(range(0,grouped_cluster.size), 5) \n",
    "    \n",
    "    for i in random_indices:\n",
    "        print(cluster_words[i])\n",
    "        print(\"-\" * 127)\n",
    "    \n",
    "    print(\"*\" * 127)"
   ]
  }
 ],
 "metadata": {
  "kernelspec": {
   "display_name": "Python 3",
   "language": "python",
   "name": "python3"
  },
  "language_info": {
   "codemirror_mode": {
    "name": "ipython",
    "version": 3
   },
   "file_extension": ".py",
   "mimetype": "text/x-python",
   "name": "python",
   "nbconvert_exporter": "python",
   "pygments_lexer": "ipython3",
   "version": "3.6.5"
  }
 },
 "nbformat": 4,
 "nbformat_minor": 2
}
