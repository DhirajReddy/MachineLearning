{
 "cells": [
  {
   "cell_type": "code",
   "execution_count": 0,
   "metadata": {
    "colab": {},
    "colab_type": "code",
    "id": "0YQeg30Bn39J"
   },
   "outputs": [],
   "source": [
    "!pip install wordbatch"
   ]
  },
  {
   "cell_type": "code",
   "execution_count": 0,
   "metadata": {
    "colab": {},
    "colab_type": "code",
    "id": "fbkEIVVzoYzH"
   },
   "outputs": [],
   "source": [
    "!pip install --upgrade pandas\n",
    "!pip install --upgrade numpy"
   ]
  },
  {
   "cell_type": "code",
   "execution_count": 0,
   "metadata": {
    "colab": {},
    "colab_type": "code",
    "id": "jxEL3lcHdxuS"
   },
   "outputs": [],
   "source": [
    "!pip install catboost"
   ]
  },
  {
   "cell_type": "code",
   "execution_count": 0,
   "metadata": {
    "colab": {},
    "colab_type": "code",
    "id": "mNvOEmylpoM5"
   },
   "outputs": [],
   "source": [
    "import pandas as pd\n",
    "import numpy as np\n",
    "import matplotlib\n",
    "matplotlib.use('nbagg')\n",
    "\n",
    "import matplotlib.pyplot as plt\n",
    "plt.rcParams.update({'figure.max_open_warning': 0})\n",
    "\n",
    "import seaborn as sns\n",
    "sns.set_style('whitegrid')\n",
    "\n",
    "from sklearn.feature_extraction.text import TfidfVectorizer\n",
    "from sklearn.feature_extraction.text import TfidfTransformer\n",
    "from sklearn.feature_extraction.text import CountVectorizer\n",
    "from sklearn.preprocessing import StandardScaler\n",
    "from sklearn.pipeline import FeatureUnion\n",
    "import nltk\n",
    "import re\n",
    "from sklearn.model_selection import train_test_split\n",
    "from sklearn.preprocessing import LabelEncoder\n",
    "from sklearn.preprocessing import OneHotEncoder\n",
    "import pickle\n",
    "from sklearn.preprocessing import LabelBinarizer\n",
    "from scipy.sparse import csr_matrix\n",
    "from scipy.sparse import csc_matrix\n",
    "from sklearn.pipeline import make_union\n",
    "from sklearn.decomposition import TruncatedSVD\n",
    "from scipy.sparse import hstack\n",
    "from scipy.sparse import vstack\n",
    "import lightgbm as lgb\n",
    "from sklearn.metrics import mean_squared_error\n",
    "from sklearn.preprocessing import normalize\n",
    "from sklearn.feature_selection.univariate_selection import SelectKBest, f_regression\n",
    "\n",
    "import wordbatch\n",
    "from wordbatch.models import FTRL, FM_FTRL\n",
    "from sklearn.linear_model import Ridge\n",
    "from wordbatch.extractors import WordBag, WordHash\n",
    "\n",
    "from sklearn.naive_bayes import MultinomialNB\n",
    "from catboost import CatBoostRegressor"
   ]
  },
  {
   "cell_type": "code",
   "execution_count": 2,
   "metadata": {
    "colab": {
     "base_uri": "https://localhost:8080/",
     "height": 33
    },
    "colab_type": "code",
    "id": "WTE99XZsqbOs",
    "outputId": "92b9ad6d-9490-476c-ca90-31ba2d03c75c"
   },
   "outputs": [
    {
     "name": "stdout",
     "output_type": "stream",
     "text": [
      "Drive already mounted at /content/gdrive; to attempt to forcibly remount, call drive.mount(\"/content/gdrive\", force_remount=True).\n"
     ]
    }
   ],
   "source": [
    "from google.colab import drive\n",
    "drive.mount('/content/gdrive')"
   ]
  },
  {
   "cell_type": "code",
   "execution_count": 3,
   "metadata": {
    "colab": {
     "base_uri": "https://localhost:8080/",
     "height": 400
    },
    "colab_type": "code",
    "id": "pLJd95zsstGu",
    "outputId": "d89a1057-29b1-4df8-f709-8e2dc33aa70c"
   },
   "outputs": [
    {
     "data": {
      "text/html": [
       "<div>\n",
       "<style scoped>\n",
       "    .dataframe tbody tr th:only-of-type {\n",
       "        vertical-align: middle;\n",
       "    }\n",
       "\n",
       "    .dataframe tbody tr th {\n",
       "        vertical-align: top;\n",
       "    }\n",
       "\n",
       "    .dataframe thead th {\n",
       "        text-align: right;\n",
       "    }\n",
       "</style>\n",
       "<table border=\"1\" class=\"dataframe\">\n",
       "  <thead>\n",
       "    <tr style=\"text-align: right;\">\n",
       "      <th></th>\n",
       "      <th>train_id</th>\n",
       "      <th>name</th>\n",
       "      <th>item_condition_id</th>\n",
       "      <th>brand_name</th>\n",
       "      <th>price</th>\n",
       "      <th>shipping</th>\n",
       "      <th>item_description</th>\n",
       "      <th>general_category</th>\n",
       "      <th>sub_cat_1</th>\n",
       "      <th>sub_cat_2</th>\n",
       "    </tr>\n",
       "  </thead>\n",
       "  <tbody>\n",
       "    <tr>\n",
       "      <th>0</th>\n",
       "      <td>0</td>\n",
       "      <td>mlb cincinnati red shirt size</td>\n",
       "      <td>3</td>\n",
       "      <td>None</td>\n",
       "      <td>2.397895</td>\n",
       "      <td>1</td>\n",
       "      <td>descript yet</td>\n",
       "      <td>Men</td>\n",
       "      <td>Tops</td>\n",
       "      <td>T-shirts</td>\n",
       "    </tr>\n",
       "    <tr>\n",
       "      <th>1</th>\n",
       "      <td>1</td>\n",
       "      <td>razer blackwidow chroma keyboard</td>\n",
       "      <td>3</td>\n",
       "      <td>Razer</td>\n",
       "      <td>3.970292</td>\n",
       "      <td>0</td>\n",
       "      <td>keyboard great condit work like came box port ...</td>\n",
       "      <td>Electronics</td>\n",
       "      <td>Computers &amp; Tablets</td>\n",
       "      <td>Components &amp; Parts</td>\n",
       "    </tr>\n",
       "    <tr>\n",
       "      <th>2</th>\n",
       "      <td>2</td>\n",
       "      <td>ava viv blous</td>\n",
       "      <td>1</td>\n",
       "      <td>Target</td>\n",
       "      <td>2.397895</td>\n",
       "      <td>1</td>\n",
       "      <td>ador top hint lace key hole back pale pink als...</td>\n",
       "      <td>Women</td>\n",
       "      <td>Tops &amp; Blouses</td>\n",
       "      <td>Blouse</td>\n",
       "    </tr>\n",
       "    <tr>\n",
       "      <th>3</th>\n",
       "      <td>3</td>\n",
       "      <td>leather hors statu</td>\n",
       "      <td>1</td>\n",
       "      <td>None</td>\n",
       "      <td>3.583519</td>\n",
       "      <td>1</td>\n",
       "      <td>new tag leather hors retail stand foot high so...</td>\n",
       "      <td>Home</td>\n",
       "      <td>Home Décor</td>\n",
       "      <td>Home Décor Accents</td>\n",
       "    </tr>\n",
       "    <tr>\n",
       "      <th>4</th>\n",
       "      <td>4</td>\n",
       "      <td>24k gold plate rose</td>\n",
       "      <td>1</td>\n",
       "      <td>None</td>\n",
       "      <td>3.806662</td>\n",
       "      <td>0</td>\n",
       "      <td>complet certif authent</td>\n",
       "      <td>Women</td>\n",
       "      <td>Jewelry</td>\n",
       "      <td>Necklaces</td>\n",
       "    </tr>\n",
       "  </tbody>\n",
       "</table>\n",
       "</div>"
      ],
      "text/plain": [
       "   train_id                              name  item_condition_id brand_name  \\\n",
       "0         0     mlb cincinnati red shirt size                  3       None   \n",
       "1         1  razer blackwidow chroma keyboard                  3      Razer   \n",
       "2         2                     ava viv blous                  1     Target   \n",
       "3         3                leather hors statu                  1       None   \n",
       "4         4               24k gold plate rose                  1       None   \n",
       "\n",
       "      price  shipping                                   item_description  \\\n",
       "0  2.397895         1                                       descript yet   \n",
       "1  3.970292         0  keyboard great condit work like came box port ...   \n",
       "2  2.397895         1  ador top hint lace key hole back pale pink als...   \n",
       "3  3.583519         1  new tag leather hors retail stand foot high so...   \n",
       "4  3.806662         0                             complet certif authent   \n",
       "\n",
       "  general_category            sub_cat_1           sub_cat_2  \n",
       "0              Men                 Tops            T-shirts  \n",
       "1      Electronics  Computers & Tablets  Components & Parts  \n",
       "2            Women       Tops & Blouses              Blouse  \n",
       "3             Home           Home Décor  Home Décor Accents  \n",
       "4            Women              Jewelry           Necklaces  "
      ]
     },
     "execution_count": 3,
     "metadata": {
      "tags": []
     },
     "output_type": "execute_result"
    }
   ],
   "source": [
    "all_df = pickle.load(open('/content/gdrive/My Drive/MerCari/all_df.p', 'rb'))\n",
    "all_df.head()"
   ]
  },
  {
   "cell_type": "code",
   "execution_count": 0,
   "metadata": {
    "colab": {},
    "colab_type": "code",
    "id": "0ksy2b4Ut-5X"
   },
   "outputs": [],
   "source": [
    "all_df.general_category = all_df.general_category.astype('category')\n",
    "all_df.sub_cat_1 = all_df.sub_cat_1.astype('category')\n",
    "all_df.sub_cat_2 = all_df.sub_cat_2.astype('category')\n",
    "all_df.brand_name = all_df.brand_name.astype('category')\n",
    "all_df.item_condition_id = all_df.item_condition_id.astype('category')\n",
    "all_df.shipping = all_df.shipping.astype('category')"
   ]
  },
  {
   "cell_type": "code",
   "execution_count": 0,
   "metadata": {
    "colab": {},
    "colab_type": "code",
    "id": "U6t4zErZ4bdM"
   },
   "outputs": [],
   "source": [
    "from __future__ import print_function, division, absolute_import\n",
    "from sklearn.preprocessing import LabelEncoder, OneHotEncoder\n",
    "from sklearn.base import TransformerMixin, BaseEstimator\n",
    "from sklearn.utils.validation import check_is_fitted\n",
    "from sklearn.utils import column_or_1d\n",
    "#from sklearn.preprocessing.label import _check_numpy_unicode_bug\n",
    "import numpy as np\n",
    "import pandas as pd\n",
    "#from skutil.base import BaseSkutil\n",
    "#from skutil.utils import validate_is_pd\n",
    "\n",
    "__all__ = [\n",
    "    'SafeLabelEncoder',\n",
    "    'OneHotCategoricalEncoder'\n",
    "]\n",
    "\n",
    "\n",
    "def _get_unseen():\n",
    "    \"\"\"Basically just a static method\n",
    "    instead of a class attribute to avoid\n",
    "    someone accidentally changing it.\"\"\"\n",
    "    return 99999\n",
    "\n",
    "\n",
    "class SafeLabelEncoder(LabelEncoder):\n",
    "    \"\"\"An extension of LabelEncoder that will\n",
    "    not throw an exception for unseen data, but will\n",
    "    instead return a default value of 99999\n",
    "\n",
    "    Attributes\n",
    "    ----------\n",
    "\n",
    "    classes_ : the classes that are encoded\n",
    "    \"\"\"\n",
    "\n",
    "    def transform(self, y):\n",
    "        \"\"\"Perform encoding if already fit.\n",
    "\n",
    "        Parameters\n",
    "        ----------\n",
    "\n",
    "        y : array_like, shape=(n_samples,)\n",
    "            The array to encode\n",
    "\n",
    "        Returns\n",
    "        -------\n",
    "\n",
    "        e : array_like, shape=(n_samples,)\n",
    "            The encoded array\n",
    "        \"\"\"\n",
    "        check_is_fitted(self, 'classes_')\n",
    "        y = column_or_1d(y, warn=True)\n",
    "\n",
    "        classes = np.unique(y)\n",
    "        #_check_numpy_unicode_bug(classes)\n",
    "\n",
    "        # Check not too many:\n",
    "        unseen = _get_unseen()\n",
    "        if len(classes) >= unseen:\n",
    "            raise ValueError('Too many factor levels in feature. Max is %i' % unseen)\n",
    "\n",
    "        e = np.array([\n",
    "                         np.searchsorted(self.classes_, x) if x in self.classes_ else unseen\n",
    "                         for x in y\n",
    "                         ])\n",
    "\n",
    "        return e"
   ]
  },
  {
   "cell_type": "markdown",
   "metadata": {
    "colab_type": "text",
    "id": "ESrRE1muQ8E2"
   },
   "source": [
    "## LightGBM + CatBoost"
   ]
  },
  {
   "cell_type": "code",
   "execution_count": 0,
   "metadata": {
    "colab": {},
    "colab_type": "code",
    "id": "OIe3ShONzLUJ"
   },
   "outputs": [],
   "source": [
    "x_train, x_test, y_train, y_test = train_test_split(all_df.drop(columns=['train_id','price'], axis=1), \\\n",
    "                                                                     all_df['price'],\\\n",
    "                                                                    test_size = 0.2)"
   ]
  },
  {
   "cell_type": "code",
   "execution_count": 0,
   "metadata": {
    "colab": {},
    "colab_type": "code",
    "id": "jiPHBitYzfXW"
   },
   "outputs": [],
   "source": [
    "name_tfidf_vectorizer = TfidfVectorizer(ngram_range=(1,2), max_features = 2 ** 17)\n",
    "x_train_name_tfidf = name_tfidf_vectorizer.fit_transform(x_train.name)\n",
    "x_test_name_tfidf = name_tfidf_vectorizer.transform(x_test.name)\n",
    "name_standerdizer = StandardScaler(with_mean=False)\n",
    "x_train_name_tfidf = name_standerdizer.fit_transform(x_train_name_tfidf)\n",
    "x_test_name_tfidf = name_standerdizer.transform(x_test_name_tfidf)\n",
    "pickle.dump(x_train_name_tfidf, open('/content/gdrive/My Drive/MerCari/x_train_name_tfidf.p','wb'))\n",
    "pickle.dump(x_test_name_tfidf, open('/content/gdrive/My Drive/MerCari/x_test_name_tfidf.p','wb'))\n",
    "\n",
    "desc_tfidf_vectorizer = TfidfVectorizer(ngram_range=(1,2), max_features = 2 * (2 ** 17))\n",
    "x_train_desc_tfidf = desc_tfidf_vectorizer.fit_transform(x_train.item_description)\n",
    "x_test_desc_tfidf = desc_tfidf_vectorizer.transform(x_test.item_description)\n",
    "desc_standerdizer = StandardScaler(with_mean=False)\n",
    "x_train_desc_tfidf = desc_standerdizer.fit_transform(x_train_desc_tfidf)\n",
    "x_test_desc_tfidf = desc_standerdizer.transform(x_test_desc_tfidf)\n",
    "\n",
    "pickle.dump(x_train_desc_tfidf, open('/content/gdrive/My Drive/MerCari/x_train_desc_tfidf.p','wb'))\n",
    "pickle.dump(x_test_desc_tfidf, open('/content/gdrive/My Drive/MerCari/x_test_desc_tfidf.p','wb'))"
   ]
  },
  {
   "cell_type": "code",
   "execution_count": 0,
   "metadata": {
    "colab": {},
    "colab_type": "code",
    "id": "wYE3h584T_Ff"
   },
   "outputs": [],
   "source": [
    "# load target data\n",
    "y_train = pickle.load(open('/content/gdrive/My Drive/MerCari/y_train.p', 'rb'))\n",
    "y_test = pickle.load(open('/content/gdrive/My Drive/MerCari/y_test.p', 'rb'))"
   ]
  },
  {
   "cell_type": "code",
   "execution_count": 0,
   "metadata": {
    "colab": {},
    "colab_type": "code",
    "id": "tRQTgq5pRCg-"
   },
   "outputs": [],
   "source": [
    "x_train_name_tfidf = pickle.load(open('/content/gdrive/My Drive/MerCari/x_train_name_tfidf.p','rb'))\n",
    "x_test_name_tfidf = pickle.load(open('/content/gdrive/My Drive/MerCari/x_test_name_tfidf.p','rb'))\n",
    "x_train_desc_tfidf = pickle.load(open('/content/gdrive/My Drive/MerCari/x_train_desc_tfidf.p','rb'))\n",
    "x_test_desc_tfidf = pickle.load(open('/content/gdrive/My Drive/MerCari/x_test_desc_tfidf.p','rb'))"
   ]
  },
  {
   "cell_type": "code",
   "execution_count": 0,
   "metadata": {
    "colab": {},
    "colab_type": "code",
    "id": "SpHncAx8TaUO"
   },
   "outputs": [],
   "source": [
    "x_train_text_features = hstack([x_train_name_tfidf, x_train_desc_tfidf]).tocsr()\n",
    "x_test_text_features = hstack([x_test_name_tfidf, x_test_desc_tfidf]).tocsr()"
   ]
  },
  {
   "cell_type": "code",
   "execution_count": 0,
   "metadata": {
    "colab": {},
    "colab_type": "code",
    "id": "p8LpUIK4TN2l"
   },
   "outputs": [],
   "source": [
    "lgb_train = lgb.Dataset(x_train_text_features, y_train)\n",
    "lgb_test = lgb.Dataset(x_test_text_features, y_test, reference=lgb_train)"
   ]
  },
  {
   "cell_type": "code",
   "execution_count": 0,
   "metadata": {
    "colab": {
     "base_uri": "https://localhost:8080/",
     "height": 2604
    },
    "colab_type": "code",
    "id": "g9zLKQYETrbQ",
    "outputId": "dec9ae38-341c-41c6-c6cd-c592142dc1ef"
   },
   "outputs": [
    {
     "name": "stdout",
     "output_type": "stream",
     "text": [
      "[1]\tvalid_0's rmse: 0.671099\n",
      "Training until validation scores don't improve for 10 rounds.\n",
      "[2]\tvalid_0's rmse: 0.639879\n",
      "[3]\tvalid_0's rmse: 0.619844\n",
      "[4]\tvalid_0's rmse: 0.606384\n",
      "[5]\tvalid_0's rmse: 0.598436\n",
      "[6]\tvalid_0's rmse: 0.591338\n",
      "[7]\tvalid_0's rmse: 0.585234\n",
      "[8]\tvalid_0's rmse: 0.580418\n",
      "[9]\tvalid_0's rmse: 0.576076\n",
      "[10]\tvalid_0's rmse: 0.572438\n",
      "[11]\tvalid_0's rmse: 0.569129\n",
      "[12]\tvalid_0's rmse: 0.566324\n",
      "[13]\tvalid_0's rmse: 0.563706\n",
      "[14]\tvalid_0's rmse: 0.561106\n",
      "[15]\tvalid_0's rmse: 0.558954\n",
      "[16]\tvalid_0's rmse: 0.55704\n",
      "[17]\tvalid_0's rmse: 0.55523\n",
      "[18]\tvalid_0's rmse: 0.553666\n",
      "[19]\tvalid_0's rmse: 0.552305\n",
      "[20]\tvalid_0's rmse: 0.551061\n",
      "[21]\tvalid_0's rmse: 0.549721\n",
      "[22]\tvalid_0's rmse: 0.548096\n",
      "[23]\tvalid_0's rmse: 0.547075\n",
      "[24]\tvalid_0's rmse: 0.545961\n",
      "[25]\tvalid_0's rmse: 0.544778\n",
      "[26]\tvalid_0's rmse: 0.543771\n",
      "[27]\tvalid_0's rmse: 0.542821\n",
      "[28]\tvalid_0's rmse: 0.54189\n",
      "[29]\tvalid_0's rmse: 0.540964\n",
      "[30]\tvalid_0's rmse: 0.539985\n",
      "[31]\tvalid_0's rmse: 0.53921\n",
      "[32]\tvalid_0's rmse: 0.538516\n",
      "[33]\tvalid_0's rmse: 0.537755\n",
      "[34]\tvalid_0's rmse: 0.537087\n",
      "[35]\tvalid_0's rmse: 0.536423\n",
      "[36]\tvalid_0's rmse: 0.535815\n",
      "[37]\tvalid_0's rmse: 0.535299\n",
      "[38]\tvalid_0's rmse: 0.534605\n",
      "[39]\tvalid_0's rmse: 0.534024\n",
      "[40]\tvalid_0's rmse: 0.533493\n",
      "[41]\tvalid_0's rmse: 0.532941\n",
      "[42]\tvalid_0's rmse: 0.532402\n",
      "[43]\tvalid_0's rmse: 0.53184\n",
      "[44]\tvalid_0's rmse: 0.531425\n",
      "[45]\tvalid_0's rmse: 0.530939\n",
      "[46]\tvalid_0's rmse: 0.530551\n",
      "[47]\tvalid_0's rmse: 0.530101\n",
      "[48]\tvalid_0's rmse: 0.529702\n",
      "[49]\tvalid_0's rmse: 0.529198\n",
      "[50]\tvalid_0's rmse: 0.528892\n",
      "[51]\tvalid_0's rmse: 0.528471\n",
      "[52]\tvalid_0's rmse: 0.527826\n",
      "[53]\tvalid_0's rmse: 0.527171\n",
      "[54]\tvalid_0's rmse: 0.52674\n",
      "[55]\tvalid_0's rmse: 0.526432\n",
      "[56]\tvalid_0's rmse: 0.526068\n",
      "[57]\tvalid_0's rmse: 0.525819\n",
      "[58]\tvalid_0's rmse: 0.525492\n",
      "[59]\tvalid_0's rmse: 0.525117\n",
      "[60]\tvalid_0's rmse: 0.524743\n",
      "[61]\tvalid_0's rmse: 0.5245\n",
      "[62]\tvalid_0's rmse: 0.524021\n",
      "[63]\tvalid_0's rmse: 0.523828\n",
      "[64]\tvalid_0's rmse: 0.523545\n",
      "[65]\tvalid_0's rmse: 0.52331\n",
      "[66]\tvalid_0's rmse: 0.523086\n",
      "[67]\tvalid_0's rmse: 0.522903\n",
      "[68]\tvalid_0's rmse: 0.522627\n",
      "[69]\tvalid_0's rmse: 0.52231\n",
      "[70]\tvalid_0's rmse: 0.522077\n",
      "[71]\tvalid_0's rmse: 0.521797\n",
      "[72]\tvalid_0's rmse: 0.5216\n",
      "[73]\tvalid_0's rmse: 0.521322\n",
      "[74]\tvalid_0's rmse: 0.521077\n",
      "[75]\tvalid_0's rmse: 0.520985\n",
      "[76]\tvalid_0's rmse: 0.52082\n",
      "[77]\tvalid_0's rmse: 0.520647\n",
      "[78]\tvalid_0's rmse: 0.520483\n",
      "[79]\tvalid_0's rmse: 0.520261\n",
      "[80]\tvalid_0's rmse: 0.520042\n",
      "[81]\tvalid_0's rmse: 0.519871\n",
      "[82]\tvalid_0's rmse: 0.519748\n",
      "[83]\tvalid_0's rmse: 0.519578\n",
      "[84]\tvalid_0's rmse: 0.519436\n",
      "[85]\tvalid_0's rmse: 0.519235\n",
      "[86]\tvalid_0's rmse: 0.519114\n",
      "[87]\tvalid_0's rmse: 0.519025\n",
      "[88]\tvalid_0's rmse: 0.518912\n",
      "[89]\tvalid_0's rmse: 0.518503\n",
      "[90]\tvalid_0's rmse: 0.51838\n",
      "[91]\tvalid_0's rmse: 0.518195\n",
      "[92]\tvalid_0's rmse: 0.51806\n",
      "[93]\tvalid_0's rmse: 0.517888\n",
      "[94]\tvalid_0's rmse: 0.517772\n",
      "[95]\tvalid_0's rmse: 0.517734\n",
      "[96]\tvalid_0's rmse: 0.517491\n",
      "[97]\tvalid_0's rmse: 0.517419\n",
      "[98]\tvalid_0's rmse: 0.517319\n",
      "[99]\tvalid_0's rmse: 0.517237\n",
      "[100]\tvalid_0's rmse: 0.517071\n",
      "[101]\tvalid_0's rmse: 0.51702\n",
      "[102]\tvalid_0's rmse: 0.516929\n",
      "[103]\tvalid_0's rmse: 0.51676\n",
      "[104]\tvalid_0's rmse: 0.516653\n",
      "[105]\tvalid_0's rmse: 0.516586\n",
      "[106]\tvalid_0's rmse: 0.516534\n",
      "[107]\tvalid_0's rmse: 0.516467\n",
      "[108]\tvalid_0's rmse: 0.516364\n",
      "[109]\tvalid_0's rmse: 0.516354\n",
      "[110]\tvalid_0's rmse: 0.516254\n",
      "[111]\tvalid_0's rmse: 0.516191\n",
      "[112]\tvalid_0's rmse: 0.516101\n",
      "[113]\tvalid_0's rmse: 0.516008\n",
      "[114]\tvalid_0's rmse: 0.515958\n",
      "[115]\tvalid_0's rmse: 0.515898\n",
      "[116]\tvalid_0's rmse: 0.515861\n",
      "[117]\tvalid_0's rmse: 0.515876\n",
      "[118]\tvalid_0's rmse: 0.515802\n",
      "[119]\tvalid_0's rmse: 0.515739\n",
      "[120]\tvalid_0's rmse: 0.515691\n",
      "[121]\tvalid_0's rmse: 0.515605\n",
      "[122]\tvalid_0's rmse: 0.515541\n",
      "[123]\tvalid_0's rmse: 0.515511\n",
      "[124]\tvalid_0's rmse: 0.515426\n",
      "[125]\tvalid_0's rmse: 0.515366\n",
      "[126]\tvalid_0's rmse: 0.515119\n",
      "[127]\tvalid_0's rmse: 0.515128\n",
      "[128]\tvalid_0's rmse: 0.515087\n",
      "[129]\tvalid_0's rmse: 0.515024\n",
      "[130]\tvalid_0's rmse: 0.514946\n",
      "[131]\tvalid_0's rmse: 0.514922\n",
      "[132]\tvalid_0's rmse: 0.514865\n",
      "[133]\tvalid_0's rmse: 0.514785\n",
      "[134]\tvalid_0's rmse: 0.514754\n",
      "[135]\tvalid_0's rmse: 0.514653\n",
      "[136]\tvalid_0's rmse: 0.514606\n",
      "[137]\tvalid_0's rmse: 0.514569\n",
      "[138]\tvalid_0's rmse: 0.514571\n",
      "[139]\tvalid_0's rmse: 0.514605\n",
      "[140]\tvalid_0's rmse: 0.514587\n",
      "[141]\tvalid_0's rmse: 0.514529\n",
      "[142]\tvalid_0's rmse: 0.514383\n",
      "[143]\tvalid_0's rmse: 0.514339\n",
      "[144]\tvalid_0's rmse: 0.514326\n",
      "[145]\tvalid_0's rmse: 0.514256\n",
      "[146]\tvalid_0's rmse: 0.5142\n",
      "[147]\tvalid_0's rmse: 0.514103\n",
      "[148]\tvalid_0's rmse: 0.514084\n",
      "[149]\tvalid_0's rmse: 0.514139\n",
      "[150]\tvalid_0's rmse: 0.514034\n",
      "Did not meet early stopping. Best iteration is:\n",
      "[150]\tvalid_0's rmse: 0.514034\n",
      "The rmse of prediction is: 0.5140337000650281\n"
     ]
    }
   ],
   "source": [
    "params = {\n",
    "    'boosting_type': 'gbdt',\n",
    "    'objective': 'regression',\n",
    "    'metric': 'rmse',\n",
    "    'num_leaves': 100,\n",
    "    'learning_rate': 0.7,\n",
    "    'feature_fraction': 0.9,\n",
    "    'bagging_fraction': 0.8,\n",
    "    'bagging_freq': 3,\n",
    "    'verbose': 0\n",
    "}\n",
    "\n",
    "gbm = lgb.train(params,\n",
    "                lgb_train,\n",
    "                num_boost_round=150,\n",
    "                valid_sets=lgb_test,\n",
    "                early_stopping_rounds=10\n",
    "                )\n",
    "y_test_text_features_lgbm = gbm.predict(x_test_text_features, num_iteration=gbm.best_iteration)\n",
    "\n",
    "print('The rmse of prediction is:', mean_squared_error(y_test, y_pred) ** 0.5)"
   ]
  },
  {
   "cell_type": "code",
   "execution_count": 0,
   "metadata": {
    "colab": {},
    "colab_type": "code",
    "id": "LqwoeGSAfEWr"
   },
   "outputs": [],
   "source": [
    "pickle.dump(y_train_text_features_lgbm, open('/content/gdrive/My Drive/MerCari/y_train_text_features_lgbm.p','wb'))\n",
    "pickle.dump(y_test_text_features_lgbm, open('/content/gdrive/My Drive/MerCari/y_test_text_features_lgbm.p','wb'))"
   ]
  },
  {
   "cell_type": "code",
   "execution_count": 0,
   "metadata": {
    "colab": {},
    "colab_type": "code",
    "id": "MR4YoZ45fAH1"
   },
   "outputs": [],
   "source": []
  },
  {
   "cell_type": "code",
   "execution_count": 0,
   "metadata": {
    "colab": {
     "base_uri": "https://localhost:8080/",
     "height": 34
    },
    "colab_type": "code",
    "id": "xEXH9DUWbgh6",
    "outputId": "82f4bc4c-c6b2-43eb-cb4e-d45317ee2d8a"
   },
   "outputs": [
    {
     "data": {
      "text/plain": [
       "(1184672,)"
      ]
     },
     "execution_count": 14,
     "metadata": {
      "tags": []
     },
     "output_type": "execute_result"
    }
   ],
   "source": [
    "y_train_text_features_lgbm.shape"
   ]
  },
  {
   "cell_type": "code",
   "execution_count": 0,
   "metadata": {
    "colab": {},
    "colab_type": "code",
    "id": "D1Yp6zLFcU8H"
   },
   "outputs": [],
   "source": [
    "x_train_cat = pd.DataFrame()\n",
    "x_train_cat['lgbm_text'] = y_train_text_features_lgbm\n",
    "\n",
    "x_test_cat = pd.DataFrame()\n",
    "x_test_cat['lgbm_text'] = y_test_text_features_lgbm\n",
    "x_train_cat['item_condition_id'] = x_train.item_condition_id.values\n",
    "x_train_cat['shipping'] = x_train.shipping.values\n",
    "x_train_cat['brand_name'] = x_train.brand_name.values\n",
    "x_train_cat['gen_cat'] = x_train.general_category.values\n",
    "x_train_cat['sub_cat_1'] = x_train.sub_cat_1.values\n",
    "x_train_cat['sub_cat_2'] = x_train.sub_cat_2.values\n",
    "\n",
    "x_test_cat['item_condition_id'] = x_test.item_condition_id.values\n",
    "x_test_cat['shipping'] = x_test.shipping.values\n",
    "x_test_cat['brand_name'] = x_test.brand_name.values\n",
    "x_test_cat['gen_cat'] = x_test.general_category.values\n",
    "x_test_cat['sub_cat_1'] = x_test.sub_cat_1.values\n",
    "x_test_cat['sub_cat_2'] = x_test.sub_cat_2.values\n",
    "\n",
    "sub_cat_2_le = SafeLabelEncoder()\n",
    "x_train_cat['sub_cat_2'] = sub_cat_2_le.fit_transform(x_train_cat.sub_cat_2.values)\n",
    "x_test_cat['sub_cat_2'] = sub_cat_2_le.transform(x_test_cat.sub_cat_2.values)\n",
    "\n",
    "sub_cat_1_le = SafeLabelEncoder()\n",
    "x_train_cat['sub_cat_1'] = sub_cat_1_le.fit_transform(x_train_cat.sub_cat_1.values)\n",
    "x_test_cat['sub_cat_1'] = sub_cat_1_le.transform(x_test_cat.sub_cat_1.values)\n",
    "\n",
    "gen_cat_le = SafeLabelEncoder()\n",
    "x_train_cat['gen_cat'] = gen_cat_le.fit_transform(x_train_cat.gen_cat.values)\n",
    "x_test_cat['gen_cat'] = gen_cat_le.transform(x_test_cat.gen_cat.values)\n",
    "\n",
    "shipping_le = SafeLabelEncoder()\n",
    "x_train_cat['shipping'] = shipping_le.fit_transform(x_train_cat.shipping.values)\n",
    "x_test_cat['shipping'] = shipping_le.transform(x_test_cat.shipping.values)\n",
    "\n",
    "item_condition_id_le = SafeLabelEncoder()\n",
    "x_train_cat['item_condition_id'] = item_condition_id_le.fit_transform(x_train_cat.item_condition_id.values)\n",
    "x_test_cat['item_condition_id'] = item_condition_id_le.transform(x_test_cat.item_condition_id.values)\n",
    "\n",
    "brand_name_le = SafeLabelEncoder()\n",
    "x_train_cat['brand_name'] = brand_name_le.fit_transform(x_train_cat.brand_name.values)\n",
    "x_test_cat['brand_name'] = brand_name_le.transform(x_test_cat.brand_name.values)"
   ]
  },
  {
   "cell_type": "code",
   "execution_count": 0,
   "metadata": {
    "colab": {},
    "colab_type": "code",
    "id": "JSGf7WwVZ8CA"
   },
   "outputs": [],
   "source": [
    "cat_params = {\n",
    "    'loss_function' : 'RMSE',\n",
    "    'eval_metric' : 'RMSE',\n",
    "    'n_estimators' : 1000,\n",
    "    'learning_rate' : 0.3,\n",
    "    'bootstrap_type' : 'Bernoulli',\n",
    "    'use_best_model' : True,\n",
    "    'depth' : 10,\n",
    "    'logging_level' : 'Verbose',\n",
    "    'metric_period' : 3,\n",
    "}\n",
    "\n",
    "model=CatBoostRegressor(**cat_params)\n",
    "model.fit(x_train_cat.values, y_train, cat_features=[1,2,3,4,5,6], eval_set=(x_test_cat.values , y_test), plot=True)\n",
    "y_pred_cat_boost = model.predict(x_test_cat.values)\n",
    "\n",
    "print('The rmse of prediction is:', mean_squared_error(y_test, y_pred_cat_boost) ** 0.5)"
   ]
  },
  {
   "cell_type": "markdown",
   "metadata": {
    "colab_type": "text",
    "id": "DJ1BcusAdAor"
   },
   "source": [
    "*The RMSE of prediction is 0.4709858*"
   ]
  },
  {
   "cell_type": "code",
   "execution_count": 0,
   "metadata": {
    "colab": {},
    "colab_type": "code",
    "id": "K087K9EwDOrf"
   },
   "outputs": [],
   "source": [
    "y_train_cat_boost = model.predict(x_train_cat.values)\n",
    "pickle.dump(y_train_cat_boost, open('/content/gdrive/My Drive/MerCari/y_train_lgbm_cat_boost.p','wb'))\n",
    "pickle.dump(y_pred_cat_boost, open('/content/gdrive/My Drive/MerCari/y_test_lgbm_cat_boost.p','wb'))"
   ]
  },
  {
   "cell_type": "code",
   "execution_count": 0,
   "metadata": {
    "colab": {},
    "colab_type": "code",
    "id": "WTKhWUiU0mBe"
   },
   "outputs": [],
   "source": [
    "brand_name_label_binarizer = LabelBinarizer(sparse_output=True)\n",
    "x_train_brand_ohe = brand_name_label_binarizer.fit_transform(x_train.brand_name)\n",
    "x_test_brand_ohe = brand_name_label_binarizer.transform(x_test.brand_name)\n",
    "pickle.dump(x_train_brand_ohe, open('/content/gdrive/My Drive/MerCari/x_train_brand_ohe.p','wb'))\n",
    "pickle.dump(x_test_brand_ohe, open('/content/gdrive/My Drive/MerCari/x_test_brand_ohe.p','wb'))\n",
    "\n",
    "shipping_label_binarizer = LabelBinarizer(sparse_output=True)\n",
    "x_train_shipping_ohe = shipping_label_binarizer.fit_transform(x_train.shipping)\n",
    "x_test_shipping_ohe = shipping_label_binarizer.transform(x_test.shipping)\n",
    "pickle.dump(x_train_shipping_ohe, open('/content/gdrive/My Drive/MerCari/x_train_shipping_ohe.p','wb'))\n",
    "pickle.dump(x_test_shipping_ohe, open('/content/gdrive/My Drive/MerCari/x_test_shipping_ohe.p','wb'))\n",
    "\n",
    "item_condition_id_binarizer = LabelBinarizer(sparse_output=True)\n",
    "x_train_item_condition_ohe = item_condition_id_binarizer.fit_transform(x_train.item_condition_id)\n",
    "x_test_item_condition_ohe = item_condition_id_binarizer.transform(x_test.item_condition_id)\n",
    "pickle.dump(x_train_item_condition_ohe, open('/content/gdrive/My Drive/MerCari/x_train_item_condition_ohe.p','wb'))\n",
    "pickle.dump(x_test_item_condition_ohe, open('/content/gdrive/My Drive/MerCari/x_test_item_condition_ohe.p','wb'))\n",
    "\n",
    "general_category_binarizer = LabelBinarizer(sparse_output=True)\n",
    "x_train_general_category_ohe = general_category_binarizer.fit_transform(x_train.general_category)\n",
    "x_test_general_category_ohe = general_category_binarizer.transform(x_test.general_category)\n",
    "pickle.dump(x_train_general_category_ohe, open('/content/gdrive/My Drive/MerCari/x_train_general_category_ohe.p','wb'))\n",
    "pickle.dump(x_test_general_category_ohe, open('/content/gdrive/My Drive/MerCari/x_test_general_category_ohe.p','wb'))\n",
    "\n",
    "sub_cat_1_binarizer = LabelBinarizer(sparse_output=True)\n",
    "x_train_sub_cat_1_ohe = sub_cat_1_binarizer.fit_transform(x_train.sub_cat_1)\n",
    "x_test_sub_cat_1_ohe = sub_cat_1_binarizer.transform(x_test.sub_cat_1)\n",
    "pickle.dump(x_train_sub_cat_1_ohe, open('/content/gdrive/My Drive/MerCari/x_train_sub_cat_1_ohe.p','wb'))\n",
    "pickle.dump(x_test_sub_cat_1_ohe, open('/content/gdrive/My Drive/MerCari/x_test_sub_cat_1_ohe.p','wb'))\n",
    "\n",
    "sub_cat_2_binarizer = LabelBinarizer(sparse_output=True)\n",
    "x_train_sub_cat_2_ohe = sub_cat_2_binarizer.fit_transform(x_train.sub_cat_2)\n",
    "x_test_sub_cat_2_ohe = sub_cat_2_binarizer.transform(x_test.sub_cat_2)\n",
    "pickle.dump(x_train_sub_cat_1_ohe, open('/content/gdrive/My Drive/MerCari/x_train_sub_cat_2_ohe.p','wb'))\n",
    "pickle.dump(x_test_sub_cat_1_ohe, open('/content/gdrive/My Drive/MerCari/x_test_sub_cat_2_ohe.p','wb'))"
   ]
  },
  {
   "cell_type": "code",
   "execution_count": 0,
   "metadata": {
    "colab": {},
    "colab_type": "code",
    "id": "ebQo5hIt0ySa"
   },
   "outputs": [],
   "source": [
    "x_train_brand_ohe = pickle.load(open('/content/gdrive/My Drive/MerCari/x_train_brand_ohe.p','rb'))\n",
    "x_test_brand_ohe = pickle.load(open('/content/gdrive/My Drive/MerCari/x_test_brand_ohe.p','rb'))\n",
    "\n",
    "x_train_shipping_ohe = pickle.load(open('/content/gdrive/My Drive/MerCari/x_train_shipping_ohe.p','rb'))\n",
    "x_test_shipping_ohe = pickle.load(open('/content/gdrive/My Drive/MerCari/x_test_shipping_ohe.p','rb'))\n",
    "\n",
    "x_train_item_condition_ohe = pickle.load(open('/content/gdrive/My Drive/MerCari/x_train_item_condition_ohe.p','rb'))\n",
    "x_test_item_condition_ohe = pickle.load(open('/content/gdrive/My Drive/MerCari/x_test_item_condition_ohe.p','rb'))\n",
    "\n",
    "x_train_general_category_ohe = pickle.load(open('/content/gdrive/My Drive/MerCari/x_train_general_category_ohe.p','rb'))\n",
    "x_test_general_category_ohe = pickle.load(open('/content/gdrive/My Drive/MerCari/x_test_general_category_ohe.p','rb'))\n",
    "\n",
    "x_train_sub_cat_1_ohe = pickle.load(open('/content/gdrive/My Drive/MerCari/x_train_sub_cat_1_ohe.p','rb'))\n",
    "x_test_sub_cat_1_ohe = pickle.load(open('/content/gdrive/My Drive/MerCari/x_test_sub_cat_1_ohe.p','rb'))\n",
    "\n",
    "x_train_sub_cat_2_ohe = pickle.load(open('/content/gdrive/My Drive/MerCari/x_train_sub_cat_2_ohe.p','rb'))\n",
    "x_test_sub_cat_2_ohe = pickle.load(open('/content/gdrive/My Drive/MerCari/x_test_sub_cat_2_ohe.p','rb'))"
   ]
  },
  {
   "cell_type": "code",
   "execution_count": 0,
   "metadata": {
    "colab": {},
    "colab_type": "code",
    "id": "Ca3K42Np1eO7"
   },
   "outputs": [],
   "source": []
  },
  {
   "cell_type": "markdown",
   "metadata": {
    "colab_type": "text",
    "id": "5zrxqkLR-FuM"
   },
   "source": [
    "## Count Vectorizer + TfidfVectorizer"
   ]
  },
  {
   "cell_type": "code",
   "execution_count": 0,
   "metadata": {
    "colab": {
     "base_uri": "https://localhost:8080/",
     "height": 50
    },
    "colab_type": "code",
    "id": "LBE7kLDc-Gem",
    "outputId": "9776dd5d-249f-4146-e14c-a5dc5e11fa22"
   },
   "outputs": [
    {
     "name": "stderr",
     "output_type": "stream",
     "text": [
      "/usr/local/lib/python3.6/dist-packages/sklearn/utils/validation.py:595: DataConversionWarning: Data with input dtype int64 was converted to float64 by StandardScaler.\n",
      "  warnings.warn(msg, DataConversionWarning)\n"
     ]
    }
   ],
   "source": [
    "name_bow_vectorizer = CountVectorizer(ngram_range=(1,2), max_features=2 ** 17)\n",
    "x_train_name_bow = name_bow_vectorizer.fit_transform(list(x_train.name.values))\n",
    "x_test_name_bow = name_bow_vectorizer.transform(list(x_test.name.values))\n",
    "name_standerdizer = StandardScaler(with_mean=False)\n",
    "x_train_name_bow = name_standerdizer.fit_transform(x_train_name_bow)\n",
    "x_test_name_bow = name_standerdizer.transform(x_test_name_bow)\n",
    "pickle.dump(x_train_name_bow, open('/content/gdrive/My Drive/MerCari/x_train_name_bow.p','wb'))\n",
    "pickle.dump(x_test_name_bow, open('/content/gdrive/My Drive/MerCari/x_test_name_bow.p','wb'))\n",
    "\n",
    "description_tfidf_vectorizer = TfidfVectorizer(ngram_range=(1,3), max_features=2* (2 ** 17))\n",
    "x_train_desc_tfidf = description_tfidf_vectorizer.fit_transform(list(x_train.item_description.values))\n",
    "x_test_desc_tfidf = description_tfidf_vectorizer.transform(list(x_test.item_description.values))\n",
    "description_standerdizer = StandardScaler(with_mean=False)\n",
    "x_train_desc_tfidf = description_standerdizer.fit_transform(x_train_desc_tfidf)\n",
    "x_test_desc_tfidf = description_standerdizer.transform(x_test_desc_tfidf)\n",
    "pickle.dump(x_train_desc_tfidf, open('/content/gdrive/My Drive/MerCari/x_train_desc_tfidf.p','wb'))\n",
    "pickle.dump(x_test_desc_tfidf, open('/content/gdrive/My Drive/MerCari/x_test_desc_tfidf.p','wb'))"
   ]
  },
  {
   "cell_type": "code",
   "execution_count": 0,
   "metadata": {
    "colab": {},
    "colab_type": "code",
    "id": "AHrgPJb-YMBx"
   },
   "outputs": [],
   "source": [
    "\n",
    "x_train_name_bow = pickle.load(open('/content/gdrive/My Drive/MerCari/x_train_name_bow.p','rb'))\n",
    "x_test_name_bow = pickle.load(open('/content/gdrive/My Drive/MerCari/x_test_name_bow.p','rb'))\n",
    "x_train_desc_tfidf = pickle.load(open('/content/gdrive/My Drive/MerCari/x_train_desc_tfidf.p','rb'))\n",
    "x_test_desc_tfidf = pickle.load(open('/content/gdrive/My Drive/MerCari/x_test_desc_tfidf.p','rb'))"
   ]
  },
  {
   "cell_type": "code",
   "execution_count": 0,
   "metadata": {
    "colab": {
     "base_uri": "https://localhost:8080/",
     "height": 50
    },
    "colab_type": "code",
    "id": "VGJ2TZu-Eh4r",
    "outputId": "d1c64c5b-9966-4c01-f67e-2260c55d50d2"
   },
   "outputs": [
    {
     "name": "stderr",
     "output_type": "stream",
     "text": [
      "/usr/local/lib/python3.6/dist-packages/sklearn/utils/validation.py:595: DataConversionWarning: Data with input dtype int64 was converted to float64 by StandardScaler.\n",
      "  warnings.warn(msg, DataConversionWarning)\n"
     ]
    }
   ],
   "source": [
    "brand_name_bow_vectorizer = CountVectorizer()\n",
    "x_train_brand_name_bow = brand_name_bow_vectorizer.fit_transform(list(x_train.brand_name.values))\n",
    "x_test_brand_name_bow = brand_name_bow_vectorizer.transform(list(x_test.brand_name.values))\n",
    "brand_name_standerdizer = StandardScaler(with_mean=False)\n",
    "x_train_brand_name_bow = brand_name_standerdizer.fit_transform(x_train_brand_name_bow)\n",
    "x_test_brand_name_bow = brand_name_standerdizer.transform(x_test_brand_name_bow)\n",
    "pickle.dump(x_train_brand_name_bow, open('/content/gdrive/My Drive/MerCari/x_train_brand_name_bow.p','wb'))\n",
    "pickle.dump(x_test_brand_name_bow, open('/content/gdrive/My Drive/MerCari/x_test_brand_name_bow.p','wb'))\n",
    "\n",
    "general_category_bow_vectorizer = CountVectorizer()\n",
    "x_train_general_category_bow = general_category_bow_vectorizer.fit_transform(list(x_train.general_category.values))\n",
    "x_test_general_category_bow = general_category_bow_vectorizer.transform(list(x_test.general_category.values))\n",
    "general_category_standerdizer = StandardScaler(with_mean=False)\n",
    "x_train_general_category_bow = general_category_standerdizer.fit_transform(x_train_general_category_bow)\n",
    "x_test_general_category_bow = general_category_standerdizer.transform(x_test_general_category_bow)\n",
    "pickle.dump(x_train_general_category_bow, open('/content/gdrive/My Drive/MerCari/x_train_general_category_bow.p','wb'))\n",
    "pickle.dump(x_test_general_category_bow, open('/content/gdrive/My Drive/MerCari/x_test_general_category_bow.p','wb'))\n",
    "\n",
    "sub_cat_1_bow_vectorizer = CountVectorizer()\n",
    "x_train_sub_cat_1_bow = sub_cat_1_bow_vectorizer.fit_transform(list(x_train.sub_cat_1.values))\n",
    "x_test_sub_cat_1_bow = sub_cat_1_bow_vectorizer.transform(list(x_test.sub_cat_1.values))\n",
    "sub_cat_1_standerdizer = StandardScaler(with_mean=False)\n",
    "x_train_sub_cat_1_bow = sub_cat_1_standerdizer.fit_transform(x_train_sub_cat_1_bow)\n",
    "x_test_sub_cat_1_bow = sub_cat_1_standerdizer.transform(x_test_sub_cat_1_bow)\n",
    "pickle.dump(x_train_sub_cat_1_bow, open('/content/gdrive/My Drive/MerCari/x_train_sub_cat_1_bow.p','wb'))\n",
    "pickle.dump(x_test_sub_cat_1_bow, open('/content/gdrive/My Drive/MerCari/x_test_sub_cat_1_bow.p','wb'))\n",
    "\n",
    "sub_cat_2_bow_vectorizer = CountVectorizer()\n",
    "x_train_sub_cat_2_bow = sub_cat_2_bow_vectorizer.fit_transform(list(x_train.sub_cat_2.values))\n",
    "x_test_sub_cat_2_bow = sub_cat_2_bow_vectorizer.transform(list(x_test.sub_cat_2.values))\n",
    "sub_cat_2_standerdizer = StandardScaler(with_mean=False)\n",
    "x_train_sub_cat_2_bow = sub_cat_2_standerdizer.fit_transform(x_train_sub_cat_2_bow)\n",
    "x_test_sub_cat_2_bow = sub_cat_2_standerdizer.transform(x_test_sub_cat_2_bow)\n",
    "pickle.dump(x_train_sub_cat_2_bow, open('/content/gdrive/My Drive/MerCari/x_train_sub_cat_2_bow.p','wb'))\n",
    "pickle.dump(x_test_sub_cat_2_bow, open('/content/gdrive/My Drive/MerCari/x_test_sub_cat_2_bow.p','wb'))"
   ]
  },
  {
   "cell_type": "code",
   "execution_count": 0,
   "metadata": {
    "colab": {},
    "colab_type": "code",
    "id": "Br_IsGhKFXKn"
   },
   "outputs": [],
   "source": [
    "x_train_bow_tfidf_ohe = hstack([x_train_name_bow,\n",
    "                        x_train_desc_tfidf,\n",
    "                        x_train_brand_name_bow,\n",
    "                        x_train_shipping_ohe,\n",
    "                        x_train_item_condition_ohe,\n",
    "                        x_train_general_category_bow,\n",
    "                        x_train_sub_cat_1_bow,\n",
    "                        x_train_sub_cat_2_bow]).tocsr()\n",
    "\n",
    "x_test_bow_tfidf_ohe = hstack([x_test_name_bow,\n",
    "                        x_test_desc_tfidf,\n",
    "                        x_test_brand_name_bow,\n",
    "                        x_test_shipping_ohe,\n",
    "                        x_test_item_condition_ohe,\n",
    "                        x_test_general_category_bow,\n",
    "                        x_test_sub_cat_1_bow,\n",
    "                        x_test_sub_cat_2_bow]).tocsr()"
   ]
  },
  {
   "cell_type": "code",
   "execution_count": 0,
   "metadata": {
    "colab": {
     "base_uri": "https://localhost:8080/",
     "height": 34
    },
    "colab_type": "code",
    "id": "pGcr6Zc1NhcJ",
    "outputId": "333a86ee-533d-4be3-9326-bd4b8a31b21c"
   },
   "outputs": [
    {
     "name": "stdout",
     "output_type": "stream",
     "text": [
      "The rmse of prediction is: 0.4819474774572451\n"
     ]
    }
   ],
   "source": [
    "model = Ridge(solver='auto',\n",
    "        fit_intercept=True,\n",
    "        alpha=0.1,\n",
    "        max_iter=100,\n",
    "        normalize=False,\n",
    "        tol=0.05)\n",
    "model.fit(x_train_bow_tfidf_ohe, y_train)\n",
    "y_test_bow_tfidf_ohe_ridge = model.predict(x_test_bow_tfidf_ohe)\n",
    "print('The rmse of prediction is:', mean_squared_error(y_test, y_test_bow_tfidf_ohe_ridge) ** 0.5)"
   ]
  },
  {
   "cell_type": "code",
   "execution_count": 0,
   "metadata": {
    "colab": {},
    "colab_type": "code",
    "id": "SXjoQdWptAmC"
   },
   "outputs": [],
   "source": []
  },
  {
   "cell_type": "code",
   "execution_count": 0,
   "metadata": {
    "colab": {},
    "colab_type": "code",
    "id": "d_6feeT-o45C"
   },
   "outputs": [],
   "source": [
    "y_test_lgbm_cat_boost = pickle.load(open('/content/gdrive/My Drive/y_test_lgbm_cat_boost.p','rb'))"
   ]
  },
  {
   "cell_type": "code",
   "execution_count": 0,
   "metadata": {
    "colab": {},
    "colab_type": "code",
    "id": "gF8gQrv-SmM4"
   },
   "outputs": [],
   "source": [
    "pickle.dump(y_test_bow_tfidf_ohe_ridge, open('/content/gdrive/My Drive/MerCari/y_test_bow_tfidf_ohe_ridge.b','wb'))"
   ]
  },
  {
   "cell_type": "code",
   "execution_count": 0,
   "metadata": {
    "colab": {},
    "colab_type": "code",
    "id": "PAYinsl8f4QN"
   },
   "outputs": [],
   "source": [
    "y_test_bow_tfidf_ohe_ridge = pickle.load(open('/content/gdrive/My Drive/MerCari/y_test_bow_tfidf_ohe_ridge.b','rb'))"
   ]
  },
  {
   "cell_type": "code",
   "execution_count": 0,
   "metadata": {
    "colab": {
     "base_uri": "https://localhost:8080/",
     "height": 34
    },
    "colab_type": "code",
    "id": "ARegZRJ9QNlV",
    "outputId": "cd2ee4ec-68b7-4647-d902-8837fc88f6eb"
   },
   "outputs": [
    {
     "name": "stdout",
     "output_type": "stream",
     "text": [
      "The rmse of prediction is: 0.45093465480150213\n"
     ]
    }
   ],
   "source": [
    "y_pred = y_test_lgbm_cat_boost * 0.6 + y_test_bow_tfidf_ohe_ridge * 0.4\n",
    "print('The rmse of prediction is:', mean_squared_error(y_test, y_pred) ** 0.5)"
   ]
  },
  {
   "cell_type": "code",
   "execution_count": 0,
   "metadata": {
    "colab": {},
    "colab_type": "code",
    "id": "SZ2gKPkFTVYY"
   },
   "outputs": [],
   "source": [
    "\n",
    "\n",
    "sub_cat_2_le = SafeLabelEncoder()\n",
    "x_train_sub_cat_2 = csr_matrix(sub_cat_2_le.fit_transform(x_train.sub_cat_2.values.tolist()).reshape(x_train.shape[0], -1))\n",
    "x_test_sub_cat_2 =  csr_matrix(sub_cat_2_le.transform(x_test.sub_cat_2.values.tolist()).reshape(x_test.shape[0], -1))\n",
    "\n",
    "sub_cat_1_le = SafeLabelEncoder()\n",
    "x_train_sub_cat_1 =  csr_matrix(sub_cat_1_le.fit_transform(x_train.sub_cat_1.values.tolist()).reshape(x_train.shape[0], -1))\n",
    "x_test_sub_cat_1 =  csr_matrix(sub_cat_1_le.transform(x_test.sub_cat_1.values.tolist()).reshape(x_test.shape[0], -1))\n",
    "\n",
    "gen_cat_le = SafeLabelEncoder()\n",
    "x_train_gen_cat =  csr_matrix(gen_cat_le.fit_transform(x_train.general_category.values.tolist()).reshape(x_train.shape[0], -1))\n",
    "x_test_gen_cat =  csr_matrix(gen_cat_le.transform(x_test.general_category.values.tolist()).reshape(x_test.shape[0], -1))\n",
    "\n",
    "brand_name_le = SafeLabelEncoder()\n",
    "x_train_brand_name =  csr_matrix(brand_name_le.fit_transform(x_train.brand_name.values.tolist()).reshape(x_train.shape[0], -1))\n",
    "x_test_brand_name =  csr_matrix(brand_name_le.transform(x_test.brand_name.values.tolist()).reshape(x_test.shape[0], -1))"
   ]
  },
  {
   "cell_type": "code",
   "execution_count": 0,
   "metadata": {
    "colab": {},
    "colab_type": "code",
    "id": "HouUdG_dIKqp"
   },
   "outputs": [],
   "source": [
    "x_train_lgbm_bow_tfidf_label_item_ohe = hstack([x_train_name_bow,\n",
    "                                               x_train_desc_tfidf,\n",
    "                                               x_train_item_condition_ohe,\n",
    "                                               x_train_shipping_ohe,\n",
    "                                               x_train_brand_name,\n",
    "                                               x_train_gen_cat,\n",
    "                                               x_train_sub_cat_1,\n",
    "                                               x_train_sub_cat_2]).tocsr()\n",
    "\n",
    "x_test_lgbm_bow_tfidf_label_item_ohe = hstack([x_test_name_bow,\n",
    "                                               x_test_desc_tfidf,\n",
    "                                               x_test_item_condition_ohe,\n",
    "                                               x_test_shipping_ohe,\n",
    "                                               x_test_brand_name,\n",
    "                                               x_test_gen_cat,\n",
    "                                               x_test_sub_cat_1,\n",
    "                                               x_test_sub_cat_2]).tocsr()"
   ]
  },
  {
   "cell_type": "code",
   "execution_count": 0,
   "metadata": {
    "colab": {},
    "colab_type": "code",
    "id": "QYP_BSJoXnHI"
   },
   "outputs": [],
   "source": [
    "lgb_train = lgb.Dataset(x_train_lgbm_bow_tfidf_label_item_ohe, y_train)\n",
    "lgb_test = lgb.Dataset(x_test_lgbm_bow_tfidf_label_item_ohe, y_test, reference=lgb_train)"
   ]
  },
  {
   "cell_type": "code",
   "execution_count": 0,
   "metadata": {
    "colab": {
     "base_uri": "https://localhost:8080/",
     "height": 2688
    },
    "colab_type": "code",
    "id": "zhPcazniV-jz",
    "outputId": "3d99c39d-f340-4b21-be13-098c2cd19cf8"
   },
   "outputs": [
    {
     "name": "stderr",
     "output_type": "stream",
     "text": [
      "/usr/local/lib/python3.6/dist-packages/lightgbm/basic.py:1209: UserWarning: categorical_feature in Dataset is overridden.\n",
      "New categorical_feature is [393222, 393223, 393224, 393225]\n",
      "  'New categorical_feature is {}'.format(sorted(list(categorical_feature))))\n",
      "/usr/local/lib/python3.6/dist-packages/lightgbm/basic.py:762: UserWarning: categorical_feature in param dict is overridden.\n",
      "  warnings.warn('categorical_feature in param dict is overridden.')\n"
     ]
    },
    {
     "name": "stdout",
     "output_type": "stream",
     "text": [
      "[1]\tvalid_0's rmse: 0.603239\n",
      "Training until validation scores don't improve for 10 rounds.\n",
      "[2]\tvalid_0's rmse: 0.565394\n",
      "[3]\tvalid_0's rmse: 0.547267\n",
      "[4]\tvalid_0's rmse: 0.53699\n",
      "[5]\tvalid_0's rmse: 0.529435\n",
      "[6]\tvalid_0's rmse: 0.523389\n",
      "[7]\tvalid_0's rmse: 0.518986\n",
      "[8]\tvalid_0's rmse: 0.515266\n",
      "[9]\tvalid_0's rmse: 0.511929\n",
      "[10]\tvalid_0's rmse: 0.50876\n",
      "[11]\tvalid_0's rmse: 0.506288\n",
      "[12]\tvalid_0's rmse: 0.504072\n",
      "[13]\tvalid_0's rmse: 0.501998\n",
      "[14]\tvalid_0's rmse: 0.500324\n",
      "[15]\tvalid_0's rmse: 0.498856\n",
      "[16]\tvalid_0's rmse: 0.497459\n",
      "[17]\tvalid_0's rmse: 0.496094\n",
      "[18]\tvalid_0's rmse: 0.494845\n",
      "[19]\tvalid_0's rmse: 0.49318\n",
      "[20]\tvalid_0's rmse: 0.49187\n",
      "[21]\tvalid_0's rmse: 0.491013\n",
      "[22]\tvalid_0's rmse: 0.490113\n",
      "[23]\tvalid_0's rmse: 0.489123\n",
      "[24]\tvalid_0's rmse: 0.488307\n",
      "[25]\tvalid_0's rmse: 0.487455\n",
      "[26]\tvalid_0's rmse: 0.486728\n",
      "[27]\tvalid_0's rmse: 0.486199\n",
      "[28]\tvalid_0's rmse: 0.485518\n",
      "[29]\tvalid_0's rmse: 0.484984\n",
      "[30]\tvalid_0's rmse: 0.484412\n",
      "[31]\tvalid_0's rmse: 0.48367\n",
      "[32]\tvalid_0's rmse: 0.483079\n",
      "[33]\tvalid_0's rmse: 0.482516\n",
      "[34]\tvalid_0's rmse: 0.482004\n",
      "[35]\tvalid_0's rmse: 0.48149\n",
      "[36]\tvalid_0's rmse: 0.48099\n",
      "[37]\tvalid_0's rmse: 0.480534\n",
      "[38]\tvalid_0's rmse: 0.480074\n",
      "[39]\tvalid_0's rmse: 0.479484\n",
      "[40]\tvalid_0's rmse: 0.479127\n",
      "[41]\tvalid_0's rmse: 0.478527\n",
      "[42]\tvalid_0's rmse: 0.478096\n",
      "[43]\tvalid_0's rmse: 0.477773\n",
      "[44]\tvalid_0's rmse: 0.477463\n",
      "[45]\tvalid_0's rmse: 0.477059\n",
      "[46]\tvalid_0's rmse: 0.47674\n",
      "[47]\tvalid_0's rmse: 0.476505\n",
      "[48]\tvalid_0's rmse: 0.476303\n",
      "[49]\tvalid_0's rmse: 0.475854\n",
      "[50]\tvalid_0's rmse: 0.47558\n",
      "[51]\tvalid_0's rmse: 0.475284\n",
      "[52]\tvalid_0's rmse: 0.474981\n",
      "[53]\tvalid_0's rmse: 0.474749\n",
      "[54]\tvalid_0's rmse: 0.474368\n",
      "[55]\tvalid_0's rmse: 0.474173\n",
      "[56]\tvalid_0's rmse: 0.473753\n",
      "[57]\tvalid_0's rmse: 0.473546\n",
      "[58]\tvalid_0's rmse: 0.473265\n",
      "[59]\tvalid_0's rmse: 0.473049\n",
      "[60]\tvalid_0's rmse: 0.472811\n",
      "[61]\tvalid_0's rmse: 0.472638\n",
      "[62]\tvalid_0's rmse: 0.472441\n",
      "[63]\tvalid_0's rmse: 0.472271\n",
      "[64]\tvalid_0's rmse: 0.472161\n",
      "[65]\tvalid_0's rmse: 0.471941\n",
      "[66]\tvalid_0's rmse: 0.471826\n",
      "[67]\tvalid_0's rmse: 0.471667\n",
      "[68]\tvalid_0's rmse: 0.471499\n",
      "[69]\tvalid_0's rmse: 0.471425\n",
      "[70]\tvalid_0's rmse: 0.471285\n",
      "[71]\tvalid_0's rmse: 0.471128\n",
      "[72]\tvalid_0's rmse: 0.471025\n",
      "[73]\tvalid_0's rmse: 0.470821\n",
      "[74]\tvalid_0's rmse: 0.470673\n",
      "[75]\tvalid_0's rmse: 0.470549\n",
      "[76]\tvalid_0's rmse: 0.470427\n",
      "[77]\tvalid_0's rmse: 0.470203\n",
      "[78]\tvalid_0's rmse: 0.470082\n",
      "[79]\tvalid_0's rmse: 0.46987\n",
      "[80]\tvalid_0's rmse: 0.469388\n",
      "[81]\tvalid_0's rmse: 0.469287\n",
      "[82]\tvalid_0's rmse: 0.469184\n",
      "[83]\tvalid_0's rmse: 0.469121\n",
      "[84]\tvalid_0's rmse: 0.469063\n",
      "[85]\tvalid_0's rmse: 0.468939\n",
      "[86]\tvalid_0's rmse: 0.468841\n",
      "[87]\tvalid_0's rmse: 0.46878\n",
      "[88]\tvalid_0's rmse: 0.468691\n",
      "[89]\tvalid_0's rmse: 0.468565\n",
      "[90]\tvalid_0's rmse: 0.468478\n",
      "[91]\tvalid_0's rmse: 0.468385\n",
      "[92]\tvalid_0's rmse: 0.468307\n",
      "[93]\tvalid_0's rmse: 0.468254\n",
      "[94]\tvalid_0's rmse: 0.46818\n",
      "[95]\tvalid_0's rmse: 0.468097\n",
      "[96]\tvalid_0's rmse: 0.467948\n",
      "[97]\tvalid_0's rmse: 0.467866\n",
      "[98]\tvalid_0's rmse: 0.467824\n",
      "[99]\tvalid_0's rmse: 0.467746\n",
      "[100]\tvalid_0's rmse: 0.467743\n",
      "[101]\tvalid_0's rmse: 0.467617\n",
      "[102]\tvalid_0's rmse: 0.467544\n",
      "[103]\tvalid_0's rmse: 0.467447\n",
      "[104]\tvalid_0's rmse: 0.467381\n",
      "[105]\tvalid_0's rmse: 0.46732\n",
      "[106]\tvalid_0's rmse: 0.46733\n",
      "[107]\tvalid_0's rmse: 0.467302\n",
      "[108]\tvalid_0's rmse: 0.467247\n",
      "[109]\tvalid_0's rmse: 0.46723\n",
      "[110]\tvalid_0's rmse: 0.467095\n",
      "[111]\tvalid_0's rmse: 0.467061\n",
      "[112]\tvalid_0's rmse: 0.466988\n",
      "[113]\tvalid_0's rmse: 0.466958\n",
      "[114]\tvalid_0's rmse: 0.466917\n",
      "[115]\tvalid_0's rmse: 0.466853\n",
      "[116]\tvalid_0's rmse: 0.466719\n",
      "[117]\tvalid_0's rmse: 0.466702\n",
      "[118]\tvalid_0's rmse: 0.466684\n",
      "[119]\tvalid_0's rmse: 0.466639\n",
      "[120]\tvalid_0's rmse: 0.466605\n",
      "[121]\tvalid_0's rmse: 0.466622\n",
      "[122]\tvalid_0's rmse: 0.466578\n",
      "[123]\tvalid_0's rmse: 0.466523\n",
      "[124]\tvalid_0's rmse: 0.466464\n",
      "[125]\tvalid_0's rmse: 0.466456\n",
      "[126]\tvalid_0's rmse: 0.46652\n",
      "[127]\tvalid_0's rmse: 0.466364\n",
      "[128]\tvalid_0's rmse: 0.466322\n",
      "[129]\tvalid_0's rmse: 0.46627\n",
      "[130]\tvalid_0's rmse: 0.466229\n",
      "[131]\tvalid_0's rmse: 0.466204\n",
      "[132]\tvalid_0's rmse: 0.46617\n",
      "[133]\tvalid_0's rmse: 0.466228\n",
      "[134]\tvalid_0's rmse: 0.466095\n",
      "[135]\tvalid_0's rmse: 0.465989\n",
      "[136]\tvalid_0's rmse: 0.465992\n",
      "[137]\tvalid_0's rmse: 0.465979\n",
      "[138]\tvalid_0's rmse: 0.465928\n",
      "[139]\tvalid_0's rmse: 0.465839\n",
      "[140]\tvalid_0's rmse: 0.46581\n",
      "[141]\tvalid_0's rmse: 0.465842\n",
      "[142]\tvalid_0's rmse: 0.465851\n",
      "[143]\tvalid_0's rmse: 0.465874\n",
      "[144]\tvalid_0's rmse: 0.465844\n",
      "[145]\tvalid_0's rmse: 0.465795\n",
      "[146]\tvalid_0's rmse: 0.465748\n",
      "[147]\tvalid_0's rmse: 0.465686\n",
      "[148]\tvalid_0's rmse: 0.465642\n",
      "[149]\tvalid_0's rmse: 0.465586\n",
      "[150]\tvalid_0's rmse: 0.465543\n",
      "Did not meet early stopping. Best iteration is:\n",
      "[150]\tvalid_0's rmse: 0.465543\n",
      "The rmse of prediction is: 0.46554258995262343\n"
     ]
    }
   ],
   "source": [
    "params = {\n",
    "    'boosting_type': 'gbdt',\n",
    "    'objective': 'regression',\n",
    "    'metric': 'rmse',\n",
    "    'num_leaves': 100,\n",
    "    'learning_rate': 0.6,\n",
    "    'feature_fraction': 0.9,\n",
    "    'bagging_fraction': 0.8,\n",
    "    'bagging_freq': 3,\n",
    "    'verbose': 0\n",
    "}\n",
    "\n",
    "last_column = x_train_lgbm_bow_tfidf_label_item_ohe.shape[1] - 1\n",
    "\n",
    "gbm = lgb.train(params,\n",
    "                lgb_train,\n",
    "                num_boost_round=150,\n",
    "                valid_sets=lgb_test,\n",
    "                early_stopping_rounds=10,\n",
    "                categorical_feature= [last_column, last_column-1, last_column-2,  last_column-3]\n",
    "                )\n",
    "y_test_lgbm_bow_tfidf_label_item_ohe = gbm.predict(x_test_lgbm_bow_tfidf_label_item_ohe, num_iteration=gbm.best_iteration)\n",
    "\n",
    "print('The rmse of prediction is:', mean_squared_error(y_test, y_test_lgbm_bow_tfidf_label_item_ohe) ** 0.5)"
   ]
  },
  {
   "cell_type": "code",
   "execution_count": 0,
   "metadata": {
    "colab": {
     "base_uri": "https://localhost:8080/",
     "height": 34
    },
    "colab_type": "code",
    "id": "NwrsPf6ZV-dQ",
    "outputId": "df7c5b4e-bf0a-4796-c017-490c9186bc97"
   },
   "outputs": [
    {
     "name": "stdout",
     "output_type": "stream",
     "text": [
      "The rmse of prediction is: 0.44113609191779046\n"
     ]
    }
   ],
   "source": [
    "y_pred = (y_test_lgbm_cat_boost + y_test_bow_tfidf_ohe_ridge + y_test_lgbm_bow_tfidf_label_item_ohe)/3\n",
    "print('The rmse of prediction is:', mean_squared_error(y_test, y_pred) ** 0.5)"
   ]
  },
  {
   "cell_type": "code",
   "execution_count": 0,
   "metadata": {
    "colab": {},
    "colab_type": "code",
    "id": "HVYbf2RqhBsy"
   },
   "outputs": [],
   "source": []
  },
  {
   "cell_type": "markdown",
   "metadata": {
    "colab_type": "text",
    "id": "txBvHbKsR1Qb"
   },
   "source": [
    "## FTRL + Word bag"
   ]
  },
  {
   "cell_type": "code",
   "execution_count": 0,
   "metadata": {
    "colab": {
     "base_uri": "https://localhost:8080/",
     "height": 50
    },
    "colab_type": "code",
    "id": "dBVLgUh7ik-q",
    "outputId": "54ee3664-00b7-46e0-ecce-7a269392e41d"
   },
   "outputs": [
    {
     "name": "stdout",
     "output_type": "stream",
     "text": [
      "Normalize text\n",
      "Normalize text\n"
     ]
    }
   ],
   "source": [
    "wb = wordbatch.WordBatch(extractor=(WordBag, {\"hash_ngrams\": 2,\n",
    "                                                              \"hash_ngrams_weights\": [1.5, 1.0],\n",
    "                                                              \"norm\": None,\n",
    "                                                              \"tf\": 'binary',\n",
    "                                                              \"idf\": None,\n",
    "                                                              }), procs=8)\n",
    "x_train_name_wb = wb.fit_transform(x_train.name)\n",
    "x_test_name_wb = wb.transform(x_test.name)"
   ]
  },
  {
   "cell_type": "code",
   "execution_count": 0,
   "metadata": {
    "colab": {
     "base_uri": "https://localhost:8080/",
     "height": 50
    },
    "colab_type": "code",
    "id": "8pz9OxZJicR6",
    "outputId": "f24f62fd-d972-43d8-d458-5c56370f4f47"
   },
   "outputs": [
    {
     "name": "stdout",
     "output_type": "stream",
     "text": [
      "Normalize text\n",
      "Normalize text\n"
     ]
    }
   ],
   "source": [
    "wb = wordbatch.WordBatch(extractor=(WordBag, {\"hash_ngrams\": 2,\n",
    "                                                              \"hash_ngrams_weights\": [1.0, 1.0],\n",
    "                                                              \"norm\": \"l2\",\n",
    "                                                              \"tf\": 1.0,\n",
    "                                                              \"idf\": None}), procs=8)\n",
    "x_train_desc_wb = wb.fit_transform(x_train.item_description)\n",
    "x_test_desc_wb = wb.transform(x_test.item_description)"
   ]
  },
  {
   "cell_type": "code",
   "execution_count": 0,
   "metadata": {
    "colab": {},
    "colab_type": "code",
    "id": "1cV6qpLuZtNC"
   },
   "outputs": [],
   "source": [
    "pickle.dump(x_train_name_wb, open('/content/gdrive/My Drive/MerCari/x_train_name_wb.p','wb'))\n",
    "pickle.dump(x_test_name_wb, open('/content/gdrive/My Drive/MerCari/x_test_name_wb.p','wb'))\n",
    "\n",
    "pickle.dump(x_train_desc_wb, open('/content/gdrive/My Drive/MerCari/x_train_desc_wb.p','wb'))\n",
    "pickle.dump(x_test_desc_wb, open('/content/gdrive/My Drive/MerCari/x_test_desc_wb.p','wb'))"
   ]
  },
  {
   "cell_type": "code",
   "execution_count": 0,
   "metadata": {
    "colab": {
     "base_uri": "https://localhost:8080/",
     "height": 33
    },
    "colab_type": "code",
    "id": "W0brHuByk4vo",
    "outputId": "f4130297-6685-499f-e74c-efa860854f5b"
   },
   "outputs": [
    {
     "data": {
      "text/plain": [
       "(1184672, 10000000)"
      ]
     },
     "execution_count": 17,
     "metadata": {
      "tags": []
     },
     "output_type": "execute_result"
    }
   ],
   "source": [
    "x_train_name_wb.shape"
   ]
  },
  {
   "cell_type": "code",
   "execution_count": 0,
   "metadata": {
    "colab": {},
    "colab_type": "code",
    "id": "ln0J1uY2vICX"
   },
   "outputs": [],
   "source": [
    "x_train_sub_cat_1_bow  =pickle.load(open('/content/gdrive/My Drive/MerCari/x_train_sub_cat_1_bow.p','rb'))\n",
    "x_test_sub_cat_1_bow = pickle.load(open('/content/gdrive/My Drive/MerCari/x_test_sub_cat_1_bow.p','rb'))\n",
    "\n",
    "x_train_sub_cat_2_bow  =pickle.load(open('/content/gdrive/My Drive/MerCari/x_train_sub_cat_2_bow.p','rb'))\n",
    "x_test_sub_cat_2_bow = pickle.load(open('/content/gdrive/My Drive/MerCari/x_test_sub_cat_2_bow.p','rb'))\n",
    "\n",
    "x_train_general_category_bow  =pickle.load(open('/content/gdrive/My Drive/MerCari/x_train_general_category_bow.p','rb'))\n",
    "x_test_general_category_bow = pickle.load(open('/content/gdrive/My Drive/MerCari/x_test_general_category_bow.p','rb'))"
   ]
  },
  {
   "cell_type": "code",
   "execution_count": 0,
   "metadata": {
    "colab": {},
    "colab_type": "code",
    "id": "5fdOdpqnuXAq"
   },
   "outputs": [],
   "source": [
    "x_train = hstack([x_train_name_wb, \n",
    "                  x_train_desc_wb,\n",
    "                  x_train_brand_ohe,\n",
    "                  x_train_item_condition_ohe,\n",
    "                  x_train_shipping_ohe,\n",
    "                  x_train_general_category_bow,\n",
    "                  x_train_sub_cat_1_bow,\n",
    "                  x_train_sub_cat_2_bow\n",
    "                 ]).tocsr()\n",
    "\n",
    "x_test = hstack([x_test_name_wb, \n",
    "                  x_test_desc_wb,\n",
    "                  x_test_brand_ohe,\n",
    "                  x_test_item_condition_ohe,\n",
    "                  x_test_shipping_ohe,\n",
    "                  x_test_general_category_bow,\n",
    "                  x_test_sub_cat_1_bow,\n",
    "                  x_test_sub_cat_2_bow\n",
    "                 ]).tocsr()"
   ]
  },
  {
   "cell_type": "code",
   "execution_count": 0,
   "metadata": {
    "colab": {},
    "colab_type": "code",
    "id": "o6V5b1jTk8Gn"
   },
   "outputs": [],
   "source": [
    "x_train_wb = hstack([x_train_name_wb, x_train_desc_wb]).tocsr()\n",
    "x_test_wb = hstack([x_test_name_wb, x_test_desc_wb]).tocsr()"
   ]
  },
  {
   "cell_type": "code",
   "execution_count": 0,
   "metadata": {
    "colab": {
     "base_uri": "https://localhost:8080/",
     "height": 33
    },
    "colab_type": "code",
    "id": "4da9kmKGm3aE",
    "outputId": "09202980-d201-484c-b743-ebd45a7bf0fb"
   },
   "outputs": [
    {
     "name": "stdout",
     "output_type": "stream",
     "text": [
      "The rmse of prediction is: 0.49278020080967255\n"
     ]
    }
   ],
   "source": [
    "model_ridge = Ridge(alpha=0.4, tol=0.01, max_iter=300)\n",
    "\n",
    "y_ridge = model_ridge.fit(x_train_wb, y_train).predict(x_test_wb)\n",
    "print('The rmse of prediction is:', mean_squared_error(y_test, y_ridge) ** 0.5)"
   ]
  },
  {
   "cell_type": "code",
   "execution_count": 0,
   "metadata": {
    "colab": {
     "base_uri": "https://localhost:8080/",
     "height": 5052
    },
    "colab_type": "code",
    "id": "3PANr7bXagCM",
    "outputId": "620fb1bc-856d-493f-86e5-ca436803265b"
   },
   "outputs": [
    {
     "name": "stdout",
     "output_type": "stream",
     "text": [
      "Total e: 458204.68059433124\n",
      "Total e: 414845.9094758803\n",
      "Total e: 397939.4154792284\n",
      "Total e: 386657.26692061493\n",
      "Total e: 377640.62445034296\n",
      "Total e: 370330.7357211696\n",
      "Total e: 363966.50160679617\n",
      "Total e: 358466.407986406\n",
      "Total e: 353467.044886979\n",
      "Total e: 349001.5900117263\n",
      "Total e: 344875.32845564\n",
      "Total e: 341106.82591397915\n",
      "Total e: 337568.64444464596\n",
      "Total e: 334298.7032346241\n",
      "Total e: 331193.64892632706\n",
      "Total e: 328294.9617081796\n",
      "Total e: 325529.89978537674\n",
      "Total e: 322926.2680255637\n",
      "Total e: 320427.11173325905\n",
      "Total e: 318065.9255445491\n",
      "Total e: 315783.6085346258\n",
      "Total e: 313624.16873555735\n",
      "Total e: 311523.1389697432\n",
      "Total e: 309522.76817173697\n",
      "Total e: 307574.0130754293\n",
      "Total e: 305718.52971685905\n",
      "Total e: 303906.3039629107\n",
      "Total e: 302175.4278216974\n",
      "Total e: 300479.5678070104\n",
      "Total e: 298852.8210234505\n",
      "Total e: 297257.35050631204\n",
      "Total e: 295724.9901364896\n",
      "Total e: 294219.23624200036\n",
      "Total e: 292770.4606125175\n",
      "Total e: 291345.14474793617\n",
      "Total e: 289971.4137417834\n",
      "Total e: 288618.2299925297\n",
      "Total e: 287310.17574655224\n",
      "Total e: 286022.02968413575\n",
      "Total e: 284773.88618370757\n",
      "Total e: 283544.8220688851\n",
      "Total e: 282353.65258643177\n",
      "Total e: 281182.2117847328\n",
      "Total e: 280041.02053586865\n",
      "Total e: 278918.17320079607\n",
      "Total e: 277824.9123699652\n",
      "Total e: 276748.63529340475\n",
      "Total e: 275699.30247841147\n",
      "Total e: 274665.6136909909\n",
      "Total e: 273656.79968907085\n",
      "Total e: 272662.32327034976\n",
      "Total e: 271691.01854755\n",
      "Total e: 270732.7720995676\n",
      "Total e: 269796.24453534966\n",
      "Total e: 268871.70812593115\n",
      "Total e: 267967.59607196465\n",
      "Total e: 267074.9676442979\n",
      "Total e: 266201.07400079694\n",
      "Total e: 265337.9762583999\n",
      "Total e: 264492.4664254633\n",
      "Total e: 263656.91919173504\n",
      "Total e: 262838.1804635417\n",
      "Total e: 262028.71317821907\n",
      "Total e: 261235.06980769776\n",
      "Total e: 260450.14077775055\n",
      "Total e: 259679.98300044195\n",
      "Total e: 258917.8874891958\n",
      "Total e: 258170.04920575165\n",
      "Total e: 257429.7699512751\n",
      "Total e: 256702.89893283363\n",
      "Total e: 255983.1157527379\n",
      "Total e: 255276.02348585505\n",
      "Total e: 254575.7901441213\n",
      "Total e: 253887.5846048724\n",
      "Total e: 253205.97491601345\n",
      "Total e: 252535.75301745956\n",
      "Total e: 251871.81012045225\n",
      "Total e: 251218.88943145203\n",
      "Total e: 250571.75407942059\n",
      "Total e: 249934.93053559613\n",
      "Total e: 249303.6456154751\n",
      "Total e: 248682.27447585223\n",
      "Total e: 248066.12596606286\n",
      "Total e: 247459.5204926347\n",
      "Total e: 246858.06688958564\n",
      "Total e: 246265.67055893983\n",
      "Total e: 245678.09014790595\n",
      "Total e: 245099.27653678082\n",
      "Total e: 244525.08057893693\n",
      "Total e: 243959.18517012312\n",
      "Total e: 243397.73785675367\n",
      "Total e: 242844.289242996\n",
      "Total e: 242295.05887796136\n",
      "Total e: 241753.61466053023\n",
      "Total e: 241216.16654086855\n",
      "Total e: 240686.1603857103\n",
      "Total e: 240160.0265793471\n",
      "Total e: 239641.1877513539\n",
      "Total e: 239125.96575519387\n",
      "Total e: 238617.74355517147\n",
      "Total e: 238112.95897534996\n",
      "Total e: 237614.99428113375\n",
      "Total e: 237120.29816557365\n",
      "Total e: 236632.1004603394\n",
      "Total e: 236147.00499965448\n",
      "Total e: 235668.27127364193\n",
      "Total e: 235192.5366170821\n",
      "Total e: 234722.98953837878\n",
      "Total e: 234256.29137355008\n",
      "Total e: 233795.58612243907\n",
      "Total e: 233337.57247285708\n",
      "Total e: 232885.35181984742\n",
      "Total e: 232435.6702164312\n",
      "Total e: 231991.61909270723\n",
      "Total e: 231550.04719078157\n",
      "Total e: 231113.91800664083\n",
      "Total e: 230680.1458048348\n",
      "Total e: 230251.66351074204\n",
      "Total e: 229825.48928747664\n",
      "Total e: 229404.43287339038\n",
      "Total e: 228985.55281851228\n",
      "Total e: 228571.66472947187\n",
      "Total e: 228159.82413538755\n",
      "Total e: 227752.83892903483\n",
      "Total e: 227347.821857839\n",
      "Total e: 226947.48693806073\n",
      "Total e: 226549.08779059682\n",
      "Total e: 226155.2206858889\n",
      "Total e: 225763.30042526135\n",
      "Total e: 225375.77874793633\n",
      "Total e: 224990.24244698926\n",
      "Total e: 224608.85371271748\n",
      "Total e: 224229.4812444904\n",
      "Total e: 223854.00156170115\n",
      "Total e: 223480.5985613721\n",
      "Total e: 223110.89128251479\n",
      "Total e: 222743.3096558225\n",
      "Total e: 222379.24975381113\n",
      "Total e: 222017.35465390532\n",
      "Total e: 221658.8201298026\n",
      "Total e: 221302.47850513866\n",
      "Total e: 220949.29359332565\n",
      "Total e: 220598.26413505131\n",
      "Total e: 220250.21723948146\n",
      "Total e: 219904.30872075763\n",
      "Total e: 219561.31207752932\n",
      "Total e: 219220.4690439593\n",
      "Total e: 218882.36644179036\n",
      "Total e: 218546.44372127642\n",
      "Total e: 218213.15495257673\n",
      "Total e: 217882.0269682959\n",
      "Total e: 217553.44729705414\n",
      "Total e: 217226.99006091314\n",
      "Total e: 216902.96027519615\n",
      "Total e: 216581.02294655776\n",
      "Total e: 216261.41029876136\n",
      "Total e: 215943.84612898124\n",
      "Total e: 215628.5396932428\n",
      "Total e: 215315.27983362283\n",
      "Total e: 215004.2080140275\n",
      "Total e: 214695.1380803985\n",
      "Total e: 214388.19664136585\n",
      "Total e: 214083.23345169224\n",
      "Total e: 213780.33687637871\n",
      "Total e: 213479.35933573337\n",
      "Total e: 213180.37284728242\n",
      "Total e: 212883.27111065006\n",
      "Total e: 212588.11392133316\n",
      "Total e: 212294.82396387213\n",
      "Total e: 212003.42208920632\n",
      "Total e: 211713.84778164237\n",
      "Total e: 211426.1468501753\n",
      "Total e: 211140.2187119347\n",
      "Total e: 210856.10248426843\n",
      "Total e: 210573.72904658207\n",
      "Total e: 210293.1293413026\n",
      "Total e: 210014.21890006046\n",
      "Total e: 209737.01954685716\n",
      "Total e: 209461.47331974562\n",
      "Total e: 209187.60531928975\n",
      "Total e: 208915.37122321513\n",
      "Total e: 208644.77752320093\n",
      "Total e: 208375.77186365402\n",
      "Total e: 208108.36954470145\n",
      "Total e: 207842.53348581717\n",
      "Total e: 207578.27122189864\n",
      "Total e: 207315.54380641223\n",
      "Total e: 207054.34557629484\n",
      "Total e: 206794.66939881752\n",
      "Total e: 206536.48523769382\n",
      "Total e: 206279.75986529727\n",
      "Total e: 206024.5055646409\n",
      "Total e: 205770.70285573593\n",
      "Total e: 205518.31888907275\n",
      "Total e: 205267.33307697106\n",
      "Total e: 205017.74761529666\n",
      "Total e: 204769.54801614056\n",
      "Total e: 204522.72301212905\n",
      "Total e: 204277.25700200672\n",
      "Total e: 204033.13806675278\n",
      "Total e: 203790.34402411923\n",
      "Total e: 203548.8687956737\n",
      "Total e: 203308.69564680752\n",
      "Total e: 203069.79812390776\n",
      "Total e: 202832.1723384989\n",
      "Total e: 202595.83125472412\n",
      "Total e: 202360.75529200266\n",
      "Total e: 202126.93757753397\n",
      "Total e: 201894.35642219186\n",
      "Total e: 201662.99318963863\n",
      "Total e: 201432.832852386\n",
      "Total e: 201203.88434101356\n",
      "Total e: 200976.1167703678\n",
      "Total e: 200749.52390246166\n",
      "Total e: 200524.07588659582\n",
      "Total e: 200299.77547015774\n",
      "Total e: 200076.60971019333\n",
      "Total e: 199854.58679560805\n",
      "Total e: 199633.67613527874\n",
      "Total e: 199413.87303426265\n",
      "Total e: 199195.17333790907\n",
      "Total e: 198977.57289977404\n",
      "Total e: 198761.05210901974\n",
      "Total e: 198545.59169284676\n",
      "Total e: 198331.18093510982\n",
      "Total e: 198117.82600739461\n",
      "Total e: 197905.5137379148\n",
      "Total e: 197694.2289811268\n",
      "Total e: 197483.97240246116\n",
      "Total e: 197274.73467734194\n",
      "Total e: 197066.50279187018\n",
      "Total e: 196859.27836626142\n",
      "Total e: 196653.06453790318\n",
      "Total e: 196447.83506810686\n",
      "Total e: 196243.58608734058\n",
      "Total e: 196040.3057617829\n",
      "Total e: 195837.99833551043\n",
      "Total e: 195636.65308871793\n",
      "Total e: 195436.23696921364\n",
      "Total e: 195236.74892701008\n",
      "Total e: 195038.19421935015\n",
      "Total e: 194840.56064701773\n",
      "Total e: 194643.8362837839\n",
      "Total e: 194448.00615734397\n",
      "Total e: 194253.07587019823\n",
      "Total e: 194059.03501684678\n",
      "Total e: 193865.86739243043\n",
      "Total e: 193673.5583265953\n",
      "Total e: 193482.10995029128\n",
      "Total e: 193291.5141492209\n",
      "Total e: 193101.76639206609\n",
      "Total e: 192912.873045673\n",
      "Total e: 192724.83037515165\n",
      "Total e: 192537.61558544598\n",
      "Total e: 192351.21439653184\n",
      "Total e: 192165.62347874456\n",
      "Total e: 191980.84397310863\n",
      "Total e: 191796.8591359945\n",
      "Total e: 191613.67130248074\n",
      "Total e: 191431.27994993463\n",
      "Total e: 191249.6745383566\n",
      "Total e: 191068.8429476606\n",
      "Total e: 190888.7863924899\n",
      "Total e: 190709.50232943767\n",
      "Total e: 190530.98243368682\n",
      "Total e: 190353.22024181238\n",
      "Total e: 190176.20491309097\n",
      "Total e: 189999.92806302026\n",
      "Total e: 189824.382239508\n",
      "Total e: 189649.5691058207\n",
      "Total e: 189475.48730404547\n",
      "Total e: 189302.1279879581\n",
      "Total e: 189129.48498709363\n",
      "Total e: 188957.55855569505\n",
      "Total e: 188786.34766309516\n",
      "Total e: 188615.83667491347\n",
      "Total e: 188446.02425831708\n",
      "Total e: 188276.8985577382\n",
      "Total e: 188108.45829167953\n",
      "Total e: 187940.69807618126\n",
      "Total e: 187773.6123916076\n",
      "Total e: 187607.21085127557\n",
      "Total e: 187441.47736635\n",
      "Total e: 187276.40533871858\n",
      "Total e: 187111.9883895104\n",
      "Total e: 186948.22191065582\n",
      "Total e: 186785.10125376444\n",
      "Total e: 186622.62043052717\n",
      "Total e: 186460.7688102169\n",
      "Total e: 186299.55121980174\n",
      "Total e: 186138.96823656905\n",
      "Total e: 185979.02021516615\n",
      "Total e: 185819.70350597246\n",
      "Total e: 185661.00134355645\n",
      "Total e: 185502.90931988505\n",
      "Total e: 185345.43091413443\n",
      "Total e: 185188.55190165597\n",
      "Total e: 185032.26817025038\n",
      "Total e: 184876.5746239276\n",
      "Total e: 184721.47739547884\n",
      "The rmse of prediction is: 0.458729703140676\n"
     ]
    }
   ],
   "source": [
    "model_ftrl = FTRL(alpha=0.01, beta=0.1, L1=0.00001, L2=1.0, D=x_test.shape[1], \\\n",
    "                  iters=300, inv_link=\"identity\", threads=1)\n",
    "y_ftrl_pred = model_ftrl.fit(x_train, y_train).predict(x_test)\n",
    "pickle.dump(y_ftrl_pred, open('/content/gdrive/My Drive/MerCari/y_ftrl_pred.p','wb'))\n",
    "print('The rmse of prediction is:', mean_squared_error(y_test, y_ftrl_pred) ** 0.5)"
   ]
  },
  {
   "cell_type": "code",
   "execution_count": 0,
   "metadata": {
    "colab": {},
    "colab_type": "code",
    "id": "47S1JRB9C_dd",
    "outputId": "3ebbbaf2-ba92-4e4a-c513-4a7e3b9b952b"
   },
   "outputs": [
    {
     "name": "stdout",
     "output_type": "stream",
     "text": [
      "The rmse of prediction is: 0.4408236787764176\n"
     ]
    }
   ],
   "source": [
    "y_pred = y_test_lgbm_cat_boost * 0.5 + y_ftrl_pred * 0.5\n",
    "print('The rmse of prediction is:', mean_squared_error(y_test, y_pred) ** 0.5)"
   ]
  },
  {
   "cell_type": "code",
   "execution_count": 0,
   "metadata": {
    "colab": {},
    "colab_type": "code",
    "id": "liISFkbrUpQS"
   },
   "outputs": [],
   "source": []
  },
  {
   "cell_type": "markdown",
   "metadata": {
    "colab_type": "text",
    "id": "_renIWbp2Y23"
   },
   "source": [
    "## Conclusion / Summary of the Approach"
   ]
  },
  {
   "cell_type": "markdown",
   "metadata": {
    "colab_type": "text",
    "id": "VNWPDC-N2nwH"
   },
   "source": [
    "\n",
    "### LightGBM+CatBoost\n",
    "1. We are going to get two pedictions from two different models\n",
    "and take the average of them\n",
    "2. Tfidf vectorize(1,2) name and item description -> Run a lightGBM regression on these vectorize and get the predictions of train and test data.\n",
    "3. Label Encode BrandName, GeneralCategory, SubCat1, SubCat2, ItemCondition and Shipping.\n",
    "4. Pass the predictions from LightGBM along with the label encoded features to CatBoost. Get the predictions for train and test data. Lets call this ** prediction number 1**. This is the one of the predictions we are going to average from.\n",
    "---------------------------------------------------------------\n",
    "### TFIDF+CountVectorizer, Ridge and LightGBM\n",
    "1. Name - Count vectorize(1,2)\n",
    "Description - TFIDF vectorize(1,3)\n",
    "Brand, general category, sub category 1, sub category 2 - BOW\n",
    "Shipping, item condition - Binarize\n",
    "2. Pass these features to RidgeRegression models. Lets call this **prediction number 2**.\n",
    "3. Average the LightGBM+CatBoost predictions(**1**) and Ridge Predictions(**2**) -> **0.4509** \n",
    "4. Name - Count vectorize(1,2)\n",
    "Description - TFIDF vectorize(1,3)\n",
    "Brand, generalCategory, subCategory 1, subCategory 2 - LabelEncode\n",
    "Shipping, item condition - Binarize\n",
    "5. Pass these features to LightGBM and get the predictions. **Prediction number 3**\n",
    "6. Average the predictions of LightGBM+CatBoost(**1**), Ridge(**2**), LightGBM(**3**) -> **0.441136**\n",
    "---------------------------------------------------------------\n",
    "### WordBacth+FTRL\n",
    "1. Name - WordBatch using WordBag(1,2)\n",
    "Desc - WordBatch using WordBag(1,2)\n",
    "Brand, ItemCondition and Shipping - Binarize\n",
    "GeneralCategory, SubCat1, SubCat2 - LabelEncode\n",
    "2. Apply FTRL on these features and get predictions.\n",
    "Prediction number 4\n",
    "3. Average LightGBM+CatBoost(**1**) and FTRL(**4**) -> **0.44082**"
   ]
  },
  {
   "cell_type": "markdown",
   "metadata": {
    "colab_type": "text",
    "id": "S_7EcyLDncXf"
   },
   "source": [
    "# Custom Features + Things I tried but did not work out"
   ]
  },
  {
   "cell_type": "code",
   "execution_count": 0,
   "metadata": {
    "colab": {},
    "colab_type": "code",
    "id": "-uFS_34U_m95"
   },
   "outputs": [],
   "source": [
    "# https://pbpython.com/pandas_transform.html -> Good explaination about the transform function\n",
    "all_df['name_count'] = all_df.groupby('name')['name'].transform('count')\n",
    "all_df['gen_cat_count'] = all_df.groupby('general_category')['general_category'].transform('count')\n",
    "all_df['sub_cat_1_count'] = all_df.groupby('sub_cat_1')['sub_cat_1'].transform('count')\n",
    "all_df['sub_cat_2_count'] = all_df.groupby('sub_cat_2')['sub_cat_2'].transform('count')\n",
    "all_df['brand_name_count'] = all_df.groupby('brand_name')['brand_name'].transform('count')\n",
    "\n",
    "all_df['name_len'] = all_df['name'].apply(lambda x: len(x))\n",
    "all_df['des_len'] = all_df['item_description'].apply(lambda x: len(x))\n",
    "all_df['name_desc_len_ratio'] = all_df['name_len']/all_df['des_len']\n",
    "all_df['desc_word_count'] = all_df['item_description'].apply(lambda x: len(x.split()))\n",
    "all_df['mean_des'] = all_df['item_description'].apply(lambda x: 0 if len(x) == 0 else float(len(x.split())) / len(x)) * 10\n",
    "all_df['name_word_count'] = all_df['name'].apply(lambda x: len(x.split()))\n",
    "all_df['mean_name'] = all_df['name'].apply(lambda x: 0 if len(x) == 0 else float(len(x.split())) / len(x)) * 10\n",
    "all_df['desc_letters_per_word'] = all_df['des_len'] / all_df['desc_word_count']\n",
    "all_df['name_letters_per_word'] = all_df['name_len'] / all_df['name_word_count']\n",
    "all_df['NameDigitCount'] = all_df.name.str.count('[0-9]')\n",
    "all_df['DescriptionDigitCount'] = all_df.item_description.str.count('[0-9]')\n",
    "all_df['NameDigitCountRatio'] = all_df['NameDigitCount'] / all_df['name_word_count']\n",
    "all_df['DescriptionDigitCountRatio'] = all_df['DescriptionDigitCount']/all_df['desc_word_count']"
   ]
  },
  {
   "cell_type": "code",
   "execution_count": 0,
   "metadata": {
    "colab": {},
    "colab_type": "code",
    "id": "GcKaLymYne7G"
   },
   "outputs": [],
   "source": [
    "pickle.dump(all_df, open('/content/gdrive/My Drive/MerCari/all_df_with_custom_featuresw.p','wb'))"
   ]
  },
  {
   "cell_type": "code",
   "execution_count": 0,
   "metadata": {
    "colab": {},
    "colab_type": "code",
    "id": "FWenGmeBudM5"
   },
   "outputs": [],
   "source": []
  },
  {
   "cell_type": "code",
   "execution_count": 0,
   "metadata": {
    "colab": {},
    "colab_type": "code",
    "id": "IEL7myt6wLxG"
   },
   "outputs": [],
   "source": [
    "x_train, x_test, y_train, y_test = train_test_split(all_df.drop(columns=['train_id','price'], axis=1), \\\n",
    "                                                                     all_df['price'],\\\n",
    "                                                                    test_size = 0.2)"
   ]
  },
  {
   "cell_type": "code",
   "execution_count": 0,
   "metadata": {
    "colab": {},
    "colab_type": "code",
    "id": "OtgPnRcI6VlZ"
   },
   "outputs": [],
   "source": [
    "pickle.dump(x_train, open('/content/gdrive/My Drive/MerCari/x_train_raw.p','wb'))\n",
    "pickle.dump(x_test, open('/content/gdrive/My Drive/MerCari/x_test_raw.p','wb'))\n",
    "pickle.dump(y_train, open('/content/gdrive/My Drive/MerCari/y_train.p','wb'))\n",
    "pickle.dump(y_test, open('/content/gdrive/My Drive/MerCari/y_test.p','wb'))"
   ]
  },
  {
   "cell_type": "code",
   "execution_count": 0,
   "metadata": {
    "colab": {
     "base_uri": "https://localhost:8080/",
     "height": 50
    },
    "colab_type": "code",
    "id": "Dws9vWgrLdw-",
    "outputId": "55e70dfc-d407-4f66-ae1b-859da8d7851a"
   },
   "outputs": [
    {
     "name": "stderr",
     "output_type": "stream",
     "text": [
      "/usr/local/lib/python3.6/dist-packages/ipykernel_launcher.py:1: FutureWarning: 'pandas.core' is private. Use 'pandas.Categorical'\n",
      "  \"\"\"Entry point for launching an IPython kernel.\n"
     ]
    }
   ],
   "source": [
    "x_train = pickle.load(open('/content/gdrive/My Drive/MerCari/x_train_raw.p','rb'))\n",
    "x_test = pickle.load(open('/content/gdrive/My Drive/MerCari/x_test_raw.p','rb'))"
   ]
  },
  {
   "cell_type": "code",
   "execution_count": 0,
   "metadata": {
    "colab": {
     "base_uri": "https://localhost:8080/",
     "height": 67
    },
    "colab_type": "code",
    "id": "8fby3wdDjrtg",
    "outputId": "727af0dd-036a-488c-feed-55500799c4f9"
   },
   "outputs": [
    {
     "data": {
      "text/plain": [
       "Index(['name', 'item_condition_id', 'brand_name', 'shipping',\n",
       "       'item_description', 'general_category', 'sub_cat_1', 'sub_cat_2'],\n",
       "      dtype='object')"
      ]
     },
     "execution_count": 8,
     "metadata": {
      "tags": []
     },
     "output_type": "execute_result"
    }
   ],
   "source": [
    "x_train.columns"
   ]
  },
  {
   "cell_type": "code",
   "execution_count": 0,
   "metadata": {
    "colab": {},
    "colab_type": "code",
    "id": "DYQCQqpkmZqj"
   },
   "outputs": [],
   "source": [
    "class TargetEncoder:\n",
    "    # Adapted from https://www.kaggle.com/ogrellier/python-target-encoding-for-categorical-features\n",
    "    def __repr__(self):\n",
    "        return 'TargetEncoder'\n",
    "\n",
    "    def __init__(self, cols, smoothing=1, min_samples_leaf=1, noise_level=0, keep_original=False):\n",
    "        self.cols = cols\n",
    "        self.smoothing = smoothing\n",
    "        self.min_samples_leaf = min_samples_leaf\n",
    "        self.noise_level = noise_level\n",
    "        self.keep_original = keep_original\n",
    "\n",
    "    @staticmethod\n",
    "    def add_noise(series, noise_level):\n",
    "        return series * (1 + noise_level * np.random.randn(len(series)))\n",
    "\n",
    "    def encode(self, train, test, target):\n",
    "        for col in self.cols:\n",
    "            if self.keep_original:\n",
    "                train[col + '_te'], test[col + '_te'] = self.encode_column(train[col], test[col], target)\n",
    "            else:\n",
    "                train[col], test[col] = self.encode_column(train[col], test[col], target)\n",
    "        return train, test\n",
    "\n",
    "    def encode_column(self, trn_series, tst_series, target):\n",
    "        temp = pd.concat([trn_series, target], axis=1)\n",
    "        # Compute target mean\n",
    "        averages = temp.groupby(by=trn_series.name)[target.name].agg([\"mean\", \"count\"])\n",
    "        # Compute smoothing\n",
    "        smoothing = 1 / (1 + np.exp(-(averages[\"count\"] - self.min_samples_leaf) / self.smoothing))\n",
    "        # Apply average function to all target data\n",
    "        prior = target.mean()\n",
    "        # The bigger the count the less full_avg is taken into account\n",
    "        averages[target.name] = prior * (1 - smoothing) + averages[\"mean\"] * smoothing\n",
    "        averages.drop(['mean', 'count'], axis=1, inplace=True)\n",
    "        # Apply averages to trn and tst series\n",
    "        ft_trn_series = pd.merge(\n",
    "            trn_series.to_frame(trn_series.name),\n",
    "            averages.reset_index().rename(columns={'index': target.name, target.name: 'average'}),\n",
    "            on=trn_series.name,\n",
    "            how='left')['average'].rename(trn_series.name + '_mean').fillna(prior)\n",
    "        # pd.merge does not keep the index so restore it\n",
    "        ft_trn_series.index = trn_series.index\n",
    "        ft_tst_series = pd.merge(\n",
    "            tst_series.to_frame(tst_series.name),\n",
    "            averages.reset_index().rename(columns={'index': target.name, target.name: 'average'}),\n",
    "            on=tst_series.name,\n",
    "            how='left')['average'].rename(trn_series.name + '_mean').fillna(prior)\n",
    "        # pd.merge does not keep the index so restore it\n",
    "        ft_tst_series.index = tst_series.index\n",
    "        return self.add_noise(ft_trn_series, self.noise_level), self.add_noise(ft_tst_series, self.noise_level)   \n"
   ]
  },
  {
   "cell_type": "code",
   "execution_count": 0,
   "metadata": {
    "colab": {},
    "colab_type": "code",
    "id": "UyeVxuuJ1yjm"
   },
   "outputs": [],
   "source": [
    "# load target data\n",
    "y_train = pickle.load(open('/content/gdrive/My Drive/MerCari/y_train.p', 'rb'))\n",
    "y_test = pickle.load(open('/content/gdrive/My Drive/MerCari/y_test.p', 'rb'))"
   ]
  },
  {
   "cell_type": "code",
   "execution_count": 0,
   "metadata": {
    "colab": {
     "base_uri": "https://localhost:8080/",
     "height": 50
    },
    "colab_type": "code",
    "id": "VioSdYd3mZoe",
    "outputId": "850d9aa3-e0a1-46f8-f998-c2d54c34111c"
   },
   "outputs": [
    {
     "name": "stdout",
     "output_type": "stream",
     "text": [
      "Normalize text\n",
      "Normalize text\n"
     ]
    }
   ],
   "source": [
    "name_wb_vectorizer = wordbatch.WordBatch(extractor=( \n",
    "    WordBag, {\"hash_ngrams\" : 2, \n",
    "              \"hash_ngrams_weights\" : [1.5, 1.0],\n",
    "              \"hash_size\" : 2 ** 17, \n",
    "              \"norm\" : None,\n",
    "              \"tf\" : \"binary\",\n",
    "              \"idf\" : None}\n",
    "), procs=8)\n",
    "x_train_wb_name = name_wb_vectorizer.fit_transform(x_train.name)\n",
    "x_test_wb_name = name_wb_vectorizer.transform(x_test.name)\n",
    "\n",
    "pickle.dump(x_train_wb_name, open('/content/gdrive/My Drive/MerCari/x_train_wb_name.p','wb'))\n",
    "pickle.dump(x_test_wb_name, open('/content/gdrive/My Drive/MerCari/x_test_wb_name.p','wb'))"
   ]
  },
  {
   "cell_type": "code",
   "execution_count": 0,
   "metadata": {
    "colab": {},
    "colab_type": "code",
    "id": "rlmuE5Sb1k7G"
   },
   "outputs": [],
   "source": [
    "# load wordbatch data\n",
    "x_train_wb_name = pickle.load(open('/content/gdrive/My Drive/MerCari/x_train_wb_name.p', 'rb')).tocsr()\n",
    "x_test_wb_name = pickle.load(open('/content/gdrive/My Drive/MerCari/x_test_wb_name.p', 'rb')).tocsr()"
   ]
  },
  {
   "cell_type": "code",
   "execution_count": 0,
   "metadata": {
    "colab": {},
    "colab_type": "code",
    "id": "v8Na8-hsbJoH"
   },
   "outputs": [],
   "source": [
    "x_train_wb_name = normalize(x_train_wb_name, axis=0)\n",
    "x_test_wb_name = normalize(x_test_wb_name, axis=0)"
   ]
  },
  {
   "cell_type": "code",
   "execution_count": 0,
   "metadata": {
    "colab": {
     "base_uri": "https://localhost:8080/",
     "height": 33
    },
    "colab_type": "code",
    "id": "U6RG7Rde2Fcs",
    "outputId": "463ebbd7-6a19-4e25-bdfa-9f95e05e77e2"
   },
   "outputs": [
    {
     "name": "stdout",
     "output_type": "stream",
     "text": [
      "The rmse of prediction is: 0.5726734635285611\n"
     ]
    }
   ],
   "source": [
    "model_ridge = Ridge(solver = 'sag', fit_intercept = True, random_state=205, alpha=2.8, max_iter=100)\n",
    "model_ridge.fit(x_train_wb_name, y_train)\n",
    "y_test_wb_name = model_ridge.predict(x_test_wb_name)\n",
    "\n",
    "print('The rmse of prediction is:', mean_squared_error(y_test, y_test_wb_name) ** 0.5)"
   ]
  },
  {
   "cell_type": "code",
   "execution_count": 0,
   "metadata": {
    "colab": {},
    "colab_type": "code",
    "id": "wzogUYvRdlNR"
   },
   "outputs": [],
   "source": [
    "y_train_wb_name = model_ridge.predict(x_train_wb_name)\n",
    "\n",
    "pickle.dump(y_train_wb_name, open('/content/gdrive/My Drive/MerCari/y_train_wb_name.p','wb'))\n",
    "pickle.dump(y_test_wb_name, open('/content/gdrive/My Drive/MerCari/y_test_wb_name.p','wb'))"
   ]
  },
  {
   "cell_type": "code",
   "execution_count": 0,
   "metadata": {
    "colab": {},
    "colab_type": "code",
    "id": "dE5hAg4VgD-D"
   },
   "outputs": [],
   "source": [
    "y_train_wb_name = pickle.load(open('/content/gdrive/My Drive/MerCari/y_train_wb_name.p', 'rb'))\n",
    "y_test_wb_name = pickle.load(open('/content/gdrive/My Drive/MerCari/y_test_wb_name.p', 'rb'))"
   ]
  },
  {
   "cell_type": "code",
   "execution_count": 0,
   "metadata": {
    "colab": {},
    "colab_type": "code",
    "id": "p1HrkPMy2FV4"
   },
   "outputs": [],
   "source": []
  },
  {
   "cell_type": "code",
   "execution_count": 0,
   "metadata": {
    "colab": {
     "base_uri": "https://localhost:8080/",
     "height": 50
    },
    "colab_type": "code",
    "id": "U49CrTrUmZmX",
    "outputId": "6e67a1fd-589e-4d95-b498-7b21e9de18b9"
   },
   "outputs": [
    {
     "name": "stdout",
     "output_type": "stream",
     "text": [
      "Normalize text\n",
      "Normalize text\n"
     ]
    }
   ],
   "source": [
    "desc_wb_vectorizer = wordbatch.WordBatch(extractor=( \n",
    "    WordBag, {\"hash_ngrams\" : 2, \n",
    "              \"hash_ngrams_weights\" : [1.0, 1.0],\n",
    "              \"hash_size\" : 2 * 2 ** 17, \n",
    "              \"norm\" : \"l2\",\n",
    "              \"tf\" : 1.0,\n",
    "              \"idf\" : None}\n",
    "), procs=8)\n",
    "x_train_wb_desc = desc_wb_vectorizer.fit_transform(x_train.item_description)\n",
    "x_test_wb_desc = desc_wb_vectorizer.transform(x_test.item_description)\n",
    "\n",
    "pickle.dump(x_train_wb_desc, open('/content/gdrive/My Drive/MerCari/x_train_wb_desc.p','wb'))\n",
    "pickle.dump(x_test_wb_desc, open('/content/gdrive/My Drive/MerCari/x_test_wb_desc.p','wb'))"
   ]
  },
  {
   "cell_type": "code",
   "execution_count": 0,
   "metadata": {
    "colab": {},
    "colab_type": "code",
    "id": "G1j16P0c1_W6"
   },
   "outputs": [],
   "source": [
    "x_train_wb_desc = pickle.load(open('/content/gdrive/My Drive/MerCari/x_train_wb_desc.p', 'rb')).tocsr()\n",
    "x_test_wb_desc = pickle.load(open('/content/gdrive/My Drive/MerCari/x_test_wb_desc.p', 'rb')).tocsr()"
   ]
  },
  {
   "cell_type": "code",
   "execution_count": 0,
   "metadata": {
    "colab": {},
    "colab_type": "code",
    "id": "ii5HFG08eTyG"
   },
   "outputs": [],
   "source": [
    "x_train_wb_desc = normalize(x_train_wb_desc, axis=0)\n",
    "x_test_wb_desc = normalize(x_test_wb_desc, axis=0)"
   ]
  },
  {
   "cell_type": "code",
   "execution_count": 0,
   "metadata": {
    "colab": {
     "base_uri": "https://localhost:8080/",
     "height": 33
    },
    "colab_type": "code",
    "id": "CKLjDZBqeFTp",
    "outputId": "474885af-71ff-49e6-869c-4552bba96e66"
   },
   "outputs": [
    {
     "name": "stdout",
     "output_type": "stream",
     "text": [
      "The rmse of prediction is: 0.610455683382548\n"
     ]
    }
   ],
   "source": [
    "model_ridge_desc = Ridge(random_state=205, alpha=5, max_iter=100)\n",
    "model_ridge_desc.fit(x_train_wb_desc, y_train)\n",
    "y_test_wb_desc = model_ridge_desc.predict(x_test_wb_desc)\n",
    "\n",
    "print('The rmse of prediction is:', mean_squared_error(y_test, y_test_wb_desc) ** 0.5)"
   ]
  },
  {
   "cell_type": "code",
   "execution_count": 0,
   "metadata": {
    "colab": {},
    "colab_type": "code",
    "id": "HTqI79cceG8U"
   },
   "outputs": [],
   "source": [
    "y_train_wb_desc = model_ridge_desc.predict(x_train_wb_desc)\n",
    "\n",
    "pickle.dump(y_train_wb_desc, open('/content/gdrive/My Drive/MerCari/y_train_wb_desc.p','wb'))\n",
    "pickle.dump(y_test_wb_desc, open('/content/gdrive/My Drive/MerCari/y_test_wb_desc.p','wb'))"
   ]
  },
  {
   "cell_type": "code",
   "execution_count": 0,
   "metadata": {
    "colab": {},
    "colab_type": "code",
    "id": "MF95UEQQge8m"
   },
   "outputs": [],
   "source": [
    "y_train_wb_desc = pickle.load(open('/content/gdrive/My Drive/MerCari/y_train_wb_desc.p', 'rb'))\n",
    "y_test_wb_desc = pickle.load(open('/content/gdrive/My Drive/MerCari/y_test_wb_desc.p', 'rb'))"
   ]
  },
  {
   "cell_type": "code",
   "execution_count": 0,
   "metadata": {
    "colab": {},
    "colab_type": "code",
    "id": "m8VyG7Bd1_Hn"
   },
   "outputs": [],
   "source": []
  },
  {
   "cell_type": "code",
   "execution_count": 0,
   "metadata": {
    "colab": {},
    "colab_type": "code",
    "id": "Up1Ol9Lsku0M"
   },
   "outputs": [],
   "source": [
    "x_train_wb_ohe = hstack([x_train_wb_name,\n",
    "                        x_train_wb_desc,\n",
    "                        x_train_brand_ohe,\n",
    "                        x_train_shipping_ohe,\n",
    "                        x_train_item_condition_ohe,\n",
    "                        x_train_general_category_ohe,\n",
    "                        x_train_sub_cat_1_ohe,\n",
    "                        x_train_sub_cat_2_ohe])\n",
    "\n",
    "x_test_wb_ohe = hstack([x_test_wb_name,\n",
    "                        x_test_wb_desc,\n",
    "                        x_test_brand_ohe,\n",
    "                        x_test_shipping_ohe,\n",
    "                        x_test_item_condition_ohe,\n",
    "                        x_test_general_category_ohe,\n",
    "                        x_test_sub_cat_1_ohe,\n",
    "                        x_test_sub_cat_2_ohe])"
   ]
  },
  {
   "cell_type": "code",
   "execution_count": 0,
   "metadata": {
    "colab": {},
    "colab_type": "code",
    "id": "_2GLJibrmAXn"
   },
   "outputs": [],
   "source": [
    "pickle.dump(x_train_wb_ohe, open('/content/gdrive/My Drive/MerCari/x_train_wb_ohe.p','wb'))\n",
    "pickle.dump(x_test_wb_ohe, open('/content/gdrive/My Drive/MerCari/x_test_wb_ohe.p','wb'))"
   ]
  },
  {
   "cell_type": "code",
   "execution_count": 0,
   "metadata": {
    "colab": {
     "base_uri": "https://localhost:8080/",
     "height": 234
    },
    "colab_type": "code",
    "id": "YZ4_Iw59lZDM",
    "outputId": "e05f861f-0db1-4641-9cbe-b284c8b6f56c"
   },
   "outputs": [
    {
     "name": "stdout",
     "output_type": "stream",
     "text": [
      "Total e: 496661.0600160163\n",
      "Total e: 445692.14027547557\n",
      "Total e: 425456.88092341396\n",
      "Total e: 411512.7075939182\n",
      "Total e: 400621.8184924071\n",
      "Total e: 391543.3385823677\n",
      "Total e: 383678.50618526305\n",
      "Total e: 376672.85169254575\n",
      "Total e: 370302.7678164642\n",
      "Total e: 364419.8454385314\n",
      "Total e: 358917.59641346306\n",
      "Total e: 353716.9786092178\n"
     ]
    },
    {
     "data": {
      "text/plain": [
       "<wordbatch.models.fm_ftrl.FM_FTRL at 0x515b600>"
      ]
     },
     "execution_count": 16,
     "metadata": {
      "tags": []
     },
     "output_type": "execute_result"
    }
   ],
   "source": [
    "model_fm_ftrl = FM_FTRL(alpha=0.035, beta=0.001, L1=0.00001, L2=0.15, D=x_train_wb_ohe.shape[1],\n",
    "                alpha_fm=0.05, L2_fm=0.0, init_fm=0.01,\n",
    "                D_fm=100, e_noise=0, iters=12, inv_link=\"identity\", threads=4)\n",
    "\n",
    "model_fm_ftrl.fit(x_train_wb_ohe, y_train)"
   ]
  },
  {
   "cell_type": "code",
   "execution_count": 0,
   "metadata": {
    "colab": {
     "base_uri": "https://localhost:8080/",
     "height": 33
    },
    "colab_type": "code",
    "id": "B8Fn2OS7nzWf",
    "outputId": "d2a3d1cd-49be-48dd-b3d0-e9bff88e5a39"
   },
   "outputs": [
    {
     "name": "stdout",
     "output_type": "stream",
     "text": [
      "The rmse of prediction is: 0.58172310737566\n"
     ]
    }
   ],
   "source": [
    "y_test_wb_ohe_fm_ftrl = model_fm_ftrl.predict(x_test_wb_ohe)\n",
    "\n",
    "print('The rmse of prediction is:', mean_squared_error(y_test, y_test_wb_ohe_fm_ftrl) ** 0.5)"
   ]
  },
  {
   "cell_type": "code",
   "execution_count": 0,
   "metadata": {
    "colab": {},
    "colab_type": "code",
    "id": "XAw7Tewm1GP6"
   },
   "outputs": [],
   "source": [
    "y_train_wb_ohe_fm_ftrl = model_fm_ftrl.predict(x_train_wb_ohe)\n",
    "\n",
    "pickle.dump(y_train_wb_ohe_fm_ftrl, open('/content/gdrive/My Drive/MerCari/y_train_wb_ohe_fm_ftrl.p','wb'))\n",
    "pickle.dump(y_test_wb_ohe_fm_ftrl, open('/content/gdrive/My Drive/MerCari/y_test_wb_ohe_fm_ftrl.p','wb'))"
   ]
  },
  {
   "cell_type": "code",
   "execution_count": 0,
   "metadata": {
    "colab": {},
    "colab_type": "code",
    "id": "_iKDUfpV6W0b"
   },
   "outputs": [],
   "source": [
    "y_train_wb_ohe_fm_ftrl = pickle.load(open('/content/gdrive/My Drive/MerCari/y_train_wb_ohe_fm_ftrl.p','rb'))\n",
    "y_test_wb_ohe_fm_ftrl = pickle.load(open('/content/gdrive/My Drive/MerCari/y_test_wb_ohe_fm_ftrl.p','rb'))"
   ]
  },
  {
   "cell_type": "code",
   "execution_count": 0,
   "metadata": {
    "colab": {},
    "colab_type": "code",
    "id": "wsMpvbYD1lvD"
   },
   "outputs": [],
   "source": []
  },
  {
   "cell_type": "code",
   "execution_count": 0,
   "metadata": {
    "colab": {
     "base_uri": "https://localhost:8080/",
     "height": 1706
    },
    "colab_type": "code",
    "id": "vCKR-BVIuCw6",
    "outputId": "20735239-6535-47d7-cb88-19dff931156e"
   },
   "outputs": [
    {
     "name": "stdout",
     "output_type": "stream",
     "text": [
      "Total e: 572035.8649561704\n",
      "Total e: 536347.0288463333\n",
      "Total e: 523846.7997082726\n",
      "Total e: 515107.2599872324\n",
      "Total e: 508239.7624315468\n",
      "Total e: 502529.609763402\n",
      "Total e: 497619.51946607284\n",
      "Total e: 493301.4734013436\n",
      "Total e: 489439.7917281098\n",
      "Total e: 485941.01542402525\n",
      "Total e: 482740.9010440825\n",
      "Total e: 479791.7446561268\n",
      "Total e: 477055.24476328236\n",
      "Total e: 474502.22751452826\n",
      "Total e: 472109.4243951017\n",
      "Total e: 469856.66440833657\n",
      "Total e: 467728.9527810174\n",
      "Total e: 465712.9137041189\n",
      "Total e: 463797.7162173173\n",
      "Total e: 461974.0470159824\n",
      "Total e: 460234.55097687675\n",
      "Total e: 458571.696177722\n",
      "Total e: 456979.46783204627\n",
      "Total e: 455451.9098073967\n",
      "Total e: 453984.2677255518\n",
      "Total e: 452572.1682645232\n",
      "Total e: 451211.9208350847\n",
      "Total e: 449899.9810229217\n",
      "Total e: 448633.27954885765\n",
      "Total e: 447408.90593463636\n",
      "Total e: 446224.54660245683\n",
      "Total e: 445077.65906539094\n",
      "Total e: 443965.5729616609\n",
      "Total e: 442886.84076025686\n",
      "Total e: 441839.64534386474\n",
      "Total e: 440822.23092554125\n",
      "Total e: 439833.44852948503\n",
      "Total e: 438871.90076657804\n",
      "Total e: 437936.31955146336\n",
      "Total e: 437025.26157105697\n",
      "Total e: 436137.77280989167\n",
      "Total e: 435272.71957598586\n",
      "Total e: 434428.9198667602\n",
      "Total e: 433605.5097951892\n",
      "Total e: 432801.5078724661\n",
      "Total e: 432016.1904558409\n",
      "Total e: 431248.8226074158\n",
      "Total e: 430498.6080865777\n",
      "Total e: 429764.98546253104\n",
      "Total e: 429047.37857120874\n",
      "Total e: 428345.15997365466\n",
      "Total e: 427657.66032669094\n",
      "Total e: 426984.3594508075\n",
      "Total e: 426324.82481475075\n",
      "Total e: 425678.64558892394\n",
      "Total e: 425045.28374631796\n",
      "Total e: 424424.2429199711\n",
      "Total e: 423814.9490024481\n",
      "Total e: 423216.94052354165\n",
      "Total e: 422629.98074658896\n",
      "Total e: 422053.86270034505\n",
      "Total e: 421488.3023578801\n",
      "Total e: 420932.8156672968\n",
      "Total e: 420387.0799056367\n",
      "Total e: 419850.6907976664\n",
      "Total e: 419323.4558441289\n",
      "Total e: 418805.13126138586\n",
      "Total e: 418295.38093069725\n",
      "Total e: 417793.97597655945\n",
      "Total e: 417300.65989071154\n",
      "Total e: 416815.12378843775\n",
      "Total e: 416337.2088060659\n",
      "Total e: 415866.72649540054\n",
      "Total e: 415403.49011466344\n",
      "Total e: 414947.32443542534\n",
      "Total e: 414498.08337023715\n",
      "Total e: 414055.4868176031\n",
      "Total e: 413619.4655616895\n",
      "Total e: 413189.79597299144\n",
      "Total e: 412766.2523107347\n",
      "Total e: 412348.8362875493\n",
      "Total e: 411937.3335544911\n",
      "Total e: 411531.45263385045\n",
      "Total e: 411131.1436917646\n",
      "Total e: 410736.29544260184\n",
      "Total e: 410346.7619940908\n",
      "Total e: 409962.4967955098\n",
      "Total e: 409583.3127084272\n",
      "Total e: 409209.07485591253\n",
      "Total e: 408839.6626280441\n",
      "Total e: 408474.9774842524\n",
      "Total e: 408115.00383260846\n",
      "Total e: 407759.55275874597\n",
      "Total e: 407408.53151851246\n",
      "Total e: 407061.7691300021\n",
      "Total e: 406719.2726598696\n",
      "Total e: 406380.94607779256\n",
      "Total e: 406046.6441666139\n",
      "Total e: 405716.26652557123\n",
      "Total e: 405389.75455918576\n"
     ]
    },
    {
     "data": {
      "text/plain": [
       "<wordbatch.models.ftrl.FTRL at 0x2c2668900>"
      ]
     },
     "execution_count": 20,
     "metadata": {
      "tags": []
     },
     "output_type": "execute_result"
    }
   ],
   "source": [
    "model_ftrl = FTRL(alpha=0.01, beta=0.1, L1=0.00001, L2=1.0, D=x_train_wb_ohe.shape[1], \\\n",
    "                  iters=100, inv_link=\"identity\", threads=1)\n",
    "model_ftrl.fit(x_train_wb_ohe.tocsr(), y_train)"
   ]
  },
  {
   "cell_type": "code",
   "execution_count": 0,
   "metadata": {
    "colab": {
     "base_uri": "https://localhost:8080/",
     "height": 33
    },
    "colab_type": "code",
    "id": "kvBr_hbqu1ST",
    "outputId": "bd67228a-6f55-4727-d35d-ae230c60e72a"
   },
   "outputs": [
    {
     "name": "stdout",
     "output_type": "stream",
     "text": [
      "The rmse of prediction is: 0.5452087778677622\n"
     ]
    }
   ],
   "source": [
    "y_test_wb_ohe_ftrl = model_ftrl.predict(x_test_wb_ohe)\n",
    "print('The rmse of prediction is:', mean_squared_error(y_test, y_test_wb_ohe_ftrl) ** 0.5)"
   ]
  },
  {
   "cell_type": "code",
   "execution_count": 0,
   "metadata": {
    "colab": {},
    "colab_type": "code",
    "id": "D0fG1a6Q2C2s"
   },
   "outputs": [],
   "source": [
    "y_train_wb_ohe_ftrl = model_ftrl.predict(x_train_wb_ohe)\n",
    "pickle.dump(y_train_wb_ohe_ftrl, open('/content/gdrive/My Drive/MerCari/y_train_wb_ohe_ftrl.p','wb'))\n",
    "pickle.dump(y_test_wb_ohe_ftrl, open('/content/gdrive/My Drive/MerCari/y_test_wb_ohe_ftrl.p','wb'))"
   ]
  },
  {
   "cell_type": "code",
   "execution_count": 0,
   "metadata": {
    "colab": {},
    "colab_type": "code",
    "id": "jeBmfrq-6pFk"
   },
   "outputs": [],
   "source": [
    "y_train_wb_ohe_ftrl = pickle.load(open('/content/gdrive/My Drive/MerCari/y_train_wb_ohe_ftrl.p','rb'))\n",
    "y_test_wb_ohe_ftrl = pickle.load(open('/content/gdrive/My Drive/MerCari/y_test_wb_ohe_ftrl.p','rb'))"
   ]
  },
  {
   "cell_type": "code",
   "execution_count": 0,
   "metadata": {
    "colab": {},
    "colab_type": "code",
    "id": "svgBq3YQ4wxV"
   },
   "outputs": [],
   "source": []
  },
  {
   "cell_type": "code",
   "execution_count": 0,
   "metadata": {
    "colab": {},
    "colab_type": "code",
    "id": "Qyd1E2vQmZhn"
   },
   "outputs": [],
   "source": [
    "name_tfidf_vectorizer = TfidfVectorizer(ngram_range=(1,2), max_features = 2 ** 17)\n",
    "x_train_name_tfidf = name_tfidf_vectorizer.fit_transform(x_train.name)\n",
    "x_test_name_tfidf = name_tfidf_vectorizer.transform(x_test.name)\n",
    "name_standerdizer = StandardScaler(with_mean=False)\n",
    "x_train_name_tfidf = name_standerdizer.fit_transform(x_train_name_tfidf)\n",
    "x_test_name_tfidf = name_standerdizer.transform(x_test_name_tfidf)\n",
    "pickle.dump(x_train_name_tfidf, open('/content/gdrive/My Drive/MerCari/x_train_name_tfidf.p','wb'))\n",
    "pickle.dump(x_test_name_tfidf, open('/content/gdrive/My Drive/MerCari/x_test_name_tfidf.p','wb'))\n",
    "\n",
    "desc_tfidf_vectorizer = TfidfVectorizer(ngram_range=(1,2), max_features = 2 * (2 ** 17))\n",
    "x_train_desc_tfidf = desc_tfidf_vectorizer.fit_transform(x_train.item_description)\n",
    "x_test_desc_tfidf = desc_tfidf_vectorizer.transform(x_test.item_description)\n",
    "desc_standerdizer = StandardScaler(with_mean=False)\n",
    "x_train_desc_tfidf = desc_standerdizer.fit_transform(x_train_desc_tfidf)\n",
    "x_test_desc_tfidf = desc_standerdizer.transform(x_test_desc_tfidf)\n",
    "\n",
    "pickle.dump(x_train_desc_tfidf, open('/content/gdrive/My Drive/MerCari/x_train_desc_tfidf.p','wb'))\n",
    "pickle.dump(x_test_desc_tfidf, open('/content/gdrive/My Drive/MerCari/x_test_desc_tfidf.p','wb'))"
   ]
  },
  {
   "cell_type": "code",
   "execution_count": 0,
   "metadata": {
    "colab": {},
    "colab_type": "code",
    "id": "wdePeODQ6y-j"
   },
   "outputs": [],
   "source": [
    "x_train_name_tfidf = pickle.load(open('/content/gdrive/My Drive/MerCari/x_train_name_tfidf.p','rb'))\n",
    "x_test_name_tfidf = pickle.load(open('/content/gdrive/My Drive/MerCari/x_test_name_tfidf.p','rb'))\n",
    "x_train_desc_tfidf = pickle.load(open('/content/gdrive/My Drive/MerCari/x_train_desc_tfidf.p','rb'))\n",
    "x_test_desc_tfidf = pickle.load(open('/content/gdrive/My Drive/MerCari/x_test_desc_tfidf.p','rb'))"
   ]
  },
  {
   "cell_type": "code",
   "execution_count": 0,
   "metadata": {
    "colab": {},
    "colab_type": "code",
    "id": "uXVgIHGq7Qm-"
   },
   "outputs": [],
   "source": [
    "x_train_tfidf_ohe = hstack([x_train_name_tfidf,\n",
    "                        x_train_desc_tfidf,\n",
    "                        x_train_brand_ohe,\n",
    "                        x_train_shipping_ohe,\n",
    "                        x_train_item_condition_ohe,\n",
    "                        x_train_general_category_ohe,\n",
    "                        x_train_sub_cat_1_ohe,\n",
    "                        x_train_sub_cat_2_ohe]).tocsr()\n",
    "\n",
    "x_test_tfidf_ohe = hstack([x_test_name_tfidf,\n",
    "                        x_test_desc_tfidf,\n",
    "                        x_test_brand_ohe,\n",
    "                        x_test_shipping_ohe,\n",
    "                        x_test_item_condition_ohe,\n",
    "                        x_test_general_category_ohe,\n",
    "                        x_test_sub_cat_1_ohe,\n",
    "                        x_test_sub_cat_2_ohe]).tocsr()"
   ]
  },
  {
   "cell_type": "code",
   "execution_count": 0,
   "metadata": {
    "colab": {
     "base_uri": "https://localhost:8080/",
     "height": 87
    },
    "colab_type": "code",
    "id": "v3b0shql8Fwh",
    "outputId": "afa929d7-51d2-4b79-edd3-cfbc66deb6da"
   },
   "outputs": [
    {
     "name": "stdout",
     "output_type": "stream",
     "text": [
      "The rmse of prediction is: 0.5411923191381363\n"
     ]
    },
    {
     "name": "stderr",
     "output_type": "stream",
     "text": [
      "/usr/local/lib/python3.6/dist-packages/sklearn/linear_model/sag.py:334: ConvergenceWarning: The max_iter was reached which means the coef_ did not converge\n",
      "  \"the coef_ did not converge\", ConvergenceWarning)\n"
     ]
    }
   ],
   "source": [
    "model_tfidf_ohe = Ridge(random_state=205, alpha=4, max_iter=200)\n",
    "model_tfidf_ohe.fit(x_train_tfidf_ohe, y_train)\n",
    "y_test_tfidf_ohe_ridge = model_tfidf_ohe.predict(x_test_tfidf_ohe)\n",
    "print('The rmse of prediction is:', mean_squared_error(y_test, y_test_tfidf_ohe_ridge) ** 0.5)"
   ]
  },
  {
   "cell_type": "code",
   "execution_count": 0,
   "metadata": {
    "colab": {},
    "colab_type": "code",
    "id": "TQt3-_Tz_RoN"
   },
   "outputs": [],
   "source": [
    "y_train_tfidf_ohe_ridge = model_tfidf_ohe.predict(x_train_tfidf_ohe)\n",
    "pickle.dump(y_train_tfidf_ohe_ridge, open('/content/gdrive/My Drive/MerCari/y_train_tfidf_ohe_ridge.p','wb'))\n",
    "pickle.dump(y_test_tfidf_ohe_ridge, open('/content/gdrive/My Drive/MerCari/y_test_tfidf_ohe_ridge.p','wb'))"
   ]
  },
  {
   "cell_type": "code",
   "execution_count": 0,
   "metadata": {
    "colab": {},
    "colab_type": "code",
    "id": "H5DT4TqWXHp1"
   },
   "outputs": [],
   "source": [
    "y_train_tfidf_ohe_ridge = pickle.load(open('/content/gdrive/My Drive/MerCari/y_train_tfidf_ohe_ridge.p','rb'))\n",
    "y_test_tfidf_ohe_ridge = pickle.load(open('/content/gdrive/My Drive/MerCari/y_test_tfidf_ohe_ridge.p','rb'))"
   ]
  },
  {
   "cell_type": "code",
   "execution_count": 0,
   "metadata": {
    "colab": {},
    "colab_type": "code",
    "id": "5sNjj5_aE-fB"
   },
   "outputs": [],
   "source": []
  },
  {
   "cell_type": "code",
   "execution_count": 0,
   "metadata": {
    "colab": {
     "base_uri": "https://localhost:8080/",
     "height": 117
    },
    "colab_type": "code",
    "id": "Csdn5eadEDJe",
    "outputId": "06ed30c2-1656-442f-a3ad-6a7e5297867c"
   },
   "outputs": [
    {
     "data": {
      "text/plain": [
       "964037    3.713572\n",
       "392971    3.044522\n",
       "889260    2.890372\n",
       "599506    3.178054\n",
       "823825    3.295837\n",
       "Name: price, dtype: float64"
      ]
     },
     "execution_count": 33,
     "metadata": {
      "tags": []
     },
     "output_type": "execute_result"
    }
   ],
   "source": [
    "y_train.sample(5)"
   ]
  },
  {
   "cell_type": "code",
   "execution_count": 0,
   "metadata": {
    "colab": {},
    "colab_type": "code",
    "id": "QHl5gjReFEDl"
   },
   "outputs": [],
   "source": [
    "model_mnb = MultinomialNB(alpha=0.01)\n",
    "model_mnb.fit(x_train_tfidf_ohe, y_train >= 4)\n",
    "y_train_tfidf_ohe_mnb = model_mnb.predict_proba(x_train_tfidf_ohe)[:, 1]\n",
    "y_test_tfidf_ohe_mnb = model_mnb.predict_proba(x_test_tfidf_ohe)[:, 1]\n",
    "pickle.dump(y_train_tfidf_ohe_mnb, open('/content/gdrive/My Drive/MerCari/y_train_tfidf_ohe_mnb.p', 'wb'))\n",
    "pickle.dump(y_test_tfidf_ohe_mnb, open('/content/gdrive/My Drive/MerCari/y_test_tfidf_ohe_mnb.p', 'wb'))"
   ]
  },
  {
   "cell_type": "code",
   "execution_count": 0,
   "metadata": {
    "colab": {},
    "colab_type": "code",
    "id": "845MN2LGXUnH"
   },
   "outputs": [],
   "source": [
    "y_train_tfidf_ohe_mnb = pickle.load(open('/content/gdrive/My Drive/MerCari/y_train_tfidf_ohe_mnb.p','rb'))\n",
    "y_test_tfidf_ohe_mnb = pickle.load(open('/content/gdrive/My Drive/MerCari/y_test_tfidf_ohe_mnb.p','rb'))"
   ]
  },
  {
   "cell_type": "code",
   "execution_count": 0,
   "metadata": {
    "colab": {},
    "colab_type": "code",
    "id": "B7uxfZCFGp60"
   },
   "outputs": [],
   "source": []
  },
  {
   "cell_type": "code",
   "execution_count": 0,
   "metadata": {
    "colab": {
     "base_uri": "https://localhost:8080/",
     "height": 170
    },
    "colab_type": "code",
    "id": "BGAIaFgKGp3g",
    "outputId": "8bd20475-e017-42c9-da85-1820cbb1ab2f"
   },
   "outputs": [
    {
     "name": "stderr",
     "output_type": "stream",
     "text": [
      "/usr/local/lib/python3.6/dist-packages/sklearn/feature_selection/univariate_selection.py:299: RuntimeWarning: invalid value encountered in true_divide\n",
      "  corr /= X_norms\n",
      "/usr/local/lib/python3.6/dist-packages/scipy/stats/_distn_infrastructure.py:879: RuntimeWarning: invalid value encountered in greater\n",
      "  return (self.a < x) & (x < self.b)\n",
      "/usr/local/lib/python3.6/dist-packages/scipy/stats/_distn_infrastructure.py:879: RuntimeWarning: invalid value encountered in less\n",
      "  return (self.a < x) & (x < self.b)\n",
      "/usr/local/lib/python3.6/dist-packages/scipy/stats/_distn_infrastructure.py:1821: RuntimeWarning: invalid value encountered in less_equal\n",
      "  cond2 = cond0 & (x <= self.a)\n"
     ]
    }
   ],
   "source": [
    "fselect = SelectKBest(f_regression, k=50000)\n",
    "x_train_wb_ohe_50k = fselect.fit_transform(x_train_wb_ohe, y_train)\n",
    "x_test_wb_ohe_50k = fselect.transform(x_test_wb_ohe)\n",
    "\n",
    "pickle.dump(x_train_wb_ohe_50k, open('/content/gdrive/My Drive/MerCari/x_train_wb_ohe_50k.p', 'wb'))\n",
    "pickle.dump(x_test_wb_ohe_50k, open('/content/gdrive/My Drive/MerCari/x_test_wb_ohe_50k.p', 'wb'))"
   ]
  },
  {
   "cell_type": "code",
   "execution_count": 0,
   "metadata": {
    "colab": {},
    "colab_type": "code",
    "id": "uwUvUNGvXl-G"
   },
   "outputs": [],
   "source": [
    "x_train_wb_ohe_50k = pickle.load(open('/content/gdrive/My Drive/MerCari/x_train_wb_ohe_50k.p','rb'))\n",
    "x_test_wb_ohe_50k = pickle.load(open('/content/gdrive/My Drive/MerCari/x_test_wb_ohe_50k.p','rb'))"
   ]
  },
  {
   "cell_type": "code",
   "execution_count": 0,
   "metadata": {
    "colab": {},
    "colab_type": "code",
    "id": "wRHuYdCuGQzK"
   },
   "outputs": [],
   "source": []
  },
  {
   "cell_type": "code",
   "execution_count": 0,
   "metadata": {
    "colab": {},
    "colab_type": "code",
    "id": "72oXu8fomZfk"
   },
   "outputs": [],
   "source": [
    "categorical_features = ['brand_name', 'general_category', 'sub_cat_1', 'sub_cat_2']\n",
    "target_encode = TargetEncoder(min_samples_leaf=100, smoothing=10, noise_level=0.01,\n",
    "                              keep_original=True, cols=categorical_features)\n",
    "x_train_target_encode, x_test_target_encode = target_encode.encode(x_train, x_test, y_train)\n",
    "\n",
    "pickle.dump(x_train_target_encode, open('/content/gdrive/My Drive/MerCari/x_train_target_encode.p','wb'))\n",
    "pickle.dump(x_test_target_encode, open('/content/gdrive/My Drive/MerCari/x_test_target_encode.p','wb'))"
   ]
  },
  {
   "cell_type": "code",
   "execution_count": 0,
   "metadata": {
    "colab": {},
    "colab_type": "code",
    "id": "fL3W1gQJ1OX8"
   },
   "outputs": [],
   "source": [
    "x_train_target_encode = pickle.load(open('/content/gdrive/My Drive/MerCari/x_train_target_encode.p','rb'))\n",
    "x_test_target_encode = pickle.load(open('/content/gdrive/My Drive/MerCari/x_test_target_encode.p','rb'))"
   ]
  },
  {
   "cell_type": "code",
   "execution_count": 0,
   "metadata": {
    "colab": {},
    "colab_type": "code",
    "id": "fH-6q9x9Iliu"
   },
   "outputs": [],
   "source": [
    "x_train_target_encode['name_ridge'] = y_train_wb_name\n",
    "x_train_target_encode['desc_ridge'] = y_train_wb_desc\n",
    "x_train_target_encode['ridge'] = y_train_tfidf_ohe_ridge\n",
    "x_train_target_encode['mnb'] = y_train_tfidf_ohe_mnb\n",
    "\n",
    "x_test_target_encode['name_ridge'] = y_test_wb_name\n",
    "x_test_target_encode['desc_ridge'] = y_test_wb_desc\n",
    "x_test_target_encode['ridge'] = y_test_tfidf_ohe_ridge\n",
    "x_test_target_encode['mnb'] = y_test_tfidf_ohe_mnb"
   ]
  },
  {
   "cell_type": "code",
   "execution_count": 0,
   "metadata": {
    "colab": {
     "base_uri": "https://localhost:8080/",
     "height": 33
    },
    "colab_type": "code",
    "id": "8j8eI_Q2LoG5",
    "outputId": "3d44f927-db4b-4404-a344-e9793289337e"
   },
   "outputs": [
    {
     "data": {
      "text/plain": [
       "(1184672, 50000)"
      ]
     },
     "execution_count": 11,
     "metadata": {
      "tags": []
     },
     "output_type": "execute_result"
    }
   ],
   "source": [
    "x_train_wb_ohe_50k.shape"
   ]
  },
  {
   "cell_type": "code",
   "execution_count": 0,
   "metadata": {
    "colab": {
     "base_uri": "https://localhost:8080/",
     "height": 201
    },
    "colab_type": "code",
    "id": "TNTuX1SuYLNS",
    "outputId": "d331c60c-a58c-4a41-df4e-923c3b927b34"
   },
   "outputs": [
    {
     "data": {
      "text/plain": [
       "Index(['name', 'item_condition_id', 'brand_name', 'shipping',\n",
       "       'item_description', 'general_category', 'sub_cat_1', 'sub_cat_2',\n",
       "       'name_count', 'gen_cat_count', 'sub_cat_1_count', 'sub_cat_2_count',\n",
       "       'brand_name_count', 'name_len', 'des_len', 'name_desc_len_ratio',\n",
       "       'desc_word_count', 'mean_des', 'name_word_count', 'mean_name',\n",
       "       'desc_letters_per_word', 'name_letters_per_word', 'NameDigitCount',\n",
       "       'DescriptionDigitCount', 'NameDigitCountRatio',\n",
       "       'DescriptionDigitCountRatio', 'brand_name_te', 'general_category_te',\n",
       "       'sub_cat_1_te', 'sub_cat_2_te', 'name_ridge', 'desc_ridge', 'ridge',\n",
       "       'mnb'],\n",
       "      dtype='object')"
      ]
     },
     "execution_count": 18,
     "metadata": {
      "tags": []
     },
     "output_type": "execute_result"
    }
   ],
   "source": [
    "x_train_target_encode.columns"
   ]
  },
  {
   "cell_type": "code",
   "execution_count": 0,
   "metadata": {
    "colab": {},
    "colab_type": "code",
    "id": "ZdT9iaz9LrFY"
   },
   "outputs": [],
   "source": [
    "x_train_dummies = x_train_target_encode[['brand_name_te', 'general_category_te',\n",
    "       'sub_cat_1_te', 'sub_cat_2_te', 'name_ridge', 'desc_ridge', 'ridge',\n",
    "       'mnb']].astype(float).values\n",
    "\n",
    "x_test_dummies = x_test_target_encode[['brand_name_te', 'general_category_te',\n",
    "       'sub_cat_1_te', 'sub_cat_2_te', 'name_ridge', 'desc_ridge', 'ridge',\n",
    "       'mnb']].astype(float).values"
   ]
  },
  {
   "cell_type": "code",
   "execution_count": 0,
   "metadata": {
    "colab": {
     "base_uri": "https://localhost:8080/",
     "height": 33
    },
    "colab_type": "code",
    "id": "JpcPXWExd5Kf",
    "outputId": "3b8ee332-6619-4966-aa72-64378cfaa6da"
   },
   "outputs": [
    {
     "data": {
      "text/plain": [
       "303"
      ]
     },
     "execution_count": 24,
     "metadata": {
      "tags": []
     },
     "output_type": "execute_result"
    }
   ],
   "source": [
    "temp = [x_train_dummies, x_test_dummies]\n",
    "del temp, x_train_dummies, x_test_dummies\n",
    "import gc\n",
    "gc.collect()"
   ]
  },
  {
   "cell_type": "code",
   "execution_count": 0,
   "metadata": {
    "colab": {},
    "colab_type": "code",
    "id": "AYu4pPerJ--K"
   },
   "outputs": [],
   "source": [
    "x_train_wb_ohe_50k_and_preds = hstack([x_train_wb_ohe_50k, csr_matrix(x_train_dummies)])\n",
    "x_test_wb_ohe_50k_and_preds = hstack([x_test_wb_ohe_50k, csr_matrix(x_test_dummies)])"
   ]
  },
  {
   "cell_type": "code",
   "execution_count": 0,
   "metadata": {
    "colab": {},
    "colab_type": "code",
    "id": "kvQjcQaafgDe"
   },
   "outputs": [],
   "source": [
    "pickle.dump(x_train_wb_ohe_50k_and_preds, open('/content/gdrive/My Drive/MerCari/x_train_wb_ohe_50k_and_preds.p','wb'))\n",
    "pickle.dump(x_test_wb_ohe_50k_and_preds, open('/content/gdrive/My Drive/MerCari/x_test_wb_ohe_50k_and_preds.p','wb'))"
   ]
  },
  {
   "cell_type": "code",
   "execution_count": 0,
   "metadata": {
    "colab": {},
    "colab_type": "code",
    "id": "la1DpqEpf7Ih"
   },
   "outputs": [],
   "source": [
    "x_train_wb_ohe_50k_and_preds = pickle.load(open('/content/gdrive/My Drive/MerCari/x_train_wb_ohe_50k_and_preds.p','rb')).tocsr()\n",
    "x_test_wb_ohe_50k_and_preds = pickle.load(open('/content/gdrive/My Drive/MerCari/x_test_wb_ohe_50k_and_preds.p','rb')).tocsr()"
   ]
  },
  {
   "cell_type": "code",
   "execution_count": 0,
   "metadata": {
    "colab": {
     "base_uri": "https://localhost:8080/",
     "height": 569
    },
    "colab_type": "code",
    "id": "Gk-eeL1lIkvI",
    "outputId": "319bac17-b28a-41bd-c91d-e823486fb955"
   },
   "outputs": [
    {
     "name": "stdout",
     "output_type": "stream",
     "text": [
      "[1]\tvalid_0's rmse: 0.527515\n",
      "Training until validation scores don't improve for 20 rounds.\n",
      "[2]\tvalid_0's rmse: 0.521926\n",
      "[3]\tvalid_0's rmse: 0.519757\n",
      "[4]\tvalid_0's rmse: 0.520369\n",
      "[5]\tvalid_0's rmse: 0.520016\n",
      "[6]\tvalid_0's rmse: 0.519613\n",
      "[7]\tvalid_0's rmse: 0.519285\n",
      "[8]\tvalid_0's rmse: 0.519061\n",
      "[9]\tvalid_0's rmse: 0.51874\n",
      "[10]\tvalid_0's rmse: 0.518878\n",
      "[11]\tvalid_0's rmse: 0.519868\n",
      "[12]\tvalid_0's rmse: 0.519797\n",
      "[13]\tvalid_0's rmse: 0.520057\n",
      "[14]\tvalid_0's rmse: 0.520236\n",
      "[15]\tvalid_0's rmse: 0.520014\n",
      "[16]\tvalid_0's rmse: 0.520265\n",
      "[17]\tvalid_0's rmse: 0.520059\n",
      "[18]\tvalid_0's rmse: 0.520109\n",
      "[19]\tvalid_0's rmse: 0.5203\n",
      "[20]\tvalid_0's rmse: 0.520405\n",
      "[21]\tvalid_0's rmse: 0.520429\n",
      "[22]\tvalid_0's rmse: 0.520557\n",
      "[23]\tvalid_0's rmse: 0.521221\n",
      "[24]\tvalid_0's rmse: 0.52136\n",
      "[25]\tvalid_0's rmse: 0.52148\n",
      "[26]\tvalid_0's rmse: 0.521086\n",
      "[27]\tvalid_0's rmse: 0.52136\n",
      "[28]\tvalid_0's rmse: 0.521328\n",
      "[29]\tvalid_0's rmse: 0.521451\n",
      "Early stopping, best iteration is:\n",
      "[9]\tvalid_0's rmse: 0.51874\n",
      "The rmse of prediction is: 0.5187396392568965\n"
     ]
    }
   ],
   "source": [
    "lgb_train = lgb.Dataset(x_train_wb_ohe_50k_and_preds, y_train)\n",
    "lgb_eval = lgb.Dataset(x_test_wb_ohe_50k_and_preds, y_test, reference=lgb_train)\n",
    "\n",
    "params = {\n",
    "    'boosting_type': 'gbdt',\n",
    "    'objective': 'regression',\n",
    "    'metric': 'RMSE',\n",
    "    'max_depth' : 20,\n",
    "    'num_leaves': 500,\n",
    "    'learning_rate': 1,\n",
    "    'feature_fraction': 0.9,\n",
    "    'bagging_fraction': 0.8,\n",
    "    'bagging_freq': 3,\n",
    "    'n_jobs' : -1,\n",
    "    'verbose': 0,\n",
    "    'lambda_l1': 10,\n",
    "    'lambda_l2': 10\n",
    "}\n",
    "gbm = lgb.train(params,\n",
    "                lgb_train,\n",
    "                num_boost_round=200,\n",
    "                valid_sets=lgb_eval,\n",
    "                early_stopping_rounds=20\n",
    "                )\n",
    "\n",
    "y_test_wb_ohe_50k_and_preds = gbm.predict(x_test_wb_ohe_50k_and_preds, num_iterations=gbm.best_iteration)\n",
    "\n",
    "print('The rmse of prediction is:', mean_squared_error(y_test, y_test_wb_ohe_50k_and_preds) ** 0.5)"
   ]
  },
  {
   "cell_type": "code",
   "execution_count": 0,
   "metadata": {
    "colab": {},
    "colab_type": "code",
    "id": "rc7kIg1kiufB"
   },
   "outputs": [],
   "source": [
    "y_train_wb_ohe_50k_and_preds = gbm.predict(x_train_wb_ohe_50k_and_preds, num_iterations=gbm.best_iteration)"
   ]
  },
  {
   "cell_type": "code",
   "execution_count": 0,
   "metadata": {
    "colab": {},
    "colab_type": "code",
    "id": "YuZm4MWUjB0s"
   },
   "outputs": [],
   "source": [
    "pickle.dump(y_train_wb_ohe_50k_and_preds, open('/content/gdrive/My Drive/MerCari/y_train_wb_ohe_50k_and_preds.p','wb'))\n",
    "pickle.dump(y_test_wb_ohe_50k_and_preds, open('/content/gdrive/My Drive/MerCari/y_test_wb_ohe_50k_and_preds.p','wb'))"
   ]
  },
  {
   "cell_type": "code",
   "execution_count": 0,
   "metadata": {
    "colab": {},
    "colab_type": "code",
    "id": "R68oOMVkG13M"
   },
   "outputs": [],
   "source": [
    "y_train_wb_ohe_50k_and_preds = pickle.load(open('/content/gdrive/My Drive/MerCari/y_train_wb_ohe_50k_and_preds.p','rb'))\n",
    "y_test_wb_ohe_50k_and_preds = pickle.load(open('/content/gdrive/My Drive/MerCari/y_test_wb_ohe_50k_and_preds.p','rb'))"
   ]
  },
  {
   "cell_type": "code",
   "execution_count": 0,
   "metadata": {
    "colab": {},
    "colab_type": "code",
    "id": "yGnLwPp1oYUj"
   },
   "outputs": [],
   "source": []
  },
  {
   "cell_type": "code",
   "execution_count": 0,
   "metadata": {
    "colab": {
     "base_uri": "https://localhost:8080/",
     "height": 67
    },
    "colab_type": "code",
    "id": "8sfquErRojr9",
    "outputId": "a001f6c2-dcd7-4c0e-9348-558da231f331"
   },
   "outputs": [
    {
     "name": "stdout",
     "output_type": "stream",
     "text": [
      "(1184672,)\n",
      "(1184672,)\n",
      "(1184672,)\n"
     ]
    }
   ],
   "source": [
    "print(y_train_wb_ohe_ftrl.shape)\n",
    "print(y_train_wb_ohe_fm_ftrl.shape)\n",
    "print(y_train_wb_ohe_50k_and_preds.shape)"
   ]
  },
  {
   "cell_type": "code",
   "execution_count": 0,
   "metadata": {
    "colab": {
     "base_uri": "https://localhost:8080/",
     "height": 33
    },
    "colab_type": "code",
    "id": "fXSe1ed2pqQg",
    "outputId": "c20a4c9d-6c7e-4ac0-f5d6-8e581f744cbe"
   },
   "outputs": [
    {
     "data": {
      "text/plain": [
       "(1184672, 1)"
      ]
     },
     "execution_count": 26,
     "metadata": {
      "tags": []
     },
     "output_type": "execute_result"
    }
   ],
   "source": [
    "y_train_wb_ohe_ftrl.reshape(y_train_wb_ohe_ftrl.shape[0],-1).shape"
   ]
  },
  {
   "cell_type": "code",
   "execution_count": 0,
   "metadata": {
    "colab": {},
    "colab_type": "code",
    "id": "GBJ-p_2Np7vT"
   },
   "outputs": [],
   "source": [
    "y_train_ftrl_fm_frtl_lgbm = np.hstack((y_train_wb_ohe_ftrl.reshape(y_train_wb_ohe_ftrl.shape[0],-1),\n",
    "                                      y_train_wb_ohe_fm_ftrl.reshape(y_train_wb_ohe_ftrl.shape[0],-1),\n",
    "                                      y_train_wb_ohe_50k_and_preds.reshape(y_train_wb_ohe_ftrl.shape[0],-1)))\n",
    "\n",
    "y_test_ftrl_fm_frtl_lgbm = np.hstack((y_test_wb_ohe_ftrl.reshape(y_test_wb_ohe_ftrl.shape[0],-1),\n",
    "                                      y_test_wb_ohe_fm_ftrl.reshape(y_test_wb_ohe_ftrl.shape[0],-1),\n",
    "                                      y_test_wb_ohe_50k_and_preds.reshape(y_test_wb_ohe_ftrl.shape[0],-1)))"
   ]
  },
  {
   "cell_type": "code",
   "execution_count": 0,
   "metadata": {
    "colab": {},
    "colab_type": "code",
    "id": "0_UEtvt2uCUC"
   },
   "outputs": [],
   "source": [
    "y_train_fm_frtl_lgbm = np.hstack((y_train_wb_ohe_fm_ftrl.reshape(y_train_wb_ohe_ftrl.shape[0],-1),\n",
    "                                  y_train_wb_ohe_50k_and_preds.reshape(y_train_wb_ohe_ftrl.shape[0],-1)))\n",
    "\n",
    "y_test_fm_frtl_lgbm = np.hstack((y_test_wb_ohe_fm_ftrl.reshape(y_test_wb_ohe_ftrl.shape[0],-1),\n",
    "                                      y_test_wb_ohe_50k_and_preds.reshape(y_test_wb_ohe_ftrl.shape[0],-1)))"
   ]
  },
  {
   "cell_type": "code",
   "execution_count": 0,
   "metadata": {
    "colab": {
     "base_uri": "https://localhost:8080/",
     "height": 33
    },
    "colab_type": "code",
    "id": "-dim666JuL0J",
    "outputId": "3d61d0f5-bed0-4e6d-9dd2-a222e63ee0da"
   },
   "outputs": [
    {
     "name": "stdout",
     "output_type": "stream",
     "text": [
      "The rmse of prediction is: 0.5034666634455569\n"
     ]
    }
   ],
   "source": [
    "model_fm_frtl_lgbm = Ridge(alpha=10, max_iter=100)\n",
    "model_fm_frtl_lgbm.fit(y_train_fm_frtl_lgbm, y_train)\n",
    "y_test_final = model_fm_frtl_lgbm.predict(y_test_fm_frtl_lgbm)\n",
    "print('The rmse of prediction is:', mean_squared_error(y_test, y_test_final) ** 0.5)"
   ]
  },
  {
   "cell_type": "code",
   "execution_count": 0,
   "metadata": {
    "colab": {
     "base_uri": "https://localhost:8080/",
     "height": 33
    },
    "colab_type": "code",
    "id": "VkPLrlq_oYRm",
    "outputId": "0c14ea1d-f609-4a2c-908c-b515d20dfb2c"
   },
   "outputs": [
    {
     "name": "stdout",
     "output_type": "stream",
     "text": [
      "The rmse of prediction is: 0.5130937957030122\n"
     ]
    }
   ],
   "source": [
    "model_frtrl_fm_frtl_lgbm = Ridge(alpha=7, max_iter=100)\n",
    "model_frtrl_fm_frtl_lgbm.fit(y_train_ftrl_fm_frtl_lgbm, y_train)\n",
    "y_test_final = model_frtrl_fm_frtl_lgbm.predict(y_test_ftrl_fm_frtl_lgbm)\n",
    "print('The rmse of prediction is:', mean_squared_error(y_test, y_test_final) ** 0.5)"
   ]
  },
  {
   "cell_type": "code",
   "execution_count": 0,
   "metadata": {
    "colab": {},
    "colab_type": "code",
    "id": "W79i8S7CsJSc"
   },
   "outputs": [],
   "source": [
    "from sklearn.svm import SVR\n",
    "#svr_rbf = SVR(kernel='rbf', C=100, gamma=0.1, epsilon=.1)\n",
    "svr_lin = SVR(kernel='linear', C=100, gamma='auto')\n",
    "#svr_poly = SVR(kernel='poly', C=100, gamma='auto', degree=3, epsilon=.1,\n",
    " #              coef0=1)\n",
    "#y_rbf = svr_rbf.fit(y_train_ftrl_fm_frtl_lgbm, y_train).predict(y_test_ftrl_fm_frtl_lgbm)\n",
    "y_lin = svr_lin.fit(y_train_ftrl_fm_frtl_lgbm, y_train).predict(y_test_ftrl_fm_frtl_lgbm)\n",
    "#y_poly = svr_poly.fit(y_train_ftrl_fm_frtl_lgbm, y_train).predict(y_test_ftrl_fm_frtl_lgbm)\n",
    "\n",
    "\n",
    "#print('The rmse of prediction is:', mean_squared_error(y_test, y_rbf) ** 0.5)\n",
    "print('The rmse of prediction is:', mean_squared_error(y_test, y_lin) ** 0.5)\n",
    "#print('The rmse of prediction is:', mean_squared_error(y_test, y_poly) ** 0.5)"
   ]
  },
  {
   "cell_type": "code",
   "execution_count": 0,
   "metadata": {
    "colab": {
     "base_uri": "https://localhost:8080/",
     "height": 33
    },
    "colab_type": "code",
    "id": "loQhw0JCrfvn",
    "outputId": "d13f8471-1988-46ae-9db6-45b6e1dbc820"
   },
   "outputs": [
    {
     "name": "stdout",
     "output_type": "stream",
     "text": [
      "The rmse of prediction is: 0.5000186144312139\n"
     ]
    }
   ],
   "source": [
    "y_test_final = y_test_wb_ohe_ftrl * 0.1  + y_test_wb_ohe_fm_ftrl * 0.5 + y_test_wb_ohe_50k_and_preds * 0.4\n",
    "\n",
    "print('The rmse of prediction is:', mean_squared_error(y_test, y_test_final) ** 0.5)"
   ]
  },
  {
   "cell_type": "code",
   "execution_count": 0,
   "metadata": {
    "colab": {
     "base_uri": "https://localhost:8080/",
     "height": 435
    },
    "colab_type": "code",
    "id": "TtVmu2fvjimM",
    "outputId": "6f832176-14c9-45d4-9d5e-f06c07a43fc2"
   },
   "outputs": [
    {
     "name": "stdout",
     "output_type": "stream",
     "text": [
      "[1]\tvalid_0's rmse: 0.517326\n",
      "Training until validation scores don't improve for 20 rounds.\n",
      "[2]\tvalid_0's rmse: 0.527273\n",
      "[3]\tvalid_0's rmse: 0.534359\n",
      "[4]\tvalid_0's rmse: 0.535027\n",
      "[5]\tvalid_0's rmse: 0.537251\n",
      "[6]\tvalid_0's rmse: 0.538184\n",
      "[7]\tvalid_0's rmse: 0.539456\n",
      "[8]\tvalid_0's rmse: 0.540836\n",
      "[9]\tvalid_0's rmse: 0.541111\n",
      "[10]\tvalid_0's rmse: 0.540832\n",
      "[11]\tvalid_0's rmse: 0.54172\n",
      "[12]\tvalid_0's rmse: 0.542518\n",
      "[13]\tvalid_0's rmse: 0.542526\n",
      "[14]\tvalid_0's rmse: 0.543404\n",
      "[15]\tvalid_0's rmse: 0.543692\n",
      "[16]\tvalid_0's rmse: 0.544959\n",
      "[17]\tvalid_0's rmse: 0.544528\n",
      "[18]\tvalid_0's rmse: 0.545257\n",
      "[19]\tvalid_0's rmse: 0.545801\n",
      "[20]\tvalid_0's rmse: 0.546413\n",
      "[21]\tvalid_0's rmse: 0.546657\n",
      "Early stopping, best iteration is:\n",
      "[1]\tvalid_0's rmse: 0.517326\n",
      "The rmse of prediction is: 0.5173255487020154\n"
     ]
    }
   ],
   "source": [
    "lgb_train = lgb.Dataset(y_train_ftrl_fm_frtl_lgbm, y_train)\n",
    "lgb_eval = lgb.Dataset(y_test_ftrl_fm_frtl_lgbm, y_test, reference=lgb_train)\n",
    "\n",
    "params = {\n",
    "    'boosting_type': 'gbdt',\n",
    "    'objective': 'regression',\n",
    "    'metric': 'RMSE',\n",
    "    'max_depth' : 20,\n",
    "    'num_leaves': 120,\n",
    "    'learning_rate': 1,\n",
    "    'n_jobs' : -1,\n",
    "    'verbose': 0\n",
    "}\n",
    "gbm = lgb.train(params,\n",
    "                lgb_train,\n",
    "                num_boost_round=50,\n",
    "                valid_sets=lgb_eval,\n",
    "                early_stopping_rounds=20\n",
    "                )\n",
    "\n",
    "y_test_final = gbm.predict(y_test_ftrl_fm_frtl_lgbm, num_iterations=gbm.best_iteration)\n",
    "\n",
    "print('The rmse of prediction is:', mean_squared_error(y_test, y_test_final) ** 0.5)"
   ]
  },
  {
   "cell_type": "code",
   "execution_count": 0,
   "metadata": {
    "colab": {
     "base_uri": "https://localhost:8080/",
     "height": 435
    },
    "colab_type": "code",
    "id": "juyKBM3KuobL",
    "outputId": "f30b33f3-d0d4-4f5e-82a0-049424d35a89"
   },
   "outputs": [
    {
     "name": "stdout",
     "output_type": "stream",
     "text": [
      "[1]\tvalid_0's rmse: 0.515567\n",
      "Training until validation scores don't improve for 20 rounds.\n",
      "[2]\tvalid_0's rmse: 0.524671\n",
      "[3]\tvalid_0's rmse: 0.525789\n",
      "[4]\tvalid_0's rmse: 0.527827\n",
      "[5]\tvalid_0's rmse: 0.53105\n",
      "[6]\tvalid_0's rmse: 0.531469\n",
      "[7]\tvalid_0's rmse: 0.531661\n",
      "[8]\tvalid_0's rmse: 0.531587\n",
      "[9]\tvalid_0's rmse: 0.53116\n",
      "[10]\tvalid_0's rmse: 0.53135\n",
      "[11]\tvalid_0's rmse: 0.5322\n",
      "[12]\tvalid_0's rmse: 0.532759\n",
      "[13]\tvalid_0's rmse: 0.532962\n",
      "[14]\tvalid_0's rmse: 0.53217\n",
      "[15]\tvalid_0's rmse: 0.532347\n",
      "[16]\tvalid_0's rmse: 0.532718\n",
      "[17]\tvalid_0's rmse: 0.532951\n",
      "[18]\tvalid_0's rmse: 0.532648\n",
      "[19]\tvalid_0's rmse: 0.533325\n",
      "[20]\tvalid_0's rmse: 0.534367\n",
      "[21]\tvalid_0's rmse: 0.534514\n",
      "Early stopping, best iteration is:\n",
      "[1]\tvalid_0's rmse: 0.515567\n",
      "The rmse of prediction is: 0.5155668238503941\n"
     ]
    }
   ],
   "source": [
    "lgb_train = lgb.Dataset(y_train_fm_frtl_lgbm, y_train)\n",
    "lgb_eval = lgb.Dataset(y_test_fm_frtl_lgbm, y_test, reference=lgb_train)\n",
    "\n",
    "params = {\n",
    "    'boosting_type': 'gbdt',\n",
    "    'objective': 'regression',\n",
    "    'metric': 'RMSE',\n",
    "    'max_depth' : 20,\n",
    "    'num_leaves': 120,\n",
    "    'learning_rate': 1,\n",
    "    'n_jobs' : -1,\n",
    "    'verbose': 0\n",
    "}\n",
    "gbm = lgb.train(params,\n",
    "                lgb_train,\n",
    "                num_boost_round=50,\n",
    "                valid_sets=lgb_eval,\n",
    "                early_stopping_rounds=20\n",
    "                )\n",
    "\n",
    "y_test_final = gbm.predict(y_test_fm_frtl_lgbm, num_iterations=gbm.best_iteration)\n",
    "\n",
    "print('The rmse of prediction is:', mean_squared_error(y_test, y_test_final) ** 0.5)"
   ]
  },
  {
   "cell_type": "code",
   "execution_count": 0,
   "metadata": {
    "colab": {},
    "colab_type": "code",
    "id": "58S2TcXEmZP9"
   },
   "outputs": [],
   "source": []
  },
  {
   "cell_type": "code",
   "execution_count": 0,
   "metadata": {
    "colab": {},
    "colab_type": "code",
    "id": "xC6Gz5oq9vUi"
   },
   "outputs": [],
   "source": [
    "from __future__ import print_function, division, absolute_import\n",
    "from sklearn.preprocessing import LabelEncoder, OneHotEncoder\n",
    "from sklearn.base import TransformerMixin, BaseEstimator\n",
    "from sklearn.utils.validation import check_is_fitted\n",
    "from sklearn.utils import column_or_1d\n",
    "#from sklearn.preprocessing.label import _check_numpy_unicode_bug\n",
    "import numpy as np\n",
    "import pandas as pd\n",
    "#from skutil.base import BaseSkutil\n",
    "#from skutil.utils import validate_is_pd\n",
    "\n",
    "__all__ = [\n",
    "    'SafeLabelEncoder',\n",
    "    'OneHotCategoricalEncoder'\n",
    "]\n",
    "\n",
    "\n",
    "def _get_unseen():\n",
    "    \"\"\"Basically just a static method\n",
    "    instead of a class attribute to avoid\n",
    "    someone accidentally changing it.\"\"\"\n",
    "    return 99999\n",
    "\n",
    "\n",
    "class SafeLabelEncoder(LabelEncoder):\n",
    "    \"\"\"An extension of LabelEncoder that will\n",
    "    not throw an exception for unseen data, but will\n",
    "    instead return a default value of 99999\n",
    "\n",
    "    Attributes\n",
    "    ----------\n",
    "\n",
    "    classes_ : the classes that are encoded\n",
    "    \"\"\"\n",
    "\n",
    "    def transform(self, y):\n",
    "        \"\"\"Perform encoding if already fit.\n",
    "\n",
    "        Parameters\n",
    "        ----------\n",
    "\n",
    "        y : array_like, shape=(n_samples,)\n",
    "            The array to encode\n",
    "\n",
    "        Returns\n",
    "        -------\n",
    "\n",
    "        e : array_like, shape=(n_samples,)\n",
    "            The encoded array\n",
    "        \"\"\"\n",
    "        check_is_fitted(self, 'classes_')\n",
    "        y = column_or_1d(y, warn=True)\n",
    "\n",
    "        classes = np.unique(y)\n",
    "        #_check_numpy_unicode_bug(classes)\n",
    "\n",
    "        # Check not too many:\n",
    "        unseen = _get_unseen()\n",
    "        if len(classes) >= unseen:\n",
    "            raise ValueError('Too many factor levels in feature. Max is %i' % unseen)\n",
    "\n",
    "        e = np.array([\n",
    "                         np.searchsorted(self.classes_, x) if x in self.classes_ else unseen\n",
    "                         for x in y\n",
    "                         ])\n",
    "\n",
    "        return e"
   ]
  }
 ],
 "metadata": {
  "colab": {
   "collapsed_sections": [
    "ESrRE1muQ8E2",
    "5zrxqkLR-FuM",
    "S_7EcyLDncXf"
   ],
   "name": "MerCari_Final.ipynb",
   "provenance": [],
   "version": "0.3.2"
  },
  "kernelspec": {
   "display_name": "Python 3",
   "language": "python",
   "name": "python3"
  },
  "language_info": {
   "codemirror_mode": {
    "name": "ipython",
    "version": 3
   },
   "file_extension": ".py",
   "mimetype": "text/x-python",
   "name": "python",
   "nbconvert_exporter": "python",
   "pygments_lexer": "ipython3",
   "version": "3.6.5"
  }
 },
 "nbformat": 4,
 "nbformat_minor": 1
}
