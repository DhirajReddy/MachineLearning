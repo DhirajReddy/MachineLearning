{
 "cells": [
  {
   "cell_type": "code",
   "execution_count": 152,
   "metadata": {},
   "outputs": [],
   "source": [
    "%matplotlib inline\n",
    "import warnings\n",
    "warnings.filterwarnings(\"ignore\")\n",
    "\n",
    "import sqlite3\n",
    "import numpy as np\n",
    "import pandas as pd\n",
    "import nltk\n",
    "import matplotlib.pyplot as plt\n",
    "import string\n",
    "import seaborn as sns\n",
    "from sklearn.metrics import confusion_matrix\n",
    "from sklearn.feature_extraction.text import TfidfVectorizer\n",
    "from sklearn.feature_extraction.text import TfidfTransformer\n",
    "from sklearn.feature_extraction.text import CountVectorizer\n",
    "from sklearn.decomposition import TruncatedSVD\n",
    "from sklearn.preprocessing import StandardScaler\n",
    "\n",
    "import re\n",
    "from nltk.corpus import stopwords\n",
    "from nltk.stem import PorterStemmer\n",
    "from nltk.stem.wordnet import WordNetLemmatizer\n",
    "from gensim.models import keyedvectors"
   ]
  },
  {
   "cell_type": "markdown",
   "metadata": {},
   "source": [
    "# Connect to database"
   ]
  },
  {
   "cell_type": "code",
   "execution_count": 3,
   "metadata": {},
   "outputs": [
    {
     "data": {
      "text/html": [
       "<div>\n",
       "<style scoped>\n",
       "    .dataframe tbody tr th:only-of-type {\n",
       "        vertical-align: middle;\n",
       "    }\n",
       "\n",
       "    .dataframe tbody tr th {\n",
       "        vertical-align: top;\n",
       "    }\n",
       "\n",
       "    .dataframe thead th {\n",
       "        text-align: right;\n",
       "    }\n",
       "</style>\n",
       "<table border=\"1\" class=\"dataframe\">\n",
       "  <thead>\n",
       "    <tr style=\"text-align: right;\">\n",
       "      <th></th>\n",
       "      <th>Id</th>\n",
       "      <th>ProductId</th>\n",
       "      <th>UserId</th>\n",
       "      <th>ProfileName</th>\n",
       "      <th>HelpfulnessNumerator</th>\n",
       "      <th>HelpfulnessDenominator</th>\n",
       "      <th>Score</th>\n",
       "      <th>Time</th>\n",
       "      <th>Summary</th>\n",
       "      <th>Text</th>\n",
       "    </tr>\n",
       "  </thead>\n",
       "  <tbody>\n",
       "    <tr>\n",
       "      <th>0</th>\n",
       "      <td>1</td>\n",
       "      <td>B001E4KFG0</td>\n",
       "      <td>A3SGXH7AUHU8GW</td>\n",
       "      <td>delmartian</td>\n",
       "      <td>1</td>\n",
       "      <td>1</td>\n",
       "      <td>5</td>\n",
       "      <td>1303862400</td>\n",
       "      <td>Good Quality Dog Food</td>\n",
       "      <td>I have bought several of the Vitality canned d...</td>\n",
       "    </tr>\n",
       "    <tr>\n",
       "      <th>1</th>\n",
       "      <td>2</td>\n",
       "      <td>B00813GRG4</td>\n",
       "      <td>A1D87F6ZCVE5NK</td>\n",
       "      <td>dll pa</td>\n",
       "      <td>0</td>\n",
       "      <td>0</td>\n",
       "      <td>1</td>\n",
       "      <td>1346976000</td>\n",
       "      <td>Not as Advertised</td>\n",
       "      <td>Product arrived labeled as Jumbo Salted Peanut...</td>\n",
       "    </tr>\n",
       "    <tr>\n",
       "      <th>2</th>\n",
       "      <td>3</td>\n",
       "      <td>B000LQOCH0</td>\n",
       "      <td>ABXLMWJIXXAIN</td>\n",
       "      <td>Natalia Corres \"Natalia Corres\"</td>\n",
       "      <td>1</td>\n",
       "      <td>1</td>\n",
       "      <td>4</td>\n",
       "      <td>1219017600</td>\n",
       "      <td>\"Delight\" says it all</td>\n",
       "      <td>This is a confection that has been around a fe...</td>\n",
       "    </tr>\n",
       "    <tr>\n",
       "      <th>3</th>\n",
       "      <td>4</td>\n",
       "      <td>B000UA0QIQ</td>\n",
       "      <td>A395BORC6FGVXV</td>\n",
       "      <td>Karl</td>\n",
       "      <td>3</td>\n",
       "      <td>3</td>\n",
       "      <td>2</td>\n",
       "      <td>1307923200</td>\n",
       "      <td>Cough Medicine</td>\n",
       "      <td>If you are looking for the secret ingredient i...</td>\n",
       "    </tr>\n",
       "    <tr>\n",
       "      <th>4</th>\n",
       "      <td>5</td>\n",
       "      <td>B006K2ZZ7K</td>\n",
       "      <td>A1UQRSCLF8GW1T</td>\n",
       "      <td>Michael D. Bigham \"M. Wassir\"</td>\n",
       "      <td>0</td>\n",
       "      <td>0</td>\n",
       "      <td>5</td>\n",
       "      <td>1350777600</td>\n",
       "      <td>Great taffy</td>\n",
       "      <td>Great taffy at a great price.  There was a wid...</td>\n",
       "    </tr>\n",
       "  </tbody>\n",
       "</table>\n",
       "</div>"
      ],
      "text/plain": [
       "   Id   ProductId          UserId                      ProfileName  \\\n",
       "0   1  B001E4KFG0  A3SGXH7AUHU8GW                       delmartian   \n",
       "1   2  B00813GRG4  A1D87F6ZCVE5NK                           dll pa   \n",
       "2   3  B000LQOCH0   ABXLMWJIXXAIN  Natalia Corres \"Natalia Corres\"   \n",
       "3   4  B000UA0QIQ  A395BORC6FGVXV                             Karl   \n",
       "4   5  B006K2ZZ7K  A1UQRSCLF8GW1T    Michael D. Bigham \"M. Wassir\"   \n",
       "\n",
       "   HelpfulnessNumerator  HelpfulnessDenominator  Score        Time  \\\n",
       "0                     1                       1      5  1303862400   \n",
       "1                     0                       0      1  1346976000   \n",
       "2                     1                       1      4  1219017600   \n",
       "3                     3                       3      2  1307923200   \n",
       "4                     0                       0      5  1350777600   \n",
       "\n",
       "                 Summary                                               Text  \n",
       "0  Good Quality Dog Food  I have bought several of the Vitality canned d...  \n",
       "1      Not as Advertised  Product arrived labeled as Jumbo Salted Peanut...  \n",
       "2  \"Delight\" says it all  This is a confection that has been around a fe...  \n",
       "3         Cough Medicine  If you are looking for the secret ingredient i...  \n",
       "4            Great taffy  Great taffy at a great price.  There was a wid...  "
      ]
     },
     "execution_count": 3,
     "metadata": {},
     "output_type": "execute_result"
    }
   ],
   "source": [
    "#Load database\n",
    "conn = sqlite3.connect('amazon_food_reviews.sqlite')\n",
    "\n",
    "original_data = pd.read_sql_query(\"\"\"SELECT * FROM Reviews WHERE Score!=3\"\"\", conn)\n",
    "\n",
    "original_data.head()"
   ]
  },
  {
   "cell_type": "markdown",
   "metadata": {},
   "source": [
    "## Data preprocessing"
   ]
  },
  {
   "cell_type": "code",
   "execution_count": 4,
   "metadata": {},
   "outputs": [
    {
     "name": "stdout",
     "output_type": "stream",
     "text": [
      "Size after droping duplicates 5258140\n",
      "Size before droping duplicates 3641730\n"
     ]
    }
   ],
   "source": [
    "# Replace number rating with positive and negative strings\n",
    "print(f'Size after droping duplicates {original_data.size}')\n",
    "original_data = original_data.drop_duplicates({\"UserId\", \"ProfileName\", \"Time\", \"Text\"})\n",
    "\n",
    "original_data[\"Score\"] = original_data[\"Score\"].map(lambda x: \"positive\" if x > 3 else \"negative\")\n",
    "print(f'Size before droping duplicates {original_data.size}')"
   ]
  },
  {
   "cell_type": "code",
   "execution_count": 5,
   "metadata": {},
   "outputs": [
    {
     "name": "stdout",
     "output_type": "stream",
     "text": [
      "Size after droping Helpfulness denominator greater than Numerator 3641710\n"
     ]
    }
   ],
   "source": [
    "original_data = original_data[original_data.HelpfulnessDenominator >= original_data.HelpfulnessNumerator]\n",
    "print(f'Size after droping Helpfulness denominator greater than Numerator {original_data.size}')"
   ]
  },
  {
   "cell_type": "code",
   "execution_count": 6,
   "metadata": {},
   "outputs": [
    {
     "data": {
      "text/plain": [
       "positive    307061\n",
       "negative     57110\n",
       "Name: Score, dtype: int64"
      ]
     },
     "execution_count": 6,
     "metadata": {},
     "output_type": "execute_result"
    }
   ],
   "source": [
    "#Number of positive and negative reviews\n",
    "original_data[\"Score\"].value_counts()\n"
   ]
  },
  {
   "cell_type": "raw",
   "metadata": {},
   "source": [
    "The data is imbalanced"
   ]
  },
  {
   "cell_type": "markdown",
   "metadata": {},
   "source": [
    "#### We are concerned only about the Reviews and the score column so extract those in to a new variable"
   ]
  },
  {
   "cell_type": "code",
   "execution_count": 7,
   "metadata": {},
   "outputs": [
    {
     "name": "stdout",
     "output_type": "stream",
     "text": [
      "(60000, 3)\n",
      "Time     False\n",
      "Score    False\n",
      "Text     False\n",
      "dtype: bool\n",
      "              Time     Score  \\\n",
      "212458   948240000  negative   \n",
      "1146     961718400  positive   \n",
      "1145     962236800  positive   \n",
      "212454   997228800  negative   \n",
      "212457  1040947200  negative   \n",
      "\n",
      "                                                     Text  \n",
      "212458  I, myself always enjoyed this movie, it's very...  \n",
      "1146    This was a really good idea and the final prod...  \n",
      "1145    I just received my shipment and could hardly w...  \n",
      "212454  I am continually amazed at the shoddy treatmen...  \n",
      "212457  Just to let you know, this movie is one of my ...  \n",
      "              Time     Score  \\\n",
      "200230  1351209600  negative   \n",
      "129898  1351209600  negative   \n",
      "106015  1351209600  negative   \n",
      "7451    1351209600  negative   \n",
      "14300   1351209600  positive   \n",
      "\n",
      "                                                     Text  \n",
      "200230  I had high expectations of these seeds, but I ...  \n",
      "129898  The coffee is excellent and I am a repeat buye...  \n",
      "106015  Quite personally, I didn't like it.  For me, i...  \n",
      "7451    I just called Bob's Red Mill customer service ...  \n",
      "14300   Love this faucet.  My husband had installed th...  \n"
     ]
    }
   ],
   "source": [
    "filtered_data = original_data.loc[:,[\"Time\",\"Score\",\"Text\"]]\n",
    "\n",
    "np_random_perm = np.random.permutation(30000)\n",
    "\n",
    "filtered_data = filtered_data[filtered_data.Score == \"positive\"].iloc[np_random_perm, :]. \\\n",
    "                    append(filtered_data[filtered_data.Score == \"negative\"].iloc[np_random_perm, :])\n",
    "\n",
    "filtered_data = filtered_data.sort_values(by=['Time'])\n",
    "\n",
    "print(filtered_data.shape)\n",
    "print(filtered_data.isnull().any())\n",
    "print(filtered_data.head())\n",
    "print(filtered_data.tail())"
   ]
  },
  {
   "cell_type": "markdown",
   "metadata": {},
   "source": [
    "## Text preprocessing : Remove Html Tags, Punctuations, alphanumerics and stop words. \n",
    "\n",
    "1. Obtain stem words for the remaining words and run algorithm using the data\n",
    "2. Obtain lemma for each word and run algorithm using the data"
   ]
  },
  {
   "cell_type": "code",
   "execution_count": 8,
   "metadata": {},
   "outputs": [],
   "source": [
    "# Code copied from the description python note book\n",
    "\n",
    "stop = set(stopwords.words('english')) #set of stopwords\n",
    "sno = nltk.stem.SnowballStemmer('english') #initialising the snowball stemmer\n",
    "\n",
    "def cleanhtml(sentence): #function to clean the word of any html-tags\n",
    "    cleanr = re.compile('<.*?>')\n",
    "    cleantext = re.sub(cleanr, ' ', sentence)\n",
    "    return cleantext\n",
    "def cleanpunc(sentence): #function to clean the word of any punctuation or special characters\n",
    "    cleaned = re.sub(r'[?|!|\\'|\"|#]',r'',sentence)\n",
    "    cleaned = re.sub(r'[.|,|)|(|\\|/|-]',r' ',cleaned)\n",
    "    return  cleaned"
   ]
  },
  {
   "cell_type": "markdown",
   "metadata": {},
   "source": [
    "#### Clean the reviews"
   ]
  },
  {
   "cell_type": "code",
   "execution_count": 9,
   "metadata": {},
   "outputs": [
    {
     "name": "stdout",
     "output_type": "stream",
     "text": [
      "[b'alway enjoy movi funni entertain didnt hesit pick clamshel edit guess market plan make movi famili someth elimin strong profan element usual edit televis version warn want uncut version avoid clamshel edit', b'realli good idea final product outstand use decal car window everybodi ask bought decal made two thumb', b'receiv shipment could hard wait tri product love &quot;slickers&quot; call instead sticker remov easili daughter design sign print revers use car window print beauti print shop program go lot fun product window everywher surfac like screen comput monitor', b'continu amaz shoddi treatment movi get dvd releas dvd simpli disgrac especi consid great movi give movi stars; wonder exampl tim burton energi style dvd extra worth mention delet scene featurett even lousi commentari track make even wors film cut theatric releas never seen dvd releas get less origin present theater advic save money somebodi figur movi releas dvd need live capabl medium alway provid materi origin releas less', b'let know movi one person favorit ghost movi said feel need tell detail terribl dvd packag fine noth great work pictur sound qualiti good make good cinemat experi howev menu complet trash extra extrem embarass play movi actual click scene select click first chapter play button what problem recal film afi top 100 funniest movi ever made dont think could make better dvd garbag sick tire movi compani get away sell trash doubl side disk good pick format want first time watch stick side whole time switch time side get scratch person think fullscreen idiot think theyr get whole pictur theyr peopl put actual thought make dvds slap crap togeth think fine fine clean act']\n"
     ]
    }
   ],
   "source": [
    "processed_reviews=[]\n",
    "\n",
    "for (index, review) in enumerate(filtered_data[\"Text\"].values):\n",
    "    processedReviewWords = []\n",
    "    cleanedReview = cleanpunc(cleanhtml(review))\n",
    "    for word in cleanedReview.split():\n",
    "        word_in_lowercase = word.lower()\n",
    "        if(word_in_lowercase.isalpha and \\\n",
    "           (word_in_lowercase not in stop) and \\\n",
    "           len(word_in_lowercase)>2):\n",
    "            processedReviewWords.append(sno.stem(word_in_lowercase).encode('utf8'))\n",
    "    processed_reviews.append(b\" \".join(processedReviewWords))\n",
    "    \n",
    "print(processed_reviews[:5])"
   ]
  },
  {
   "cell_type": "markdown",
   "metadata": {},
   "source": [
    "#### Append the cleaned text to the table with the normal text"
   ]
  },
  {
   "cell_type": "code",
   "execution_count": 10,
   "metadata": {
    "scrolled": true
   },
   "outputs": [
    {
     "data": {
      "text/html": [
       "<div>\n",
       "<style scoped>\n",
       "    .dataframe tbody tr th:only-of-type {\n",
       "        vertical-align: middle;\n",
       "    }\n",
       "\n",
       "    .dataframe tbody tr th {\n",
       "        vertical-align: top;\n",
       "    }\n",
       "\n",
       "    .dataframe thead th {\n",
       "        text-align: right;\n",
       "    }\n",
       "</style>\n",
       "<table border=\"1\" class=\"dataframe\">\n",
       "  <thead>\n",
       "    <tr style=\"text-align: right;\">\n",
       "      <th></th>\n",
       "      <th>Time</th>\n",
       "      <th>Score</th>\n",
       "      <th>Text</th>\n",
       "      <th>CleanedText</th>\n",
       "    </tr>\n",
       "  </thead>\n",
       "  <tbody>\n",
       "    <tr>\n",
       "      <th>212458</th>\n",
       "      <td>948240000</td>\n",
       "      <td>negative</td>\n",
       "      <td>I, myself always enjoyed this movie, it's very...</td>\n",
       "      <td>alway enjoy movi funni entertain didnt hesit p...</td>\n",
       "    </tr>\n",
       "    <tr>\n",
       "      <th>1146</th>\n",
       "      <td>961718400</td>\n",
       "      <td>positive</td>\n",
       "      <td>This was a really good idea and the final prod...</td>\n",
       "      <td>realli good idea final product outstand use de...</td>\n",
       "    </tr>\n",
       "    <tr>\n",
       "      <th>1145</th>\n",
       "      <td>962236800</td>\n",
       "      <td>positive</td>\n",
       "      <td>I just received my shipment and could hardly w...</td>\n",
       "      <td>receiv shipment could hard wait tri product lo...</td>\n",
       "    </tr>\n",
       "    <tr>\n",
       "      <th>212454</th>\n",
       "      <td>997228800</td>\n",
       "      <td>negative</td>\n",
       "      <td>I am continually amazed at the shoddy treatmen...</td>\n",
       "      <td>continu amaz shoddi treatment movi get dvd rel...</td>\n",
       "    </tr>\n",
       "    <tr>\n",
       "      <th>212457</th>\n",
       "      <td>1040947200</td>\n",
       "      <td>negative</td>\n",
       "      <td>Just to let you know, this movie is one of my ...</td>\n",
       "      <td>let know movi one person favorit ghost movi sa...</td>\n",
       "    </tr>\n",
       "  </tbody>\n",
       "</table>\n",
       "</div>"
      ],
      "text/plain": [
       "              Time     Score  \\\n",
       "212458   948240000  negative   \n",
       "1146     961718400  positive   \n",
       "1145     962236800  positive   \n",
       "212454   997228800  negative   \n",
       "212457  1040947200  negative   \n",
       "\n",
       "                                                     Text  \\\n",
       "212458  I, myself always enjoyed this movie, it's very...   \n",
       "1146    This was a really good idea and the final prod...   \n",
       "1145    I just received my shipment and could hardly w...   \n",
       "212454  I am continually amazed at the shoddy treatmen...   \n",
       "212457  Just to let you know, this movie is one of my ...   \n",
       "\n",
       "                                              CleanedText  \n",
       "212458  alway enjoy movi funni entertain didnt hesit p...  \n",
       "1146    realli good idea final product outstand use de...  \n",
       "1145    receiv shipment could hard wait tri product lo...  \n",
       "212454  continu amaz shoddi treatment movi get dvd rel...  \n",
       "212457  let know movi one person favorit ghost movi sa...  "
      ]
     },
     "execution_count": 10,
     "metadata": {},
     "output_type": "execute_result"
    }
   ],
   "source": [
    "filtered_data[\"CleanedText\"] = processed_reviews\n",
    "filtered_data[\"CleanedText\"] = filtered_data[\"CleanedText\"].str.decode(\"utf-8\")\n",
    "filtered_data.head()"
   ]
  },
  {
   "cell_type": "markdown",
   "metadata": {},
   "source": [
    "#### Import libraries for Clasification"
   ]
  },
  {
   "cell_type": "code",
   "execution_count": 154,
   "metadata": {
    "scrolled": false
   },
   "outputs": [],
   "source": [
    "from sklearn.metrics import accuracy_score\n",
    "from sklearn.cross_validation import cross_val_score\n",
    "from collections import Counter\n",
    "from sklearn.metrics import accuracy_score\n",
    "from sklearn import cross_validation"
   ]
  },
  {
   "cell_type": "code",
   "execution_count": 155,
   "metadata": {},
   "outputs": [],
   "source": [
    "from sklearn.naive_bayes import MultinomialNB\n",
    "from sklearn.metrics import f1_score\n",
    "from sklearn.metrics import precision_score\n",
    "from sklearn.metrics import recall_score"
   ]
  },
  {
   "cell_type": "code",
   "execution_count": 157,
   "metadata": {},
   "outputs": [],
   "source": [
    "from sklearn.preprocessing import label_binarize\n",
    "encoded_column_vector = label_binarize(filtered_data['Score'], classes=['negative','positive']) # ham will be 0 and spam will be 1\n",
    "encoded_labels = np.ravel(encoded_column_vector) # Reshape array"
   ]
  },
  {
   "cell_type": "markdown",
   "metadata": {},
   "source": [
    "## Split data in to train and test"
   ]
  },
  {
   "cell_type": "code",
   "execution_count": 158,
   "metadata": {},
   "outputs": [],
   "source": [
    "X_train, X_test, Y_train, Y_test = cross_validation.train_test_split(filtered_data[\"CleanedText\"], encoded_labels,\\\n",
    "                                                                     test_size=0.3, random_state=0)"
   ]
  },
  {
   "cell_type": "markdown",
   "metadata": {},
   "source": [
    "## Common Functions definitions"
   ]
  },
  {
   "cell_type": "code",
   "execution_count": 192,
   "metadata": {},
   "outputs": [],
   "source": [
    "def ColumnStandardization(train_data, test_data):\n",
    "    \"\"\" Column standardization to get unit variance.\n",
    "    with_mean is set to false so that it works for sparse matrix\n",
    "    \"\"\"\n",
    "    standardizer = StandardScaler(with_mean=False)\n",
    "    std_train_data = standardizer.fit_transform(train_data)\n",
    "    std_test_data = standardizer.transform(test_data)\n",
    "    return (std_train_data, std_test_data)"
   ]
  },
  {
   "cell_type": "code",
   "execution_count": 193,
   "metadata": {},
   "outputs": [],
   "source": [
    "def NaiveBayesClassifierForOptimalAplha(train_features, train_class, test_features, test_class):\n",
    "    \"\"\"\n",
    "    1. Calculates Optimal Alpha value\n",
    "    2. Plots cross validation erros v/s the alpha values\n",
    "    3. Plots confusion matrix for the predictions\n",
    "    \"\"\"\n",
    "    \n",
    "    alphas = [0.001, 0.01, 0.1, 1, 10, 100, 1000]\n",
    "\n",
    "    cv_scores = []\n",
    "    for alpha in alphas:\n",
    "        nb = MultinomialNB(alpha = alpha)\n",
    "        scores = cross_val_score(nb, train_features, train_class, cv=10, scoring='accuracy')\n",
    "        cv_scores.append(scores.mean())\n",
    "        \n",
    "    cv_scores = list(cv_scores)\n",
    "    optimal_alpha = alphas[cv_scores.index(max(cv_scores))]\n",
    "\n",
    "    print(f'Optimal Alpha {optimal_alpha}')\n",
    "    \n",
    "    # changing to misclassification error\n",
    "    MSE = [1 - x for x in cv_scores]\n",
    "\n",
    "    # plot misclassification error vs alpha\n",
    "    plt.plot(alphas, MSE)\n",
    "\n",
    "    for xy in zip(alphas, np.round(MSE,3)):\n",
    "        plt.annotate('(%s, %s)' % xy, xy=xy, textcoords='data')\n",
    "\n",
    "    plt.xlabel('Alpha')\n",
    "    plt.ylabel('Misclassification Error')\n",
    "    plt.show()\n",
    "\n",
    "    print(\"the misclassification error for each Alpha value is : \", np.round(MSE,3))\n",
    "    \n",
    "    # Run prediction for optimal value of K\n",
    "    alpha_optimal_NB = MultinomialNB(optimal_alpha)\n",
    "        \n",
    "    alpha_optimal_NB.fit(train_features, train_class)\n",
    "\n",
    "    predictions = alpha_optimal_NB.predict(test_features)\n",
    "\n",
    "    acc = accuracy_score(test_class, predictions) * float(100)\n",
    "    f1 = f1_score(test_class, predictions) * float(100)\n",
    "    precision = precision_score(test_class, predictions) * float(100)\n",
    "    recall = recall_score(test_class, predictions) * float(100)\n",
    "    \n",
    "    algorithm = \"Multinomial Naive Bayes\"\n",
    "    \n",
    "    print(f'Accuracy using {algorithm} method {acc}') \n",
    "    print(f'F1 Score using {algorithm} method {f1}') \n",
    "    print(f'Precision using {algorithm} method {precision}') \n",
    "    print(f'Recall using {algorithm} method {recall}') \n",
    "    \n",
    "    df_cm = pd.DataFrame(data=confusion_matrix(test_class, predictions),index=range(2),columns= ['Negative','Positive'])\n",
    "    sns.set(font_scale=1.4)#for label size\n",
    "    sns.heatmap(df_cm, annot=True,annot_kws={\"size\": 16}, fmt='g')\n",
    "    \n",
    "    return nb"
   ]
  },
  {
   "cell_type": "markdown",
   "metadata": {},
   "source": [
    "### Bag Of Words"
   ]
  },
  {
   "cell_type": "code",
   "execution_count": 195,
   "metadata": {
    "scrolled": true
   },
   "outputs": [
    {
     "name": "stdout",
     "output_type": "stream",
     "text": [
      "<class 'scipy.sparse.csr.csr_matrix'>\n",
      "Shape of final_bigrams : (42000, 69090)\n"
     ]
    }
   ],
   "source": [
    "count_vectorizer = CountVectorizer(ngram_range=(1,3), min_df=5)\n",
    "\n",
    "#fit and transform train data\n",
    "bow_X_tr = count_vectorizer.fit_transform(X_train)\n",
    "\n",
    "# transform test data, note that i am not fitting the vectorizer just transforming the test data\n",
    "bow_X_test = count_vectorizer.transform(X_test)\n",
    "\n",
    "(bow_X_tr, bow_X_test) = ColumnStandardization(bow_X_tr, bow_X_test)\n",
    "\n",
    "print(type(bow_X_tr))\n",
    "print(f\"Shape of final_bigrams : {bow_X_tr.get_shape()}\")"
   ]
  },
  {
   "cell_type": "markdown",
   "metadata": {},
   "source": [
    "#### Run Classifier"
   ]
  },
  {
   "cell_type": "code",
   "execution_count": 196,
   "metadata": {
    "scrolled": true
   },
   "outputs": [
    {
     "name": "stdout",
     "output_type": "stream",
     "text": [
      "Optimal Alpha 1000\n"
     ]
    },
    {
     "data": {
      "image/png": "[encoded data removed]",
      "text/plain": [
       "<Figure size 432x288 with 1 Axes>"
      ]
     },
     "metadata": {},
     "output_type": "display_data"
    },
    {
     "name": "stdout",
     "output_type": "stream",
     "text": [
      "the misclassification error for each Alpha value is :  [0.174 0.171 0.167 0.16  0.149 0.136 0.12 ]\n",
      "Accuracy using Multinomial Naive Bayes method 88.10555555555555\n",
      "F1 Score using Multinomial Naive Bayes method 87.93190913702723\n",
      "Precision using Multinomial Naive Bayes method 88.50561670259843\n",
      "Recall using Multinomial Naive Bayes method 87.36559139784946\n"
     ]
    },
    {
     "data": {
      "image/png": "[encoded data removed]",
      "text/plain": [
       "<Figure size 432x288 with 2 Axes>"
      ]
     },
     "metadata": {},
     "output_type": "display_data"
    }
   ],
   "source": [
    "multinomialClassifier = NaiveBayesClassifierForOptimalAplha(train_features = bow_X_tr, train_class = Y_train, \\\n",
    "                                     test_features = bow_X_test, test_class = Y_test)"
   ]
  },
  {
   "cell_type": "markdown",
   "metadata": {},
   "source": [
    "### Feature Importance"
   ]
  },
  {
   "cell_type": "code",
   "execution_count": 197,
   "metadata": {},
   "outputs": [],
   "source": [
    "def GetImportantFeatures(classifier, vectorizer, input_features, input_class_labels):\n",
    "    classifier.fit(input_features, input_class_labels)\n",
    "    feature_names = np.array(vectorizer.get_feature_names())\n",
    "    \n",
    "    feature_names = np.vstack((feature_names, classifier.feature_log_prob_)).T\n",
    "    \n",
    "    df_negative = pd.DataFrame(data=feature_names[:,[0,1]], columns=['Features', 'Probabilities'])\n",
    "    df_positive = pd.DataFrame(data=feature_names[:,[0,2]], columns=['Features', 'Probabilities'])\n",
    "    \n",
    "    df_negative.sort_values(by=['Probabilities'], ascending=False, inplace=True)\n",
    "    df_positive.sort_values(by=['Probabilities'], ascending=False, inplace=True)\n",
    "    return (df_negative, df_positive)"
   ]
  },
  {
   "cell_type": "markdown",
   "metadata": {},
   "source": [
    "### Top 20 Words contributing to the Negative reviews"
   ]
  },
  {
   "cell_type": "code",
   "execution_count": 198,
   "metadata": {
    "scrolled": true
   },
   "outputs": [],
   "source": [
    "(negative_features, positive_features) = GetImportantFeatures(multinomialClassifier, count_vectorizer, bow_X_tr, Y_train)"
   ]
  },
  {
   "cell_type": "code",
   "execution_count": 199,
   "metadata": {},
   "outputs": [
    {
     "data": {
      "text/html": [
       "<div>\n",
       "<style scoped>\n",
       "    .dataframe tbody tr th:only-of-type {\n",
       "        vertical-align: middle;\n",
       "    }\n",
       "\n",
       "    .dataframe tbody tr th {\n",
       "        vertical-align: top;\n",
       "    }\n",
       "\n",
       "    .dataframe thead th {\n",
       "        text-align: right;\n",
       "    }\n",
       "</style>\n",
       "<table border=\"1\" class=\"dataframe\">\n",
       "  <thead>\n",
       "    <tr style=\"text-align: right;\">\n",
       "      <th></th>\n",
       "      <th>Features</th>\n",
       "      <th>Probabilities</th>\n",
       "    </tr>\n",
       "  </thead>\n",
       "  <tbody>\n",
       "    <tr>\n",
       "      <th>44140</th>\n",
       "      <td>part</td>\n",
       "      <td>-9.999934079568273</td>\n",
       "    </tr>\n",
       "    <tr>\n",
       "      <th>37427</th>\n",
       "      <td>manufactur</td>\n",
       "      <td>-9.999699738367545</td>\n",
       "    </tr>\n",
       "    <tr>\n",
       "      <th>60201</th>\n",
       "      <td>tell</td>\n",
       "      <td>-9.999534212802978</td>\n",
       "    </tr>\n",
       "    <tr>\n",
       "      <th>38649</th>\n",
       "      <td>mistak</td>\n",
       "      <td>-9.997642808593895</td>\n",
       "    </tr>\n",
       "    <tr>\n",
       "      <th>53591</th>\n",
       "      <td>show</td>\n",
       "      <td>-9.992719615099176</td>\n",
       "    </tr>\n",
       "    <tr>\n",
       "      <th>12794</th>\n",
       "      <td>contact</td>\n",
       "      <td>-9.989699942031123</td>\n",
       "    </tr>\n",
       "    <tr>\n",
       "      <th>52013</th>\n",
       "      <td>saw</td>\n",
       "      <td>-9.989510202652585</td>\n",
       "    </tr>\n",
       "    <tr>\n",
       "      <th>49151</th>\n",
       "      <td>realiz</td>\n",
       "      <td>-9.989242161703269</td>\n",
       "    </tr>\n",
       "    <tr>\n",
       "      <th>40580</th>\n",
       "      <td>next</td>\n",
       "      <td>-9.987612687254492</td>\n",
       "    </tr>\n",
       "    <tr>\n",
       "      <th>44849</th>\n",
       "      <td>perhap</td>\n",
       "      <td>-9.984816220803003</td>\n",
       "    </tr>\n",
       "    <tr>\n",
       "      <th>4763</th>\n",
       "      <td>base</td>\n",
       "      <td>-9.984638081056685</td>\n",
       "    </tr>\n",
       "    <tr>\n",
       "      <th>27968</th>\n",
       "      <td>groceri</td>\n",
       "      <td>-9.983888194711971</td>\n",
       "    </tr>\n",
       "    <tr>\n",
       "      <th>32668</th>\n",
       "      <td>lack</td>\n",
       "      <td>-9.983639844291918</td>\n",
       "    </tr>\n",
       "    <tr>\n",
       "      <th>62239</th>\n",
       "      <td>top</td>\n",
       "      <td>-9.982290308525762</td>\n",
       "    </tr>\n",
       "    <tr>\n",
       "      <th>24879</th>\n",
       "      <td>full</td>\n",
       "      <td>-9.981600692919557</td>\n",
       "    </tr>\n",
       "    <tr>\n",
       "      <th>39787</th>\n",
       "      <td>must</td>\n",
       "      <td>-9.979839474795956</td>\n",
       "    </tr>\n",
       "    <tr>\n",
       "      <th>50518</th>\n",
       "      <td>result</td>\n",
       "      <td>-9.978799147029157</td>\n",
       "    </tr>\n",
       "    <tr>\n",
       "      <th>37492</th>\n",
       "      <td>market</td>\n",
       "      <td>-9.977277054411008</td>\n",
       "    </tr>\n",
       "    <tr>\n",
       "      <th>28419</th>\n",
       "      <td>happen</td>\n",
       "      <td>-9.977127702060859</td>\n",
       "    </tr>\n",
       "    <tr>\n",
       "      <th>5726</th>\n",
       "      <td>bewar</td>\n",
       "      <td>-9.974222012011342</td>\n",
       "    </tr>\n",
       "  </tbody>\n",
       "</table>\n",
       "</div>"
      ],
      "text/plain": [
       "         Features       Probabilities\n",
       "44140        part  -9.999934079568273\n",
       "37427  manufactur  -9.999699738367545\n",
       "60201        tell  -9.999534212802978\n",
       "38649      mistak  -9.997642808593895\n",
       "53591        show  -9.992719615099176\n",
       "12794     contact  -9.989699942031123\n",
       "52013         saw  -9.989510202652585\n",
       "49151      realiz  -9.989242161703269\n",
       "40580        next  -9.987612687254492\n",
       "44849      perhap  -9.984816220803003\n",
       "4763         base  -9.984638081056685\n",
       "27968     groceri  -9.983888194711971\n",
       "32668        lack  -9.983639844291918\n",
       "62239         top  -9.982290308525762\n",
       "24879        full  -9.981600692919557\n",
       "39787        must  -9.979839474795956\n",
       "50518      result  -9.978799147029157\n",
       "37492      market  -9.977277054411008\n",
       "28419      happen  -9.977127702060859\n",
       "5726        bewar  -9.974222012011342"
      ]
     },
     "execution_count": 199,
     "metadata": {},
     "output_type": "execute_result"
    }
   ],
   "source": [
    "negative_features.head(20)"
   ]
  },
  {
   "cell_type": "markdown",
   "metadata": {},
   "source": [
    "### Top 20 words contributing to Positive reviews"
   ]
  },
  {
   "cell_type": "code",
   "execution_count": 200,
   "metadata": {},
   "outputs": [
    {
     "data": {
      "text/html": [
       "<div>\n",
       "<style scoped>\n",
       "    .dataframe tbody tr th:only-of-type {\n",
       "        vertical-align: middle;\n",
       "    }\n",
       "\n",
       "    .dataframe tbody tr th {\n",
       "        vertical-align: top;\n",
       "    }\n",
       "\n",
       "    .dataframe thead th {\n",
       "        text-align: right;\n",
       "    }\n",
       "</style>\n",
       "<table border=\"1\" class=\"dataframe\">\n",
       "  <thead>\n",
       "    <tr style=\"text-align: right;\">\n",
       "      <th></th>\n",
       "      <th>Features</th>\n",
       "      <th>Probabilities</th>\n",
       "    </tr>\n",
       "  </thead>\n",
       "  <tbody>\n",
       "    <tr>\n",
       "      <th>35064</th>\n",
       "      <td>live</td>\n",
       "      <td>-9.99848363863428</td>\n",
       "    </tr>\n",
       "    <tr>\n",
       "      <th>66403</th>\n",
       "      <td>week</td>\n",
       "      <td>-9.998443383102554</td>\n",
       "    </tr>\n",
       "    <tr>\n",
       "      <th>13772</th>\n",
       "      <td>coupl</td>\n",
       "      <td>-9.997220432835284</td>\n",
       "    </tr>\n",
       "    <tr>\n",
       "      <th>30210</th>\n",
       "      <td>ice</td>\n",
       "      <td>-9.996491965225047</td>\n",
       "    </tr>\n",
       "    <tr>\n",
       "      <th>1866</th>\n",
       "      <td>altern</td>\n",
       "      <td>-9.995454678217834</td>\n",
       "    </tr>\n",
       "    <tr>\n",
       "      <th>38515</th>\n",
       "      <td>minut</td>\n",
       "      <td>-9.993136405021954</td>\n",
       "    </tr>\n",
       "    <tr>\n",
       "      <th>18394</th>\n",
       "      <td>easili</td>\n",
       "      <td>-9.991714496210122</td>\n",
       "    </tr>\n",
       "    <tr>\n",
       "      <th>7600</th>\n",
       "      <td>breakfast</td>\n",
       "      <td>-9.99093437305366</td>\n",
       "    </tr>\n",
       "    <tr>\n",
       "      <th>68812</th>\n",
       "      <td>yet</td>\n",
       "      <td>-9.990530118678631</td>\n",
       "    </tr>\n",
       "    <tr>\n",
       "      <th>26117</th>\n",
       "      <td>gluten</td>\n",
       "      <td>-9.986644135574881</td>\n",
       "    </tr>\n",
       "    <tr>\n",
       "      <th>58858</th>\n",
       "      <td>tast good</td>\n",
       "      <td>-9.986412418229943</td>\n",
       "    </tr>\n",
       "    <tr>\n",
       "      <th>41434</th>\n",
       "      <td>often</td>\n",
       "      <td>-9.980942096366883</td>\n",
       "    </tr>\n",
       "    <tr>\n",
       "      <th>1436</th>\n",
       "      <td>almost</td>\n",
       "      <td>-9.979203246783044</td>\n",
       "    </tr>\n",
       "    <tr>\n",
       "      <th>60527</th>\n",
       "      <td>that</td>\n",
       "      <td>-9.978306864366134</td>\n",
       "    </tr>\n",
       "    <tr>\n",
       "      <th>12479</th>\n",
       "      <td>compar</td>\n",
       "      <td>-9.978055379638459</td>\n",
       "    </tr>\n",
       "    <tr>\n",
       "      <th>62239</th>\n",
       "      <td>top</td>\n",
       "      <td>-9.978004284074185</td>\n",
       "    </tr>\n",
       "    <tr>\n",
       "      <th>15950</th>\n",
       "      <td>diet</td>\n",
       "      <td>-9.97549329330838</td>\n",
       "    </tr>\n",
       "    <tr>\n",
       "      <th>65897</th>\n",
       "      <td>water</td>\n",
       "      <td>-9.975352912431115</td>\n",
       "    </tr>\n",
       "    <tr>\n",
       "      <th>44705</th>\n",
       "      <td>per</td>\n",
       "      <td>-9.974718162342693</td>\n",
       "    </tr>\n",
       "    <tr>\n",
       "      <th>45585</th>\n",
       "      <td>plus</td>\n",
       "      <td>-9.97026417968403</td>\n",
       "    </tr>\n",
       "  </tbody>\n",
       "</table>\n",
       "</div>"
      ],
      "text/plain": [
       "        Features       Probabilities\n",
       "35064       live   -9.99848363863428\n",
       "66403       week  -9.998443383102554\n",
       "13772      coupl  -9.997220432835284\n",
       "30210        ice  -9.996491965225047\n",
       "1866      altern  -9.995454678217834\n",
       "38515      minut  -9.993136405021954\n",
       "18394     easili  -9.991714496210122\n",
       "7600   breakfast   -9.99093437305366\n",
       "68812        yet  -9.990530118678631\n",
       "26117     gluten  -9.986644135574881\n",
       "58858  tast good  -9.986412418229943\n",
       "41434      often  -9.980942096366883\n",
       "1436      almost  -9.979203246783044\n",
       "60527       that  -9.978306864366134\n",
       "12479     compar  -9.978055379638459\n",
       "62239        top  -9.978004284074185\n",
       "15950       diet   -9.97549329330838\n",
       "65897      water  -9.975352912431115\n",
       "44705        per  -9.974718162342693\n",
       "45585       plus   -9.97026417968403"
      ]
     },
     "execution_count": 200,
     "metadata": {},
     "output_type": "execute_result"
    }
   ],
   "source": [
    "positive_features.head(20)"
   ]
  },
  {
   "cell_type": "markdown",
   "metadata": {},
   "source": [
    "### TFIDF"
   ]
  },
  {
   "cell_type": "code",
   "execution_count": 201,
   "metadata": {
    "scrolled": false
   },
   "outputs": [
    {
     "name": "stdout",
     "output_type": "stream",
     "text": [
      "<class 'scipy.sparse.csr.csr_matrix'>\n",
      "Shape of final_bigrams : (42000, 60455)\n"
     ]
    }
   ],
   "source": [
    "tfidf_vectorizer = TfidfVectorizer(ngram_range=(1,2), min_df=5)\n",
    "tfidf_X_tr = tfidf_vectorizer.fit_transform(X_train)\n",
    "tfidf_X_test = tfidf_vectorizer.transform(X_test)\n",
    "(tfidf_X_tr, tfidf_X_test) = ColumnStandardization(tfidf_X_tr, tfidf_X_test)\n",
    "print(type(tfidf_X_tr))\n",
    "print(f\"Shape of final_bigrams : {tfidf_X_tr.get_shape()}\")"
   ]
  },
  {
   "cell_type": "code",
   "execution_count": 202,
   "metadata": {},
   "outputs": [
    {
     "name": "stdout",
     "output_type": "stream",
     "text": [
      "Optimal Alpha 1000\n"
     ]
    },
    {
     "data": {
      "image/png": "[encoded data removed]",
      "text/plain": [
       "<Figure size 432x288 with 1 Axes>"
      ]
     },
     "metadata": {},
     "output_type": "display_data"
    },
    {
     "name": "stdout",
     "output_type": "stream",
     "text": [
      "the misclassification error for each Alpha value is :  [0.183 0.18  0.175 0.167 0.154 0.138 0.119]\n",
      "Accuracy using Multinomial Naive Bayes method 87.67222222222222\n",
      "F1 Score using Multinomial Naive Bayes method 87.49224959134209\n",
      "Precision using Multinomial Naive Bayes method 88.06308861908543\n",
      "Recall using Multinomial Naive Bayes method 86.92876344086021\n"
     ]
    },
    {
     "data": {
      "image/png": "[encoded data removed]",
      "text/plain": [
       "<Figure size 432x288 with 2 Axes>"
      ]
     },
     "metadata": {},
     "output_type": "display_data"
    }
   ],
   "source": [
    "multinomialClassifier = NaiveBayesClassifierForOptimalAplha(train_features = tfidf_X_tr, train_class = Y_train, \\\n",
    "                                     test_features = tfidf_X_test, test_class = Y_test)\n"
   ]
  },
  {
   "cell_type": "code",
   "execution_count": 203,
   "metadata": {},
   "outputs": [],
   "source": [
    "(negative_features_tfidf, positive_features_tfidf) = GetImportantFeatures(multinomialClassifier, tfidf_vectorizer, \\\n",
    "                                                                        tfidf_X_tr, Y_train)"
   ]
  },
  {
   "cell_type": "code",
   "execution_count": 204,
   "metadata": {},
   "outputs": [
    {
     "data": {
      "text/html": [
       "<div>\n",
       "<style scoped>\n",
       "    .dataframe tbody tr th:only-of-type {\n",
       "        vertical-align: middle;\n",
       "    }\n",
       "\n",
       "    .dataframe tbody tr th {\n",
       "        vertical-align: top;\n",
       "    }\n",
       "\n",
       "    .dataframe thead th {\n",
       "        text-align: right;\n",
       "    }\n",
       "</style>\n",
       "<table border=\"1\" class=\"dataframe\">\n",
       "  <thead>\n",
       "    <tr style=\"text-align: right;\">\n",
       "      <th></th>\n",
       "      <th>Features</th>\n",
       "      <th>Probabilities</th>\n",
       "    </tr>\n",
       "  </thead>\n",
       "  <tbody>\n",
       "    <tr>\n",
       "      <th>47073</th>\n",
       "      <td>similar</td>\n",
       "      <td>-9.999699077025802</td>\n",
       "    </tr>\n",
       "    <tr>\n",
       "      <th>45464</th>\n",
       "      <td>save money</td>\n",
       "      <td>-9.996288774272339</td>\n",
       "    </tr>\n",
       "    <tr>\n",
       "      <th>54390</th>\n",
       "      <td>told</td>\n",
       "      <td>-9.994931398334591</td>\n",
       "    </tr>\n",
       "    <tr>\n",
       "      <th>34749</th>\n",
       "      <td>name</td>\n",
       "      <td>-9.994218874395958</td>\n",
       "    </tr>\n",
       "    <tr>\n",
       "      <th>60376</th>\n",
       "      <td>yuck</td>\n",
       "      <td>-9.993878524746128</td>\n",
       "    </tr>\n",
       "    <tr>\n",
       "      <th>5554</th>\n",
       "      <td>black</td>\n",
       "      <td>-9.993270253859814</td>\n",
       "    </tr>\n",
       "    <tr>\n",
       "      <th>49902</th>\n",
       "      <td>strang</td>\n",
       "      <td>-9.992117352615569</td>\n",
       "    </tr>\n",
       "    <tr>\n",
       "      <th>26794</th>\n",
       "      <td>inform</td>\n",
       "      <td>-9.989538501778</td>\n",
       "    </tr>\n",
       "    <tr>\n",
       "      <th>22052</th>\n",
       "      <td>garbag</td>\n",
       "      <td>-9.9892514824452</td>\n",
       "    </tr>\n",
       "    <tr>\n",
       "      <th>56150</th>\n",
       "      <td>unpleas</td>\n",
       "      <td>-9.987810442412306</td>\n",
       "    </tr>\n",
       "    <tr>\n",
       "      <th>9369</th>\n",
       "      <td>chicken</td>\n",
       "      <td>-9.987737833994503</td>\n",
       "    </tr>\n",
       "    <tr>\n",
       "      <th>51719</th>\n",
       "      <td>tast good</td>\n",
       "      <td>-9.987497870878686</td>\n",
       "    </tr>\n",
       "    <tr>\n",
       "      <th>39189</th>\n",
       "      <td>person</td>\n",
       "      <td>-9.987399594857028</td>\n",
       "    </tr>\n",
       "    <tr>\n",
       "      <th>18928</th>\n",
       "      <td>feed</td>\n",
       "      <td>-9.986009599295402</td>\n",
       "    </tr>\n",
       "    <tr>\n",
       "      <th>13678</th>\n",
       "      <td>definit</td>\n",
       "      <td>-9.984872543811713</td>\n",
       "    </tr>\n",
       "    <tr>\n",
       "      <th>19049</th>\n",
       "      <td>felt</td>\n",
       "      <td>-9.984838786961022</td>\n",
       "    </tr>\n",
       "    <tr>\n",
       "      <th>11160</th>\n",
       "      <td>compar</td>\n",
       "      <td>-9.984543825728203</td>\n",
       "    </tr>\n",
       "    <tr>\n",
       "      <th>18206</th>\n",
       "      <td>expir date</td>\n",
       "      <td>-9.984140866499756</td>\n",
       "    </tr>\n",
       "    <tr>\n",
       "      <th>13142</th>\n",
       "      <td>dark</td>\n",
       "      <td>-9.983082405421094</td>\n",
       "    </tr>\n",
       "    <tr>\n",
       "      <th>12311</th>\n",
       "      <td>coupl</td>\n",
       "      <td>-9.981751524586064</td>\n",
       "    </tr>\n",
       "  </tbody>\n",
       "</table>\n",
       "</div>"
      ],
      "text/plain": [
       "         Features       Probabilities\n",
       "47073     similar  -9.999699077025802\n",
       "45464  save money  -9.996288774272339\n",
       "54390        told  -9.994931398334591\n",
       "34749        name  -9.994218874395958\n",
       "60376        yuck  -9.993878524746128\n",
       "5554        black  -9.993270253859814\n",
       "49902      strang  -9.992117352615569\n",
       "26794      inform     -9.989538501778\n",
       "22052      garbag    -9.9892514824452\n",
       "56150     unpleas  -9.987810442412306\n",
       "9369      chicken  -9.987737833994503\n",
       "51719   tast good  -9.987497870878686\n",
       "39189      person  -9.987399594857028\n",
       "18928        feed  -9.986009599295402\n",
       "13678     definit  -9.984872543811713\n",
       "19049        felt  -9.984838786961022\n",
       "11160      compar  -9.984543825728203\n",
       "18206  expir date  -9.984140866499756\n",
       "13142        dark  -9.983082405421094\n",
       "12311       coupl  -9.981751524586064"
      ]
     },
     "execution_count": 204,
     "metadata": {},
     "output_type": "execute_result"
    }
   ],
   "source": [
    "negative_features_tfidf.head(20)"
   ]
  },
  {
   "cell_type": "code",
   "execution_count": 205,
   "metadata": {},
   "outputs": [
    {
     "data": {
      "text/html": [
       "<div>\n",
       "<style scoped>\n",
       "    .dataframe tbody tr th:only-of-type {\n",
       "        vertical-align: middle;\n",
       "    }\n",
       "\n",
       "    .dataframe tbody tr th {\n",
       "        vertical-align: top;\n",
       "    }\n",
       "\n",
       "    .dataframe thead th {\n",
       "        text-align: right;\n",
       "    }\n",
       "</style>\n",
       "<table border=\"1\" class=\"dataframe\">\n",
       "  <thead>\n",
       "    <tr style=\"text-align: right;\">\n",
       "      <th></th>\n",
       "      <th>Features</th>\n",
       "      <th>Probabilities</th>\n",
       "    </tr>\n",
       "  </thead>\n",
       "  <tbody>\n",
       "    <tr>\n",
       "      <th>39308</th>\n",
       "      <td>pick</td>\n",
       "      <td>-9.999676921698267</td>\n",
       "    </tr>\n",
       "    <tr>\n",
       "      <th>27240</th>\n",
       "      <td>isnt</td>\n",
       "      <td>-9.998981719865839</td>\n",
       "    </tr>\n",
       "    <tr>\n",
       "      <th>58761</th>\n",
       "      <td>white</td>\n",
       "      <td>-9.997986203664249</td>\n",
       "    </tr>\n",
       "    <tr>\n",
       "      <th>25253</th>\n",
       "      <td>healthier</td>\n",
       "      <td>-9.997859901548782</td>\n",
       "    </tr>\n",
       "    <tr>\n",
       "      <th>13070</th>\n",
       "      <td>daili</td>\n",
       "      <td>-9.99661184322489</td>\n",
       "    </tr>\n",
       "    <tr>\n",
       "      <th>49602</th>\n",
       "      <td>stock</td>\n",
       "      <td>-9.995636200673774</td>\n",
       "    </tr>\n",
       "    <tr>\n",
       "      <th>39334</th>\n",
       "      <td>picki</td>\n",
       "      <td>-9.994531823550572</td>\n",
       "    </tr>\n",
       "    <tr>\n",
       "      <th>22634</th>\n",
       "      <td>gift</td>\n",
       "      <td>-9.993638746276405</td>\n",
       "    </tr>\n",
       "    <tr>\n",
       "      <th>33239</th>\n",
       "      <td>microwav</td>\n",
       "      <td>-9.993157746761012</td>\n",
       "    </tr>\n",
       "    <tr>\n",
       "      <th>38466</th>\n",
       "      <td>pancak</td>\n",
       "      <td>-9.9919038303605</td>\n",
       "    </tr>\n",
       "    <tr>\n",
       "      <th>25090</th>\n",
       "      <td>havent</td>\n",
       "      <td>-9.989567045268188</td>\n",
       "    </tr>\n",
       "    <tr>\n",
       "      <th>53811</th>\n",
       "      <td>three</td>\n",
       "      <td>-9.98926095071282</td>\n",
       "    </tr>\n",
       "    <tr>\n",
       "      <th>37006</th>\n",
       "      <td>open</td>\n",
       "      <td>-9.987560387998643</td>\n",
       "    </tr>\n",
       "    <tr>\n",
       "      <th>38814</th>\n",
       "      <td>peanut</td>\n",
       "      <td>-9.98574783947939</td>\n",
       "    </tr>\n",
       "    <tr>\n",
       "      <th>51789</th>\n",
       "      <td>tast like</td>\n",
       "      <td>-9.985253586182159</td>\n",
       "    </tr>\n",
       "    <tr>\n",
       "      <th>47750</th>\n",
       "      <td>smaller</td>\n",
       "      <td>-9.984549820388299</td>\n",
       "    </tr>\n",
       "    <tr>\n",
       "      <th>5783</th>\n",
       "      <td>bodi</td>\n",
       "      <td>-9.984493706022777</td>\n",
       "    </tr>\n",
       "    <tr>\n",
       "      <th>28051</th>\n",
       "      <td>keurig</td>\n",
       "      <td>-9.98273614784735</td>\n",
       "    </tr>\n",
       "    <tr>\n",
       "      <th>9874</th>\n",
       "      <td>choic</td>\n",
       "      <td>-9.98207199406728</td>\n",
       "    </tr>\n",
       "    <tr>\n",
       "      <th>4565</th>\n",
       "      <td>becom</td>\n",
       "      <td>-9.981842500212254</td>\n",
       "    </tr>\n",
       "  </tbody>\n",
       "</table>\n",
       "</div>"
      ],
      "text/plain": [
       "        Features       Probabilities\n",
       "39308       pick  -9.999676921698267\n",
       "27240       isnt  -9.998981719865839\n",
       "58761      white  -9.997986203664249\n",
       "25253  healthier  -9.997859901548782\n",
       "13070      daili   -9.99661184322489\n",
       "49602      stock  -9.995636200673774\n",
       "39334      picki  -9.994531823550572\n",
       "22634       gift  -9.993638746276405\n",
       "33239   microwav  -9.993157746761012\n",
       "38466     pancak    -9.9919038303605\n",
       "25090     havent  -9.989567045268188\n",
       "53811      three   -9.98926095071282\n",
       "37006       open  -9.987560387998643\n",
       "38814     peanut   -9.98574783947939\n",
       "51789  tast like  -9.985253586182159\n",
       "47750    smaller  -9.984549820388299\n",
       "5783        bodi  -9.984493706022777\n",
       "28051     keurig   -9.98273614784735\n",
       "9874       choic   -9.98207199406728\n",
       "4565       becom  -9.981842500212254"
      ]
     },
     "execution_count": 205,
     "metadata": {},
     "output_type": "execute_result"
    }
   ],
   "source": [
    "positive_features_tfidf.head(20)"
   ]
  },
  {
   "cell_type": "markdown",
   "metadata": {},
   "source": [
    "# Summary"
   ]
  },
  {
   "cell_type": "markdown",
   "metadata": {},
   "source": [
    "1. BOW yielded highest accuracy of 88% for trigrams\n",
    "2. TFIDF yielded highest accurancy of 87% for bigrams\n",
    "3. Important features decided by TFIDF is different from BOW.\n",
    "4. Feature importance give by BOW makes more sense"
   ]
  }
 ],
 "metadata": {
  "kernelspec": {
   "display_name": "Python 3",
   "language": "python",
   "name": "python3"
  },
  "language_info": {
   "codemirror_mode": {
    "name": "ipython",
    "version": 3
   },
   "file_extension": ".py",
   "mimetype": "text/x-python",
   "name": "python",
   "nbconvert_exporter": "python",
   "pygments_lexer": "ipython3",
   "version": "3.6.5"
  }
 },
 "nbformat": 4,
 "nbformat_minor": 2
}
