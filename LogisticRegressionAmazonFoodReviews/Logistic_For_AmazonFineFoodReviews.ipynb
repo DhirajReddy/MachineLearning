{
 "cells": [
  {
   "cell_type": "code",
   "execution_count": 1,
   "metadata": {},
   "outputs": [
    {
     "name": "stderr",
     "output_type": "stream",
     "text": [
      "C:\\ProgramData\\Anaconda3\\lib\\site-packages\\gensim\\utils.py:1209: UserWarning: detected Windows; aliasing chunkize to chunkize_serial\n",
      "  warnings.warn(\"detected Windows; aliasing chunkize to chunkize_serial\")\n"
     ]
    }
   ],
   "source": [
    "%matplotlib inline\n",
    "import warnings\n",
    "warnings.filterwarnings(\"ignore\")\n",
    "\n",
    "import sqlite3\n",
    "import numpy as np\n",
    "import pandas as pd\n",
    "import nltk\n",
    "import matplotlib.pyplot as plt\n",
    "import string\n",
    "import seaborn as sns\n",
    "from sklearn.metrics import confusion_matrix\n",
    "from sklearn.feature_extraction.text import TfidfVectorizer\n",
    "from sklearn.feature_extraction.text import TfidfTransformer\n",
    "from sklearn.feature_extraction.text import CountVectorizer\n",
    "from sklearn.decomposition import TruncatedSVD\n",
    "from sklearn.preprocessing import StandardScaler\n",
    "\n",
    "import re\n",
    "from nltk.corpus import stopwords\n",
    "from nltk.stem import PorterStemmer\n",
    "from nltk.stem.wordnet import WordNetLemmatizer\n",
    "from gensim.models import keyedvectors"
   ]
  },
  {
   "cell_type": "markdown",
   "metadata": {},
   "source": [
    "# Connect to database"
   ]
  },
  {
   "cell_type": "code",
   "execution_count": null,
   "metadata": {},
   "outputs": [],
   "source": [
    "#Load database\n",
    "conn = sqlite3.connect('amazon_food_reviews.sqlite')\n",
    "\n",
    "original_data = pd.read_sql_query(\"\"\"SELECT * FROM Reviews WHERE Score!=3\"\"\", conn)\n",
    "\n",
    "original_data.head()"
   ]
  },
  {
   "cell_type": "markdown",
   "metadata": {},
   "source": [
    "## Data preprocessing"
   ]
  },
  {
   "cell_type": "code",
   "execution_count": null,
   "metadata": {},
   "outputs": [],
   "source": [
    "# Replace number rating with positive and negative strings\n",
    "print(f'Size after droping duplicates {original_data.size}')\n",
    "original_data = original_data.drop_duplicates({\"UserId\", \"ProfileName\", \"Time\", \"Text\"})\n",
    "\n",
    "original_data[\"Score\"] = original_data[\"Score\"].map(lambda x: \"positive\" if x > 3 else \"negative\")\n",
    "print(f'Size before droping duplicates {original_data.size}')"
   ]
  },
  {
   "cell_type": "code",
   "execution_count": null,
   "metadata": {},
   "outputs": [],
   "source": [
    "original_data = original_data[original_data.HelpfulnessDenominator >= original_data.HelpfulnessNumerator]\n",
    "print(f'Size after droping Helpfulness denominator greater than Numerator {original_data.size}')"
   ]
  },
  {
   "cell_type": "code",
   "execution_count": null,
   "metadata": {},
   "outputs": [],
   "source": [
    "#Number of positive and negative reviews\n",
    "original_data[\"Score\"].value_counts()\n"
   ]
  },
  {
   "cell_type": "raw",
   "metadata": {},
   "source": [
    "The data is imbalanced"
   ]
  },
  {
   "cell_type": "markdown",
   "metadata": {},
   "source": [
    "#### We are concerned only about the Reviews and the score column so extract those in to a new variable"
   ]
  },
  {
   "cell_type": "code",
   "execution_count": null,
   "metadata": {},
   "outputs": [],
   "source": [
    "filtered_data = original_data.loc[:,[\"Time\",\"Score\",\"Text\"]]\n",
    "\n",
    "np_random_perm = np.random.permutation(30000)\n",
    "\n",
    "filtered_data = filtered_data[filtered_data.Score == \"positive\"].iloc[np_random_perm, :]. \\\n",
    "                    append(filtered_data[filtered_data.Score == \"negative\"].iloc[np_random_perm, :])\n",
    "\n",
    "filtered_data = filtered_data.sort_values(by=['Time'])\n",
    "\n",
    "print(filtered_data.shape)\n",
    "print(filtered_data.isnull().any())\n",
    "print(filtered_data.head())\n",
    "print(filtered_data.tail())"
   ]
  },
  {
   "cell_type": "markdown",
   "metadata": {},
   "source": [
    "## Text preprocessing : Remove Html Tags, Punctuations, alphanumerics and stop words. \n",
    "\n",
    "1. Obtain stem words for the remaining words and run algorithm using the data\n",
    "2. Obtain lemma for each word and run algorithm using the data"
   ]
  },
  {
   "cell_type": "code",
   "execution_count": null,
   "metadata": {},
   "outputs": [],
   "source": [
    "# Code copied from the description python note book\n",
    "\n",
    "stop = set(stopwords.words('english')) #set of stopwords\n",
    "sno = nltk.stem.SnowballStemmer('english') #initialising the snowball stemmer\n",
    "\n",
    "def cleanhtml(sentence): #function to clean the word of any html-tags\n",
    "    cleanr = re.compile('<.*?>')\n",
    "    cleantext = re.sub(cleanr, ' ', sentence)\n",
    "    return cleantext\n",
    "def cleanpunc(sentence): #function to clean the word of any punctuation or special characters\n",
    "    cleaned = re.sub(r'[?|!|\\'|\"|#]',r'',sentence)\n",
    "    cleaned = re.sub(r'[.|,|)|(|\\|/|-]',r' ',cleaned)\n",
    "    return  cleaned"
   ]
  },
  {
   "cell_type": "markdown",
   "metadata": {},
   "source": [
    "#### Clean the reviews"
   ]
  },
  {
   "cell_type": "code",
   "execution_count": null,
   "metadata": {},
   "outputs": [],
   "source": [
    "processed_reviews=[]\n",
    "\n",
    "for (index, review) in enumerate(filtered_data[\"Text\"].values):\n",
    "    processedReviewWords = []\n",
    "    cleanedReview = cleanpunc(cleanhtml(review))\n",
    "    for word in cleanedReview.split():\n",
    "        word_in_lowercase = word.lower()\n",
    "        if(word_in_lowercase.isalpha and \\\n",
    "           (word_in_lowercase not in stop) and \\\n",
    "           len(word_in_lowercase)>2):\n",
    "            processedReviewWords.append(sno.stem(word_in_lowercase).encode('utf8'))\n",
    "    processed_reviews.append(b\" \".join(processedReviewWords))\n",
    "    \n",
    "print(processed_reviews[:5])"
   ]
  },
  {
   "cell_type": "markdown",
   "metadata": {},
   "source": [
    "#### Append the cleaned text to the table with the normal text"
   ]
  },
  {
   "cell_type": "code",
   "execution_count": null,
   "metadata": {
    "scrolled": true
   },
   "outputs": [],
   "source": [
    "filtered_data[\"CleanedText\"] = processed_reviews\n",
    "filtered_data[\"CleanedText\"] = filtered_data[\"CleanedText\"].str.decode(\"utf-8\")\n",
    "filtered_data.head()"
   ]
  },
  {
   "cell_type": "markdown",
   "metadata": {},
   "source": [
    "#### Import libraries for Clasification"
   ]
  },
  {
   "cell_type": "code",
   "execution_count": 2,
   "metadata": {
    "scrolled": false
   },
   "outputs": [
    {
     "name": "stderr",
     "output_type": "stream",
     "text": [
      "C:\\ProgramData\\Anaconda3\\lib\\site-packages\\sklearn\\cross_validation.py:41: DeprecationWarning: This module was deprecated in version 0.18 in favor of the model_selection module into which all the refactored classes and functions are moved. Also note that the interface of the new CV iterators are different from that of this module. This module will be removed in 0.20.\n",
      "  \"This module will be removed in 0.20.\", DeprecationWarning)\n"
     ]
    }
   ],
   "source": [
    "from sklearn.metrics import accuracy_score\n",
    "from sklearn.cross_validation import cross_val_score\n",
    "from collections import Counter\n",
    "from sklearn.metrics import accuracy_score\n",
    "from sklearn import cross_validation"
   ]
  },
  {
   "cell_type": "code",
   "execution_count": 3,
   "metadata": {},
   "outputs": [
    {
     "name": "stderr",
     "output_type": "stream",
     "text": [
      "C:\\ProgramData\\Anaconda3\\lib\\site-packages\\sklearn\\grid_search.py:42: DeprecationWarning: This module was deprecated in version 0.18 in favor of the model_selection module into which all the refactored classes and functions are moved. This module will be removed in 0.20.\n",
      "  DeprecationWarning)\n"
     ]
    }
   ],
   "source": [
    "from sklearn.grid_search import GridSearchCV\n",
    "from sklearn.linear_model import LogisticRegression\n",
    "from sklearn.metrics import f1_score\n",
    "from sklearn.metrics import precision_score\n",
    "from sklearn.metrics import recall_score\n",
    "from sklearn.metrics import roc_curve, auc"
   ]
  },
  {
   "cell_type": "code",
   "execution_count": 4,
   "metadata": {},
   "outputs": [],
   "source": [
    "conn = conn = sqlite3.connect('D:\\\\Studies\\\\AppliedAi\\\\AmazonFoodReviews\\\\Cleaned_Text.sqlite')\n",
    "\n",
    "filtered_data = pd.read_sql_query(\"\"\"SELECT * FROM Reviews\"\"\", conn)"
   ]
  },
  {
   "cell_type": "code",
   "execution_count": 5,
   "metadata": {},
   "outputs": [],
   "source": [
    "from sklearn.preprocessing import label_binarize\n",
    "encoded_column_vector = label_binarize(filtered_data['Score'], classes=['negative','positive']) \n",
    "# negative will be 0 and positive will be 1\n",
    "encoded_labels = np.ravel(encoded_column_vector) # Reshape array"
   ]
  },
  {
   "cell_type": "markdown",
   "metadata": {},
   "source": [
    "## Split data in to train and test"
   ]
  },
  {
   "cell_type": "code",
   "execution_count": 6,
   "metadata": {},
   "outputs": [],
   "source": [
    "X_train, X_test, Y_train, Y_test = cross_validation.train_test_split(filtered_data[\"CleanedText\"], encoded_labels,\\\n",
    "                                                                     test_size=0.3, random_state=0)"
   ]
  },
  {
   "cell_type": "markdown",
   "metadata": {},
   "source": [
    "## Common Functions definitions"
   ]
  },
  {
   "cell_type": "code",
   "execution_count": 7,
   "metadata": {},
   "outputs": [],
   "source": [
    "def ColumnStandardization(train_data, test_data):\n",
    "    \"\"\" Column standardization to get unit variance.\n",
    "    with_mean is set to false so that it works for sparse matrix\n",
    "    \"\"\"\n",
    "    standardizer = StandardScaler(with_mean=False)\n",
    "    std_train_data = standardizer.fit_transform(train_data)\n",
    "    std_test_data = standardizer.transform(test_data)\n",
    "    return (std_train_data, std_test_data)"
   ]
  },
  {
   "cell_type": "code",
   "execution_count": 15,
   "metadata": {},
   "outputs": [],
   "source": [
    "def LogisticRegressionClassifier(train_features, train_class, test_features, test_class, X_SearchCV, regularizations=['l2','l1']):\n",
    "    \"\"\"\n",
    "    1. Calculates C value\n",
    "    2. Plots cross validation erros v/s the alpha values\n",
    "    3. Plots confusion matrix for the predictions\n",
    "    \"\"\"\n",
    "    \n",
    "    c_values = [{'C' : [0.001, 0.01, 0.1, 1, 10, 100, 1000]}]\n",
    "\n",
    "    models = []\n",
    "    \n",
    "    for index, regulaizer in enumerate(regularizations):\n",
    "        model_tmp = X_SearchCV(LogisticRegression(penalty=regulaizer), c_values, cv=5, \\\n",
    "                                        scoring='accuracy')\n",
    "        \n",
    "        models.append(model_tmp)\n",
    "        \n",
    "        print(f'-----------------------------{regulaizer}--------------------------------------')\n",
    "        \n",
    "        model_tmp.fit(train_features, train_class)\n",
    "        print(model_tmp.best_estimator_)\n",
    "        acc = model_tmp.score(test_features, test_class) * float(100)\n",
    "\n",
    "        predictions = model_tmp.predict(test_features)\n",
    "\n",
    "        f1 = f1_score(test_class, predictions) * float(100)\n",
    "        precision = precision_score(test_class, predictions) * float(100)\n",
    "        recall = recall_score(test_class, predictions) * float(100)\n",
    "\n",
    "        print(f'Accuracy = {acc}') \n",
    "        print(f'F1 Score = {f1}') \n",
    "        print(f'Precision = {precision}') \n",
    "        print(f'Recall = {recall}') \n",
    "\n",
    "        df_cm = pd.DataFrame(data=confusion_matrix(test_class, predictions),index=range(2),columns= ['Negative','Positive'])\n",
    "\n",
    "        plt.figure(index)\n",
    "        \n",
    "        sns.set(font_scale=1.4)#for label size\n",
    "        sns.heatmap(df_cm, annot=True,annot_kws={\"size\": 16}, fmt='g')\n",
    "        \n",
    "        plt.figure(index + 1)\n",
    "        \n",
    "        fpr, tpr, thresholds = roc_curve(test_class, predictions)\n",
    "        roc_auc = auc(fpr, tpr)\n",
    "        plt.plot(fpr, tpr, color='darkorange', lw=1, label='ROC curve (area = %0.2f)' % roc_auc)\n",
    "        plt.plot([0, 1], [0, 1], color='navy', lw=1, linestyle='--')\n",
    "        plt.xlim([0.0, 1.0])\n",
    "        plt.ylim([0.0, 1.05])\n",
    "        plt.xlabel('False Positive Rate')\n",
    "        plt.ylabel('True Positive Rate')\n",
    "        plt.title('Receiver operating characteristic')\n",
    "        plt.legend(loc=\"lower right\")\n",
    "        plt.show()\n",
    "        \n",
    "        print('---------------------------------------------')\n",
    "    \n",
    "    \n",
    "        \n",
    "    return models"
   ]
  },
  {
   "cell_type": "markdown",
   "metadata": {},
   "source": [
    "### Bag Of Words"
   ]
  },
  {
   "cell_type": "code",
   "execution_count": 10,
   "metadata": {
    "scrolled": false
   },
   "outputs": [
    {
     "name": "stderr",
     "output_type": "stream",
     "text": [
      "C:\\ProgramData\\Anaconda3\\lib\\site-packages\\sklearn\\utils\\validation.py:475: DataConversionWarning: Data with input dtype int64 was converted to float64 by StandardScaler.\n",
      "  warnings.warn(msg, DataConversionWarning)\n",
      "C:\\ProgramData\\Anaconda3\\lib\\site-packages\\sklearn\\utils\\validation.py:475: DataConversionWarning: Data with input dtype int64 was converted to float64 by StandardScaler.\n",
      "  warnings.warn(msg, DataConversionWarning)\n",
      "C:\\ProgramData\\Anaconda3\\lib\\site-packages\\sklearn\\utils\\validation.py:475: DataConversionWarning: Data with input dtype int64 was converted to float64 by StandardScaler.\n",
      "  warnings.warn(msg, DataConversionWarning)\n"
     ]
    },
    {
     "name": "stdout",
     "output_type": "stream",
     "text": [
      "<class 'scipy.sparse.csr.csr_matrix'>\n",
      "Shape of final_bigrams : (42000, 69090)\n"
     ]
    }
   ],
   "source": [
    "count_vectorizer = CountVectorizer(ngram_range=(1,3), min_df=5)\n",
    "\n",
    "#fit and transform train data\n",
    "bow_X_tr = count_vectorizer.fit_transform(X_train)\n",
    "\n",
    "# transform test data, note that i am not fitting the vectorizer just transforming the test data\n",
    "bow_X_test = count_vectorizer.transform(X_test)\n",
    "\n",
    "(bow_X_tr, bow_X_test) = ColumnStandardization(bow_X_tr, bow_X_test)\n",
    "\n",
    "print(type(bow_X_tr))\n",
    "print(f\"Shape of final_bigrams : {bow_X_tr.get_shape()}\")"
   ]
  },
  {
   "cell_type": "markdown",
   "metadata": {},
   "source": [
    "#### Run Classifier"
   ]
  },
  {
   "cell_type": "code",
   "execution_count": 16,
   "metadata": {},
   "outputs": [
    {
     "name": "stdout",
     "output_type": "stream",
     "text": [
      "-----------------------------l2--------------------------------------\n",
      "LogisticRegression(C=0.001, class_weight=None, dual=False, fit_intercept=True,\n",
      "          intercept_scaling=1, max_iter=100, multi_class='ovr', n_jobs=1,\n",
      "          penalty='l2', random_state=None, solver='liblinear', tol=0.0001,\n",
      "          verbose=0, warm_start=False)\n",
      "Accuracy = 88.25\n",
      "F1 Score = 88.23496690215276\n",
      "Precision = 87.64504365123219\n",
      "Recall = 88.8328853046595\n"
     ]
    },
    {
     "data": {
      "image/png": "[encoded data removed]",
      "text/plain": [
       "<Figure size 432x288 with 2 Axes>"
      ]
     },
     "metadata": {},
     "output_type": "display_data"
    },
    {
     "data": {
      "image/png": "[encoded data removed]",
      "text/plain": [
       "<Figure size 432x288 with 1 Axes>"
      ]
     },
     "metadata": {},
     "output_type": "display_data"
    },
    {
     "name": "stdout",
     "output_type": "stream",
     "text": [
      "---------------------------------------------\n",
      "-----------------------------l1--------------------------------------\n",
      "LogisticRegression(C=0.01, class_weight=None, dual=False, fit_intercept=True,\n",
      "          intercept_scaling=1, max_iter=100, multi_class='ovr', n_jobs=1,\n",
      "          penalty='l1', random_state=None, solver='liblinear', tol=0.0001,\n",
      "          verbose=0, warm_start=False)\n",
      "Accuracy = 88.84444444444445\n",
      "F1 Score = 88.85063853414769\n",
      "Precision = 88.0973353886809\n",
      "Recall = 89.61693548387096\n"
     ]
    },
    {
     "data": {
      "image/png": "[encoded data removed]",
      "text/plain": [
       "<Figure size 432x288 with 2 Axes>"
      ]
     },
     "metadata": {},
     "output_type": "display_data"
    },
    {
     "data": {
      "image/png": "[encoded data removed]",
      "text/plain": [
       "<Figure size 432x288 with 1 Axes>"
      ]
     },
     "metadata": {},
     "output_type": "display_data"
    },
    {
     "name": "stdout",
     "output_type": "stream",
     "text": [
      "---------------------------------------------\n"
     ]
    }
   ],
   "source": [
    "models = LogisticRegressionClassifier(train_features = bow_X_tr, train_class = Y_train, \\\n",
    "                                     test_features = bow_X_test, test_class = Y_test, X_SearchCV = GridSearchCV)"
   ]
  },
  {
   "cell_type": "markdown",
   "metadata": {},
   "source": [
    "#### How accuracy changes with C for L1 regularization"
   ]
  },
  {
   "cell_type": "code",
   "execution_count": 17,
   "metadata": {},
   "outputs": [
    {
     "data": {
      "text/plain": [
       "[mean: 0.77602, std: 0.00617, params: {'C': 0.001},\n",
       " mean: 0.88250, std: 0.00174, params: {'C': 0.01},\n",
       " mean: 0.88012, std: 0.00354, params: {'C': 0.1},\n",
       " mean: 0.87688, std: 0.00276, params: {'C': 1},\n",
       " mean: 0.87240, std: 0.00386, params: {'C': 10},\n",
       " mean: 0.84148, std: 0.00269, params: {'C': 100},\n",
       " mean: 0.81826, std: 0.00551, params: {'C': 1000}]"
      ]
     },
     "execution_count": 17,
     "metadata": {},
     "output_type": "execute_result"
    }
   ],
   "source": [
    "models[1].grid_scores_"
   ]
  },
  {
   "cell_type": "markdown",
   "metadata": {},
   "source": [
    "#### How accuracy changes with C for L2 regularization"
   ]
  },
  {
   "cell_type": "code",
   "execution_count": 18,
   "metadata": {},
   "outputs": [
    {
     "data": {
      "text/plain": [
       "[mean: 0.87974, std: 0.00349, params: {'C': 0.001},\n",
       " mean: 0.87055, std: 0.00423, params: {'C': 0.01},\n",
       " mean: 0.86495, std: 0.00395, params: {'C': 0.1},\n",
       " mean: 0.85317, std: 0.00337, params: {'C': 1},\n",
       " mean: 0.81564, std: 0.00608, params: {'C': 10},\n",
       " mean: 0.79857, std: 0.00812, params: {'C': 100},\n",
       " mean: 0.79740, std: 0.00834, params: {'C': 1000}]"
      ]
     },
     "execution_count": 18,
     "metadata": {},
     "output_type": "execute_result"
    }
   ],
   "source": [
    "models[0].grid_scores_"
   ]
  },
  {
   "cell_type": "markdown",
   "metadata": {},
   "source": [
    "### Feature Importance"
   ]
  },
  {
   "cell_type": "code",
   "execution_count": 19,
   "metadata": {},
   "outputs": [],
   "source": [
    "def GetImportantFeatures(classifier, vectorizer):\n",
    "    \n",
    "    feature_names = np.array(vectorizer.get_feature_names())\n",
    "    names_coefs = np.vstack((feature_names, classifier.best_estimator_.coef_)).T\n",
    "\n",
    "    df = pd.DataFrame(data = names_coefs, columns=['features','coefs'])\n",
    "    df.sort_values(by=['coefs'],inplace=True, ascending=False)\n",
    "\n",
    "    df[['coefs']] = df[['coefs']].apply(pd.to_numeric)\n",
    "\n",
    "    df_positive = df[df.coefs > 0]\n",
    "\n",
    "    df_negative = df[df.coefs < 0]\n",
    "\n",
    "    df_positive.sort_values(by='coefs', ascending=False, inplace=True)\n",
    "    df_negative.sort_values(by='coefs', ascending=True, inplace=True)\n",
    "    \n",
    "    return (df_negative, df_positive)"
   ]
  },
  {
   "cell_type": "markdown",
   "metadata": {},
   "source": [
    "### Top 20 Words contributing to the Negative reviews for L1"
   ]
  },
  {
   "cell_type": "code",
   "execution_count": 20,
   "metadata": {
    "scrolled": true
   },
   "outputs": [],
   "source": [
    "(negative_features, positive_features) = GetImportantFeatures(models[1], count_vectorizer)"
   ]
  },
  {
   "cell_type": "code",
   "execution_count": 21,
   "metadata": {},
   "outputs": [
    {
     "data": {
      "text/html": [
       "<div>\n",
       "<style scoped>\n",
       "    .dataframe tbody tr th:only-of-type {\n",
       "        vertical-align: middle;\n",
       "    }\n",
       "\n",
       "    .dataframe tbody tr th {\n",
       "        vertical-align: top;\n",
       "    }\n",
       "\n",
       "    .dataframe thead th {\n",
       "        text-align: right;\n",
       "    }\n",
       "</style>\n",
       "<table border=\"1\" class=\"dataframe\">\n",
       "  <thead>\n",
       "    <tr style=\"text-align: right;\">\n",
       "      <th></th>\n",
       "      <th>features</th>\n",
       "      <th>coefs</th>\n",
       "    </tr>\n",
       "  </thead>\n",
       "  <tbody>\n",
       "    <tr>\n",
       "      <th>16324</th>\n",
       "      <td>disappoint</td>\n",
       "      <td>-0.471536</td>\n",
       "    </tr>\n",
       "    <tr>\n",
       "      <th>67856</th>\n",
       "      <td>worst</td>\n",
       "      <td>-0.287009</td>\n",
       "    </tr>\n",
       "    <tr>\n",
       "      <th>50574</th>\n",
       "      <td>return</td>\n",
       "      <td>-0.236834</td>\n",
       "    </tr>\n",
       "    <tr>\n",
       "      <th>60306</th>\n",
       "      <td>terribl</td>\n",
       "      <td>-0.227770</td>\n",
       "    </tr>\n",
       "    <tr>\n",
       "      <th>3530</th>\n",
       "      <td>aw</td>\n",
       "      <td>-0.214050</td>\n",
       "    </tr>\n",
       "    <tr>\n",
       "      <th>3920</th>\n",
       "      <td>bad</td>\n",
       "      <td>-0.212949</td>\n",
       "    </tr>\n",
       "    <tr>\n",
       "      <th>58578</th>\n",
       "      <td>tast</td>\n",
       "      <td>-0.195671</td>\n",
       "    </tr>\n",
       "    <tr>\n",
       "      <th>47058</th>\n",
       "      <td>product</td>\n",
       "      <td>-0.185253</td>\n",
       "    </tr>\n",
       "    <tr>\n",
       "      <th>29671</th>\n",
       "      <td>horribl</td>\n",
       "      <td>-0.179903</td>\n",
       "    </tr>\n",
       "    <tr>\n",
       "      <th>61311</th>\n",
       "      <td>thought</td>\n",
       "      <td>-0.177604</td>\n",
       "    </tr>\n",
       "    <tr>\n",
       "      <th>16492</th>\n",
       "      <td>disgust</td>\n",
       "      <td>-0.161302</td>\n",
       "    </tr>\n",
       "    <tr>\n",
       "      <th>61510</th>\n",
       "      <td>threw</td>\n",
       "      <td>-0.160734</td>\n",
       "    </tr>\n",
       "    <tr>\n",
       "      <th>55863</th>\n",
       "      <td>stale</td>\n",
       "      <td>-0.154070</td>\n",
       "    </tr>\n",
       "    <tr>\n",
       "      <th>6199</th>\n",
       "      <td>bland</td>\n",
       "      <td>-0.152729</td>\n",
       "    </tr>\n",
       "    <tr>\n",
       "      <th>63973</th>\n",
       "      <td>unfortun</td>\n",
       "      <td>-0.151503</td>\n",
       "    </tr>\n",
       "    <tr>\n",
       "      <th>38992</th>\n",
       "      <td>money</td>\n",
       "      <td>-0.148581</td>\n",
       "    </tr>\n",
       "    <tr>\n",
       "      <th>67568</th>\n",
       "      <td>wont buy</td>\n",
       "      <td>-0.147236</td>\n",
       "    </tr>\n",
       "    <tr>\n",
       "      <th>65840</th>\n",
       "      <td>wast</td>\n",
       "      <td>-0.139261</td>\n",
       "    </tr>\n",
       "    <tr>\n",
       "      <th>66325</th>\n",
       "      <td>weak</td>\n",
       "      <td>-0.138913</td>\n",
       "    </tr>\n",
       "    <tr>\n",
       "      <th>63781</th>\n",
       "      <td>two star</td>\n",
       "      <td>-0.124656</td>\n",
       "    </tr>\n",
       "  </tbody>\n",
       "</table>\n",
       "</div>"
      ],
      "text/plain": [
       "         features     coefs\n",
       "16324  disappoint -0.471536\n",
       "67856       worst -0.287009\n",
       "50574      return -0.236834\n",
       "60306     terribl -0.227770\n",
       "3530           aw -0.214050\n",
       "3920          bad -0.212949\n",
       "58578        tast -0.195671\n",
       "47058     product -0.185253\n",
       "29671     horribl -0.179903\n",
       "61311     thought -0.177604\n",
       "16492     disgust -0.161302\n",
       "61510       threw -0.160734\n",
       "55863       stale -0.154070\n",
       "6199        bland -0.152729\n",
       "63973    unfortun -0.151503\n",
       "38992       money -0.148581\n",
       "67568    wont buy -0.147236\n",
       "65840        wast -0.139261\n",
       "66325        weak -0.138913\n",
       "63781    two star -0.124656"
      ]
     },
     "execution_count": 21,
     "metadata": {},
     "output_type": "execute_result"
    }
   ],
   "source": [
    "negative_features.head(20)"
   ]
  },
  {
   "cell_type": "markdown",
   "metadata": {},
   "source": [
    "### Top 20 words contributing to Positive reviews for L1"
   ]
  },
  {
   "cell_type": "code",
   "execution_count": 22,
   "metadata": {},
   "outputs": [
    {
     "data": {
      "text/html": [
       "<div>\n",
       "<style scoped>\n",
       "    .dataframe tbody tr th:only-of-type {\n",
       "        vertical-align: middle;\n",
       "    }\n",
       "\n",
       "    .dataframe tbody tr th {\n",
       "        vertical-align: top;\n",
       "    }\n",
       "\n",
       "    .dataframe thead th {\n",
       "        text-align: right;\n",
       "    }\n",
       "</style>\n",
       "<table border=\"1\" class=\"dataframe\">\n",
       "  <thead>\n",
       "    <tr style=\"text-align: right;\">\n",
       "      <th></th>\n",
       "      <th>features</th>\n",
       "      <th>coefs</th>\n",
       "    </tr>\n",
       "  </thead>\n",
       "  <tbody>\n",
       "    <tr>\n",
       "      <th>27369</th>\n",
       "      <td>great</td>\n",
       "      <td>0.548497</td>\n",
       "    </tr>\n",
       "    <tr>\n",
       "      <th>35781</th>\n",
       "      <td>love</td>\n",
       "      <td>0.407219</td>\n",
       "    </tr>\n",
       "    <tr>\n",
       "      <th>5238</th>\n",
       "      <td>best</td>\n",
       "      <td>0.369909</td>\n",
       "    </tr>\n",
       "    <tr>\n",
       "      <th>44755</th>\n",
       "      <td>perfect</td>\n",
       "      <td>0.309361</td>\n",
       "    </tr>\n",
       "    <tr>\n",
       "      <th>15389</th>\n",
       "      <td>delici</td>\n",
       "      <td>0.294767</td>\n",
       "    </tr>\n",
       "    <tr>\n",
       "      <th>29255</th>\n",
       "      <td>high recommend</td>\n",
       "      <td>0.293310</td>\n",
       "    </tr>\n",
       "    <tr>\n",
       "      <th>26379</th>\n",
       "      <td>good</td>\n",
       "      <td>0.282630</td>\n",
       "    </tr>\n",
       "    <tr>\n",
       "      <th>20297</th>\n",
       "      <td>excel</td>\n",
       "      <td>0.241712</td>\n",
       "    </tr>\n",
       "    <tr>\n",
       "      <th>21298</th>\n",
       "      <td>favorit</td>\n",
       "      <td>0.226877</td>\n",
       "    </tr>\n",
       "    <tr>\n",
       "      <th>40624</th>\n",
       "      <td>nice</td>\n",
       "      <td>0.196684</td>\n",
       "    </tr>\n",
       "    <tr>\n",
       "      <th>2061</th>\n",
       "      <td>amaz</td>\n",
       "      <td>0.186673</td>\n",
       "    </tr>\n",
       "    <tr>\n",
       "      <th>18308</th>\n",
       "      <td>easi</td>\n",
       "      <td>0.152705</td>\n",
       "    </tr>\n",
       "    <tr>\n",
       "      <th>67468</th>\n",
       "      <td>wonder</td>\n",
       "      <td>0.137776</td>\n",
       "    </tr>\n",
       "    <tr>\n",
       "      <th>54660</th>\n",
       "      <td>smooth</td>\n",
       "      <td>0.133035</td>\n",
       "    </tr>\n",
       "    <tr>\n",
       "      <th>28442</th>\n",
       "      <td>happi</td>\n",
       "      <td>0.127816</td>\n",
       "    </tr>\n",
       "    <tr>\n",
       "      <th>996</th>\n",
       "      <td>addict</td>\n",
       "      <td>0.124775</td>\n",
       "    </tr>\n",
       "    <tr>\n",
       "      <th>3699</th>\n",
       "      <td>awesom</td>\n",
       "      <td>0.121655</td>\n",
       "    </tr>\n",
       "    <tr>\n",
       "      <th>60484</th>\n",
       "      <td>thank</td>\n",
       "      <td>0.120849</td>\n",
       "    </tr>\n",
       "    <tr>\n",
       "      <th>31925</th>\n",
       "      <td>keep</td>\n",
       "      <td>0.120548</td>\n",
       "    </tr>\n",
       "    <tr>\n",
       "      <th>19177</th>\n",
       "      <td>enjoy</td>\n",
       "      <td>0.116987</td>\n",
       "    </tr>\n",
       "  </tbody>\n",
       "</table>\n",
       "</div>"
      ],
      "text/plain": [
       "             features     coefs\n",
       "27369           great  0.548497\n",
       "35781            love  0.407219\n",
       "5238             best  0.369909\n",
       "44755         perfect  0.309361\n",
       "15389          delici  0.294767\n",
       "29255  high recommend  0.293310\n",
       "26379            good  0.282630\n",
       "20297           excel  0.241712\n",
       "21298         favorit  0.226877\n",
       "40624            nice  0.196684\n",
       "2061             amaz  0.186673\n",
       "18308            easi  0.152705\n",
       "67468          wonder  0.137776\n",
       "54660          smooth  0.133035\n",
       "28442           happi  0.127816\n",
       "996            addict  0.124775\n",
       "3699           awesom  0.121655\n",
       "60484           thank  0.120849\n",
       "31925            keep  0.120548\n",
       "19177           enjoy  0.116987"
      ]
     },
     "execution_count": 22,
     "metadata": {},
     "output_type": "execute_result"
    }
   ],
   "source": [
    "positive_features.head(20)"
   ]
  },
  {
   "cell_type": "markdown",
   "metadata": {},
   "source": [
    "### Top 20 Words contributing to the Negative reviews for L2"
   ]
  },
  {
   "cell_type": "code",
   "execution_count": 23,
   "metadata": {
    "scrolled": true
   },
   "outputs": [],
   "source": [
    "(negative_features, positive_features) = GetImportantFeatures(models[0], count_vectorizer)"
   ]
  },
  {
   "cell_type": "code",
   "execution_count": 24,
   "metadata": {},
   "outputs": [
    {
     "data": {
      "text/html": [
       "<div>\n",
       "<style scoped>\n",
       "    .dataframe tbody tr th:only-of-type {\n",
       "        vertical-align: middle;\n",
       "    }\n",
       "\n",
       "    .dataframe tbody tr th {\n",
       "        vertical-align: top;\n",
       "    }\n",
       "\n",
       "    .dataframe thead th {\n",
       "        text-align: right;\n",
       "    }\n",
       "</style>\n",
       "<table border=\"1\" class=\"dataframe\">\n",
       "  <thead>\n",
       "    <tr style=\"text-align: right;\">\n",
       "      <th></th>\n",
       "      <th>features</th>\n",
       "      <th>coefs</th>\n",
       "    </tr>\n",
       "  </thead>\n",
       "  <tbody>\n",
       "    <tr>\n",
       "      <th>16324</th>\n",
       "      <td>disappoint</td>\n",
       "      <td>-0.164680</td>\n",
       "    </tr>\n",
       "    <tr>\n",
       "      <th>60306</th>\n",
       "      <td>terribl</td>\n",
       "      <td>-0.091886</td>\n",
       "    </tr>\n",
       "    <tr>\n",
       "      <th>67856</th>\n",
       "      <td>worst</td>\n",
       "      <td>-0.084207</td>\n",
       "    </tr>\n",
       "    <tr>\n",
       "      <th>50574</th>\n",
       "      <td>return</td>\n",
       "      <td>-0.081817</td>\n",
       "    </tr>\n",
       "    <tr>\n",
       "      <th>55863</th>\n",
       "      <td>stale</td>\n",
       "      <td>-0.078914</td>\n",
       "    </tr>\n",
       "    <tr>\n",
       "      <th>3530</th>\n",
       "      <td>aw</td>\n",
       "      <td>-0.077104</td>\n",
       "    </tr>\n",
       "    <tr>\n",
       "      <th>65840</th>\n",
       "      <td>wast</td>\n",
       "      <td>-0.076581</td>\n",
       "    </tr>\n",
       "    <tr>\n",
       "      <th>38992</th>\n",
       "      <td>money</td>\n",
       "      <td>-0.073190</td>\n",
       "    </tr>\n",
       "    <tr>\n",
       "      <th>65851</th>\n",
       "      <td>wast money</td>\n",
       "      <td>-0.072754</td>\n",
       "    </tr>\n",
       "    <tr>\n",
       "      <th>29671</th>\n",
       "      <td>horribl</td>\n",
       "      <td>-0.072689</td>\n",
       "    </tr>\n",
       "    <tr>\n",
       "      <th>67568</th>\n",
       "      <td>wont buy</td>\n",
       "      <td>-0.070788</td>\n",
       "    </tr>\n",
       "    <tr>\n",
       "      <th>61510</th>\n",
       "      <td>threw</td>\n",
       "      <td>-0.069925</td>\n",
       "    </tr>\n",
       "    <tr>\n",
       "      <th>61311</th>\n",
       "      <td>thought</td>\n",
       "      <td>-0.069214</td>\n",
       "    </tr>\n",
       "    <tr>\n",
       "      <th>6199</th>\n",
       "      <td>bland</td>\n",
       "      <td>-0.069128</td>\n",
       "    </tr>\n",
       "    <tr>\n",
       "      <th>3920</th>\n",
       "      <td>bad</td>\n",
       "      <td>-0.065523</td>\n",
       "    </tr>\n",
       "    <tr>\n",
       "      <th>16492</th>\n",
       "      <td>disgust</td>\n",
       "      <td>-0.063914</td>\n",
       "    </tr>\n",
       "    <tr>\n",
       "      <th>63973</th>\n",
       "      <td>unfortun</td>\n",
       "      <td>-0.063139</td>\n",
       "    </tr>\n",
       "    <tr>\n",
       "      <th>58578</th>\n",
       "      <td>tast</td>\n",
       "      <td>-0.060050</td>\n",
       "    </tr>\n",
       "    <tr>\n",
       "      <th>28117</th>\n",
       "      <td>guess</td>\n",
       "      <td>-0.059243</td>\n",
       "    </tr>\n",
       "    <tr>\n",
       "      <th>59532</th>\n",
       "      <td>tasteless</td>\n",
       "      <td>-0.058838</td>\n",
       "    </tr>\n",
       "  </tbody>\n",
       "</table>\n",
       "</div>"
      ],
      "text/plain": [
       "         features     coefs\n",
       "16324  disappoint -0.164680\n",
       "60306     terribl -0.091886\n",
       "67856       worst -0.084207\n",
       "50574      return -0.081817\n",
       "55863       stale -0.078914\n",
       "3530           aw -0.077104\n",
       "65840        wast -0.076581\n",
       "38992       money -0.073190\n",
       "65851  wast money -0.072754\n",
       "29671     horribl -0.072689\n",
       "67568    wont buy -0.070788\n",
       "61510       threw -0.069925\n",
       "61311     thought -0.069214\n",
       "6199        bland -0.069128\n",
       "3920          bad -0.065523\n",
       "16492     disgust -0.063914\n",
       "63973    unfortun -0.063139\n",
       "58578        tast -0.060050\n",
       "28117       guess -0.059243\n",
       "59532   tasteless -0.058838"
      ]
     },
     "execution_count": 24,
     "metadata": {},
     "output_type": "execute_result"
    }
   ],
   "source": [
    "negative_features.head(20)"
   ]
  },
  {
   "cell_type": "markdown",
   "metadata": {},
   "source": [
    "### Top 20 Words contributing to the Positive reviews for L2"
   ]
  },
  {
   "cell_type": "code",
   "execution_count": 25,
   "metadata": {},
   "outputs": [
    {
     "data": {
      "text/html": [
       "<div>\n",
       "<style scoped>\n",
       "    .dataframe tbody tr th:only-of-type {\n",
       "        vertical-align: middle;\n",
       "    }\n",
       "\n",
       "    .dataframe tbody tr th {\n",
       "        vertical-align: top;\n",
       "    }\n",
       "\n",
       "    .dataframe thead th {\n",
       "        text-align: right;\n",
       "    }\n",
       "</style>\n",
       "<table border=\"1\" class=\"dataframe\">\n",
       "  <thead>\n",
       "    <tr style=\"text-align: right;\">\n",
       "      <th></th>\n",
       "      <th>features</th>\n",
       "      <th>coefs</th>\n",
       "    </tr>\n",
       "  </thead>\n",
       "  <tbody>\n",
       "    <tr>\n",
       "      <th>27369</th>\n",
       "      <td>great</td>\n",
       "      <td>0.177120</td>\n",
       "    </tr>\n",
       "    <tr>\n",
       "      <th>35781</th>\n",
       "      <td>love</td>\n",
       "      <td>0.161338</td>\n",
       "    </tr>\n",
       "    <tr>\n",
       "      <th>5238</th>\n",
       "      <td>best</td>\n",
       "      <td>0.118021</td>\n",
       "    </tr>\n",
       "    <tr>\n",
       "      <th>15389</th>\n",
       "      <td>delici</td>\n",
       "      <td>0.112549</td>\n",
       "    </tr>\n",
       "    <tr>\n",
       "      <th>44755</th>\n",
       "      <td>perfect</td>\n",
       "      <td>0.108299</td>\n",
       "    </tr>\n",
       "    <tr>\n",
       "      <th>20297</th>\n",
       "      <td>excel</td>\n",
       "      <td>0.104117</td>\n",
       "    </tr>\n",
       "    <tr>\n",
       "      <th>29255</th>\n",
       "      <td>high recommend</td>\n",
       "      <td>0.089496</td>\n",
       "    </tr>\n",
       "    <tr>\n",
       "      <th>26379</th>\n",
       "      <td>good</td>\n",
       "      <td>0.087875</td>\n",
       "    </tr>\n",
       "    <tr>\n",
       "      <th>21298</th>\n",
       "      <td>favorit</td>\n",
       "      <td>0.084770</td>\n",
       "    </tr>\n",
       "    <tr>\n",
       "      <th>40624</th>\n",
       "      <td>nice</td>\n",
       "      <td>0.077210</td>\n",
       "    </tr>\n",
       "    <tr>\n",
       "      <th>69015</th>\n",
       "      <td>yummi</td>\n",
       "      <td>0.075305</td>\n",
       "    </tr>\n",
       "    <tr>\n",
       "      <th>2061</th>\n",
       "      <td>amaz</td>\n",
       "      <td>0.072646</td>\n",
       "    </tr>\n",
       "    <tr>\n",
       "      <th>3699</th>\n",
       "      <td>awesom</td>\n",
       "      <td>0.067609</td>\n",
       "    </tr>\n",
       "    <tr>\n",
       "      <th>58903</th>\n",
       "      <td>tast great</td>\n",
       "      <td>0.067518</td>\n",
       "    </tr>\n",
       "    <tr>\n",
       "      <th>18308</th>\n",
       "      <td>easi</td>\n",
       "      <td>0.067455</td>\n",
       "    </tr>\n",
       "    <tr>\n",
       "      <th>67468</th>\n",
       "      <td>wonder</td>\n",
       "      <td>0.067346</td>\n",
       "    </tr>\n",
       "    <tr>\n",
       "      <th>996</th>\n",
       "      <td>addict</td>\n",
       "      <td>0.065517</td>\n",
       "    </tr>\n",
       "    <tr>\n",
       "      <th>60484</th>\n",
       "      <td>thank</td>\n",
       "      <td>0.065315</td>\n",
       "    </tr>\n",
       "    <tr>\n",
       "      <th>19177</th>\n",
       "      <td>enjoy</td>\n",
       "      <td>0.060221</td>\n",
       "    </tr>\n",
       "    <tr>\n",
       "      <th>59538</th>\n",
       "      <td>tasti</td>\n",
       "      <td>0.060071</td>\n",
       "    </tr>\n",
       "  </tbody>\n",
       "</table>\n",
       "</div>"
      ],
      "text/plain": [
       "             features     coefs\n",
       "27369           great  0.177120\n",
       "35781            love  0.161338\n",
       "5238             best  0.118021\n",
       "15389          delici  0.112549\n",
       "44755         perfect  0.108299\n",
       "20297           excel  0.104117\n",
       "29255  high recommend  0.089496\n",
       "26379            good  0.087875\n",
       "21298         favorit  0.084770\n",
       "40624            nice  0.077210\n",
       "69015           yummi  0.075305\n",
       "2061             amaz  0.072646\n",
       "3699           awesom  0.067609\n",
       "58903      tast great  0.067518\n",
       "18308            easi  0.067455\n",
       "67468          wonder  0.067346\n",
       "996            addict  0.065517\n",
       "60484           thank  0.065315\n",
       "19177           enjoy  0.060221\n",
       "59538           tasti  0.060071"
      ]
     },
     "execution_count": 25,
     "metadata": {},
     "output_type": "execute_result"
    }
   ],
   "source": [
    "positive_features.head(20)"
   ]
  },
  {
   "cell_type": "markdown",
   "metadata": {},
   "source": [
    "#### Change in sparsity with change in C"
   ]
  },
  {
   "cell_type": "code",
   "execution_count": 26,
   "metadata": {},
   "outputs": [
    {
     "name": "stdout",
     "output_type": "stream",
     "text": [
      "75\n"
     ]
    }
   ],
   "source": [
    "clf = LogisticRegression(C=0.001, penalty='l1');\n",
    "clf.fit(bow_X_tr, Y_train)\n",
    "print(np.count_nonzero(clf.coef_))"
   ]
  },
  {
   "cell_type": "code",
   "execution_count": 27,
   "metadata": {},
   "outputs": [
    {
     "name": "stdout",
     "output_type": "stream",
     "text": [
      "4374\n"
     ]
    }
   ],
   "source": [
    "clf = LogisticRegression(C=0.01, penalty='l1');\n",
    "clf.fit(bow_X_tr, Y_train)\n",
    "print(np.count_nonzero(clf.coef_))"
   ]
  },
  {
   "cell_type": "code",
   "execution_count": 28,
   "metadata": {},
   "outputs": [
    {
     "name": "stdout",
     "output_type": "stream",
     "text": [
      "12633\n"
     ]
    }
   ],
   "source": [
    "clf = LogisticRegression(C=0.1, penalty='l1');\n",
    "clf.fit(bow_X_tr, Y_train)\n",
    "print(np.count_nonzero(clf.coef_))"
   ]
  },
  {
   "cell_type": "markdown",
   "metadata": {},
   "source": [
    "### TFIDF"
   ]
  },
  {
   "cell_type": "code",
   "execution_count": 29,
   "metadata": {
    "scrolled": false
   },
   "outputs": [
    {
     "name": "stdout",
     "output_type": "stream",
     "text": [
      "<class 'scipy.sparse.csr.csr_matrix'>\n",
      "Shape of final_bigrams : (42000, 60455)\n"
     ]
    }
   ],
   "source": [
    "tfidf_vectorizer = TfidfVectorizer(ngram_range=(1,2), min_df=5)\n",
    "tfidf_X_tr = tfidf_vectorizer.fit_transform(X_train)\n",
    "tfidf_X_test = tfidf_vectorizer.transform(X_test)\n",
    "(tfidf_X_tr, tfidf_X_test) = ColumnStandardization(tfidf_X_tr, tfidf_X_test)\n",
    "print(type(tfidf_X_tr))\n",
    "print(f\"Shape of final_bigrams : {tfidf_X_tr.get_shape()}\")"
   ]
  },
  {
   "cell_type": "markdown",
   "metadata": {},
   "source": [
    "### Run classifier"
   ]
  },
  {
   "cell_type": "code",
   "execution_count": 31,
   "metadata": {},
   "outputs": [
    {
     "name": "stdout",
     "output_type": "stream",
     "text": [
      "-----------------------------l1--------------------------------------\n",
      "LogisticRegression(C=0.01, class_weight=None, dual=False, fit_intercept=True,\n",
      "          intercept_scaling=1, max_iter=100, multi_class='ovr', n_jobs=1,\n",
      "          penalty='l1', random_state=None, solver='liblinear', tol=0.0001,\n",
      "          verbose=0, warm_start=False)\n",
      "Accuracy = 89.22777777777777\n",
      "F1 Score = 89.20198251378292\n",
      "Precision = 88.7030678923469\n",
      "Recall = 89.706541218638\n"
     ]
    },
    {
     "data": {
      "image/png": "[encoded data removed]",
      "text/plain": [
       "<Figure size 432x288 with 2 Axes>"
      ]
     },
     "metadata": {},
     "output_type": "display_data"
    },
    {
     "data": {
      "image/png": "[encoded data removed]",
      "text/plain": [
       "<Figure size 432x288 with 1 Axes>"
      ]
     },
     "metadata": {},
     "output_type": "display_data"
    },
    {
     "name": "stdout",
     "output_type": "stream",
     "text": [
      "---------------------------------------------\n"
     ]
    }
   ],
   "source": [
    "models = LogisticRegressionClassifier(train_features = tfidf_X_tr, train_class = Y_train, \\\n",
    "                                     test_features = tfidf_X_test, test_class = Y_test, X_SearchCV = GridSearchCV, regularizations = ['l1'])"
   ]
  },
  {
   "cell_type": "markdown",
   "metadata": {},
   "source": [
    "#### How accuracy changes with C for L1 regularization"
   ]
  },
  {
   "cell_type": "code",
   "execution_count": 32,
   "metadata": {},
   "outputs": [
    {
     "data": {
      "text/plain": [
       "[mean: 0.78510, std: 0.00404, params: {'C': 0.001},\n",
       " mean: 0.88533, std: 0.00135, params: {'C': 0.01},\n",
       " mean: 0.88081, std: 0.00204, params: {'C': 0.1},\n",
       " mean: 0.87745, std: 0.00192, params: {'C': 1},\n",
       " mean: 0.87564, std: 0.00268, params: {'C': 10},\n",
       " mean: 0.84648, std: 0.00381, params: {'C': 100},\n",
       " mean: 0.81657, std: 0.00332, params: {'C': 1000}]"
      ]
     },
     "execution_count": 32,
     "metadata": {},
     "output_type": "execute_result"
    }
   ],
   "source": [
    "models[0].grid_scores_"
   ]
  },
  {
   "cell_type": "markdown",
   "metadata": {},
   "source": [
    "### Top 20 Words contributing to the Negative reviews for L1"
   ]
  },
  {
   "cell_type": "code",
   "execution_count": 34,
   "metadata": {
    "scrolled": true
   },
   "outputs": [],
   "source": [
    "(negative_features, positive_features) = GetImportantFeatures(models[0], tfidf_vectorizer)"
   ]
  },
  {
   "cell_type": "code",
   "execution_count": 35,
   "metadata": {},
   "outputs": [
    {
     "data": {
      "text/html": [
       "<div>\n",
       "<style scoped>\n",
       "    .dataframe tbody tr th:only-of-type {\n",
       "        vertical-align: middle;\n",
       "    }\n",
       "\n",
       "    .dataframe tbody tr th {\n",
       "        vertical-align: top;\n",
       "    }\n",
       "\n",
       "    .dataframe thead th {\n",
       "        text-align: right;\n",
       "    }\n",
       "</style>\n",
       "<table border=\"1\" class=\"dataframe\">\n",
       "  <thead>\n",
       "    <tr style=\"text-align: right;\">\n",
       "      <th></th>\n",
       "      <th>features</th>\n",
       "      <th>coefs</th>\n",
       "    </tr>\n",
       "  </thead>\n",
       "  <tbody>\n",
       "    <tr>\n",
       "      <th>14587</th>\n",
       "      <td>disappoint</td>\n",
       "      <td>-0.454580</td>\n",
       "    </tr>\n",
       "    <tr>\n",
       "      <th>59483</th>\n",
       "      <td>worst</td>\n",
       "      <td>-0.285757</td>\n",
       "    </tr>\n",
       "    <tr>\n",
       "      <th>44169</th>\n",
       "      <td>return</td>\n",
       "      <td>-0.235803</td>\n",
       "    </tr>\n",
       "    <tr>\n",
       "      <th>52783</th>\n",
       "      <td>terribl</td>\n",
       "      <td>-0.230986</td>\n",
       "    </tr>\n",
       "    <tr>\n",
       "      <th>3182</th>\n",
       "      <td>aw</td>\n",
       "      <td>-0.197188</td>\n",
       "    </tr>\n",
       "    <tr>\n",
       "      <th>51500</th>\n",
       "      <td>tast</td>\n",
       "      <td>-0.186751</td>\n",
       "    </tr>\n",
       "    <tr>\n",
       "      <th>25927</th>\n",
       "      <td>horribl</td>\n",
       "      <td>-0.186002</td>\n",
       "    </tr>\n",
       "    <tr>\n",
       "      <th>3545</th>\n",
       "      <td>bad</td>\n",
       "      <td>-0.170360</td>\n",
       "    </tr>\n",
       "    <tr>\n",
       "      <th>34001</th>\n",
       "      <td>money</td>\n",
       "      <td>-0.158612</td>\n",
       "    </tr>\n",
       "    <tr>\n",
       "      <th>53706</th>\n",
       "      <td>thought</td>\n",
       "      <td>-0.156838</td>\n",
       "    </tr>\n",
       "    <tr>\n",
       "      <th>57684</th>\n",
       "      <td>wast</td>\n",
       "      <td>-0.155798</td>\n",
       "    </tr>\n",
       "    <tr>\n",
       "      <th>5599</th>\n",
       "      <td>bland</td>\n",
       "      <td>-0.150655</td>\n",
       "    </tr>\n",
       "    <tr>\n",
       "      <th>41173</th>\n",
       "      <td>product</td>\n",
       "      <td>-0.149469</td>\n",
       "    </tr>\n",
       "    <tr>\n",
       "      <th>14748</th>\n",
       "      <td>disgust</td>\n",
       "      <td>-0.149030</td>\n",
       "    </tr>\n",
       "    <tr>\n",
       "      <th>49041</th>\n",
       "      <td>stale</td>\n",
       "      <td>-0.144933</td>\n",
       "    </tr>\n",
       "    <tr>\n",
       "      <th>56027</th>\n",
       "      <td>unfortun</td>\n",
       "      <td>-0.144244</td>\n",
       "    </tr>\n",
       "    <tr>\n",
       "      <th>53857</th>\n",
       "      <td>threw</td>\n",
       "      <td>-0.141444</td>\n",
       "    </tr>\n",
       "    <tr>\n",
       "      <th>59234</th>\n",
       "      <td>wont buy</td>\n",
       "      <td>-0.138543</td>\n",
       "    </tr>\n",
       "    <tr>\n",
       "      <th>58120</th>\n",
       "      <td>weak</td>\n",
       "      <td>-0.137312</td>\n",
       "    </tr>\n",
       "    <tr>\n",
       "      <th>59560</th>\n",
       "      <td>would</td>\n",
       "      <td>-0.112870</td>\n",
       "    </tr>\n",
       "  </tbody>\n",
       "</table>\n",
       "</div>"
      ],
      "text/plain": [
       "         features     coefs\n",
       "14587  disappoint -0.454580\n",
       "59483       worst -0.285757\n",
       "44169      return -0.235803\n",
       "52783     terribl -0.230986\n",
       "3182           aw -0.197188\n",
       "51500        tast -0.186751\n",
       "25927     horribl -0.186002\n",
       "3545          bad -0.170360\n",
       "34001       money -0.158612\n",
       "53706     thought -0.156838\n",
       "57684        wast -0.155798\n",
       "5599        bland -0.150655\n",
       "41173     product -0.149469\n",
       "14748     disgust -0.149030\n",
       "49041       stale -0.144933\n",
       "56027    unfortun -0.144244\n",
       "53857       threw -0.141444\n",
       "59234    wont buy -0.138543\n",
       "58120        weak -0.137312\n",
       "59560       would -0.112870"
      ]
     },
     "execution_count": 35,
     "metadata": {},
     "output_type": "execute_result"
    }
   ],
   "source": [
    "negative_features.head(20)"
   ]
  },
  {
   "cell_type": "markdown",
   "metadata": {},
   "source": [
    "### Top 20 words contributing to Positive reviews for L1"
   ]
  },
  {
   "cell_type": "code",
   "execution_count": 36,
   "metadata": {},
   "outputs": [
    {
     "data": {
      "text/html": [
       "<div>\n",
       "<style scoped>\n",
       "    .dataframe tbody tr th:only-of-type {\n",
       "        vertical-align: middle;\n",
       "    }\n",
       "\n",
       "    .dataframe tbody tr th {\n",
       "        vertical-align: top;\n",
       "    }\n",
       "\n",
       "    .dataframe thead th {\n",
       "        text-align: right;\n",
       "    }\n",
       "</style>\n",
       "<table border=\"1\" class=\"dataframe\">\n",
       "  <thead>\n",
       "    <tr style=\"text-align: right;\">\n",
       "      <th></th>\n",
       "      <th>features</th>\n",
       "      <th>coefs</th>\n",
       "    </tr>\n",
       "  </thead>\n",
       "  <tbody>\n",
       "    <tr>\n",
       "      <th>23999</th>\n",
       "      <td>great</td>\n",
       "      <td>0.555754</td>\n",
       "    </tr>\n",
       "    <tr>\n",
       "      <th>31229</th>\n",
       "      <td>love</td>\n",
       "      <td>0.414812</td>\n",
       "    </tr>\n",
       "    <tr>\n",
       "      <th>4761</th>\n",
       "      <td>best</td>\n",
       "      <td>0.389456</td>\n",
       "    </tr>\n",
       "    <tr>\n",
       "      <th>13759</th>\n",
       "      <td>delici</td>\n",
       "      <td>0.305623</td>\n",
       "    </tr>\n",
       "    <tr>\n",
       "      <th>39062</th>\n",
       "      <td>perfect</td>\n",
       "      <td>0.303353</td>\n",
       "    </tr>\n",
       "    <tr>\n",
       "      <th>25575</th>\n",
       "      <td>high recommend</td>\n",
       "      <td>0.293125</td>\n",
       "    </tr>\n",
       "    <tr>\n",
       "      <th>23153</th>\n",
       "      <td>good</td>\n",
       "      <td>0.270882</td>\n",
       "    </tr>\n",
       "    <tr>\n",
       "      <th>17885</th>\n",
       "      <td>excel</td>\n",
       "      <td>0.248371</td>\n",
       "    </tr>\n",
       "    <tr>\n",
       "      <th>18787</th>\n",
       "      <td>favorit</td>\n",
       "      <td>0.226579</td>\n",
       "    </tr>\n",
       "    <tr>\n",
       "      <th>35396</th>\n",
       "      <td>nice</td>\n",
       "      <td>0.192495</td>\n",
       "    </tr>\n",
       "    <tr>\n",
       "      <th>1866</th>\n",
       "      <td>amaz</td>\n",
       "      <td>0.185509</td>\n",
       "    </tr>\n",
       "    <tr>\n",
       "      <th>16103</th>\n",
       "      <td>easi</td>\n",
       "      <td>0.150229</td>\n",
       "    </tr>\n",
       "    <tr>\n",
       "      <th>59141</th>\n",
       "      <td>wonder</td>\n",
       "      <td>0.134316</td>\n",
       "    </tr>\n",
       "    <tr>\n",
       "      <th>24861</th>\n",
       "      <td>happi</td>\n",
       "      <td>0.132239</td>\n",
       "    </tr>\n",
       "    <tr>\n",
       "      <th>47935</th>\n",
       "      <td>smooth</td>\n",
       "      <td>0.131551</td>\n",
       "    </tr>\n",
       "    <tr>\n",
       "      <th>889</th>\n",
       "      <td>addict</td>\n",
       "      <td>0.131533</td>\n",
       "    </tr>\n",
       "    <tr>\n",
       "      <th>16895</th>\n",
       "      <td>enjoy</td>\n",
       "      <td>0.125279</td>\n",
       "    </tr>\n",
       "    <tr>\n",
       "      <th>52958</th>\n",
       "      <td>thank</td>\n",
       "      <td>0.123325</td>\n",
       "    </tr>\n",
       "    <tr>\n",
       "      <th>3341</th>\n",
       "      <td>awesom</td>\n",
       "      <td>0.121134</td>\n",
       "    </tr>\n",
       "    <tr>\n",
       "      <th>60387</th>\n",
       "      <td>yummi</td>\n",
       "      <td>0.119202</td>\n",
       "    </tr>\n",
       "  </tbody>\n",
       "</table>\n",
       "</div>"
      ],
      "text/plain": [
       "             features     coefs\n",
       "23999           great  0.555754\n",
       "31229            love  0.414812\n",
       "4761             best  0.389456\n",
       "13759          delici  0.305623\n",
       "39062         perfect  0.303353\n",
       "25575  high recommend  0.293125\n",
       "23153            good  0.270882\n",
       "17885           excel  0.248371\n",
       "18787         favorit  0.226579\n",
       "35396            nice  0.192495\n",
       "1866             amaz  0.185509\n",
       "16103            easi  0.150229\n",
       "59141          wonder  0.134316\n",
       "24861           happi  0.132239\n",
       "47935          smooth  0.131551\n",
       "889            addict  0.131533\n",
       "16895           enjoy  0.125279\n",
       "52958           thank  0.123325\n",
       "3341           awesom  0.121134\n",
       "60387           yummi  0.119202"
      ]
     },
     "execution_count": 36,
     "metadata": {},
     "output_type": "execute_result"
    }
   ],
   "source": [
    "positive_features.head(20)"
   ]
  },
  {
   "cell_type": "markdown",
   "metadata": {},
   "source": [
    "## Add noise to check for multi colinearity"
   ]
  },
  {
   "cell_type": "code",
   "execution_count": 37,
   "metadata": {},
   "outputs": [],
   "source": [
    "from scipy.sparse import *\n",
    "from scipy import *\n",
    "import random"
   ]
  },
  {
   "cell_type": "code",
   "execution_count": 45,
   "metadata": {},
   "outputs": [],
   "source": [
    "bow_X_tr_with_noise = bow_X_tr"
   ]
  },
  {
   "cell_type": "code",
   "execution_count": 46,
   "metadata": {},
   "outputs": [],
   "source": [
    "bow_X_tr_with_noise.data += 0.01"
   ]
  },
  {
   "cell_type": "code",
   "execution_count": 48,
   "metadata": {},
   "outputs": [
    {
     "name": "stdout",
     "output_type": "stream",
     "text": [
      "-----------------------------l1--------------------------------------\n",
      "LogisticRegression(C=0.01, class_weight=None, dual=False, fit_intercept=True,\n",
      "          intercept_scaling=1, max_iter=100, multi_class='ovr', n_jobs=1,\n",
      "          penalty='l1', random_state=None, solver='liblinear', tol=0.0001,\n",
      "          verbose=0, warm_start=False)\n",
      "Accuracy = 88.84444444444445\n",
      "F1 Score = 88.84816172386981\n",
      "Precision = 88.11412205331571\n",
      "Recall = 89.5945340501792\n"
     ]
    },
    {
     "data": {
      "image/png": "[encoded data removed]",
      "text/plain": [
       "<Figure size 432x288 with 2 Axes>"
      ]
     },
     "metadata": {},
     "output_type": "display_data"
    },
    {
     "data": {
      "image/png": "[encoded data removed]",
      "text/plain": [
       "<Figure size 432x288 with 1 Axes>"
      ]
     },
     "metadata": {},
     "output_type": "display_data"
    },
    {
     "name": "stdout",
     "output_type": "stream",
     "text": [
      "---------------------------------------------\n"
     ]
    }
   ],
   "source": [
    "models = LogisticRegressionClassifier(train_features = bow_X_tr_with_noise, train_class = Y_train, \\\n",
    "                                     test_features = bow_X_test, test_class = Y_test, X_SearchCV = GridSearchCV, regularizations = ['l1'])"
   ]
  },
  {
   "cell_type": "code",
   "execution_count": 49,
   "metadata": {},
   "outputs": [
    {
     "data": {
      "text/plain": [
       "[mean: 0.77607, std: 0.00617, params: {'C': 0.001},\n",
       " mean: 0.88248, std: 0.00177, params: {'C': 0.01},\n",
       " mean: 0.88012, std: 0.00334, params: {'C': 0.1},\n",
       " mean: 0.87576, std: 0.00292, params: {'C': 1},\n",
       " mean: 0.87279, std: 0.00271, params: {'C': 10},\n",
       " mean: 0.84729, std: 0.00669, params: {'C': 100},\n",
       " mean: 0.81993, std: 0.00351, params: {'C': 1000}]"
      ]
     },
     "execution_count": 49,
     "metadata": {},
     "output_type": "execute_result"
    }
   ],
   "source": [
    "models[0].grid_scores_"
   ]
  },
  {
   "cell_type": "markdown",
   "metadata": {},
   "source": [
    "## W2V"
   ]
  },
  {
   "cell_type": "code",
   "execution_count": 60,
   "metadata": {},
   "outputs": [],
   "source": [
    "from gensim.models import Word2Vec\n",
    "from gensim.models import KeyedVectors\n",
    "import pickle"
   ]
  },
  {
   "cell_type": "code",
   "execution_count": 55,
   "metadata": {},
   "outputs": [],
   "source": [
    "def cleanpunc(sentence): #function to clean the word of any punctuation or special characters\n",
    "    cleaned = re.sub(r'[?|!|\\'|\"|#]',r'',sentence)\n",
    "    cleaned = re.sub(r'[.|,|)|(|\\|/|-]',r' ',cleaned)\n",
    "    return  cleaned"
   ]
  },
  {
   "cell_type": "code",
   "execution_count": 56,
   "metadata": {},
   "outputs": [],
   "source": [
    "def Get_List_of_Sentences(cleanedText):\n",
    "    list_of_sent=[]\n",
    "    for sent in cleanedText:\n",
    "        list_of_sent.append(cleanpunc(sent).split())\n",
    "    return list_of_sent"
   ]
  },
  {
   "cell_type": "code",
   "execution_count": 57,
   "metadata": {},
   "outputs": [],
   "source": [
    "def Get_Word2Vec_Vectors(list_of_sent):\n",
    "    w2v_model = Word2Vec(list_of_sent,min_count=5,size=50, workers=4)\n",
    "    return w2v_model"
   ]
  },
  {
   "cell_type": "code",
   "execution_count": 58,
   "metadata": {},
   "outputs": [],
   "source": [
    "def GetAvgW2V_Vectors(list_of_sent, w2v_model):\n",
    "    w2v_words = list(w2v_model.wv.vocab)\n",
    "    sent_vectors = []; # the avg-w2v for each sentence/review is stored in this list\n",
    "    for sent in list_of_sent: # for each review/sentence\n",
    "        sent_vec = np.zeros(50) # as word vectors are of zero length\n",
    "        cnt_words =0; # num of words with a valid vector in the sentence/review\n",
    "        for word in sent: # for each word in a review/sentence\n",
    "            if word in w2v_words:\n",
    "                vec = w2v_model.wv[word]\n",
    "                sent_vec += vec\n",
    "                cnt_words += 1\n",
    "        if cnt_words != 0:\n",
    "            sent_vec /= cnt_words\n",
    "        sent_vectors.append(sent_vec)\n",
    "    \n",
    "    return sent_vectors"
   ]
  },
  {
   "cell_type": "code",
   "execution_count": 61,
   "metadata": {},
   "outputs": [],
   "source": [
    "X_tr_listOfSent = Get_List_of_Sentences(X_train)\n",
    "X_test_listOfSent = Get_List_of_Sentences(X_test)\n",
    "X_tr_w2vModel = Get_Word2Vec_Vectors(X_tr_listOfSent)"
   ]
  },
  {
   "cell_type": "code",
   "execution_count": 62,
   "metadata": {
    "scrolled": false
   },
   "outputs": [],
   "source": [
    "# Get Average word2vec vector for each set of data -> Column standardize those vectors\n",
    "avg_X_tr = GetAvgW2V_Vectors(X_tr_listOfSent, X_tr_w2vModel)\n",
    "avg_X_test = GetAvgW2V_Vectors(X_test_listOfSent, X_tr_w2vModel)\n",
    "(avg_X_tr, avg_X_test) = ColumnStandardization(avg_X_tr, avg_X_test)"
   ]
  },
  {
   "cell_type": "code",
   "execution_count": 63,
   "metadata": {},
   "outputs": [],
   "source": [
    "def GetTfIdfW2V_Vectors(list_of_sent, w2v_model, final_tfidf):\n",
    "    # TF-IDF weighted Word2Vec\n",
    "    tfidf_feat = tfidf_vectorizer.get_feature_names() # tfidf words/col-names\n",
    "    # final_tf_idf is the sparse matrix with row= sentence, col=word and cell_val = tfidf\n",
    "\n",
    "    tfidf_sent_vectors = [] # the tfidf-w2v for each sentence/review is stored in this list\n",
    "    w2v_words = list(w2v_model.wv.vocab)\n",
    "    print(f'number of sentences = {len(list_of_sent)}')\n",
    "    for (row,sent) in enumerate(list_of_sent): # for each review/sentence \n",
    "        sent_vec = np.zeros(50) # as word vectors are of zero length\n",
    "        weight_sum =0; # num of words with a valid vector in the sentence/review\n",
    "        for word in sent: # for each word in a review/sentence\n",
    "            if (word in w2v_words) and (word in tfidf_feat):\n",
    "                vec = w2v_model.wv[word]\n",
    "                # obtain the tf_idfidf of a word in a sentence/review\n",
    "                tf_idf = final_tfidf[row, tfidf_feat.index(word)]\n",
    "                sent_vec += (vec * tf_idf)\n",
    "                weight_sum += tf_idf\n",
    "        if weight_sum != 0:\n",
    "            sent_vec /= weight_sum\n",
    "        tfidf_sent_vectors.append(sent_vec)\n",
    "        print(f'Sentence number {row}', end = \"\\r\")\n",
    "    \n",
    "    return tfidf_sent_vectors"
   ]
  },
  {
   "cell_type": "code",
   "execution_count": 64,
   "metadata": {
    "scrolled": true
   },
   "outputs": [
    {
     "name": "stdout",
     "output_type": "stream",
     "text": [
      "number of sentences = 42000\n",
      "Sentence number 41999\r"
     ]
    }
   ],
   "source": [
    "# Get Average word2vec vector for each set of data -> Column standardize those vectors\n",
    "avgtfidf_X_tr = GetTfIdfW2V_Vectors(X_tr_listOfSent, X_tr_w2vModel, tfidf_X_tr)"
   ]
  },
  {
   "cell_type": "code",
   "execution_count": 65,
   "metadata": {},
   "outputs": [
    {
     "name": "stdout",
     "output_type": "stream",
     "text": [
      "number of sentences = 18000\n",
      "Sentence number 17999\r"
     ]
    }
   ],
   "source": [
    "avgtfidf_X_test = GetTfIdfW2V_Vectors(X_test_listOfSent, X_tr_w2vModel, tfidf_X_test)\n",
    "(avgtfidf_X_tr, avgtfidf_X_test) = ColumnStandardization(avgtfidf_X_tr, avgtfidf_X_test)"
   ]
  },
  {
   "cell_type": "markdown",
   "metadata": {},
   "source": [
    "## Run classifier"
   ]
  },
  {
   "cell_type": "code",
   "execution_count": 66,
   "metadata": {},
   "outputs": [
    {
     "name": "stdout",
     "output_type": "stream",
     "text": [
      "-----------------------------l1--------------------------------------\n",
      "LogisticRegression(C=100, class_weight=None, dual=False, fit_intercept=True,\n",
      "          intercept_scaling=1, max_iter=100, multi_class='ovr', n_jobs=1,\n",
      "          penalty='l1', random_state=None, solver='liblinear', tol=0.0001,\n",
      "          verbose=0, warm_start=False)\n",
      "Accuracy = 83.88333333333333\n",
      "F1 Score = 83.63328631875882\n",
      "Precision = 84.25599636239627\n",
      "Recall = 83.01971326164875\n"
     ]
    },
    {
     "data": {
      "image/png": "[encoded data removed]",
      "text/plain": [
       "<Figure size 432x288 with 2 Axes>"
      ]
     },
     "metadata": {},
     "output_type": "display_data"
    },
    {
     "data": {
      "image/png": "[encoded data removed]",
      "text/plain": [
       "<Figure size 432x288 with 1 Axes>"
      ]
     },
     "metadata": {},
     "output_type": "display_data"
    },
    {
     "name": "stdout",
     "output_type": "stream",
     "text": [
      "---------------------------------------------\n"
     ]
    }
   ],
   "source": [
    "models = LogisticRegressionClassifier(train_features = avg_X_tr, train_class = Y_train, \\\n",
    "                                     test_features = avg_X_test, test_class = Y_test, X_SearchCV = GridSearchCV, regularizations = ['l1'])"
   ]
  },
  {
   "cell_type": "markdown",
   "metadata": {},
   "source": [
    "#### How accuracy changes with C for L1 regularization"
   ]
  },
  {
   "cell_type": "code",
   "execution_count": 67,
   "metadata": {},
   "outputs": [
    {
     "data": {
      "text/plain": [
       "[mean: 0.81060, std: 0.00179, params: {'C': 0.001},\n",
       " mean: 0.83564, std: 0.00193, params: {'C': 0.01},\n",
       " mean: 0.83679, std: 0.00244, params: {'C': 0.1},\n",
       " mean: 0.83690, std: 0.00262, params: {'C': 1},\n",
       " mean: 0.83695, std: 0.00247, params: {'C': 10},\n",
       " mean: 0.83702, std: 0.00249, params: {'C': 100},\n",
       " mean: 0.83700, std: 0.00257, params: {'C': 1000}]"
      ]
     },
     "execution_count": 67,
     "metadata": {},
     "output_type": "execute_result"
    }
   ],
   "source": [
    "models[0].grid_scores_"
   ]
  },
  {
   "cell_type": "markdown",
   "metadata": {},
   "source": [
    "### Top 20 Words contributing to the Negative reviews for L1"
   ]
  },
  {
   "cell_type": "code",
   "execution_count": 68,
   "metadata": {},
   "outputs": [],
   "source": [
    "def GetImportantFeatures(classifier):\n",
    "    \n",
    "    feature_names = np.array(X_tr_w2vModel.wv.vocab)\n",
    "    names_coefs = np.vstack((feature_names, classifier.best_estimator_.coef_)).T\n",
    "\n",
    "    df = pd.DataFrame(data = names_coefs, columns=['features','coefs'])\n",
    "    df.sort_values(by=['coefs'],inplace=True, ascending=False)\n",
    "\n",
    "    df[['coefs']] = df[['coefs']].apply(pd.to_numeric)\n",
    "\n",
    "    df_positive = df[df.coefs > 0]\n",
    "\n",
    "    df_negative = df[df.coefs < 0]\n",
    "\n",
    "    df_positive.sort_values(by='coefs', ascending=False, inplace=True)\n",
    "    df_negative.sort_values(by='coefs', ascending=True, inplace=True)\n",
    "    \n",
    "    return (df_negative, df_positive)"
   ]
  },
  {
   "cell_type": "markdown",
   "metadata": {},
   "source": [
    "## Run Classifier"
   ]
  },
  {
   "cell_type": "code",
   "execution_count": 83,
   "metadata": {},
   "outputs": [
    {
     "name": "stdout",
     "output_type": "stream",
     "text": [
      "-----------------------------l1--------------------------------------\n",
      "LogisticRegression(C=1000, class_weight=None, dual=False, fit_intercept=True,\n",
      "          intercept_scaling=1, max_iter=100, multi_class='ovr', n_jobs=1,\n",
      "          penalty='l1', random_state=None, solver='liblinear', tol=0.0001,\n",
      "          verbose=0, warm_start=False)\n",
      "Accuracy = 81.10000000000001\n",
      "F1 Score = 80.73612684031711\n",
      "Precision = 81.64223545579478\n",
      "Recall = 79.84991039426524\n"
     ]
    },
    {
     "data": {
      "image/png": "[encoded data removed]",
      "text/plain": [
       "<Figure size 432x288 with 2 Axes>"
      ]
     },
     "metadata": {},
     "output_type": "display_data"
    },
    {
     "data": {
      "image/png": "[encoded data removed]",
      "text/plain": [
       "<Figure size 432x288 with 1 Axes>"
      ]
     },
     "metadata": {},
     "output_type": "display_data"
    },
    {
     "name": "stdout",
     "output_type": "stream",
     "text": [
      "---------------------------------------------\n"
     ]
    }
   ],
   "source": [
    "models = LogisticRegressionClassifier(train_features = avgtfidf_X_tr, train_class = Y_train, \\\n",
    "                                     test_features = avgtfidf_X_test, test_class = Y_test, X_SearchCV = GridSearchCV, regularizations = ['l1'])"
   ]
  },
  {
   "cell_type": "markdown",
   "metadata": {},
   "source": [
    "#### How accuracy changes with C for L1 regularization"
   ]
  },
  {
   "cell_type": "code",
   "execution_count": 84,
   "metadata": {
    "scrolled": true
   },
   "outputs": [
    {
     "data": {
      "text/plain": [
       "[mean: 0.78133, std: 0.00363, params: {'C': 0.001},\n",
       " mean: 0.80995, std: 0.00292, params: {'C': 0.01},\n",
       " mean: 0.81245, std: 0.00285, params: {'C': 0.1},\n",
       " mean: 0.81310, std: 0.00293, params: {'C': 1},\n",
       " mean: 0.81321, std: 0.00297, params: {'C': 10},\n",
       " mean: 0.81324, std: 0.00286, params: {'C': 100},\n",
       " mean: 0.81333, std: 0.00287, params: {'C': 1000}]"
      ]
     },
     "execution_count": 84,
     "metadata": {},
     "output_type": "execute_result"
    }
   ],
   "source": [
    "models[0].grid_scores_"
   ]
  },
  {
   "cell_type": "markdown",
   "metadata": {},
   "source": [
    "# Conclusion"
   ]
  },
  {
   "cell_type": "markdown",
   "metadata": {},
   "source": [
    "1. L2 and L1 regularizations are spitting out approximately equal metrics(accuracy, recall etc.)\n",
    "2. The best AUC is 0.89\n",
    "3. Average w2v and tfidf w2v performed poorly\n",
    "4. BOW and TFIDF featurization provided better results\n",
    "5. The reason for w2v and tfidf w2v's poor performance is because of the the number of dimensions choosen (50)\n",
    "6. After addition of noise there was no significant change in the coefficients and thus the features are not multi collinear"
   ]
  }
 ],
 "metadata": {
  "kernelspec": {
   "display_name": "Python 3",
   "language": "python",
   "name": "python3"
  },
  "language_info": {
   "codemirror_mode": {
    "name": "ipython",
    "version": 3
   },
   "file_extension": ".py",
   "mimetype": "text/x-python",
   "name": "python",
   "nbconvert_exporter": "python",
   "pygments_lexer": "ipython3",
   "version": "3.6.5"
  }
 },
 "nbformat": 4,
 "nbformat_minor": 2
}
