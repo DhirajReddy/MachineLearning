{
  "nbformat": 4,
  "nbformat_minor": 0,
  "metadata": {
    "colab": {
      "name": "MerCari_BojanYunguz",
      "version": "0.3.2",
      "provenance": [],
      "collapsed_sections": []
    },
    "kernelspec": {
      "name": "python3",
      "display_name": "Python 3"
    }
  },
  "cells": [
    {
      "metadata": {
        "id": "fMTgFuoKksRP",
        "colab_type": "code",
        "colab": {}
      },
      "cell_type": "code",
      "source": [
        ""
      ],
      "execution_count": 0,
      "outputs": []
    },
    {
      "metadata": {
        "id": "S_7EcyLDncXf",
        "colab_type": "text"
      },
      "cell_type": "markdown",
      "source": [
        "## Custom Features"
      ]
    },
    {
      "metadata": {
        "id": "pLJd95zsstGu",
        "colab_type": "code",
        "outputId": "dc7a9388-235d-4605-929f-904e404f6497",
        "colab": {
          "base_uri": "https://localhost:8080/",
          "height": 204
        }
      },
      "cell_type": "code",
      "source": [
        "all_df = pickle.load(open('/content/gdrive/My Drive/MerCari/all_df.p', 'rb'))\n",
        "all_df.head()"
      ],
      "execution_count": 0,
      "outputs": [
        {
          "output_type": "execute_result",
          "data": {
            "text/html": [
              "<div>\n",
              "<style scoped>\n",
              "    .dataframe tbody tr th:only-of-type {\n",
              "        vertical-align: middle;\n",
              "    }\n",
              "\n",
              "    .dataframe tbody tr th {\n",
              "        vertical-align: top;\n",
              "    }\n",
              "\n",
              "    .dataframe thead th {\n",
              "        text-align: right;\n",
              "    }\n",
              "</style>\n",
              "<table border=\"1\" class=\"dataframe\">\n",
              "  <thead>\n",
              "    <tr style=\"text-align: right;\">\n",
              "      <th></th>\n",
              "      <th>train_id</th>\n",
              "      <th>name</th>\n",
              "      <th>item_condition_id</th>\n",
              "      <th>brand_name</th>\n",
              "      <th>price</th>\n",
              "      <th>shipping</th>\n",
              "      <th>item_description</th>\n",
              "      <th>general_category</th>\n",
              "      <th>sub_cat_1</th>\n",
              "      <th>sub_cat_2</th>\n",
              "    </tr>\n",
              "  </thead>\n",
              "  <tbody>\n",
              "    <tr>\n",
              "      <th>0</th>\n",
              "      <td>0</td>\n",
              "      <td>mlb cincinnati red shirt size</td>\n",
              "      <td>3</td>\n",
              "      <td>None</td>\n",
              "      <td>2.397895</td>\n",
              "      <td>1</td>\n",
              "      <td>descript yet</td>\n",
              "      <td>Men</td>\n",
              "      <td>Tops</td>\n",
              "      <td>T-shirts</td>\n",
              "    </tr>\n",
              "    <tr>\n",
              "      <th>1</th>\n",
              "      <td>1</td>\n",
              "      <td>razer blackwidow chroma keyboard</td>\n",
              "      <td>3</td>\n",
              "      <td>Razer</td>\n",
              "      <td>3.970292</td>\n",
              "      <td>0</td>\n",
              "      <td>keyboard great condit work like came box port ...</td>\n",
              "      <td>Electronics</td>\n",
              "      <td>Computers &amp; Tablets</td>\n",
              "      <td>Components &amp; Parts</td>\n",
              "    </tr>\n",
              "    <tr>\n",
              "      <th>2</th>\n",
              "      <td>2</td>\n",
              "      <td>ava viv blous</td>\n",
              "      <td>1</td>\n",
              "      <td>Target</td>\n",
              "      <td>2.397895</td>\n",
              "      <td>1</td>\n",
              "      <td>ador top hint lace key hole back pale pink als...</td>\n",
              "      <td>Women</td>\n",
              "      <td>Tops &amp; Blouses</td>\n",
              "      <td>Blouse</td>\n",
              "    </tr>\n",
              "    <tr>\n",
              "      <th>3</th>\n",
              "      <td>3</td>\n",
              "      <td>leather hors statu</td>\n",
              "      <td>1</td>\n",
              "      <td>None</td>\n",
              "      <td>3.583519</td>\n",
              "      <td>1</td>\n",
              "      <td>new tag leather hors retail stand foot high so...</td>\n",
              "      <td>Home</td>\n",
              "      <td>Home Décor</td>\n",
              "      <td>Home Décor Accents</td>\n",
              "    </tr>\n",
              "    <tr>\n",
              "      <th>4</th>\n",
              "      <td>4</td>\n",
              "      <td>24k gold plate rose</td>\n",
              "      <td>1</td>\n",
              "      <td>None</td>\n",
              "      <td>3.806662</td>\n",
              "      <td>0</td>\n",
              "      <td>complet certif authent</td>\n",
              "      <td>Women</td>\n",
              "      <td>Jewelry</td>\n",
              "      <td>Necklaces</td>\n",
              "    </tr>\n",
              "  </tbody>\n",
              "</table>\n",
              "</div>"
            ],
            "text/plain": [
              "   train_id                              name  item_condition_id brand_name  \\\n",
              "0         0     mlb cincinnati red shirt size                  3       None   \n",
              "1         1  razer blackwidow chroma keyboard                  3      Razer   \n",
              "2         2                     ava viv blous                  1     Target   \n",
              "3         3                leather hors statu                  1       None   \n",
              "4         4               24k gold plate rose                  1       None   \n",
              "\n",
              "      price  shipping                                   item_description  \\\n",
              "0  2.397895         1                                       descript yet   \n",
              "1  3.970292         0  keyboard great condit work like came box port ...   \n",
              "2  2.397895         1  ador top hint lace key hole back pale pink als...   \n",
              "3  3.583519         1  new tag leather hors retail stand foot high so...   \n",
              "4  3.806662         0                             complet certif authent   \n",
              "\n",
              "  general_category            sub_cat_1           sub_cat_2  \n",
              "0              Men                 Tops            T-shirts  \n",
              "1      Electronics  Computers & Tablets  Components & Parts  \n",
              "2            Women       Tops & Blouses              Blouse  \n",
              "3             Home           Home Décor  Home Décor Accents  \n",
              "4            Women              Jewelry           Necklaces  "
            ]
          },
          "metadata": {
            "tags": []
          },
          "execution_count": 3
        }
      ]
    },
    {
      "metadata": {
        "id": "0ksy2b4Ut-5X",
        "colab_type": "code",
        "colab": {}
      },
      "cell_type": "code",
      "source": [
        "all_df.general_category = all_df.general_category.astype('category')\n",
        "all_df.sub_cat_1 = all_df.sub_cat_1.astype('category')\n",
        "all_df.general_category = LabelEncoder().fit_transform(all_df.general_category)\n",
        "all_df.sub_cat_1 = LabelEncoder().fit_transform(all_df.sub_cat_1)\n",
        "all_df.sub_cat_2 = LabelEncoder().fit_transform(all_df.sub_cat_2)\n",
        "all_df.brand_name = LabelEncoder().fit_transform(all_df.brand_name)\n",
        "all_df.item_condition_id = all_df.item_condition_id.astype('category')\n",
        "all_df.item_condition_id = LabelEncoder().fit_transform(all_df.item_condition_id)\n",
        "all_df.shipping = all_df.shipping.astype('category')\n",
        "all_df.shipping = LabelEncoder().fit_transform(all_df.shipping)"
      ],
      "execution_count": 0,
      "outputs": []
    },
    {
      "metadata": {
        "id": "-uFS_34U_m95",
        "colab_type": "code",
        "colab": {}
      },
      "cell_type": "code",
      "source": [
        "# https://pbpython.com/pandas_transform.html -> Good explaination about the transform function\n",
        "all_df['name_count'] = all_df.groupby('name')['name'].transform('count')\n",
        "all_df['gen_cat_count'] = all_df.groupby('general_category')['general_category'].transform('count')\n",
        "all_df['sub_cat_1_count'] = all_df.groupby('sub_cat_1')['sub_cat_1'].transform('count')\n",
        "all_df['sub_cat_2_count'] = all_df.groupby('sub_cat_2')['sub_cat_2'].transform('count')\n",
        "all_df['brand_name_count'] = all_df.groupby('brand_name')['brand_name'].transform('count')\n",
        "\n",
        "all_df['name_len'] = all_df['name'].apply(lambda x: len(x))\n",
        "all_df['des_len'] = all_df['item_description'].apply(lambda x: len(x))\n",
        "all_df['name_desc_len_ratio'] = all_df['name_len']/all_df['des_len']\n",
        "all_df['desc_word_count'] = all_df['item_description'].apply(lambda x: len(x.split()))\n",
        "all_df['mean_des'] = all_df['item_description'].apply(lambda x: 0 if len(x) == 0 else float(len(x.split())) / len(x)) * 10\n",
        "all_df['name_word_count'] = all_df['name'].apply(lambda x: len(x.split()))\n",
        "all_df['mean_name'] = all_df['name'].apply(lambda x: 0 if len(x) == 0 else float(len(x.split())) / len(x)) * 10\n",
        "all_df['desc_letters_per_word'] = all_df['des_len'] / all_df['desc_word_count']\n",
        "all_df['name_letters_per_word'] = all_df['name_len'] / all_df['name_word_count']\n",
        "all_df['NameDigitCount'] = all_df.name.str.count('[0-9]')\n",
        "all_df['DescriptionDigitCount'] = all_df.item_description.str.count('[0-9]')\n",
        "all_df['NameDigitCountRatio'] = all_df['NameDigitCount'] / all_df['name_word_count']\n",
        "all_df['DescriptionDigitCountRatio'] = all_df['DescriptionDigitCount']/all_df['desc_word_count']"
      ],
      "execution_count": 0,
      "outputs": []
    },
    {
      "metadata": {
        "id": "GcKaLymYne7G",
        "colab_type": "code",
        "colab": {}
      },
      "cell_type": "code",
      "source": [
        "pickle.dump(all_df, open('/content/gdrive/My Drive/MerCari/all_df_with_custom_featuresw.p','wb'))"
      ],
      "execution_count": 0,
      "outputs": []
    },
    {
      "metadata": {
        "id": "FWenGmeBudM5",
        "colab_type": "code",
        "colab": {}
      },
      "cell_type": "code",
      "source": [
        ""
      ],
      "execution_count": 0,
      "outputs": []
    },
    {
      "metadata": {
        "id": "IEL7myt6wLxG",
        "colab_type": "code",
        "colab": {}
      },
      "cell_type": "code",
      "source": [
        "x_train, x_test, y_train, y_test = train_test_split(all_df.drop(columns=['train_id','price'], axis=1), \\\n",
        "                                                                     all_df['price'],\\\n",
        "                                                                    test_size = 0.2)"
      ],
      "execution_count": 0,
      "outputs": []
    },
    {
      "metadata": {
        "id": "OtgPnRcI6VlZ",
        "colab_type": "code",
        "colab": {}
      },
      "cell_type": "code",
      "source": [
        "pickle.dump(x_train, open('/content/gdrive/My Drive/MerCari/x_train_raw.p','wb'))\n",
        "pickle.dump(x_test, open('/content/gdrive/My Drive/MerCari/x_test_raw.p','wb'))\n",
        "pickle.dump(y_train, open('/content/gdrive/My Drive/MerCari/y_train.p','wb'))\n",
        "pickle.dump(y_test, open('/content/gdrive/My Drive/MerCari/y_test.p','wb'))"
      ],
      "execution_count": 0,
      "outputs": []
    },
    {
      "metadata": {
        "id": "Dws9vWgrLdw-",
        "colab_type": "code",
        "colab": {}
      },
      "cell_type": "code",
      "source": [
        "x_train = pickle.load(open('/content/gdrive/My Drive/MerCari/x_train_raw.p','rb'))\n",
        "x_test = pickle.load(open('/content/gdrive/My Drive/MerCari/x_test_raw.p','rb'))"
      ],
      "execution_count": 0,
      "outputs": []
    },
    {
      "metadata": {
        "id": "8fby3wdDjrtg",
        "colab_type": "code",
        "outputId": "727af0dd-036a-488c-feed-55500799c4f9",
        "colab": {
          "base_uri": "https://localhost:8080/",
          "height": 67
        }
      },
      "cell_type": "code",
      "source": [
        "x_train.columns"
      ],
      "execution_count": 0,
      "outputs": [
        {
          "output_type": "execute_result",
          "data": {
            "text/plain": [
              "Index(['name', 'item_condition_id', 'brand_name', 'shipping',\n",
              "       'item_description', 'general_category', 'sub_cat_1', 'sub_cat_2'],\n",
              "      dtype='object')"
            ]
          },
          "metadata": {
            "tags": []
          },
          "execution_count": 8
        }
      ]
    },
    {
      "metadata": {
        "id": "DYQCQqpkmZqj",
        "colab_type": "code",
        "colab": {}
      },
      "cell_type": "code",
      "source": [
        "class TargetEncoder:\n",
        "    # Adapted from https://www.kaggle.com/ogrellier/python-target-encoding-for-categorical-features\n",
        "    def __repr__(self):\n",
        "        return 'TargetEncoder'\n",
        "\n",
        "    def __init__(self, cols, smoothing=1, min_samples_leaf=1, noise_level=0, keep_original=False):\n",
        "        self.cols = cols\n",
        "        self.smoothing = smoothing\n",
        "        self.min_samples_leaf = min_samples_leaf\n",
        "        self.noise_level = noise_level\n",
        "        self.keep_original = keep_original\n",
        "\n",
        "    @staticmethod\n",
        "    def add_noise(series, noise_level):\n",
        "        return series * (1 + noise_level * np.random.randn(len(series)))\n",
        "\n",
        "    def encode(self, train, test, target):\n",
        "        for col in self.cols:\n",
        "            if self.keep_original:\n",
        "                train[col + '_te'], test[col + '_te'] = self.encode_column(train[col], test[col], target)\n",
        "            else:\n",
        "                train[col], test[col] = self.encode_column(train[col], test[col], target)\n",
        "        return train, test\n",
        "\n",
        "    def encode_column(self, trn_series, tst_series, target):\n",
        "        temp = pd.concat([trn_series, target], axis=1)\n",
        "        # Compute target mean\n",
        "        averages = temp.groupby(by=trn_series.name)[target.name].agg([\"mean\", \"count\"])\n",
        "        # Compute smoothing\n",
        "        smoothing = 1 / (1 + np.exp(-(averages[\"count\"] - self.min_samples_leaf) / self.smoothing))\n",
        "        # Apply average function to all target data\n",
        "        prior = target.mean()\n",
        "        # The bigger the count the less full_avg is taken into account\n",
        "        averages[target.name] = prior * (1 - smoothing) + averages[\"mean\"] * smoothing\n",
        "        averages.drop(['mean', 'count'], axis=1, inplace=True)\n",
        "        # Apply averages to trn and tst series\n",
        "        ft_trn_series = pd.merge(\n",
        "            trn_series.to_frame(trn_series.name),\n",
        "            averages.reset_index().rename(columns={'index': target.name, target.name: 'average'}),\n",
        "            on=trn_series.name,\n",
        "            how='left')['average'].rename(trn_series.name + '_mean').fillna(prior)\n",
        "        # pd.merge does not keep the index so restore it\n",
        "        ft_trn_series.index = trn_series.index\n",
        "        ft_tst_series = pd.merge(\n",
        "            tst_series.to_frame(tst_series.name),\n",
        "            averages.reset_index().rename(columns={'index': target.name, target.name: 'average'}),\n",
        "            on=tst_series.name,\n",
        "            how='left')['average'].rename(trn_series.name + '_mean').fillna(prior)\n",
        "        # pd.merge does not keep the index so restore it\n",
        "        ft_tst_series.index = tst_series.index\n",
        "        return self.add_noise(ft_trn_series, self.noise_level), self.add_noise(ft_tst_series, self.noise_level)   \n"
      ],
      "execution_count": 0,
      "outputs": []
    },
    {
      "metadata": {
        "id": "UyeVxuuJ1yjm",
        "colab_type": "code",
        "colab": {}
      },
      "cell_type": "code",
      "source": [
        "# load target data\n",
        "y_train = pickle.load(open('/content/gdrive/My Drive/MerCari/y_train.p', 'rb'))\n",
        "y_test = pickle.load(open('/content/gdrive/My Drive/MerCari/y_test.p', 'rb'))"
      ],
      "execution_count": 0,
      "outputs": []
    },
    {
      "metadata": {
        "id": "VioSdYd3mZoe",
        "colab_type": "code",
        "outputId": "850d9aa3-e0a1-46f8-f998-c2d54c34111c",
        "colab": {
          "base_uri": "https://localhost:8080/",
          "height": 50
        }
      },
      "cell_type": "code",
      "source": [
        "name_wb_vectorizer = wordbatch.WordBatch(extractor=( \n",
        "    WordBag, {\"hash_ngrams\" : 2, \n",
        "              \"hash_ngrams_weights\" : [1.5, 1.0],\n",
        "              \"hash_size\" : 2 ** 17, \n",
        "              \"norm\" : None,\n",
        "              \"tf\" : \"binary\",\n",
        "              \"idf\" : None}\n",
        "), procs=8)\n",
        "x_train_wb_name = name_wb_vectorizer.fit_transform(x_train.name)\n",
        "x_test_wb_name = name_wb_vectorizer.transform(x_test.name)\n",
        "\n",
        "pickle.dump(x_train_wb_name, open('/content/gdrive/My Drive/MerCari/x_train_wb_name.p','wb'))\n",
        "pickle.dump(x_test_wb_name, open('/content/gdrive/My Drive/MerCari/x_test_wb_name.p','wb'))"
      ],
      "execution_count": 0,
      "outputs": [
        {
          "output_type": "stream",
          "text": [
            "Normalize text\n",
            "Normalize text\n"
          ],
          "name": "stdout"
        }
      ]
    },
    {
      "metadata": {
        "id": "rlmuE5Sb1k7G",
        "colab_type": "code",
        "colab": {}
      },
      "cell_type": "code",
      "source": [
        "# load wordbatch data\n",
        "x_train_wb_name = pickle.load(open('/content/gdrive/My Drive/MerCari/x_train_wb_name.p', 'rb')).tocsr()\n",
        "x_test_wb_name = pickle.load(open('/content/gdrive/My Drive/MerCari/x_test_wb_name.p', 'rb')).tocsr()"
      ],
      "execution_count": 0,
      "outputs": []
    },
    {
      "metadata": {
        "id": "v8Na8-hsbJoH",
        "colab_type": "code",
        "colab": {}
      },
      "cell_type": "code",
      "source": [
        "x_train_wb_name = normalize(x_train_wb_name, axis=0)\n",
        "x_test_wb_name = normalize(x_test_wb_name, axis=0)"
      ],
      "execution_count": 0,
      "outputs": []
    },
    {
      "metadata": {
        "id": "U6RG7Rde2Fcs",
        "colab_type": "code",
        "outputId": "463ebbd7-6a19-4e25-bdfa-9f95e05e77e2",
        "colab": {
          "base_uri": "https://localhost:8080/",
          "height": 33
        }
      },
      "cell_type": "code",
      "source": [
        "model_ridge = Ridge(solver = 'sag', fit_intercept = True, random_state=205, alpha=2.8, max_iter=100)\n",
        "model_ridge.fit(x_train_wb_name, y_train)\n",
        "y_test_wb_name = model_ridge.predict(x_test_wb_name)\n",
        "\n",
        "print('The rmse of prediction is:', mean_squared_error(y_test, y_test_wb_name) ** 0.5)"
      ],
      "execution_count": 0,
      "outputs": [
        {
          "output_type": "stream",
          "text": [
            "The rmse of prediction is: 0.5726734635285611\n"
          ],
          "name": "stdout"
        }
      ]
    },
    {
      "metadata": {
        "id": "wzogUYvRdlNR",
        "colab_type": "code",
        "colab": {}
      },
      "cell_type": "code",
      "source": [
        "y_train_wb_name = model_ridge.predict(x_train_wb_name)\n",
        "\n",
        "pickle.dump(y_train_wb_name, open('/content/gdrive/My Drive/MerCari/y_train_wb_name.p','wb'))\n",
        "pickle.dump(y_test_wb_name, open('/content/gdrive/My Drive/MerCari/y_test_wb_name.p','wb'))"
      ],
      "execution_count": 0,
      "outputs": []
    },
    {
      "metadata": {
        "id": "dE5hAg4VgD-D",
        "colab_type": "code",
        "colab": {}
      },
      "cell_type": "code",
      "source": [
        "y_train_wb_name = pickle.load(open('/content/gdrive/My Drive/MerCari/y_train_wb_name.p', 'rb'))\n",
        "y_test_wb_name = pickle.load(open('/content/gdrive/My Drive/MerCari/y_test_wb_name.p', 'rb'))"
      ],
      "execution_count": 0,
      "outputs": []
    },
    {
      "metadata": {
        "id": "p1HrkPMy2FV4",
        "colab_type": "code",
        "colab": {}
      },
      "cell_type": "code",
      "source": [
        ""
      ],
      "execution_count": 0,
      "outputs": []
    },
    {
      "metadata": {
        "id": "U49CrTrUmZmX",
        "colab_type": "code",
        "outputId": "6e67a1fd-589e-4d95-b498-7b21e9de18b9",
        "colab": {
          "base_uri": "https://localhost:8080/",
          "height": 50
        }
      },
      "cell_type": "code",
      "source": [
        "desc_wb_vectorizer = wordbatch.WordBatch(extractor=( \n",
        "    WordBag, {\"hash_ngrams\" : 2, \n",
        "              \"hash_ngrams_weights\" : [1.0, 1.0],\n",
        "              \"hash_size\" : 2 * 2 ** 17, \n",
        "              \"norm\" : \"l2\",\n",
        "              \"tf\" : 1.0,\n",
        "              \"idf\" : None}\n",
        "), procs=8)\n",
        "x_train_wb_desc = desc_wb_vectorizer.fit_transform(x_train.item_description)\n",
        "x_test_wb_desc = desc_wb_vectorizer.transform(x_test.item_description)\n",
        "\n",
        "pickle.dump(x_train_wb_desc, open('/content/gdrive/My Drive/MerCari/x_train_wb_desc.p','wb'))\n",
        "pickle.dump(x_test_wb_desc, open('/content/gdrive/My Drive/MerCari/x_test_wb_desc.p','wb'))"
      ],
      "execution_count": 0,
      "outputs": [
        {
          "output_type": "stream",
          "text": [
            "Normalize text\n",
            "Normalize text\n"
          ],
          "name": "stdout"
        }
      ]
    },
    {
      "metadata": {
        "id": "G1j16P0c1_W6",
        "colab_type": "code",
        "colab": {}
      },
      "cell_type": "code",
      "source": [
        "x_train_wb_desc = pickle.load(open('/content/gdrive/My Drive/MerCari/x_train_wb_desc.p', 'rb')).tocsr()\n",
        "x_test_wb_desc = pickle.load(open('/content/gdrive/My Drive/MerCari/x_test_wb_desc.p', 'rb')).tocsr()"
      ],
      "execution_count": 0,
      "outputs": []
    },
    {
      "metadata": {
        "id": "ii5HFG08eTyG",
        "colab_type": "code",
        "colab": {}
      },
      "cell_type": "code",
      "source": [
        "x_train_wb_desc = normalize(x_train_wb_desc, axis=0)\n",
        "x_test_wb_desc = normalize(x_test_wb_desc, axis=0)"
      ],
      "execution_count": 0,
      "outputs": []
    },
    {
      "metadata": {
        "id": "CKLjDZBqeFTp",
        "colab_type": "code",
        "outputId": "474885af-71ff-49e6-869c-4552bba96e66",
        "colab": {
          "base_uri": "https://localhost:8080/",
          "height": 33
        }
      },
      "cell_type": "code",
      "source": [
        "model_ridge_desc = Ridge(random_state=205, alpha=5, max_iter=100)\n",
        "model_ridge_desc.fit(x_train_wb_desc, y_train)\n",
        "y_test_wb_desc = model_ridge_desc.predict(x_test_wb_desc)\n",
        "\n",
        "print('The rmse of prediction is:', mean_squared_error(y_test, y_test_wb_desc) ** 0.5)"
      ],
      "execution_count": 0,
      "outputs": [
        {
          "output_type": "stream",
          "text": [
            "The rmse of prediction is: 0.610455683382548\n"
          ],
          "name": "stdout"
        }
      ]
    },
    {
      "metadata": {
        "id": "HTqI79cceG8U",
        "colab_type": "code",
        "colab": {}
      },
      "cell_type": "code",
      "source": [
        "y_train_wb_desc = model_ridge_desc.predict(x_train_wb_desc)\n",
        "\n",
        "pickle.dump(y_train_wb_desc, open('/content/gdrive/My Drive/MerCari/y_train_wb_desc.p','wb'))\n",
        "pickle.dump(y_test_wb_desc, open('/content/gdrive/My Drive/MerCari/y_test_wb_desc.p','wb'))"
      ],
      "execution_count": 0,
      "outputs": []
    },
    {
      "metadata": {
        "id": "MF95UEQQge8m",
        "colab_type": "code",
        "colab": {}
      },
      "cell_type": "code",
      "source": [
        "y_train_wb_desc = pickle.load(open('/content/gdrive/My Drive/MerCari/y_train_wb_desc.p', 'rb'))\n",
        "y_test_wb_desc = pickle.load(open('/content/gdrive/My Drive/MerCari/y_test_wb_desc.p', 'rb'))"
      ],
      "execution_count": 0,
      "outputs": []
    },
    {
      "metadata": {
        "id": "m8VyG7Bd1_Hn",
        "colab_type": "code",
        "colab": {}
      },
      "cell_type": "code",
      "source": [
        ""
      ],
      "execution_count": 0,
      "outputs": []
    },
    {
      "metadata": {
        "id": "tk-oh9nqmZjm",
        "colab_type": "code",
        "colab": {}
      },
      "cell_type": "code",
      "source": [
        "brand_name_label_binarizer = LabelBinarizer(sparse_output=True)\n",
        "x_train_brand_ohe = brand_name_label_binarizer.fit_transform(x_train.brand_name)\n",
        "x_test_brand_ohe = brand_name_label_binarizer.transform(x_test.brand_name)\n",
        "pickle.dump(x_train_brand_ohe, open('/content/gdrive/My Drive/MerCari/x_train_brand_ohe.p','wb'))\n",
        "pickle.dump(x_test_brand_ohe, open('/content/gdrive/My Drive/MerCari/x_test_brand_ohe.p','wb'))\n",
        "\n",
        "shipping_label_binarizer = LabelBinarizer(sparse_output=True)\n",
        "x_train_shipping_ohe = shipping_label_binarizer.fit_transform(x_train.shipping)\n",
        "x_test_shipping_ohe = shipping_label_binarizer.transform(x_test.shipping)\n",
        "pickle.dump(x_train_shipping_ohe, open('/content/gdrive/My Drive/MerCari/x_train_shipping_ohe.p','wb'))\n",
        "pickle.dump(x_test_shipping_ohe, open('/content/gdrive/My Drive/MerCari/x_test_shipping_ohe.p','wb'))\n",
        "\n",
        "item_condition_id_binarizer = LabelBinarizer(sparse_output=True)\n",
        "x_train_item_condition_ohe = item_condition_id_binarizer.fit_transform(x_train.item_condition_id)\n",
        "x_test_item_condition_ohe = item_condition_id_binarizer.transform(x_test.item_condition_id)\n",
        "pickle.dump(x_train_item_condition_ohe, open('/content/gdrive/My Drive/MerCari/x_train_item_condition_ohe.p','wb'))\n",
        "pickle.dump(x_test_item_condition_ohe, open('/content/gdrive/My Drive/MerCari/x_test_item_condition_ohe.p','wb'))\n",
        "\n",
        "general_category_binarizer = LabelBinarizer(sparse_output=True)\n",
        "x_train_general_category_ohe = general_category_binarizer.fit_transform(x_train.general_category)\n",
        "x_test_general_category_ohe = general_category_binarizer.transform(x_test.general_category)\n",
        "pickle.dump(x_train_general_category_ohe, open('/content/gdrive/My Drive/MerCari/x_train_general_category_ohe.p','wb'))\n",
        "pickle.dump(x_test_general_category_ohe, open('/content/gdrive/My Drive/MerCari/x_test_general_category_ohe.p','wb'))\n",
        "\n",
        "sub_cat_1_binarizer = LabelBinarizer(sparse_output=True)\n",
        "x_train_sub_cat_1_ohe = sub_cat_1_binarizer.fit_transform(x_train.sub_cat_1)\n",
        "x_test_sub_cat_1_ohe = sub_cat_1_binarizer.transform(x_test.sub_cat_1)\n",
        "pickle.dump(x_train_sub_cat_1_ohe, open('/content/gdrive/My Drive/MerCari/x_train_sub_cat_1_ohe.p','wb'))\n",
        "pickle.dump(x_test_sub_cat_1_ohe, open('/content/gdrive/My Drive/MerCari/x_test_sub_cat_1_ohe.p','wb'))\n",
        "\n",
        "sub_cat_2_binarizer = LabelBinarizer(sparse_output=True)\n",
        "x_train_sub_cat_2_ohe = sub_cat_2_binarizer.fit_transform(x_train.sub_cat_2)\n",
        "x_test_sub_cat_2_ohe = sub_cat_2_binarizer.transform(x_test.sub_cat_2)\n",
        "pickle.dump(x_train_sub_cat_1_ohe, open('/content/gdrive/My Drive/MerCari/x_train_sub_cat_2_ohe.p','wb'))\n",
        "pickle.dump(x_test_sub_cat_1_ohe, open('/content/gdrive/My Drive/MerCari/x_test_sub_cat_2_ohe.p','wb'))"
      ],
      "execution_count": 0,
      "outputs": []
    },
    {
      "metadata": {
        "id": "XZkxaTeNim54",
        "colab_type": "code",
        "colab": {}
      },
      "cell_type": "code",
      "source": [
        "x_train_brand_ohe = pickle.load(open('/content/gdrive/My Drive/MerCari/x_train_brand_ohe.p','rb'))\n",
        "x_test_brand_ohe = pickle.load(open('/content/gdrive/My Drive/MerCari/x_test_brand_ohe.p','rb'))\n",
        "\n",
        "x_train_shipping_ohe = pickle.load(open('/content/gdrive/My Drive/MerCari/x_train_shipping_ohe.p','rb'))\n",
        "x_test_shipping_ohe = pickle.load(open('/content/gdrive/My Drive/MerCari/x_test_shipping_ohe.p','rb'))\n",
        "\n",
        "x_train_item_condition_ohe = pickle.load(open('/content/gdrive/My Drive/MerCari/x_train_item_condition_ohe.p','rb'))\n",
        "x_test_item_condition_ohe = pickle.load(open('/content/gdrive/My Drive/MerCari/x_test_item_condition_ohe.p','rb'))\n",
        "\n",
        "x_train_general_category_ohe = pickle.load(open('/content/gdrive/My Drive/MerCari/x_train_general_category_ohe.p','rb'))\n",
        "x_test_general_category_ohe = pickle.load(open('/content/gdrive/My Drive/MerCari/x_test_general_category_ohe.p','rb'))\n",
        "\n",
        "x_train_sub_cat_1_ohe = pickle.load(open('/content/gdrive/My Drive/MerCari/x_train_sub_cat_1_ohe.p','rb'))\n",
        "x_test_sub_cat_1_ohe = pickle.load(open('/content/gdrive/My Drive/MerCari/x_test_sub_cat_1_ohe.p','rb'))\n",
        "\n",
        "x_train_sub_cat_2_ohe = pickle.load(open('/content/gdrive/My Drive/MerCari/x_train_sub_cat_2_ohe.p','rb'))\n",
        "x_test_sub_cat_2_ohe = pickle.load(open('/content/gdrive/My Drive/MerCari/x_test_sub_cat_2_ohe.p','rb'))"
      ],
      "execution_count": 0,
      "outputs": []
    },
    {
      "metadata": {
        "id": "Up1Ol9Lsku0M",
        "colab_type": "code",
        "colab": {}
      },
      "cell_type": "code",
      "source": [
        "x_train_wb_ohe = hstack([x_train_wb_name,\n",
        "                        x_train_wb_desc,\n",
        "                        x_train_brand_ohe,\n",
        "                        x_train_shipping_ohe,\n",
        "                        x_train_item_condition_ohe,\n",
        "                        x_train_general_category_ohe,\n",
        "                        x_train_sub_cat_1_ohe,\n",
        "                        x_train_sub_cat_2_ohe])\n",
        "\n",
        "x_test_wb_ohe = hstack([x_test_wb_name,\n",
        "                        x_test_wb_desc,\n",
        "                        x_test_brand_ohe,\n",
        "                        x_test_shipping_ohe,\n",
        "                        x_test_item_condition_ohe,\n",
        "                        x_test_general_category_ohe,\n",
        "                        x_test_sub_cat_1_ohe,\n",
        "                        x_test_sub_cat_2_ohe])"
      ],
      "execution_count": 0,
      "outputs": []
    },
    {
      "metadata": {
        "id": "_2GLJibrmAXn",
        "colab_type": "code",
        "colab": {}
      },
      "cell_type": "code",
      "source": [
        "pickle.dump(x_train_wb_ohe, open('/content/gdrive/My Drive/MerCari/x_train_wb_ohe.p','wb'))\n",
        "pickle.dump(x_test_wb_ohe, open('/content/gdrive/My Drive/MerCari/x_test_wb_ohe.p','wb'))"
      ],
      "execution_count": 0,
      "outputs": []
    },
    {
      "metadata": {
        "id": "YZ4_Iw59lZDM",
        "colab_type": "code",
        "outputId": "e05f861f-0db1-4641-9cbe-b284c8b6f56c",
        "colab": {
          "base_uri": "https://localhost:8080/",
          "height": 234
        }
      },
      "cell_type": "code",
      "source": [
        "model_fm_ftrl = FM_FTRL(alpha=0.035, beta=0.001, L1=0.00001, L2=0.15, D=x_train_wb_ohe.shape[1],\n",
        "                alpha_fm=0.05, L2_fm=0.0, init_fm=0.01,\n",
        "                D_fm=100, e_noise=0, iters=12, inv_link=\"identity\", threads=4)\n",
        "\n",
        "model_fm_ftrl.fit(x_train_wb_ohe, y_train)"
      ],
      "execution_count": 0,
      "outputs": [
        {
          "output_type": "stream",
          "text": [
            "Total e: 496661.0600160163\n",
            "Total e: 445692.14027547557\n",
            "Total e: 425456.88092341396\n",
            "Total e: 411512.7075939182\n",
            "Total e: 400621.8184924071\n",
            "Total e: 391543.3385823677\n",
            "Total e: 383678.50618526305\n",
            "Total e: 376672.85169254575\n",
            "Total e: 370302.7678164642\n",
            "Total e: 364419.8454385314\n",
            "Total e: 358917.59641346306\n",
            "Total e: 353716.9786092178\n"
          ],
          "name": "stdout"
        },
        {
          "output_type": "execute_result",
          "data": {
            "text/plain": [
              "<wordbatch.models.fm_ftrl.FM_FTRL at 0x515b600>"
            ]
          },
          "metadata": {
            "tags": []
          },
          "execution_count": 16
        }
      ]
    },
    {
      "metadata": {
        "id": "B8Fn2OS7nzWf",
        "colab_type": "code",
        "outputId": "d2a3d1cd-49be-48dd-b3d0-e9bff88e5a39",
        "colab": {
          "base_uri": "https://localhost:8080/",
          "height": 33
        }
      },
      "cell_type": "code",
      "source": [
        "y_test_wb_ohe_fm_ftrl = model_fm_ftrl.predict(x_test_wb_ohe)\n",
        "\n",
        "print('The rmse of prediction is:', mean_squared_error(y_test, y_test_wb_ohe_fm_ftrl) ** 0.5)"
      ],
      "execution_count": 0,
      "outputs": [
        {
          "output_type": "stream",
          "text": [
            "The rmse of prediction is: 0.58172310737566\n"
          ],
          "name": "stdout"
        }
      ]
    },
    {
      "metadata": {
        "id": "XAw7Tewm1GP6",
        "colab_type": "code",
        "colab": {}
      },
      "cell_type": "code",
      "source": [
        "y_train_wb_ohe_fm_ftrl = model_fm_ftrl.predict(x_train_wb_ohe)\n",
        "\n",
        "pickle.dump(y_train_wb_ohe_fm_ftrl, open('/content/gdrive/My Drive/MerCari/y_train_wb_ohe_fm_ftrl.p','wb'))\n",
        "pickle.dump(y_test_wb_ohe_fm_ftrl, open('/content/gdrive/My Drive/MerCari/y_test_wb_ohe_fm_ftrl.p','wb'))"
      ],
      "execution_count": 0,
      "outputs": []
    },
    {
      "metadata": {
        "id": "_iKDUfpV6W0b",
        "colab_type": "code",
        "colab": {}
      },
      "cell_type": "code",
      "source": [
        "y_train_wb_ohe_fm_ftrl = pickle.load(open('/content/gdrive/My Drive/MerCari/y_train_wb_ohe_fm_ftrl.p','rb'))\n",
        "y_test_wb_ohe_fm_ftrl = pickle.load(open('/content/gdrive/My Drive/MerCari/y_test_wb_ohe_fm_ftrl.p','rb'))"
      ],
      "execution_count": 0,
      "outputs": []
    },
    {
      "metadata": {
        "id": "wsMpvbYD1lvD",
        "colab_type": "code",
        "colab": {}
      },
      "cell_type": "code",
      "source": [
        ""
      ],
      "execution_count": 0,
      "outputs": []
    },
    {
      "metadata": {
        "id": "vCKR-BVIuCw6",
        "colab_type": "code",
        "outputId": "20735239-6535-47d7-cb88-19dff931156e",
        "colab": {
          "base_uri": "https://localhost:8080/",
          "height": 1706
        }
      },
      "cell_type": "code",
      "source": [
        "model_ftrl = FTRL(alpha=0.01, beta=0.1, L1=0.00001, L2=1.0, D=x_train_wb_ohe.shape[1], \\\n",
        "                  iters=100, inv_link=\"identity\", threads=1)\n",
        "model_ftrl.fit(x_train_wb_ohe.tocsr(), y_train)"
      ],
      "execution_count": 0,
      "outputs": [
        {
          "output_type": "stream",
          "text": [
            "Total e: 572035.8649561704\n",
            "Total e: 536347.0288463333\n",
            "Total e: 523846.7997082726\n",
            "Total e: 515107.2599872324\n",
            "Total e: 508239.7624315468\n",
            "Total e: 502529.609763402\n",
            "Total e: 497619.51946607284\n",
            "Total e: 493301.4734013436\n",
            "Total e: 489439.7917281098\n",
            "Total e: 485941.01542402525\n",
            "Total e: 482740.9010440825\n",
            "Total e: 479791.7446561268\n",
            "Total e: 477055.24476328236\n",
            "Total e: 474502.22751452826\n",
            "Total e: 472109.4243951017\n",
            "Total e: 469856.66440833657\n",
            "Total e: 467728.9527810174\n",
            "Total e: 465712.9137041189\n",
            "Total e: 463797.7162173173\n",
            "Total e: 461974.0470159824\n",
            "Total e: 460234.55097687675\n",
            "Total e: 458571.696177722\n",
            "Total e: 456979.46783204627\n",
            "Total e: 455451.9098073967\n",
            "Total e: 453984.2677255518\n",
            "Total e: 452572.1682645232\n",
            "Total e: 451211.9208350847\n",
            "Total e: 449899.9810229217\n",
            "Total e: 448633.27954885765\n",
            "Total e: 447408.90593463636\n",
            "Total e: 446224.54660245683\n",
            "Total e: 445077.65906539094\n",
            "Total e: 443965.5729616609\n",
            "Total e: 442886.84076025686\n",
            "Total e: 441839.64534386474\n",
            "Total e: 440822.23092554125\n",
            "Total e: 439833.44852948503\n",
            "Total e: 438871.90076657804\n",
            "Total e: 437936.31955146336\n",
            "Total e: 437025.26157105697\n",
            "Total e: 436137.77280989167\n",
            "Total e: 435272.71957598586\n",
            "Total e: 434428.9198667602\n",
            "Total e: 433605.5097951892\n",
            "Total e: 432801.5078724661\n",
            "Total e: 432016.1904558409\n",
            "Total e: 431248.8226074158\n",
            "Total e: 430498.6080865777\n",
            "Total e: 429764.98546253104\n",
            "Total e: 429047.37857120874\n",
            "Total e: 428345.15997365466\n",
            "Total e: 427657.66032669094\n",
            "Total e: 426984.3594508075\n",
            "Total e: 426324.82481475075\n",
            "Total e: 425678.64558892394\n",
            "Total e: 425045.28374631796\n",
            "Total e: 424424.2429199711\n",
            "Total e: 423814.9490024481\n",
            "Total e: 423216.94052354165\n",
            "Total e: 422629.98074658896\n",
            "Total e: 422053.86270034505\n",
            "Total e: 421488.3023578801\n",
            "Total e: 420932.8156672968\n",
            "Total e: 420387.0799056367\n",
            "Total e: 419850.6907976664\n",
            "Total e: 419323.4558441289\n",
            "Total e: 418805.13126138586\n",
            "Total e: 418295.38093069725\n",
            "Total e: 417793.97597655945\n",
            "Total e: 417300.65989071154\n",
            "Total e: 416815.12378843775\n",
            "Total e: 416337.2088060659\n",
            "Total e: 415866.72649540054\n",
            "Total e: 415403.49011466344\n",
            "Total e: 414947.32443542534\n",
            "Total e: 414498.08337023715\n",
            "Total e: 414055.4868176031\n",
            "Total e: 413619.4655616895\n",
            "Total e: 413189.79597299144\n",
            "Total e: 412766.2523107347\n",
            "Total e: 412348.8362875493\n",
            "Total e: 411937.3335544911\n",
            "Total e: 411531.45263385045\n",
            "Total e: 411131.1436917646\n",
            "Total e: 410736.29544260184\n",
            "Total e: 410346.7619940908\n",
            "Total e: 409962.4967955098\n",
            "Total e: 409583.3127084272\n",
            "Total e: 409209.07485591253\n",
            "Total e: 408839.6626280441\n",
            "Total e: 408474.9774842524\n",
            "Total e: 408115.00383260846\n",
            "Total e: 407759.55275874597\n",
            "Total e: 407408.53151851246\n",
            "Total e: 407061.7691300021\n",
            "Total e: 406719.2726598696\n",
            "Total e: 406380.94607779256\n",
            "Total e: 406046.6441666139\n",
            "Total e: 405716.26652557123\n",
            "Total e: 405389.75455918576\n"
          ],
          "name": "stdout"
        },
        {
          "output_type": "execute_result",
          "data": {
            "text/plain": [
              "<wordbatch.models.ftrl.FTRL at 0x2c2668900>"
            ]
          },
          "metadata": {
            "tags": []
          },
          "execution_count": 20
        }
      ]
    },
    {
      "metadata": {
        "id": "kvBr_hbqu1ST",
        "colab_type": "code",
        "outputId": "bd67228a-6f55-4727-d35d-ae230c60e72a",
        "colab": {
          "base_uri": "https://localhost:8080/",
          "height": 33
        }
      },
      "cell_type": "code",
      "source": [
        "y_test_wb_ohe_ftrl = model_ftrl.predict(x_test_wb_ohe)\n",
        "print('The rmse of prediction is:', mean_squared_error(y_test, y_test_wb_ohe_ftrl) ** 0.5)"
      ],
      "execution_count": 0,
      "outputs": [
        {
          "output_type": "stream",
          "text": [
            "The rmse of prediction is: 0.5452087778677622\n"
          ],
          "name": "stdout"
        }
      ]
    },
    {
      "metadata": {
        "id": "D0fG1a6Q2C2s",
        "colab_type": "code",
        "colab": {}
      },
      "cell_type": "code",
      "source": [
        "y_train_wb_ohe_ftrl = model_ftrl.predict(x_train_wb_ohe)\n",
        "pickle.dump(y_train_wb_ohe_ftrl, open('/content/gdrive/My Drive/MerCari/y_train_wb_ohe_ftrl.p','wb'))\n",
        "pickle.dump(y_test_wb_ohe_ftrl, open('/content/gdrive/My Drive/MerCari/y_test_wb_ohe_ftrl.p','wb'))"
      ],
      "execution_count": 0,
      "outputs": []
    },
    {
      "metadata": {
        "id": "jeBmfrq-6pFk",
        "colab_type": "code",
        "colab": {}
      },
      "cell_type": "code",
      "source": [
        "y_train_wb_ohe_ftrl = pickle.load(open('/content/gdrive/My Drive/MerCari/y_train_wb_ohe_ftrl.p','rb'))\n",
        "y_test_wb_ohe_ftrl = pickle.load(open('/content/gdrive/My Drive/MerCari/y_test_wb_ohe_ftrl.p','rb'))"
      ],
      "execution_count": 0,
      "outputs": []
    },
    {
      "metadata": {
        "id": "svgBq3YQ4wxV",
        "colab_type": "code",
        "colab": {}
      },
      "cell_type": "code",
      "source": [
        ""
      ],
      "execution_count": 0,
      "outputs": []
    },
    {
      "metadata": {
        "id": "Qyd1E2vQmZhn",
        "colab_type": "code",
        "colab": {}
      },
      "cell_type": "code",
      "source": [
        "name_tfidf_vectorizer = TfidfVectorizer(ngram_range=(1,2), max_features = 2 ** 17)\n",
        "x_train_name_tfidf = name_tfidf_vectorizer.fit_transform(x_train.name)\n",
        "x_test_name_tfidf = name_tfidf_vectorizer.transform(x_test.name)\n",
        "name_standerdizer = StandardScaler(with_mean=False)\n",
        "x_train_name_tfidf = name_standerdizer.fit_transform(x_train_name_tfidf)\n",
        "x_test_name_tfidf = name_standerdizer.transform(x_test_name_tfidf)\n",
        "pickle.dump(x_train_name_tfidf, open('/content/gdrive/My Drive/MerCari/x_train_name_tfidf.p','wb'))\n",
        "pickle.dump(x_test_name_tfidf, open('/content/gdrive/My Drive/MerCari/x_test_name_tfidf.p','wb'))\n",
        "\n",
        "desc_tfidf_vectorizer = TfidfVectorizer(ngram_range=(1,2), max_features = 2 * (2 ** 17))\n",
        "x_train_desc_tfidf = desc_tfidf_vectorizer.fit_transform(x_train.item_description)\n",
        "x_test_desc_tfidf = desc_tfidf_vectorizer.transform(x_test.item_description)\n",
        "desc_standerdizer = StandardScaler(with_mean=False)\n",
        "x_train_desc_tfidf = desc_standerdizer.fit_transform(x_train_desc_tfidf)\n",
        "x_test_desc_tfidf = desc_standerdizer.transform(x_test_desc_tfidf)\n",
        "\n",
        "pickle.dump(x_train_desc_tfidf, open('/content/gdrive/My Drive/MerCari/x_train_desc_tfidf.p','wb'))\n",
        "pickle.dump(x_test_desc_tfidf, open('/content/gdrive/My Drive/MerCari/x_test_desc_tfidf.p','wb'))"
      ],
      "execution_count": 0,
      "outputs": []
    },
    {
      "metadata": {
        "id": "wdePeODQ6y-j",
        "colab_type": "code",
        "colab": {}
      },
      "cell_type": "code",
      "source": [
        "x_train_name_tfidf = pickle.load(open('/content/gdrive/My Drive/MerCari/x_train_name_tfidf.p','rb'))\n",
        "x_test_name_tfidf = pickle.load(open('/content/gdrive/My Drive/MerCari/x_test_name_tfidf.p','rb'))\n",
        "x_train_desc_tfidf = pickle.load(open('/content/gdrive/My Drive/MerCari/x_train_desc_tfidf.p','rb'))\n",
        "x_test_desc_tfidf = pickle.load(open('/content/gdrive/My Drive/MerCari/x_test_desc_tfidf.p','rb'))"
      ],
      "execution_count": 0,
      "outputs": []
    },
    {
      "metadata": {
        "id": "uXVgIHGq7Qm-",
        "colab_type": "code",
        "colab": {}
      },
      "cell_type": "code",
      "source": [
        "x_train_tfidf_ohe = hstack([x_train_name_tfidf,\n",
        "                        x_train_desc_tfidf,\n",
        "                        x_train_brand_ohe,\n",
        "                        x_train_shipping_ohe,\n",
        "                        x_train_item_condition_ohe,\n",
        "                        x_train_general_category_ohe,\n",
        "                        x_train_sub_cat_1_ohe,\n",
        "                        x_train_sub_cat_2_ohe]).tocsr()\n",
        "\n",
        "x_test_tfidf_ohe = hstack([x_test_name_tfidf,\n",
        "                        x_test_desc_tfidf,\n",
        "                        x_test_brand_ohe,\n",
        "                        x_test_shipping_ohe,\n",
        "                        x_test_item_condition_ohe,\n",
        "                        x_test_general_category_ohe,\n",
        "                        x_test_sub_cat_1_ohe,\n",
        "                        x_test_sub_cat_2_ohe]).tocsr()"
      ],
      "execution_count": 0,
      "outputs": []
    },
    {
      "metadata": {
        "id": "v3b0shql8Fwh",
        "colab_type": "code",
        "outputId": "afa929d7-51d2-4b79-edd3-cfbc66deb6da",
        "colab": {
          "base_uri": "https://localhost:8080/",
          "height": 87
        }
      },
      "cell_type": "code",
      "source": [
        "model_tfidf_ohe = Ridge(random_state=205, alpha=4, max_iter=200)\n",
        "model_tfidf_ohe.fit(x_train_tfidf_ohe, y_train)\n",
        "y_test_tfidf_ohe_ridge = model_tfidf_ohe.predict(x_test_tfidf_ohe)\n",
        "print('The rmse of prediction is:', mean_squared_error(y_test, y_test_tfidf_ohe_ridge) ** 0.5)"
      ],
      "execution_count": 0,
      "outputs": [
        {
          "output_type": "stream",
          "text": [
            "The rmse of prediction is: 0.5411923191381363\n"
          ],
          "name": "stdout"
        },
        {
          "output_type": "stream",
          "text": [
            "/usr/local/lib/python3.6/dist-packages/sklearn/linear_model/sag.py:334: ConvergenceWarning: The max_iter was reached which means the coef_ did not converge\n",
            "  \"the coef_ did not converge\", ConvergenceWarning)\n"
          ],
          "name": "stderr"
        }
      ]
    },
    {
      "metadata": {
        "id": "TQt3-_Tz_RoN",
        "colab_type": "code",
        "colab": {}
      },
      "cell_type": "code",
      "source": [
        "y_train_tfidf_ohe_ridge = model_tfidf_ohe.predict(x_train_tfidf_ohe)\n",
        "pickle.dump(y_train_tfidf_ohe_ridge, open('/content/gdrive/My Drive/MerCari/y_train_tfidf_ohe_ridge.p','wb'))\n",
        "pickle.dump(y_test_tfidf_ohe_ridge, open('/content/gdrive/My Drive/MerCari/y_test_tfidf_ohe_ridge.p','wb'))"
      ],
      "execution_count": 0,
      "outputs": []
    },
    {
      "metadata": {
        "id": "H5DT4TqWXHp1",
        "colab_type": "code",
        "colab": {}
      },
      "cell_type": "code",
      "source": [
        "y_train_tfidf_ohe_ridge = pickle.load(open('/content/gdrive/My Drive/MerCari/y_train_tfidf_ohe_ridge.p','rb'))\n",
        "y_test_tfidf_ohe_ridge = pickle.load(open('/content/gdrive/My Drive/MerCari/y_test_tfidf_ohe_ridge.p','rb'))"
      ],
      "execution_count": 0,
      "outputs": []
    },
    {
      "metadata": {
        "id": "5sNjj5_aE-fB",
        "colab_type": "code",
        "colab": {}
      },
      "cell_type": "code",
      "source": [
        ""
      ],
      "execution_count": 0,
      "outputs": []
    },
    {
      "metadata": {
        "id": "Csdn5eadEDJe",
        "colab_type": "code",
        "outputId": "06ed30c2-1656-442f-a3ad-6a7e5297867c",
        "colab": {
          "base_uri": "https://localhost:8080/",
          "height": 117
        }
      },
      "cell_type": "code",
      "source": [
        "y_train.sample(5)"
      ],
      "execution_count": 0,
      "outputs": [
        {
          "output_type": "execute_result",
          "data": {
            "text/plain": [
              "964037    3.713572\n",
              "392971    3.044522\n",
              "889260    2.890372\n",
              "599506    3.178054\n",
              "823825    3.295837\n",
              "Name: price, dtype: float64"
            ]
          },
          "metadata": {
            "tags": []
          },
          "execution_count": 33
        }
      ]
    },
    {
      "metadata": {
        "id": "QHl5gjReFEDl",
        "colab_type": "code",
        "colab": {}
      },
      "cell_type": "code",
      "source": [
        "model_mnb = MultinomialNB(alpha=0.01)\n",
        "model_mnb.fit(x_train_tfidf_ohe, y_train >= 4)\n",
        "y_train_tfidf_ohe_mnb = model_mnb.predict_proba(x_train_tfidf_ohe)[:, 1]\n",
        "y_test_tfidf_ohe_mnb = model_mnb.predict_proba(x_test_tfidf_ohe)[:, 1]\n",
        "pickle.dump(y_train_tfidf_ohe_mnb, open('/content/gdrive/My Drive/MerCari/y_train_tfidf_ohe_mnb.p', 'wb'))\n",
        "pickle.dump(y_test_tfidf_ohe_mnb, open('/content/gdrive/My Drive/MerCari/y_test_tfidf_ohe_mnb.p', 'wb'))"
      ],
      "execution_count": 0,
      "outputs": []
    },
    {
      "metadata": {
        "id": "845MN2LGXUnH",
        "colab_type": "code",
        "colab": {}
      },
      "cell_type": "code",
      "source": [
        "y_train_tfidf_ohe_mnb = pickle.load(open('/content/gdrive/My Drive/MerCari/y_train_tfidf_ohe_mnb.p','rb'))\n",
        "y_test_tfidf_ohe_mnb = pickle.load(open('/content/gdrive/My Drive/MerCari/y_test_tfidf_ohe_mnb.p','rb'))"
      ],
      "execution_count": 0,
      "outputs": []
    },
    {
      "metadata": {
        "id": "B7uxfZCFGp60",
        "colab_type": "code",
        "colab": {}
      },
      "cell_type": "code",
      "source": [
        ""
      ],
      "execution_count": 0,
      "outputs": []
    },
    {
      "metadata": {
        "id": "BGAIaFgKGp3g",
        "colab_type": "code",
        "outputId": "8bd20475-e017-42c9-da85-1820cbb1ab2f",
        "colab": {
          "base_uri": "https://localhost:8080/",
          "height": 170
        }
      },
      "cell_type": "code",
      "source": [
        "fselect = SelectKBest(f_regression, k=50000)\n",
        "x_train_wb_ohe_50k = fselect.fit_transform(x_train_wb_ohe, y_train)\n",
        "x_test_wb_ohe_50k = fselect.transform(x_test_wb_ohe)\n",
        "\n",
        "pickle.dump(x_train_wb_ohe_50k, open('/content/gdrive/My Drive/MerCari/x_train_wb_ohe_50k.p', 'wb'))\n",
        "pickle.dump(x_test_wb_ohe_50k, open('/content/gdrive/My Drive/MerCari/x_test_wb_ohe_50k.p', 'wb'))"
      ],
      "execution_count": 0,
      "outputs": [
        {
          "output_type": "stream",
          "text": [
            "/usr/local/lib/python3.6/dist-packages/sklearn/feature_selection/univariate_selection.py:299: RuntimeWarning: invalid value encountered in true_divide\n",
            "  corr /= X_norms\n",
            "/usr/local/lib/python3.6/dist-packages/scipy/stats/_distn_infrastructure.py:879: RuntimeWarning: invalid value encountered in greater\n",
            "  return (self.a < x) & (x < self.b)\n",
            "/usr/local/lib/python3.6/dist-packages/scipy/stats/_distn_infrastructure.py:879: RuntimeWarning: invalid value encountered in less\n",
            "  return (self.a < x) & (x < self.b)\n",
            "/usr/local/lib/python3.6/dist-packages/scipy/stats/_distn_infrastructure.py:1821: RuntimeWarning: invalid value encountered in less_equal\n",
            "  cond2 = cond0 & (x <= self.a)\n"
          ],
          "name": "stderr"
        }
      ]
    },
    {
      "metadata": {
        "id": "uwUvUNGvXl-G",
        "colab_type": "code",
        "colab": {}
      },
      "cell_type": "code",
      "source": [
        "x_train_wb_ohe_50k = pickle.load(open('/content/gdrive/My Drive/MerCari/x_train_wb_ohe_50k.p','rb'))\n",
        "x_test_wb_ohe_50k = pickle.load(open('/content/gdrive/My Drive/MerCari/x_test_wb_ohe_50k.p','rb'))"
      ],
      "execution_count": 0,
      "outputs": []
    },
    {
      "metadata": {
        "id": "wRHuYdCuGQzK",
        "colab_type": "code",
        "colab": {}
      },
      "cell_type": "code",
      "source": [
        ""
      ],
      "execution_count": 0,
      "outputs": []
    },
    {
      "metadata": {
        "id": "72oXu8fomZfk",
        "colab_type": "code",
        "colab": {}
      },
      "cell_type": "code",
      "source": [
        "categorical_features = ['brand_name', 'general_category', 'sub_cat_1', 'sub_cat_2']\n",
        "target_encode = TargetEncoder(min_samples_leaf=100, smoothing=10, noise_level=0.01,\n",
        "                              keep_original=True, cols=categorical_features)\n",
        "x_train_target_encode, x_test_target_encode = target_encode.encode(x_train, x_test, y_train)\n",
        "\n",
        "pickle.dump(x_train_target_encode, open('/content/gdrive/My Drive/MerCari/x_train_target_encode.p','wb'))\n",
        "pickle.dump(x_test_target_encode, open('/content/gdrive/My Drive/MerCari/x_test_target_encode.p','wb'))"
      ],
      "execution_count": 0,
      "outputs": []
    },
    {
      "metadata": {
        "id": "fL3W1gQJ1OX8",
        "colab_type": "code",
        "colab": {}
      },
      "cell_type": "code",
      "source": [
        "x_train_target_encode = pickle.load(open('/content/gdrive/My Drive/MerCari/x_train_target_encode.p','rb'))\n",
        "x_test_target_encode = pickle.load(open('/content/gdrive/My Drive/MerCari/x_test_target_encode.p','rb'))"
      ],
      "execution_count": 0,
      "outputs": []
    },
    {
      "metadata": {
        "id": "fH-6q9x9Iliu",
        "colab_type": "code",
        "colab": {}
      },
      "cell_type": "code",
      "source": [
        "x_train_target_encode['name_ridge'] = y_train_wb_name\n",
        "x_train_target_encode['desc_ridge'] = y_train_wb_desc\n",
        "x_train_target_encode['ridge'] = y_train_tfidf_ohe_ridge\n",
        "x_train_target_encode['mnb'] = y_train_tfidf_ohe_mnb\n",
        "\n",
        "x_test_target_encode['name_ridge'] = y_test_wb_name\n",
        "x_test_target_encode['desc_ridge'] = y_test_wb_desc\n",
        "x_test_target_encode['ridge'] = y_test_tfidf_ohe_ridge\n",
        "x_test_target_encode['mnb'] = y_test_tfidf_ohe_mnb"
      ],
      "execution_count": 0,
      "outputs": []
    },
    {
      "metadata": {
        "id": "8j8eI_Q2LoG5",
        "colab_type": "code",
        "outputId": "3d44f927-db4b-4404-a344-e9793289337e",
        "colab": {
          "base_uri": "https://localhost:8080/",
          "height": 33
        }
      },
      "cell_type": "code",
      "source": [
        "x_train_wb_ohe_50k.shape"
      ],
      "execution_count": 0,
      "outputs": [
        {
          "output_type": "execute_result",
          "data": {
            "text/plain": [
              "(1184672, 50000)"
            ]
          },
          "metadata": {
            "tags": []
          },
          "execution_count": 11
        }
      ]
    },
    {
      "metadata": {
        "id": "TNTuX1SuYLNS",
        "colab_type": "code",
        "outputId": "d331c60c-a58c-4a41-df4e-923c3b927b34",
        "colab": {
          "base_uri": "https://localhost:8080/",
          "height": 201
        }
      },
      "cell_type": "code",
      "source": [
        "x_train_target_encode.columns"
      ],
      "execution_count": 0,
      "outputs": [
        {
          "output_type": "execute_result",
          "data": {
            "text/plain": [
              "Index(['name', 'item_condition_id', 'brand_name', 'shipping',\n",
              "       'item_description', 'general_category', 'sub_cat_1', 'sub_cat_2',\n",
              "       'name_count', 'gen_cat_count', 'sub_cat_1_count', 'sub_cat_2_count',\n",
              "       'brand_name_count', 'name_len', 'des_len', 'name_desc_len_ratio',\n",
              "       'desc_word_count', 'mean_des', 'name_word_count', 'mean_name',\n",
              "       'desc_letters_per_word', 'name_letters_per_word', 'NameDigitCount',\n",
              "       'DescriptionDigitCount', 'NameDigitCountRatio',\n",
              "       'DescriptionDigitCountRatio', 'brand_name_te', 'general_category_te',\n",
              "       'sub_cat_1_te', 'sub_cat_2_te', 'name_ridge', 'desc_ridge', 'ridge',\n",
              "       'mnb'],\n",
              "      dtype='object')"
            ]
          },
          "metadata": {
            "tags": []
          },
          "execution_count": 18
        }
      ]
    },
    {
      "metadata": {
        "id": "ZdT9iaz9LrFY",
        "colab_type": "code",
        "colab": {}
      },
      "cell_type": "code",
      "source": [
        "x_train_dummies = x_train_target_encode[['brand_name_te', 'general_category_te',\n",
        "       'sub_cat_1_te', 'sub_cat_2_te', 'name_ridge', 'desc_ridge', 'ridge',\n",
        "       'mnb']].astype(float).values\n",
        "\n",
        "x_test_dummies = x_test_target_encode[['brand_name_te', 'general_category_te',\n",
        "       'sub_cat_1_te', 'sub_cat_2_te', 'name_ridge', 'desc_ridge', 'ridge',\n",
        "       'mnb']].astype(float).values"
      ],
      "execution_count": 0,
      "outputs": []
    },
    {
      "metadata": {
        "id": "JpcPXWExd5Kf",
        "colab_type": "code",
        "outputId": "3b8ee332-6619-4966-aa72-64378cfaa6da",
        "colab": {
          "base_uri": "https://localhost:8080/",
          "height": 33
        }
      },
      "cell_type": "code",
      "source": [
        "temp = [x_train_dummies, x_test_dummies]\n",
        "del temp, x_train_dummies, x_test_dummies\n",
        "import gc\n",
        "gc.collect()"
      ],
      "execution_count": 0,
      "outputs": [
        {
          "output_type": "execute_result",
          "data": {
            "text/plain": [
              "303"
            ]
          },
          "metadata": {
            "tags": []
          },
          "execution_count": 24
        }
      ]
    },
    {
      "metadata": {
        "id": "AYu4pPerJ--K",
        "colab_type": "code",
        "colab": {}
      },
      "cell_type": "code",
      "source": [
        "x_train_wb_ohe_50k_and_preds = hstack([x_train_wb_ohe_50k, csr_matrix(x_train_dummies)])\n",
        "x_test_wb_ohe_50k_and_preds = hstack([x_test_wb_ohe_50k, csr_matrix(x_test_dummies)])"
      ],
      "execution_count": 0,
      "outputs": []
    },
    {
      "metadata": {
        "id": "kvQjcQaafgDe",
        "colab_type": "code",
        "colab": {}
      },
      "cell_type": "code",
      "source": [
        "pickle.dump(x_train_wb_ohe_50k_and_preds, open('/content/gdrive/My Drive/MerCari/x_train_wb_ohe_50k_and_preds.p','wb'))\n",
        "pickle.dump(x_test_wb_ohe_50k_and_preds, open('/content/gdrive/My Drive/MerCari/x_test_wb_ohe_50k_and_preds.p','wb'))"
      ],
      "execution_count": 0,
      "outputs": []
    },
    {
      "metadata": {
        "id": "la1DpqEpf7Ih",
        "colab_type": "code",
        "colab": {}
      },
      "cell_type": "code",
      "source": [
        "x_train_wb_ohe_50k_and_preds = pickle.load(open('/content/gdrive/My Drive/MerCari/x_train_wb_ohe_50k_and_preds.p','rb')).tocsr()\n",
        "x_test_wb_ohe_50k_and_preds = pickle.load(open('/content/gdrive/My Drive/MerCari/x_test_wb_ohe_50k_and_preds.p','rb')).tocsr()"
      ],
      "execution_count": 0,
      "outputs": []
    },
    {
      "metadata": {
        "id": "Gk-eeL1lIkvI",
        "colab_type": "code",
        "outputId": "319bac17-b28a-41bd-c91d-e823486fb955",
        "colab": {
          "base_uri": "https://localhost:8080/",
          "height": 569
        }
      },
      "cell_type": "code",
      "source": [
        "lgb_train = lgb.Dataset(x_train_wb_ohe_50k_and_preds, y_train)\n",
        "lgb_eval = lgb.Dataset(x_test_wb_ohe_50k_and_preds, y_test, reference=lgb_train)\n",
        "\n",
        "params = {\n",
        "    'boosting_type': 'gbdt',\n",
        "    'objective': 'regression',\n",
        "    'metric': 'RMSE',\n",
        "    'max_depth' : 20,\n",
        "    'num_leaves': 500,\n",
        "    'learning_rate': 1,\n",
        "    'feature_fraction': 0.9,\n",
        "    'bagging_fraction': 0.8,\n",
        "    'bagging_freq': 3,\n",
        "    'n_jobs' : -1,\n",
        "    'verbose': 0,\n",
        "    'lambda_l1': 10,\n",
        "    'lambda_l2': 10\n",
        "}\n",
        "gbm = lgb.train(params,\n",
        "                lgb_train,\n",
        "                num_boost_round=200,\n",
        "                valid_sets=lgb_eval,\n",
        "                early_stopping_rounds=20\n",
        "                )\n",
        "\n",
        "y_test_wb_ohe_50k_and_preds = gbm.predict(x_test_wb_ohe_50k_and_preds, num_iterations=gbm.best_iteration)\n",
        "\n",
        "print('The rmse of prediction is:', mean_squared_error(y_test, y_test_wb_ohe_50k_and_preds) ** 0.5)"
      ],
      "execution_count": 0,
      "outputs": [
        {
          "output_type": "stream",
          "text": [
            "[1]\tvalid_0's rmse: 0.527515\n",
            "Training until validation scores don't improve for 20 rounds.\n",
            "[2]\tvalid_0's rmse: 0.521926\n",
            "[3]\tvalid_0's rmse: 0.519757\n",
            "[4]\tvalid_0's rmse: 0.520369\n",
            "[5]\tvalid_0's rmse: 0.520016\n",
            "[6]\tvalid_0's rmse: 0.519613\n",
            "[7]\tvalid_0's rmse: 0.519285\n",
            "[8]\tvalid_0's rmse: 0.519061\n",
            "[9]\tvalid_0's rmse: 0.51874\n",
            "[10]\tvalid_0's rmse: 0.518878\n",
            "[11]\tvalid_0's rmse: 0.519868\n",
            "[12]\tvalid_0's rmse: 0.519797\n",
            "[13]\tvalid_0's rmse: 0.520057\n",
            "[14]\tvalid_0's rmse: 0.520236\n",
            "[15]\tvalid_0's rmse: 0.520014\n",
            "[16]\tvalid_0's rmse: 0.520265\n",
            "[17]\tvalid_0's rmse: 0.520059\n",
            "[18]\tvalid_0's rmse: 0.520109\n",
            "[19]\tvalid_0's rmse: 0.5203\n",
            "[20]\tvalid_0's rmse: 0.520405\n",
            "[21]\tvalid_0's rmse: 0.520429\n",
            "[22]\tvalid_0's rmse: 0.520557\n",
            "[23]\tvalid_0's rmse: 0.521221\n",
            "[24]\tvalid_0's rmse: 0.52136\n",
            "[25]\tvalid_0's rmse: 0.52148\n",
            "[26]\tvalid_0's rmse: 0.521086\n",
            "[27]\tvalid_0's rmse: 0.52136\n",
            "[28]\tvalid_0's rmse: 0.521328\n",
            "[29]\tvalid_0's rmse: 0.521451\n",
            "Early stopping, best iteration is:\n",
            "[9]\tvalid_0's rmse: 0.51874\n",
            "The rmse of prediction is: 0.5187396392568965\n"
          ],
          "name": "stdout"
        }
      ]
    },
    {
      "metadata": {
        "id": "rc7kIg1kiufB",
        "colab_type": "code",
        "colab": {}
      },
      "cell_type": "code",
      "source": [
        "y_train_wb_ohe_50k_and_preds = gbm.predict(x_train_wb_ohe_50k_and_preds, num_iterations=gbm.best_iteration)"
      ],
      "execution_count": 0,
      "outputs": []
    },
    {
      "metadata": {
        "id": "YuZm4MWUjB0s",
        "colab_type": "code",
        "colab": {}
      },
      "cell_type": "code",
      "source": [
        "pickle.dump(y_train_wb_ohe_50k_and_preds, open('/content/gdrive/My Drive/MerCari/y_train_wb_ohe_50k_and_preds.p','wb'))\n",
        "pickle.dump(y_test_wb_ohe_50k_and_preds, open('/content/gdrive/My Drive/MerCari/y_test_wb_ohe_50k_and_preds.p','wb'))"
      ],
      "execution_count": 0,
      "outputs": []
    },
    {
      "metadata": {
        "id": "R68oOMVkG13M",
        "colab_type": "code",
        "colab": {}
      },
      "cell_type": "code",
      "source": [
        "y_train_wb_ohe_50k_and_preds = pickle.load(open('/content/gdrive/My Drive/MerCari/y_train_wb_ohe_50k_and_preds.p','rb'))\n",
        "y_test_wb_ohe_50k_and_preds = pickle.load(open('/content/gdrive/My Drive/MerCari/y_test_wb_ohe_50k_and_preds.p','rb'))"
      ],
      "execution_count": 0,
      "outputs": []
    },
    {
      "metadata": {
        "id": "yGnLwPp1oYUj",
        "colab_type": "code",
        "colab": {}
      },
      "cell_type": "code",
      "source": [
        ""
      ],
      "execution_count": 0,
      "outputs": []
    },
    {
      "metadata": {
        "id": "8sfquErRojr9",
        "colab_type": "code",
        "outputId": "a001f6c2-dcd7-4c0e-9348-558da231f331",
        "colab": {
          "base_uri": "https://localhost:8080/",
          "height": 67
        }
      },
      "cell_type": "code",
      "source": [
        "print(y_train_wb_ohe_ftrl.shape)\n",
        "print(y_train_wb_ohe_fm_ftrl.shape)\n",
        "print(y_train_wb_ohe_50k_and_preds.shape)"
      ],
      "execution_count": 0,
      "outputs": [
        {
          "output_type": "stream",
          "text": [
            "(1184672,)\n",
            "(1184672,)\n",
            "(1184672,)\n"
          ],
          "name": "stdout"
        }
      ]
    },
    {
      "metadata": {
        "id": "fXSe1ed2pqQg",
        "colab_type": "code",
        "outputId": "c20a4c9d-6c7e-4ac0-f5d6-8e581f744cbe",
        "colab": {
          "base_uri": "https://localhost:8080/",
          "height": 33
        }
      },
      "cell_type": "code",
      "source": [
        "y_train_wb_ohe_ftrl.reshape(y_train_wb_ohe_ftrl.shape[0],-1).shape"
      ],
      "execution_count": 0,
      "outputs": [
        {
          "output_type": "execute_result",
          "data": {
            "text/plain": [
              "(1184672, 1)"
            ]
          },
          "metadata": {
            "tags": []
          },
          "execution_count": 26
        }
      ]
    },
    {
      "metadata": {
        "id": "GBJ-p_2Np7vT",
        "colab_type": "code",
        "colab": {}
      },
      "cell_type": "code",
      "source": [
        "y_train_ftrl_fm_frtl_lgbm = np.hstack((y_train_wb_ohe_ftrl.reshape(y_train_wb_ohe_ftrl.shape[0],-1),\n",
        "                                      y_train_wb_ohe_fm_ftrl.reshape(y_train_wb_ohe_ftrl.shape[0],-1),\n",
        "                                      y_train_wb_ohe_50k_and_preds.reshape(y_train_wb_ohe_ftrl.shape[0],-1)))\n",
        "\n",
        "y_test_ftrl_fm_frtl_lgbm = np.hstack((y_test_wb_ohe_ftrl.reshape(y_test_wb_ohe_ftrl.shape[0],-1),\n",
        "                                      y_test_wb_ohe_fm_ftrl.reshape(y_test_wb_ohe_ftrl.shape[0],-1),\n",
        "                                      y_test_wb_ohe_50k_and_preds.reshape(y_test_wb_ohe_ftrl.shape[0],-1)))"
      ],
      "execution_count": 0,
      "outputs": []
    },
    {
      "metadata": {
        "id": "0_UEtvt2uCUC",
        "colab_type": "code",
        "colab": {}
      },
      "cell_type": "code",
      "source": [
        "y_train_fm_frtl_lgbm = np.hstack((y_train_wb_ohe_fm_ftrl.reshape(y_train_wb_ohe_ftrl.shape[0],-1),\n",
        "                                  y_train_wb_ohe_50k_and_preds.reshape(y_train_wb_ohe_ftrl.shape[0],-1)))\n",
        "\n",
        "y_test_fm_frtl_lgbm = np.hstack((y_test_wb_ohe_fm_ftrl.reshape(y_test_wb_ohe_ftrl.shape[0],-1),\n",
        "                                      y_test_wb_ohe_50k_and_preds.reshape(y_test_wb_ohe_ftrl.shape[0],-1)))"
      ],
      "execution_count": 0,
      "outputs": []
    },
    {
      "metadata": {
        "id": "-dim666JuL0J",
        "colab_type": "code",
        "outputId": "3d61d0f5-bed0-4e6d-9dd2-a222e63ee0da",
        "colab": {
          "base_uri": "https://localhost:8080/",
          "height": 33
        }
      },
      "cell_type": "code",
      "source": [
        "model_fm_frtl_lgbm = Ridge(alpha=10, max_iter=100)\n",
        "model_fm_frtl_lgbm.fit(y_train_fm_frtl_lgbm, y_train)\n",
        "y_test_final = model_fm_frtl_lgbm.predict(y_test_fm_frtl_lgbm)\n",
        "print('The rmse of prediction is:', mean_squared_error(y_test, y_test_final) ** 0.5)"
      ],
      "execution_count": 0,
      "outputs": [
        {
          "output_type": "stream",
          "text": [
            "The rmse of prediction is: 0.5034666634455569\n"
          ],
          "name": "stdout"
        }
      ]
    },
    {
      "metadata": {
        "id": "VkPLrlq_oYRm",
        "colab_type": "code",
        "outputId": "0c14ea1d-f609-4a2c-908c-b515d20dfb2c",
        "colab": {
          "base_uri": "https://localhost:8080/",
          "height": 33
        }
      },
      "cell_type": "code",
      "source": [
        "model_frtrl_fm_frtl_lgbm = Ridge(alpha=7, max_iter=100)\n",
        "model_frtrl_fm_frtl_lgbm.fit(y_train_ftrl_fm_frtl_lgbm, y_train)\n",
        "y_test_final = model_frtrl_fm_frtl_lgbm.predict(y_test_ftrl_fm_frtl_lgbm)\n",
        "print('The rmse of prediction is:', mean_squared_error(y_test, y_test_final) ** 0.5)"
      ],
      "execution_count": 0,
      "outputs": [
        {
          "output_type": "stream",
          "text": [
            "The rmse of prediction is: 0.5130937957030122\n"
          ],
          "name": "stdout"
        }
      ]
    },
    {
      "metadata": {
        "id": "W79i8S7CsJSc",
        "colab_type": "code",
        "colab": {}
      },
      "cell_type": "code",
      "source": [
        "from sklearn.svm import SVR\n",
        "#svr_rbf = SVR(kernel='rbf', C=100, gamma=0.1, epsilon=.1)\n",
        "svr_lin = SVR(kernel='linear', C=100, gamma='auto')\n",
        "#svr_poly = SVR(kernel='poly', C=100, gamma='auto', degree=3, epsilon=.1,\n",
        " #              coef0=1)\n",
        "#y_rbf = svr_rbf.fit(y_train_ftrl_fm_frtl_lgbm, y_train).predict(y_test_ftrl_fm_frtl_lgbm)\n",
        "y_lin = svr_lin.fit(y_train_ftrl_fm_frtl_lgbm, y_train).predict(y_test_ftrl_fm_frtl_lgbm)\n",
        "#y_poly = svr_poly.fit(y_train_ftrl_fm_frtl_lgbm, y_train).predict(y_test_ftrl_fm_frtl_lgbm)\n",
        "\n",
        "\n",
        "#print('The rmse of prediction is:', mean_squared_error(y_test, y_rbf) ** 0.5)\n",
        "print('The rmse of prediction is:', mean_squared_error(y_test, y_lin) ** 0.5)\n",
        "#print('The rmse of prediction is:', mean_squared_error(y_test, y_poly) ** 0.5)"
      ],
      "execution_count": 0,
      "outputs": []
    },
    {
      "metadata": {
        "id": "loQhw0JCrfvn",
        "colab_type": "code",
        "outputId": "d13f8471-1988-46ae-9db6-45b6e1dbc820",
        "colab": {
          "base_uri": "https://localhost:8080/",
          "height": 33
        }
      },
      "cell_type": "code",
      "source": [
        "y_test_final = y_test_wb_ohe_ftrl * 0.1  + y_test_wb_ohe_fm_ftrl * 0.5 + y_test_wb_ohe_50k_and_preds * 0.4\n",
        "\n",
        "print('The rmse of prediction is:', mean_squared_error(y_test, y_test_final) ** 0.5)"
      ],
      "execution_count": 0,
      "outputs": [
        {
          "output_type": "stream",
          "text": [
            "The rmse of prediction is: 0.5000186144312139\n"
          ],
          "name": "stdout"
        }
      ]
    },
    {
      "metadata": {
        "id": "TtVmu2fvjimM",
        "colab_type": "code",
        "outputId": "6f832176-14c9-45d4-9d5e-f06c07a43fc2",
        "colab": {
          "base_uri": "https://localhost:8080/",
          "height": 435
        }
      },
      "cell_type": "code",
      "source": [
        "lgb_train = lgb.Dataset(y_train_ftrl_fm_frtl_lgbm, y_train)\n",
        "lgb_eval = lgb.Dataset(y_test_ftrl_fm_frtl_lgbm, y_test, reference=lgb_train)\n",
        "\n",
        "params = {\n",
        "    'boosting_type': 'gbdt',\n",
        "    'objective': 'regression',\n",
        "    'metric': 'RMSE',\n",
        "    'max_depth' : 20,\n",
        "    'num_leaves': 120,\n",
        "    'learning_rate': 1,\n",
        "    'n_jobs' : -1,\n",
        "    'verbose': 0\n",
        "}\n",
        "gbm = lgb.train(params,\n",
        "                lgb_train,\n",
        "                num_boost_round=50,\n",
        "                valid_sets=lgb_eval,\n",
        "                early_stopping_rounds=20\n",
        "                )\n",
        "\n",
        "y_test_final = gbm.predict(y_test_ftrl_fm_frtl_lgbm, num_iterations=gbm.best_iteration)\n",
        "\n",
        "print('The rmse of prediction is:', mean_squared_error(y_test, y_test_final) ** 0.5)"
      ],
      "execution_count": 0,
      "outputs": [
        {
          "output_type": "stream",
          "text": [
            "[1]\tvalid_0's rmse: 0.517326\n",
            "Training until validation scores don't improve for 20 rounds.\n",
            "[2]\tvalid_0's rmse: 0.527273\n",
            "[3]\tvalid_0's rmse: 0.534359\n",
            "[4]\tvalid_0's rmse: 0.535027\n",
            "[5]\tvalid_0's rmse: 0.537251\n",
            "[6]\tvalid_0's rmse: 0.538184\n",
            "[7]\tvalid_0's rmse: 0.539456\n",
            "[8]\tvalid_0's rmse: 0.540836\n",
            "[9]\tvalid_0's rmse: 0.541111\n",
            "[10]\tvalid_0's rmse: 0.540832\n",
            "[11]\tvalid_0's rmse: 0.54172\n",
            "[12]\tvalid_0's rmse: 0.542518\n",
            "[13]\tvalid_0's rmse: 0.542526\n",
            "[14]\tvalid_0's rmse: 0.543404\n",
            "[15]\tvalid_0's rmse: 0.543692\n",
            "[16]\tvalid_0's rmse: 0.544959\n",
            "[17]\tvalid_0's rmse: 0.544528\n",
            "[18]\tvalid_0's rmse: 0.545257\n",
            "[19]\tvalid_0's rmse: 0.545801\n",
            "[20]\tvalid_0's rmse: 0.546413\n",
            "[21]\tvalid_0's rmse: 0.546657\n",
            "Early stopping, best iteration is:\n",
            "[1]\tvalid_0's rmse: 0.517326\n",
            "The rmse of prediction is: 0.5173255487020154\n"
          ],
          "name": "stdout"
        }
      ]
    },
    {
      "metadata": {
        "id": "juyKBM3KuobL",
        "colab_type": "code",
        "outputId": "f30b33f3-d0d4-4f5e-82a0-049424d35a89",
        "colab": {
          "base_uri": "https://localhost:8080/",
          "height": 435
        }
      },
      "cell_type": "code",
      "source": [
        "lgb_train = lgb.Dataset(y_train_fm_frtl_lgbm, y_train)\n",
        "lgb_eval = lgb.Dataset(y_test_fm_frtl_lgbm, y_test, reference=lgb_train)\n",
        "\n",
        "params = {\n",
        "    'boosting_type': 'gbdt',\n",
        "    'objective': 'regression',\n",
        "    'metric': 'RMSE',\n",
        "    'max_depth' : 20,\n",
        "    'num_leaves': 120,\n",
        "    'learning_rate': 1,\n",
        "    'n_jobs' : -1,\n",
        "    'verbose': 0\n",
        "}\n",
        "gbm = lgb.train(params,\n",
        "                lgb_train,\n",
        "                num_boost_round=50,\n",
        "                valid_sets=lgb_eval,\n",
        "                early_stopping_rounds=20\n",
        "                )\n",
        "\n",
        "y_test_final = gbm.predict(y_test_fm_frtl_lgbm, num_iterations=gbm.best_iteration)\n",
        "\n",
        "print('The rmse of prediction is:', mean_squared_error(y_test, y_test_final) ** 0.5)"
      ],
      "execution_count": 0,
      "outputs": [
        {
          "output_type": "stream",
          "text": [
            "[1]\tvalid_0's rmse: 0.515567\n",
            "Training until validation scores don't improve for 20 rounds.\n",
            "[2]\tvalid_0's rmse: 0.524671\n",
            "[3]\tvalid_0's rmse: 0.525789\n",
            "[4]\tvalid_0's rmse: 0.527827\n",
            "[5]\tvalid_0's rmse: 0.53105\n",
            "[6]\tvalid_0's rmse: 0.531469\n",
            "[7]\tvalid_0's rmse: 0.531661\n",
            "[8]\tvalid_0's rmse: 0.531587\n",
            "[9]\tvalid_0's rmse: 0.53116\n",
            "[10]\tvalid_0's rmse: 0.53135\n",
            "[11]\tvalid_0's rmse: 0.5322\n",
            "[12]\tvalid_0's rmse: 0.532759\n",
            "[13]\tvalid_0's rmse: 0.532962\n",
            "[14]\tvalid_0's rmse: 0.53217\n",
            "[15]\tvalid_0's rmse: 0.532347\n",
            "[16]\tvalid_0's rmse: 0.532718\n",
            "[17]\tvalid_0's rmse: 0.532951\n",
            "[18]\tvalid_0's rmse: 0.532648\n",
            "[19]\tvalid_0's rmse: 0.533325\n",
            "[20]\tvalid_0's rmse: 0.534367\n",
            "[21]\tvalid_0's rmse: 0.534514\n",
            "Early stopping, best iteration is:\n",
            "[1]\tvalid_0's rmse: 0.515567\n",
            "The rmse of prediction is: 0.5155668238503941\n"
          ],
          "name": "stdout"
        }
      ]
    },
    {
      "metadata": {
        "id": "Wkmw5ghj1OUj",
        "colab_type": "code",
        "colab": {}
      },
      "cell_type": "code",
      "source": [
        ""
      ],
      "execution_count": 0,
      "outputs": []
    },
    {
      "metadata": {
        "id": "3Im2F1Fe1N8c",
        "colab_type": "code",
        "colab": {}
      },
      "cell_type": "code",
      "source": [
        ""
      ],
      "execution_count": 0,
      "outputs": []
    },
    {
      "metadata": {
        "id": "xcaW0iPe1N43",
        "colab_type": "code",
        "colab": {}
      },
      "cell_type": "code",
      "source": [
        ""
      ],
      "execution_count": 0,
      "outputs": []
    },
    {
      "metadata": {
        "id": "ebhWSxaFmZdV",
        "colab_type": "code",
        "colab": {}
      },
      "cell_type": "code",
      "source": [
        ""
      ],
      "execution_count": 0,
      "outputs": []
    },
    {
      "metadata": {
        "id": "aLjin_31mZZr",
        "colab_type": "code",
        "colab": {}
      },
      "cell_type": "code",
      "source": [
        ""
      ],
      "execution_count": 0,
      "outputs": []
    },
    {
      "metadata": {
        "id": "58S2TcXEmZP9",
        "colab_type": "code",
        "colab": {}
      },
      "cell_type": "code",
      "source": [
        ""
      ],
      "execution_count": 0,
      "outputs": []
    }
  ]
}