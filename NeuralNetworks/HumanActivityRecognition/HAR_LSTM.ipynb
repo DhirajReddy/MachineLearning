{
 "cells": [
  {
   "cell_type": "code",
   "execution_count": 1,
   "metadata": {
    "collapsed": true
   },
   "outputs": [],
   "source": [
    "# Importing Libraries"
   ]
  },
  {
   "cell_type": "code",
   "execution_count": 1,
   "metadata": {},
   "outputs": [],
   "source": [
    "import pandas as pd\n",
    "import numpy as np"
   ]
  },
  {
   "cell_type": "code",
   "execution_count": 2,
   "metadata": {},
   "outputs": [],
   "source": [
    "# Activities are the class labels\n",
    "# It is a 6 class classification\n",
    "ACTIVITIES = {\n",
    "    0: 'WALKING',\n",
    "    1: 'WALKING_UPSTAIRS',\n",
    "    2: 'WALKING_DOWNSTAIRS',\n",
    "    3: 'SITTING',\n",
    "    4: 'STANDING',\n",
    "    5: 'LAYING',\n",
    "}\n",
    "\n",
    "# Utility function to print the confusion matrix\n",
    "def confusion_matrix(Y_true, Y_pred):\n",
    "    Y_true = pd.Series([ACTIVITIES[y] for y in np.argmax(Y_true, axis=1)])\n",
    "    Y_pred = pd.Series([ACTIVITIES[y] for y in np.argmax(Y_pred, axis=1)])\n",
    "\n",
    "    return pd.crosstab(Y_true, Y_pred, rownames=['True'], colnames=['Pred'])"
   ]
  },
  {
   "cell_type": "markdown",
   "metadata": {},
   "source": [
    "### Data"
   ]
  },
  {
   "cell_type": "code",
   "execution_count": 3,
   "metadata": {},
   "outputs": [],
   "source": [
    "# Data directory\n",
    "DATADIR = 'UCI_HAR_Dataset'"
   ]
  },
  {
   "cell_type": "code",
   "execution_count": 4,
   "metadata": {},
   "outputs": [],
   "source": [
    "# Raw data signals\n",
    "# Signals are from Accelerometer and Gyroscope\n",
    "# The signals are in x,y,z directions\n",
    "# Sensor signals are filtered to have only body acceleration\n",
    "# excluding the acceleration due to gravity\n",
    "# Triaxial acceleration from the accelerometer is total acceleration\n",
    "SIGNALS = [\n",
    "    \"body_acc_x\",\n",
    "    \"body_acc_y\",\n",
    "    \"body_acc_z\",\n",
    "    \"body_gyro_x\",\n",
    "    \"body_gyro_y\",\n",
    "    \"body_gyro_z\",\n",
    "    \"total_acc_x\",\n",
    "    \"total_acc_y\",\n",
    "    \"total_acc_z\"\n",
    "]"
   ]
  },
  {
   "cell_type": "code",
   "execution_count": 5,
   "metadata": {},
   "outputs": [],
   "source": [
    "# Utility function to read the data from csv file\n",
    "def _read_csv(filename):\n",
    "    return pd.read_csv(filename, delim_whitespace=True, header=None)\n",
    "\n",
    "# Utility function to load the load\n",
    "def load_signals(subset):\n",
    "    signals_data = []\n",
    "\n",
    "    for signal in SIGNALS:\n",
    "        filename = f'UCI_HAR_Dataset/{subset}/Inertial Signals/{signal}_{subset}.txt'\n",
    "        signals_data.append(\n",
    "            _read_csv(filename).as_matrix()\n",
    "        ) \n",
    "\n",
    "    # Transpose is used to change the dimensionality of the output,\n",
    "    # aggregating the signals by combination of sample/timestep.\n",
    "    # Resultant shape is (7352 train/2947 test samples, 128 timesteps, 9 signals)\n",
    "    return np.transpose(signals_data, (1, 2, 0))"
   ]
  },
  {
   "cell_type": "code",
   "execution_count": 6,
   "metadata": {},
   "outputs": [],
   "source": [
    "\n",
    "def load_y(subset):\n",
    "    \"\"\"\n",
    "    The objective that we are trying to predict is a integer, from 1 to 6,\n",
    "    that represents a human activity. We return a binary representation of \n",
    "    every sample objective as a 6 bits vector using One Hot Encoding\n",
    "    (https://pandas.pydata.org/pandas-docs/stable/generated/pandas.get_dummies.html)\n",
    "    \"\"\"\n",
    "    filename = f'UCI_HAR_Dataset\\\\{subset}\\\\y_{subset}.txt'\n",
    "    y = _read_csv(filename)[0]\n",
    "\n",
    "    return pd.get_dummies(y).as_matrix()"
   ]
  },
  {
   "cell_type": "code",
   "execution_count": 7,
   "metadata": {},
   "outputs": [],
   "source": [
    "def load_data():\n",
    "    \"\"\"\n",
    "    Obtain the dataset from multiple files.\n",
    "    Returns: X_train, X_test, y_train, y_test\n",
    "    \"\"\"\n",
    "    X_train, X_test = load_signals('train'), load_signals('test')\n",
    "    y_train, y_test = load_y('train'), load_y('test')\n",
    "\n",
    "    return X_train, X_test, y_train, y_test"
   ]
  },
  {
   "cell_type": "code",
   "execution_count": 8,
   "metadata": {},
   "outputs": [
    {
     "name": "stderr",
     "output_type": "stream",
     "text": [
      "C:\\ProgramData\\Anaconda3\\lib\\site-packages\\h5py\\__init__.py:36: FutureWarning: Conversion of the second argument of issubdtype from `float` to `np.floating` is deprecated. In future, it will be treated as `np.float64 == np.dtype(float).type`.\n",
      "  from ._conv import register_converters as _register_converters\n"
     ]
    }
   ],
   "source": [
    "# Importing tensorflow\n",
    "np.random.seed(42)\n",
    "import tensorflow as tf\n",
    "tf.set_random_seed(42)"
   ]
  },
  {
   "cell_type": "code",
   "execution_count": 9,
   "metadata": {},
   "outputs": [],
   "source": [
    "# Configuring a session\n",
    "session_conf = tf.ConfigProto(\n",
    "    intra_op_parallelism_threads=1,\n",
    "    inter_op_parallelism_threads=1\n",
    ")"
   ]
  },
  {
   "cell_type": "code",
   "execution_count": 10,
   "metadata": {},
   "outputs": [
    {
     "name": "stderr",
     "output_type": "stream",
     "text": [
      "Using TensorFlow backend.\n"
     ]
    }
   ],
   "source": [
    "# Import Keras\n",
    "from keras import backend as K\n",
    "sess = tf.Session(graph=tf.get_default_graph(), config=session_conf)\n",
    "K.set_session(sess)"
   ]
  },
  {
   "cell_type": "code",
   "execution_count": 12,
   "metadata": {},
   "outputs": [],
   "source": [
    "# Importing libraries\n",
    "from keras.models import Sequential\n",
    "from keras.layers import LSTM\n",
    "from keras.layers.core import Dense, Dropout"
   ]
  },
  {
   "cell_type": "code",
   "execution_count": 13,
   "metadata": {},
   "outputs": [],
   "source": [
    "# Initializing parameters\n",
    "epochs = 30\n",
    "batch_size = 16\n",
    "n_hidden = 32"
   ]
  },
  {
   "cell_type": "code",
   "execution_count": 15,
   "metadata": {},
   "outputs": [],
   "source": [
    "# Utility function to count the number of classes\n",
    "def _count_classes(y):\n",
    "    return len(set([tuple(category) for category in y]))"
   ]
  },
  {
   "cell_type": "code",
   "execution_count": 16,
   "metadata": {},
   "outputs": [
    {
     "name": "stderr",
     "output_type": "stream",
     "text": [
      "C:\\ProgramData\\Anaconda3\\lib\\site-packages\\ipykernel_launcher.py:12: FutureWarning: Method .as_matrix will be removed in a future version. Use .values instead.\n",
      "  if sys.path[0] == '':\n"
     ]
    }
   ],
   "source": [
    "# Loading the train and test data\n",
    "X_train, X_test, Y_train, Y_test = load_data()"
   ]
  },
  {
   "cell_type": "code",
   "execution_count": 17,
   "metadata": {},
   "outputs": [
    {
     "name": "stdout",
     "output_type": "stream",
     "text": [
      "128\n",
      "9\n",
      "7352\n"
     ]
    }
   ],
   "source": [
    "timesteps = len(X_train[0])\n",
    "input_dim = len(X_train[0][0])\n",
    "n_classes = _count_classes(Y_train)\n",
    "\n",
    "print(timesteps)\n",
    "print(input_dim)\n",
    "print(len(X_train))"
   ]
  },
  {
   "cell_type": "markdown",
   "metadata": {},
   "source": [
    "- Defining the Architecture of LSTM"
   ]
  },
  {
   "cell_type": "code",
   "execution_count": 91,
   "metadata": {},
   "outputs": [
    {
     "name": "stdout",
     "output_type": "stream",
     "text": [
      "_________________________________________________________________\n",
      "Layer (type)                 Output Shape              Param #   \n",
      "=================================================================\n",
      "lstm_3 (LSTM)                (None, 32)                5376      \n",
      "_________________________________________________________________\n",
      "dropout_3 (Dropout)          (None, 32)                0         \n",
      "_________________________________________________________________\n",
      "dense_3 (Dense)              (None, 6)                 198       \n",
      "=================================================================\n",
      "Total params: 5,574\n",
      "Trainable params: 5,574\n",
      "Non-trainable params: 0\n",
      "_________________________________________________________________\n"
     ]
    }
   ],
   "source": [
    "# Initiliazing the sequential model\n",
    "model = Sequential()\n",
    "# Configuring the parameters\n",
    "model.add(LSTM(n_hidden, input_shape=(timesteps, input_dim)))\n",
    "# Adding a dropout layer\n",
    "model.add(Dropout(0.5))\n",
    "# Adding a dense output layer with sigmoid activation\n",
    "model.add(Dense(n_classes, activation='sigmoid'))\n",
    "model.summary()"
   ]
  },
  {
   "cell_type": "code",
   "execution_count": 22,
   "metadata": {
    "collapsed": true
   },
   "outputs": [],
   "source": [
    "# Compiling the model\n",
    "model.compile(loss='categorical_crossentropy',\n",
    "              optimizer='rmsprop',\n",
    "              metrics=['accuracy'])"
   ]
  },
  {
   "cell_type": "code",
   "execution_count": 23,
   "metadata": {},
   "outputs": [
    {
     "name": "stdout",
     "output_type": "stream",
     "text": [
      "Train on 7352 samples, validate on 2947 samples\n",
      "Epoch 1/30\n",
      "7352/7352 [==============================] - 92s 13ms/step - loss: 1.3018 - acc: 0.4395 - val_loss: 1.1254 - val_acc: 0.4662\n",
      "Epoch 2/30\n",
      "7352/7352 [==============================] - 94s 13ms/step - loss: 0.9666 - acc: 0.5880 - val_loss: 0.9491 - val_acc: 0.5714\n",
      "Epoch 3/30\n",
      "7352/7352 [==============================] - 97s 13ms/step - loss: 0.7812 - acc: 0.6408 - val_loss: 0.8286 - val_acc: 0.5850\n",
      "Epoch 4/30\n",
      "7352/7352 [==============================] - 95s 13ms/step - loss: 0.6941 - acc: 0.6574 - val_loss: 0.7297 - val_acc: 0.6128\n",
      "Epoch 5/30\n",
      "7352/7352 [==============================] - 92s 13ms/step - loss: 0.6336 - acc: 0.6912 - val_loss: 0.7359 - val_acc: 0.6787\n",
      "Epoch 6/30\n",
      "7352/7352 [==============================] - 94s 13ms/step - loss: 0.5859 - acc: 0.7134 - val_loss: 0.7015 - val_acc: 0.6939\n",
      "Epoch 7/30\n",
      "7352/7352 [==============================] - 95s 13ms/step - loss: 0.5692 - acc: 0.7477 - val_loss: 0.5995 - val_acc: 0.7387\n",
      "Epoch 8/30\n",
      "7352/7352 [==============================] - 96s 13ms/step - loss: 0.4899 - acc: 0.7809 - val_loss: 0.5762 - val_acc: 0.7387\n",
      "Epoch 9/30\n",
      "7352/7352 [==============================] - 90s 12ms/step - loss: 0.4482 - acc: 0.7886 - val_loss: 0.7413 - val_acc: 0.7126\n",
      "Epoch 10/30\n",
      "7352/7352 [==============================] - 90s 12ms/step - loss: 0.4132 - acc: 0.8077 - val_loss: 0.5048 - val_acc: 0.7513\n",
      "Epoch 11/30\n",
      "7352/7352 [==============================] - 89s 12ms/step - loss: 0.3985 - acc: 0.8274 - val_loss: 0.5234 - val_acc: 0.7452\n",
      "Epoch 12/30\n",
      "7352/7352 [==============================] - 91s 12ms/step - loss: 0.3378 - acc: 0.8638 - val_loss: 0.4114 - val_acc: 0.8833\n",
      "Epoch 13/30\n",
      "7352/7352 [==============================] - 91s 12ms/step - loss: 0.2947 - acc: 0.9051 - val_loss: 0.4386 - val_acc: 0.8731\n",
      "Epoch 14/30\n",
      "7352/7352 [==============================] - 90s 12ms/step - loss: 0.2448 - acc: 0.9291 - val_loss: 0.3768 - val_acc: 0.8921\n",
      "Epoch 15/30\n",
      "7352/7352 [==============================] - 91s 12ms/step - loss: 0.2157 - acc: 0.9331 - val_loss: 0.4441 - val_acc: 0.8931\n",
      "Epoch 16/30\n",
      "7352/7352 [==============================] - 90s 12ms/step - loss: 0.2053 - acc: 0.9366 - val_loss: 0.4162 - val_acc: 0.8968\n",
      "Epoch 17/30\n",
      "7352/7352 [==============================] - 89s 12ms/step - loss: 0.2028 - acc: 0.9404 - val_loss: 0.4538 - val_acc: 0.8962\n",
      "Epoch 18/30\n",
      "7352/7352 [==============================] - 93s 13ms/step - loss: 0.1911 - acc: 0.9419 - val_loss: 0.3964 - val_acc: 0.8999\n",
      "Epoch 19/30\n",
      "7352/7352 [==============================] - 96s 13ms/step - loss: 0.1912 - acc: 0.9407 - val_loss: 0.3165 - val_acc: 0.9030\n",
      "Epoch 20/30\n",
      "7352/7352 [==============================] - 96s 13ms/step - loss: 0.1732 - acc: 0.9446 - val_loss: 0.4546 - val_acc: 0.8904\n",
      "Epoch 21/30\n",
      "7352/7352 [==============================] - 94s 13ms/step - loss: 0.1782 - acc: 0.9444 - val_loss: 0.3346 - val_acc: 0.9063\n",
      "Epoch 22/30\n",
      "7352/7352 [==============================] - 95s 13ms/step - loss: 0.1812 - acc: 0.9418 - val_loss: 0.8164 - val_acc: 0.8582\n",
      "Epoch 23/30\n",
      "7352/7352 [==============================] - 95s 13ms/step - loss: 0.1824 - acc: 0.9426 - val_loss: 0.4240 - val_acc: 0.9036\n",
      "Epoch 24/30\n",
      "7352/7352 [==============================] - 94s 13ms/step - loss: 0.1726 - acc: 0.9429 - val_loss: 0.4067 - val_acc: 0.9148\n",
      "Epoch 25/30\n",
      "7352/7352 [==============================] - 96s 13ms/step - loss: 0.1737 - acc: 0.9411 - val_loss: 0.3396 - val_acc: 0.9074\n",
      "Epoch 26/30\n",
      "7352/7352 [==============================] - 96s 13ms/step - loss: 0.1650 - acc: 0.9461 - val_loss: 0.3806 - val_acc: 0.9019\n",
      "Epoch 27/30\n",
      "7352/7352 [==============================] - 89s 12ms/step - loss: 0.1925 - acc: 0.9415 - val_loss: 0.6464 - val_acc: 0.8850\n",
      "Epoch 28/30\n",
      "7352/7352 [==============================] - 91s 12ms/step - loss: 0.1965 - acc: 0.9425 - val_loss: 0.3363 - val_acc: 0.9203\n",
      "Epoch 29/30\n",
      "7352/7352 [==============================] - 92s 12ms/step - loss: 0.1889 - acc: 0.9431 - val_loss: 0.3737 - val_acc: 0.9158\n",
      "Epoch 30/30\n",
      "7352/7352 [==============================] - 95s 13ms/step - loss: 0.1945 - acc: 0.9414 - val_loss: 0.3088 - val_acc: 0.9097\n"
     ]
    },
    {
     "data": {
      "text/plain": [
       "<keras.callbacks.History at 0x29b5ee36a20>"
      ]
     },
     "execution_count": 23,
     "metadata": {},
     "output_type": "execute_result"
    }
   ],
   "source": [
    "# Training the model\n",
    "model.fit(X_train,\n",
    "          Y_train,\n",
    "          batch_size=batch_size,\n",
    "          validation_data=(X_test, Y_test),\n",
    "          epochs=epochs)"
   ]
  },
  {
   "cell_type": "code",
   "execution_count": 24,
   "metadata": {},
   "outputs": [
    {
     "name": "stdout",
     "output_type": "stream",
     "text": [
      "Pred                LAYING  SITTING  STANDING  WALKING  WALKING_DOWNSTAIRS  \\\n",
      "True                                                                         \n",
      "LAYING                 512        0        25        0                   0   \n",
      "SITTING                  3      410        75        0                   0   \n",
      "STANDING                 0       87       445        0                   0   \n",
      "WALKING                  0        0         0      481                   2   \n",
      "WALKING_DOWNSTAIRS       0        0         0        0                 382   \n",
      "WALKING_UPSTAIRS         0        0         0        2                  18   \n",
      "\n",
      "Pred                WALKING_UPSTAIRS  \n",
      "True                                  \n",
      "LAYING                             0  \n",
      "SITTING                            3  \n",
      "STANDING                           0  \n",
      "WALKING                           13  \n",
      "WALKING_DOWNSTAIRS                38  \n",
      "WALKING_UPSTAIRS                 451  \n"
     ]
    }
   ],
   "source": [
    "# Confusion Matrix\n",
    "print(confusion_matrix(Y_test, model.predict(X_test)))"
   ]
  },
  {
   "cell_type": "code",
   "execution_count": 27,
   "metadata": {},
   "outputs": [
    {
     "name": "stdout",
     "output_type": "stream",
     "text": [
      "2947/2947 [==============================] - 4s 2ms/step\n"
     ]
    }
   ],
   "source": [
    "score = model.evaluate(X_test, Y_test)"
   ]
  },
  {
   "cell_type": "code",
   "execution_count": 28,
   "metadata": {},
   "outputs": [
    {
     "data": {
      "text/plain": [
       "[0.3087582236972612, 0.9097387173396675]"
      ]
     },
     "execution_count": 28,
     "metadata": {},
     "output_type": "execute_result"
    }
   ],
   "source": [
    "score"
   ]
  },
  {
   "cell_type": "markdown",
   "metadata": {},
   "source": [
    "- With a simple 2 layer architecture we got 90.09% accuracy and a loss of 0.30\n",
    "- We can further imporve the performace with Hyperparameter tuning"
   ]
  },
  {
   "cell_type": "markdown",
   "metadata": {},
   "source": [
    "## Assignment"
   ]
  },
  {
   "cell_type": "code",
   "execution_count": 19,
   "metadata": {},
   "outputs": [],
   "source": [
    "%matplotlib notebook\n",
    "%matplotlib inline\n",
    "import matplotlib.pyplot as plt\n",
    "def plt_dynamic(x, vy, ty, ax, colors=['b']):\n",
    "    ax.plot(x, vy, 'b', label=\"Validation Loss\")\n",
    "    ax.plot(x, ty, 'r', label=\"Train Loss\")\n",
    "    plt.legend()\n",
    "    plt.grid()\n",
    "    fig.canvas.draw()"
   ]
  },
  {
   "cell_type": "markdown",
   "metadata": {},
   "source": [
    "### Increase the number of LSTM units"
   ]
  },
  {
   "cell_type": "code",
   "execution_count": 20,
   "metadata": {},
   "outputs": [
    {
     "name": "stdout",
     "output_type": "stream",
     "text": [
      "_________________________________________________________________\n",
      "Layer (type)                 Output Shape              Param #   \n",
      "=================================================================\n",
      "lstm_2 (LSTM)                (None, 42)                8736      \n",
      "_________________________________________________________________\n",
      "dropout_2 (Dropout)          (None, 42)                0         \n",
      "_________________________________________________________________\n",
      "dense_2 (Dense)              (None, 6)                 258       \n",
      "=================================================================\n",
      "Total params: 8,994\n",
      "Trainable params: 8,994\n",
      "Non-trainable params: 0\n",
      "_________________________________________________________________\n",
      "None\n",
      "Train on 7352 samples, validate on 2947 samples\n",
      "Epoch 1/30\n",
      "7352/7352 [==============================] - 54s 7ms/step - loss: 1.2644 - acc: 0.4611 - val_loss: 1.1723 - val_acc: 0.4547\n",
      "Epoch 2/30\n",
      "7352/7352 [==============================] - 53s 7ms/step - loss: 1.0224 - acc: 0.5407 - val_loss: 1.3362 - val_acc: 0.5453\n",
      "Epoch 3/30\n",
      "7352/7352 [==============================] - 51s 7ms/step - loss: 0.8211 - acc: 0.6330 - val_loss: 0.8746 - val_acc: 0.6308\n",
      "Epoch 4/30\n",
      "7352/7352 [==============================] - 52s 7ms/step - loss: 0.7134 - acc: 0.6756 - val_loss: 0.7940 - val_acc: 0.6583\n",
      "Epoch 5/30\n",
      "7352/7352 [==============================] - 56s 8ms/step - loss: 0.6858 - acc: 0.6956 - val_loss: 0.7575 - val_acc: 0.6970\n",
      "Epoch 6/30\n",
      "7352/7352 [==============================] - 51s 7ms/step - loss: 0.6032 - acc: 0.7401 - val_loss: 0.8671 - val_acc: 0.6634\n",
      "Epoch 7/30\n",
      "7352/7352 [==============================] - 54s 7ms/step - loss: 0.5263 - acc: 0.7701 - val_loss: 0.6679 - val_acc: 0.7587\n",
      "Epoch 8/30\n",
      "7352/7352 [==============================] - 50s 7ms/step - loss: 0.4956 - acc: 0.7913 - val_loss: 0.6863 - val_acc: 0.7859\n",
      "Epoch 9/30\n",
      "7352/7352 [==============================] - 57s 8ms/step - loss: 0.5058 - acc: 0.8248 - val_loss: 0.6606 - val_acc: 0.7991\n",
      "Epoch 10/30\n",
      "7352/7352 [==============================] - 47s 6ms/step - loss: 0.4159 - acc: 0.8607 - val_loss: 0.6018 - val_acc: 0.8334\n",
      "Epoch 11/30\n",
      "7352/7352 [==============================] - 53s 7ms/step - loss: 0.4042 - acc: 0.8696 - val_loss: 0.4954 - val_acc: 0.8517\n",
      "Epoch 12/30\n",
      "7352/7352 [==============================] - 56s 8ms/step - loss: 0.3741 - acc: 0.8860 - val_loss: 0.5498 - val_acc: 0.8385\n",
      "Epoch 13/30\n",
      "7352/7352 [==============================] - 53s 7ms/step - loss: 0.3515 - acc: 0.9002 - val_loss: 0.5414 - val_acc: 0.8561\n",
      "Epoch 14/30\n",
      "7352/7352 [==============================] - 51s 7ms/step - loss: 0.2826 - acc: 0.9131 - val_loss: 0.9443 - val_acc: 0.7475\n",
      "Epoch 15/30\n",
      "7352/7352 [==============================] - 48s 7ms/step - loss: 0.2529 - acc: 0.9204 - val_loss: 0.6579 - val_acc: 0.8483\n",
      "Epoch 16/30\n",
      "7352/7352 [==============================] - 52s 7ms/step - loss: 0.2417 - acc: 0.9207 - val_loss: 0.5037 - val_acc: 0.8717\n",
      "Epoch 17/30\n",
      "7352/7352 [==============================] - 53s 7ms/step - loss: 0.2375 - acc: 0.9232 - val_loss: 0.5458 - val_acc: 0.8575\n",
      "Epoch 18/30\n",
      "7352/7352 [==============================] - 52s 7ms/step - loss: 0.1903 - acc: 0.9334 - val_loss: 0.5145 - val_acc: 0.8748\n",
      "Epoch 19/30\n",
      "7352/7352 [==============================] - 53s 7ms/step - loss: 0.2119 - acc: 0.9335 - val_loss: 0.4453 - val_acc: 0.8901\n",
      "Epoch 20/30\n",
      "7352/7352 [==============================] - 53s 7ms/step - loss: 0.1778 - acc: 0.9387 - val_loss: 0.4243 - val_acc: 0.8962\n",
      "Epoch 21/30\n",
      "7352/7352 [==============================] - 54s 7ms/step - loss: 0.2252 - acc: 0.9304 - val_loss: 0.5656 - val_acc: 0.8846\n",
      "Epoch 22/30\n",
      "7352/7352 [==============================] - 50s 7ms/step - loss: 0.2316 - acc: 0.9232 - val_loss: 0.3382 - val_acc: 0.8958\n",
      "Epoch 23/30\n",
      "7352/7352 [==============================] - 50s 7ms/step - loss: 0.1887 - acc: 0.9374 - val_loss: 0.4892 - val_acc: 0.8996\n",
      "Epoch 24/30\n",
      "7352/7352 [==============================] - 52s 7ms/step - loss: 0.1709 - acc: 0.9373 - val_loss: 0.4583 - val_acc: 0.8856\n",
      "Epoch 25/30\n",
      "7352/7352 [==============================] - 51s 7ms/step - loss: 0.1812 - acc: 0.9361 - val_loss: 0.4182 - val_acc: 0.9091\n",
      "Epoch 26/30\n",
      "7352/7352 [==============================] - 50s 7ms/step - loss: 0.1681 - acc: 0.9427 - val_loss: 0.3715 - val_acc: 0.9216\n",
      "Epoch 27/30\n",
      "7352/7352 [==============================] - 65s 9ms/step - loss: 0.1505 - acc: 0.9441 - val_loss: 0.4287 - val_acc: 0.9145\n",
      "Epoch 28/30\n",
      "7352/7352 [==============================] - 61s 8ms/step - loss: 0.2206 - acc: 0.9369 - val_loss: 0.6098 - val_acc: 0.8571\n",
      "Epoch 29/30\n",
      "7352/7352 [==============================] - 53s 7ms/step - loss: 0.1960 - acc: 0.9344 - val_loss: 0.4874 - val_acc: 0.8996\n",
      "Epoch 30/30\n",
      "7352/7352 [==============================] - 44s 6ms/step - loss: 0.1729 - acc: 0.9425 - val_loss: 0.2679 - val_acc: 0.9121\n",
      "Pred                LAYING  SITTING  STANDING  WALKING  WALKING_DOWNSTAIRS  \\\n",
      "True                                                                         \n",
      "LAYING                 537        0         0        0                   0   \n",
      "SITTING                  3      384       101        1                   0   \n",
      "STANDING                 0       88       444        0                   0   \n",
      "WALKING                  0        0         0      476                  12   \n",
      "WALKING_DOWNSTAIRS       0        0         1        2                 401   \n",
      "WALKING_UPSTAIRS         0        2         0       19                   4   \n",
      "\n",
      "Pred                WALKING_UPSTAIRS  \n",
      "True                                  \n",
      "LAYING                             0  \n",
      "SITTING                            2  \n",
      "STANDING                           0  \n",
      "WALKING                            8  \n",
      "WALKING_DOWNSTAIRS                16  \n",
      "WALKING_UPSTAIRS                 446  \n",
      "2947/2947 [==============================] - 2s 598us/step\n",
      "Accuracy of model with 42 LSTM units and 0.5 dropout rate [0.2679305517443838, 0.9121140142517815]\n"
     ]
    }
   ],
   "source": [
    "n_hidden = 42\n",
    "drop_out_rate = 0.5\n",
    "# Initiliazing the sequential model\n",
    "model = Sequential()\n",
    "# Configuring the parameters\n",
    "model.add(LSTM(n_hidden, input_shape=(timesteps, input_dim)))\n",
    "# Adding a dropout layer\n",
    "model.add(Dropout(drop_out_rate))\n",
    "# Adding a dense output layer with sigmoid activation\n",
    "model.add(Dense(n_classes, activation='sigmoid'))\n",
    "print(model.summary())\n",
    "\n",
    "# Compiling the model\n",
    "model.compile(loss='categorical_crossentropy',\n",
    "              optimizer='rmsprop',\n",
    "              metrics=['accuracy'])\n",
    "\n",
    "# Training the model\n",
    "history = model.fit(X_train,\n",
    "          Y_train,\n",
    "          batch_size=batch_size,\n",
    "          validation_data=(X_test, Y_test),\n",
    "          epochs=epochs)\n",
    "\n",
    "# Confusion Matrix\n",
    "print(confusion_matrix(Y_test, model.predict(X_test)))\n",
    "\n",
    "score = model.evaluate(X_test, Y_test)\n",
    "print(f'Accuracy of model with 42 LSTM units and 0.5 dropout rate {score}')"
   ]
  },
  {
   "cell_type": "code",
   "execution_count": 21,
   "metadata": {},
   "outputs": [
    {
     "data": {
      "image/png": "[encoded data removed]",
      "text/plain": [
       "<Figure size 432x288 with 1 Axes>"
      ]
     },
     "metadata": {},
     "output_type": "display_data"
    }
   ],
   "source": [
    "fig,ax = plt.subplots(1,1)\n",
    "ax.set_xlabel('epoch') ; ax.set_ylabel('Categorical Crossentropy Loss')\n",
    "# list of epoch numbers\n",
    "x = list(range(1,31))\n",
    "vy = history.history['val_loss']\n",
    "ty = history.history['loss']\n",
    "plt_dynamic(x, vy, ty, ax)"
   ]
  },
  {
   "cell_type": "markdown",
   "metadata": {},
   "source": [
    "### Decrease the number of LSTM units"
   ]
  },
  {
   "cell_type": "code",
   "execution_count": 22,
   "metadata": {},
   "outputs": [
    {
     "name": "stdout",
     "output_type": "stream",
     "text": [
      "_________________________________________________________________\n",
      "Layer (type)                 Output Shape              Param #   \n",
      "=================================================================\n",
      "lstm_3 (LSTM)                (None, 22)                2816      \n",
      "_________________________________________________________________\n",
      "dropout_3 (Dropout)          (None, 22)                0         \n",
      "_________________________________________________________________\n",
      "dense_3 (Dense)              (None, 6)                 138       \n",
      "=================================================================\n",
      "Total params: 2,954\n",
      "Trainable params: 2,954\n",
      "Non-trainable params: 0\n",
      "_________________________________________________________________\n",
      "None\n",
      "Train on 7352 samples, validate on 2947 samples\n",
      "Epoch 1/30\n",
      "7352/7352 [==============================] - 45s 6ms/step - loss: 1.4248 - acc: 0.3889 - val_loss: 1.2835 - val_acc: 0.4679\n",
      "Epoch 2/30\n",
      "7352/7352 [==============================] - 47s 6ms/step - loss: 1.1531 - acc: 0.5192 - val_loss: 1.0650 - val_acc: 0.5202\n",
      "Epoch 3/30\n",
      "7352/7352 [==============================] - 47s 6ms/step - loss: 0.9688 - acc: 0.5949 - val_loss: 0.8607 - val_acc: 0.6183\n",
      "Epoch 4/30\n",
      "7352/7352 [==============================] - 53s 7ms/step - loss: 0.7939 - acc: 0.6846 - val_loss: 0.8026 - val_acc: 0.6675\n",
      "Epoch 5/30\n",
      "7352/7352 [==============================] - 50s 7ms/step - loss: 0.6874 - acc: 0.7350 - val_loss: 0.7380 - val_acc: 0.6905\n",
      "Epoch 6/30\n",
      "7352/7352 [==============================] - 49s 7ms/step - loss: 0.6208 - acc: 0.7507 - val_loss: 0.6359 - val_acc: 0.7177\n",
      "Epoch 7/30\n",
      "7352/7352 [==============================] - 48s 7ms/step - loss: 0.5787 - acc: 0.7686 - val_loss: 0.6615 - val_acc: 0.7458\n",
      "Epoch 8/30\n",
      "7352/7352 [==============================] - 49s 7ms/step - loss: 0.5301 - acc: 0.7945 - val_loss: 0.6661 - val_acc: 0.7418\n",
      "Epoch 9/30\n",
      "7352/7352 [==============================] - 48s 7ms/step - loss: 0.4966 - acc: 0.8081 - val_loss: 0.7459 - val_acc: 0.7594\n",
      "Epoch 10/30\n",
      "7352/7352 [==============================] - 49s 7ms/step - loss: 0.4653 - acc: 0.8188 - val_loss: 0.6385 - val_acc: 0.8049\n",
      "Epoch 11/30\n",
      "7352/7352 [==============================] - 49s 7ms/step - loss: 0.4549 - acc: 0.8501 - val_loss: 0.5894 - val_acc: 0.8168\n",
      "Epoch 12/30\n",
      "7352/7352 [==============================] - 49s 7ms/step - loss: 0.4216 - acc: 0.8753 - val_loss: 0.5526 - val_acc: 0.8307\n",
      "Epoch 13/30\n",
      "7352/7352 [==============================] - 54s 7ms/step - loss: 0.3671 - acc: 0.8917 - val_loss: 0.7040 - val_acc: 0.8239\n",
      "Epoch 14/30\n",
      "7352/7352 [==============================] - 48s 7ms/step - loss: 0.3522 - acc: 0.8928 - val_loss: 1.5619 - val_acc: 0.5911\n",
      "Epoch 15/30\n",
      "7352/7352 [==============================] - 48s 7ms/step - loss: 0.3487 - acc: 0.8965 - val_loss: 0.6395 - val_acc: 0.8351\n",
      "Epoch 16/30\n",
      "7352/7352 [==============================] - 49s 7ms/step - loss: 0.3175 - acc: 0.9007 - val_loss: 0.6715 - val_acc: 0.8507\n",
      "Epoch 17/30\n",
      "7352/7352 [==============================] - 47s 6ms/step - loss: 0.3119 - acc: 0.9018 - val_loss: 0.7481 - val_acc: 0.7988\n",
      "Epoch 18/30\n",
      "7352/7352 [==============================] - 47s 6ms/step - loss: 0.2959 - acc: 0.9097 - val_loss: 0.5825 - val_acc: 0.8398\n",
      "Epoch 19/30\n",
      "7352/7352 [==============================] - 45s 6ms/step - loss: 0.2835 - acc: 0.9135 - val_loss: 0.7041 - val_acc: 0.8327\n",
      "Epoch 20/30\n",
      "7352/7352 [==============================] - 51s 7ms/step - loss: 0.2526 - acc: 0.9211 - val_loss: 0.5506 - val_acc: 0.8636\n",
      "Epoch 21/30\n",
      "7352/7352 [==============================] - 53s 7ms/step - loss: 0.2525 - acc: 0.9200 - val_loss: 0.4989 - val_acc: 0.8721\n",
      "Epoch 22/30\n",
      "7352/7352 [==============================] - 51s 7ms/step - loss: 0.2372 - acc: 0.9241 - val_loss: 0.4703 - val_acc: 0.8694\n",
      "Epoch 23/30\n",
      "7352/7352 [==============================] - 48s 7ms/step - loss: 0.2350 - acc: 0.9272 - val_loss: 0.4553 - val_acc: 0.8758\n",
      "Epoch 24/30\n",
      "7352/7352 [==============================] - 48s 7ms/step - loss: 0.2436 - acc: 0.9259 - val_loss: 0.5244 - val_acc: 0.8795\n",
      "Epoch 25/30\n",
      "7352/7352 [==============================] - 49s 7ms/step - loss: 0.2258 - acc: 0.9287 - val_loss: 0.4903 - val_acc: 0.8602\n",
      "Epoch 26/30\n",
      "7352/7352 [==============================] - 48s 7ms/step - loss: 0.2142 - acc: 0.9286 - val_loss: 0.4416 - val_acc: 0.8724\n",
      "Epoch 27/30\n",
      "7352/7352 [==============================] - 49s 7ms/step - loss: 0.2237 - acc: 0.9297 - val_loss: 0.4320 - val_acc: 0.8605\n",
      "Epoch 28/30\n",
      "7352/7352 [==============================] - 45s 6ms/step - loss: 0.2372 - acc: 0.9295 - val_loss: 0.3812 - val_acc: 0.8877\n",
      "Epoch 29/30\n",
      "7352/7352 [==============================] - 47s 6ms/step - loss: 0.1973 - acc: 0.9306 - val_loss: 0.3660 - val_acc: 0.8836\n",
      "Epoch 30/30\n",
      "7352/7352 [==============================] - 52s 7ms/step - loss: 0.2216 - acc: 0.9283 - val_loss: 0.3583 - val_acc: 0.8890\n",
      "Pred                LAYING  SITTING  STANDING  WALKING  WALKING_DOWNSTAIRS  \\\n",
      "True                                                                         \n",
      "LAYING                 510        0         0        0                   0   \n",
      "SITTING                  0      381       101        4                   0   \n",
      "STANDING                 0       83       447        2                   0   \n",
      "WALKING                  0        0         0      457                  15   \n",
      "WALKING_DOWNSTAIRS       0        0         0        3                 395   \n",
      "WALKING_UPSTAIRS         0        0         1       11                  29   \n",
      "\n",
      "Pred                WALKING_UPSTAIRS  \n",
      "True                                  \n",
      "LAYING                            27  \n",
      "SITTING                            5  \n",
      "STANDING                           0  \n",
      "WALKING                           24  \n",
      "WALKING_DOWNSTAIRS                22  \n",
      "WALKING_UPSTAIRS                 430  \n",
      "2947/2947 [==============================] - 2s 683us/step\n",
      "Accuracy of model with 22 LSTM units with 0.5 dropout rate [0.35832923181338366, 0.8890397013912453]\n"
     ]
    }
   ],
   "source": [
    "n_hidden = 22\n",
    "drop_out_rate = 0.5\n",
    "# Initiliazing the sequential model\n",
    "model = Sequential()\n",
    "# Configuring the parameters\n",
    "model.add(LSTM(n_hidden, input_shape=(timesteps, input_dim)))\n",
    "# Adding a dropout layer\n",
    "model.add(Dropout(drop_out_rate))\n",
    "# Adding a dense output layer with sigmoid activation\n",
    "model.add(Dense(n_classes, activation='sigmoid'))\n",
    "print(model.summary())\n",
    "\n",
    "# Compiling the model\n",
    "model.compile(loss='categorical_crossentropy',\n",
    "              optimizer='rmsprop',\n",
    "              metrics=['accuracy'])\n",
    "\n",
    "# Training the model\n",
    "history = model.fit(X_train,\n",
    "          Y_train,\n",
    "          batch_size=batch_size,\n",
    "          validation_data=(X_test, Y_test),\n",
    "          epochs=epochs)\n",
    "\n",
    "# Confusion Matrix\n",
    "print(confusion_matrix(Y_test, model.predict(X_test)))\n",
    "\n",
    "score = model.evaluate(X_test, Y_test)\n",
    "print(f'Accuracy of model with 22 LSTM units with 0.5 dropout rate {score}')"
   ]
  },
  {
   "cell_type": "code",
   "execution_count": 23,
   "metadata": {},
   "outputs": [
    {
     "data": {
      "image/png": "[encoded data removed]",
      "text/plain": [
       "<Figure size 432x288 with 1 Axes>"
      ]
     },
     "metadata": {},
     "output_type": "display_data"
    }
   ],
   "source": [
    "fig,ax = plt.subplots(1,1)\n",
    "ax.set_xlabel('epoch') ; ax.set_ylabel('Categorical Crossentropy Loss')\n",
    "# list of epoch numbers\n",
    "x = list(range(1,31))\n",
    "vy = history.history['val_loss']\n",
    "ty = history.history['loss']\n",
    "plt_dynamic(x, vy, ty, ax)"
   ]
  },
  {
   "cell_type": "markdown",
   "metadata": {},
   "source": [
    "### Increase the Drop out rate"
   ]
  },
  {
   "cell_type": "code",
   "execution_count": 24,
   "metadata": {},
   "outputs": [
    {
     "name": "stdout",
     "output_type": "stream",
     "text": [
      "_________________________________________________________________\n",
      "Layer (type)                 Output Shape              Param #   \n",
      "=================================================================\n",
      "lstm_4 (LSTM)                (None, 32)                5376      \n",
      "_________________________________________________________________\n",
      "dropout_4 (Dropout)          (None, 32)                0         \n",
      "_________________________________________________________________\n",
      "dense_4 (Dense)              (None, 6)                 198       \n",
      "=================================================================\n",
      "Total params: 5,574\n",
      "Trainable params: 5,574\n",
      "Non-trainable params: 0\n",
      "_________________________________________________________________\n",
      "None\n",
      "Train on 7352 samples, validate on 2947 samples\n",
      "Epoch 1/30\n",
      "7352/7352 [==============================] - 57s 8ms/step - loss: 1.4102 - acc: 0.4066 - val_loss: 1.2623 - val_acc: 0.4778\n",
      "Epoch 2/30\n",
      "7352/7352 [==============================] - 55s 8ms/step - loss: 1.2258 - acc: 0.4660 - val_loss: 1.1751 - val_acc: 0.4686\n",
      "Epoch 3/30\n",
      "7352/7352 [==============================] - 49s 7ms/step - loss: 1.1563 - acc: 0.4823 - val_loss: 1.1199 - val_acc: 0.4842\n",
      "Epoch 4/30\n",
      "7352/7352 [==============================] - 56s 8ms/step - loss: 1.1060 - acc: 0.4955 - val_loss: 1.1032 - val_acc: 0.4808\n",
      "Epoch 5/30\n",
      "7352/7352 [==============================] - 52s 7ms/step - loss: 1.0727 - acc: 0.4973 - val_loss: 1.0164 - val_acc: 0.5087\n",
      "Epoch 6/30\n",
      "7352/7352 [==============================] - 52s 7ms/step - loss: 0.9817 - acc: 0.5532 - val_loss: 1.0568 - val_acc: 0.5558\n",
      "Epoch 7/30\n",
      "7352/7352 [==============================] - 53s 7ms/step - loss: 0.8894 - acc: 0.6035 - val_loss: 0.8700 - val_acc: 0.5701\n",
      "Epoch 8/30\n",
      "7352/7352 [==============================] - 53s 7ms/step - loss: 0.8295 - acc: 0.6206 - val_loss: 0.8622 - val_acc: 0.5962\n",
      "Epoch 9/30\n",
      "7352/7352 [==============================] - 56s 8ms/step - loss: 0.8654 - acc: 0.6177 - val_loss: 0.9529 - val_acc: 0.5864\n",
      "Epoch 10/30\n",
      "7352/7352 [==============================] - 61s 8ms/step - loss: 0.8332 - acc: 0.6266 - val_loss: 0.9672 - val_acc: 0.6006\n",
      "Epoch 11/30\n",
      "7352/7352 [==============================] - 72s 10ms/step - loss: 0.8541 - acc: 0.6170 - val_loss: 1.2005 - val_acc: 0.5212\n",
      "Epoch 12/30\n",
      "7352/7352 [==============================] - 52s 7ms/step - loss: 0.9455 - acc: 0.6005 - val_loss: 1.0386 - val_acc: 0.5616\n",
      "Epoch 13/30\n",
      "7352/7352 [==============================] - 52s 7ms/step - loss: 0.9897 - acc: 0.5858 - val_loss: 1.0418 - val_acc: 0.5188\n",
      "Epoch 14/30\n",
      "7352/7352 [==============================] - 48s 7ms/step - loss: 0.9348 - acc: 0.5842 - val_loss: 0.9185 - val_acc: 0.5782\n",
      "Epoch 15/30\n",
      "7352/7352 [==============================] - 48s 7ms/step - loss: 0.8461 - acc: 0.6250 - val_loss: 0.9367 - val_acc: 0.6105\n",
      "Epoch 16/30\n",
      "7352/7352 [==============================] - 47s 6ms/step - loss: 0.8499 - acc: 0.6371 - val_loss: 0.9281 - val_acc: 0.5847\n",
      "Epoch 17/30\n",
      "7352/7352 [==============================] - 47s 6ms/step - loss: 0.7795 - acc: 0.6627 - val_loss: 0.9343 - val_acc: 0.6356\n",
      "Epoch 18/30\n",
      "7352/7352 [==============================] - 45s 6ms/step - loss: 0.7528 - acc: 0.6816 - val_loss: 0.8428 - val_acc: 0.6427\n",
      "Epoch 19/30\n",
      "7352/7352 [==============================] - 45s 6ms/step - loss: 0.7251 - acc: 0.7144 - val_loss: 0.7840 - val_acc: 0.7431\n",
      "Epoch 20/30\n",
      "7352/7352 [==============================] - 45s 6ms/step - loss: 0.7074 - acc: 0.7466 - val_loss: 0.8754 - val_acc: 0.7384\n",
      "Epoch 21/30\n",
      "7352/7352 [==============================] - 45s 6ms/step - loss: 0.7177 - acc: 0.7597 - val_loss: 0.8429 - val_acc: 0.7472\n",
      "Epoch 22/30\n",
      "7352/7352 [==============================] - 45s 6ms/step - loss: 1.1283 - acc: 0.6730 - val_loss: 1.3175 - val_acc: 0.5701\n",
      "Epoch 23/30\n",
      "7352/7352 [==============================] - 45s 6ms/step - loss: 1.0980 - acc: 0.6111 - val_loss: 1.0120 - val_acc: 0.6664\n",
      "Epoch 24/30\n",
      "7352/7352 [==============================] - 45s 6ms/step - loss: 0.9002 - acc: 0.6804 - val_loss: 1.0032 - val_acc: 0.6773\n",
      "Epoch 25/30\n",
      "7352/7352 [==============================] - 46s 6ms/step - loss: 0.9821 - acc: 0.6477 - val_loss: 0.8656 - val_acc: 0.6882\n",
      "Epoch 26/30\n",
      "7352/7352 [==============================] - 45s 6ms/step - loss: 1.0073 - acc: 0.6321 - val_loss: 0.8224 - val_acc: 0.7245\n",
      "Epoch 27/30\n",
      "7352/7352 [==============================] - 45s 6ms/step - loss: 0.9093 - acc: 0.6627 - val_loss: 1.0980 - val_acc: 0.7333\n",
      "Epoch 28/30\n",
      "7352/7352 [==============================] - 45s 6ms/step - loss: 0.7939 - acc: 0.7363 - val_loss: 0.7439 - val_acc: 0.8056\n",
      "Epoch 29/30\n",
      "7352/7352 [==============================] - 45s 6ms/step - loss: 0.7502 - acc: 0.7476 - val_loss: 0.8951 - val_acc: 0.7947\n",
      "Epoch 30/30\n",
      "7352/7352 [==============================] - 45s 6ms/step - loss: 0.6753 - acc: 0.7612 - val_loss: 0.6133 - val_acc: 0.8151\n",
      "Pred                LAYING  SITTING  STANDING  WALKING  WALKING_DOWNSTAIRS  \\\n",
      "True                                                                         \n",
      "LAYING                 509        0        27        0                   1   \n",
      "SITTING                  0      383       102        1                   2   \n",
      "STANDING                 0      111       417        0                   0   \n",
      "WALKING                  0        2         3      418                  17   \n",
      "WALKING_DOWNSTAIRS       0        0         0       91                 328   \n",
      "WALKING_UPSTAIRS         0        0        23       91                  10   \n",
      "\n",
      "Pred                WALKING_UPSTAIRS  \n",
      "True                                  \n",
      "LAYING                             0  \n",
      "SITTING                            3  \n",
      "STANDING                           4  \n",
      "WALKING                           56  \n",
      "WALKING_DOWNSTAIRS                 1  \n",
      "WALKING_UPSTAIRS                 347  \n",
      "2947/2947 [==============================] - 2s 566us/step\n",
      "Accuracy of model with 32 LSTM units and 0.8 dropout rate [0.6132997309995741, 0.8150661690056344]\n"
     ]
    }
   ],
   "source": [
    "n_hidden = 32\n",
    "drop_out_rate = 0.8\n",
    "# Initiliazing the sequential model\n",
    "model = Sequential()\n",
    "# Configuring the parameters\n",
    "model.add(LSTM(n_hidden, input_shape=(timesteps, input_dim)))\n",
    "# Adding a dropout layer\n",
    "model.add(Dropout(drop_out_rate))\n",
    "# Adding a dense output layer with sigmoid activation\n",
    "model.add(Dense(n_classes, activation='sigmoid'))\n",
    "print(model.summary())\n",
    "\n",
    "# Compiling the model\n",
    "model.compile(loss='categorical_crossentropy',\n",
    "              optimizer='rmsprop',\n",
    "              metrics=['accuracy'])\n",
    "\n",
    "# Training the model\n",
    "history = model.fit(X_train,\n",
    "          Y_train,\n",
    "          batch_size=batch_size,\n",
    "          validation_data=(X_test, Y_test),\n",
    "          epochs=epochs)\n",
    "\n",
    "# Confusion Matrix\n",
    "print(confusion_matrix(Y_test, model.predict(X_test)))\n",
    "\n",
    "score = model.evaluate(X_test, Y_test)\n",
    "print(f'Accuracy of model with 32 LSTM units and 0.8 dropout rate {score}')"
   ]
  },
  {
   "cell_type": "code",
   "execution_count": 25,
   "metadata": {},
   "outputs": [
    {
     "data": {
      "image/png": "[encoded data removed]",
      "text/plain": [
       "<Figure size 432x288 with 1 Axes>"
      ]
     },
     "metadata": {},
     "output_type": "display_data"
    }
   ],
   "source": [
    "fig,ax = plt.subplots(1,1)\n",
    "ax.set_xlabel('epoch') ; ax.set_ylabel('Categorical Crossentropy Loss')\n",
    "# list of epoch numbers\n",
    "x = list(range(1,31))\n",
    "vy = history.history['val_loss']\n",
    "ty = history.history['loss']\n",
    "plt_dynamic(x, vy, ty, ax)"
   ]
  },
  {
   "cell_type": "markdown",
   "metadata": {},
   "source": [
    "### Decrease the Drop out rate"
   ]
  },
  {
   "cell_type": "code",
   "execution_count": 26,
   "metadata": {},
   "outputs": [
    {
     "name": "stdout",
     "output_type": "stream",
     "text": [
      "_________________________________________________________________\n",
      "Layer (type)                 Output Shape              Param #   \n",
      "=================================================================\n",
      "lstm_5 (LSTM)                (None, 32)                5376      \n",
      "_________________________________________________________________\n",
      "dropout_5 (Dropout)          (None, 32)                0         \n",
      "_________________________________________________________________\n",
      "dense_5 (Dense)              (None, 6)                 198       \n",
      "=================================================================\n",
      "Total params: 5,574\n",
      "Trainable params: 5,574\n",
      "Non-trainable params: 0\n",
      "_________________________________________________________________\n",
      "None\n",
      "Train on 7352 samples, validate on 2947 samples\n",
      "Epoch 1/30\n",
      "7352/7352 [==============================] - 47s 6ms/step - loss: 1.2753 - acc: 0.4588 - val_loss: 1.0666 - val_acc: 0.5826\n",
      "Epoch 2/30\n",
      "7352/7352 [==============================] - 45s 6ms/step - loss: 0.8632 - acc: 0.6396 - val_loss: 0.7874 - val_acc: 0.7021\n",
      "Epoch 3/30\n",
      "7352/7352 [==============================] - 45s 6ms/step - loss: 0.6709 - acc: 0.7443 - val_loss: 0.6810 - val_acc: 0.7102\n",
      "Epoch 4/30\n",
      "7352/7352 [==============================] - 45s 6ms/step - loss: 0.6064 - acc: 0.7763 - val_loss: 0.6055 - val_acc: 0.7611\n",
      "Epoch 5/30\n",
      "7352/7352 [==============================] - 45s 6ms/step - loss: 0.5142 - acc: 0.8187 - val_loss: 0.5151 - val_acc: 0.8293\n",
      "Epoch 6/30\n",
      "7352/7352 [==============================] - 45s 6ms/step - loss: 0.3838 - acc: 0.8802 - val_loss: 0.4182 - val_acc: 0.8609\n",
      "Epoch 7/30\n",
      "7352/7352 [==============================] - 45s 6ms/step - loss: 0.3063 - acc: 0.9067 - val_loss: 0.4229 - val_acc: 0.8588\n",
      "Epoch 8/30\n",
      "7352/7352 [==============================] - 45s 6ms/step - loss: 0.2549 - acc: 0.9166 - val_loss: 0.3513 - val_acc: 0.8819\n",
      "Epoch 9/30\n",
      "7352/7352 [==============================] - 45s 6ms/step - loss: 0.2584 - acc: 0.9173 - val_loss: 1.8049 - val_acc: 0.6563\n",
      "Epoch 10/30\n",
      "7352/7352 [==============================] - 45s 6ms/step - loss: 0.2231 - acc: 0.9253 - val_loss: 0.3792 - val_acc: 0.8955\n",
      "Epoch 11/30\n",
      "7352/7352 [==============================] - 45s 6ms/step - loss: 0.2023 - acc: 0.9310 - val_loss: 0.3875 - val_acc: 0.8850\n",
      "Epoch 12/30\n",
      "7352/7352 [==============================] - 45s 6ms/step - loss: 0.1943 - acc: 0.9348 - val_loss: 0.4598 - val_acc: 0.8690\n",
      "Epoch 13/30\n",
      "7352/7352 [==============================] - 45s 6ms/step - loss: 0.1993 - acc: 0.9309 - val_loss: 0.3556 - val_acc: 0.9009\n",
      "Epoch 14/30\n",
      "7352/7352 [==============================] - 45s 6ms/step - loss: 0.2047 - acc: 0.9351 - val_loss: 0.4258 - val_acc: 0.8870\n",
      "Epoch 15/30\n",
      "7352/7352 [==============================] - 45s 6ms/step - loss: 0.1706 - acc: 0.9429 - val_loss: 0.4049 - val_acc: 0.8931\n",
      "Epoch 16/30\n",
      "7352/7352 [==============================] - 45s 6ms/step - loss: 0.1661 - acc: 0.9423 - val_loss: 0.4490 - val_acc: 0.8965\n",
      "Epoch 17/30\n",
      "7352/7352 [==============================] - 45s 6ms/step - loss: 0.1554 - acc: 0.9430 - val_loss: 0.4736 - val_acc: 0.8948\n",
      "Epoch 18/30\n",
      "7352/7352 [==============================] - 45s 6ms/step - loss: 0.1767 - acc: 0.9404 - val_loss: 0.4106 - val_acc: 0.8918\n",
      "Epoch 19/30\n",
      "7352/7352 [==============================] - 45s 6ms/step - loss: 0.1494 - acc: 0.9441 - val_loss: 0.5805 - val_acc: 0.8941\n",
      "Epoch 20/30\n",
      "7352/7352 [==============================] - 45s 6ms/step - loss: 0.1652 - acc: 0.9437 - val_loss: 0.4993 - val_acc: 0.8972\n",
      "Epoch 21/30\n",
      "7352/7352 [==============================] - 46s 6ms/step - loss: 0.1776 - acc: 0.9418 - val_loss: 0.4738 - val_acc: 0.8931\n",
      "Epoch 22/30\n",
      "7352/7352 [==============================] - 45s 6ms/step - loss: 0.1615 - acc: 0.9430 - val_loss: 0.7676 - val_acc: 0.8446\n",
      "Epoch 23/30\n",
      "7352/7352 [==============================] - 45s 6ms/step - loss: 0.1401 - acc: 0.9497 - val_loss: 0.4876 - val_acc: 0.8938\n",
      "Epoch 24/30\n",
      "7352/7352 [==============================] - 49s 7ms/step - loss: 0.1491 - acc: 0.9470 - val_loss: 0.4910 - val_acc: 0.9019\n",
      "Epoch 25/30\n",
      "7352/7352 [==============================] - 46s 6ms/step - loss: 0.1426 - acc: 0.9491 - val_loss: 0.4997 - val_acc: 0.9016\n",
      "Epoch 26/30\n",
      "7352/7352 [==============================] - 45s 6ms/step - loss: 0.1404 - acc: 0.9476 - val_loss: 0.5389 - val_acc: 0.9016\n",
      "Epoch 27/30\n",
      "7352/7352 [==============================] - 45s 6ms/step - loss: 0.1710 - acc: 0.9463 - val_loss: 0.5355 - val_acc: 0.9070\n",
      "Epoch 28/30\n",
      "7352/7352 [==============================] - 45s 6ms/step - loss: 0.1415 - acc: 0.9501 - val_loss: 0.5650 - val_acc: 0.8979\n",
      "Epoch 29/30\n",
      "7352/7352 [==============================] - 46s 6ms/step - loss: 0.1329 - acc: 0.9497 - val_loss: 0.6042 - val_acc: 0.8819\n",
      "Epoch 30/30\n",
      "7352/7352 [==============================] - 46s 6ms/step - loss: 0.1717 - acc: 0.9463 - val_loss: 0.7462 - val_acc: 0.8470\n",
      "Pred                LAYING  SITTING  STANDING  WALKING  WALKING_DOWNSTAIRS  \\\n",
      "True                                                                         \n",
      "LAYING                 377      133         0        0                   0   \n",
      "SITTING                  0      372       112        1                   0   \n",
      "STANDING                 0       81       448        1                   0   \n",
      "WALKING                  0        0         1      453                  36   \n",
      "WALKING_DOWNSTAIRS       0        0         0        0                 410   \n",
      "WALKING_UPSTAIRS         0        0         1       15                  19   \n",
      "\n",
      "Pred                WALKING_UPSTAIRS  \n",
      "True                                  \n",
      "LAYING                            27  \n",
      "SITTING                            6  \n",
      "STANDING                           2  \n",
      "WALKING                            6  \n",
      "WALKING_DOWNSTAIRS                10  \n",
      "WALKING_UPSTAIRS                 436  \n",
      "2947/2947 [==============================] - 2s 575us/step\n",
      "Accuracy of model 32 LSTM units with 0.3 dropout rate [0.74618253868728, 0.8469630132337971]\n"
     ]
    }
   ],
   "source": [
    "n_hidden = 32\n",
    "drop_out_rate = 0.3\n",
    "# Initiliazing the sequential model\n",
    "model = Sequential()\n",
    "# Configuring the parameters\n",
    "model.add(LSTM(n_hidden, input_shape=(timesteps, input_dim)))\n",
    "# Adding a dropout layer\n",
    "model.add(Dropout(drop_out_rate))\n",
    "# Adding a dense output layer with sigmoid activation\n",
    "model.add(Dense(n_classes, activation='sigmoid'))\n",
    "print(model.summary())\n",
    "\n",
    "# Compiling the model\n",
    "model.compile(loss='categorical_crossentropy',\n",
    "              optimizer='rmsprop',\n",
    "              metrics=['accuracy'])\n",
    "\n",
    "# Training the model\n",
    "history = model.fit(X_train,\n",
    "          Y_train,\n",
    "          batch_size=batch_size,\n",
    "          validation_data=(X_test, Y_test),\n",
    "          epochs=epochs)\n",
    "\n",
    "# Confusion Matrix\n",
    "print(confusion_matrix(Y_test, model.predict(X_test)))\n",
    "\n",
    "score = model.evaluate(X_test, Y_test)\n",
    "print(f'Accuracy of model 32 LSTM units with 0.3 dropout rate {score}')"
   ]
  },
  {
   "cell_type": "code",
   "execution_count": 27,
   "metadata": {},
   "outputs": [
    {
     "data": {
      "image/png": "[encoded data removed]",
      "text/plain": [
       "<Figure size 432x288 with 1 Axes>"
      ]
     },
     "metadata": {},
     "output_type": "display_data"
    }
   ],
   "source": [
    "fig,ax = plt.subplots(1,1)\n",
    "ax.set_xlabel('epoch') ; ax.set_ylabel('Categorical Crossentropy Loss')\n",
    "# list of epoch numbers\n",
    "x = list(range(1,31))\n",
    "vy = history.history['val_loss']\n",
    "ty = history.history['loss']\n",
    "plt_dynamic(x, vy, ty, ax)"
   ]
  },
  {
   "cell_type": "markdown",
   "metadata": {},
   "source": [
    "### Two layers of LSTM with increased drop out rate"
   ]
  },
  {
   "cell_type": "code",
   "execution_count": 29,
   "metadata": {},
   "outputs": [
    {
     "name": "stdout",
     "output_type": "stream",
     "text": [
      "_________________________________________________________________\n",
      "Layer (type)                 Output Shape              Param #   \n",
      "=================================================================\n",
      "lstm_6 (LSTM)                (None, 128, 32)           5376      \n",
      "_________________________________________________________________\n",
      "dropout_6 (Dropout)          (None, 128, 32)           0         \n",
      "_________________________________________________________________\n",
      "lstm_7 (LSTM)                (None, 16)                3136      \n",
      "_________________________________________________________________\n",
      "dropout_7 (Dropout)          (None, 16)                0         \n",
      "_________________________________________________________________\n",
      "dense_6 (Dense)              (None, 6)                 102       \n",
      "=================================================================\n",
      "Total params: 8,614\n",
      "Trainable params: 8,614\n",
      "Non-trainable params: 0\n",
      "_________________________________________________________________\n",
      "None\n",
      "Train on 7352 samples, validate on 2947 samples\n",
      "Epoch 1/30\n",
      "7352/7352 [==============================] - 102s 14ms/step - loss: 1.4810 - acc: 0.4381 - val_loss: 1.2489 - val_acc: 0.5056\n",
      "Epoch 2/30\n",
      "7352/7352 [==============================] - 97s 13ms/step - loss: 1.1783 - acc: 0.5192 - val_loss: 0.9868 - val_acc: 0.5914\n",
      "Epoch 3/30\n",
      "7352/7352 [==============================] - 112s 15ms/step - loss: 1.0741 - acc: 0.5199 - val_loss: 1.4012 - val_acc: 0.4428\n",
      "Epoch 4/30\n",
      "7352/7352 [==============================] - 147s 20ms/step - loss: 0.9925 - acc: 0.5260 - val_loss: 0.9170 - val_acc: 0.5877\n",
      "Epoch 5/30\n",
      "7352/7352 [==============================] - 166s 23ms/step - loss: 0.9243 - acc: 0.5454 - val_loss: 0.8397 - val_acc: 0.6013\n",
      "Epoch 6/30\n",
      "7352/7352 [==============================] - 133s 18ms/step - loss: 0.9095 - acc: 0.5498 - val_loss: 0.8315 - val_acc: 0.5996\n",
      "Epoch 7/30\n",
      "7352/7352 [==============================] - 105s 14ms/step - loss: 0.8751 - acc: 0.5532 - val_loss: 0.9317 - val_acc: 0.6037\n",
      "Epoch 8/30\n",
      "7352/7352 [==============================] - 104s 14ms/step - loss: 0.8780 - acc: 0.5665 - val_loss: 1.2869 - val_acc: 0.5103\n",
      "Epoch 9/30\n",
      "7352/7352 [==============================] - 96s 13ms/step - loss: 0.8585 - acc: 0.5740 - val_loss: 0.8276 - val_acc: 0.6077\n",
      "Epoch 10/30\n",
      "7352/7352 [==============================] - 104s 14ms/step - loss: 0.8264 - acc: 0.5895 - val_loss: 0.8350 - val_acc: 0.6071\n",
      "Epoch 11/30\n",
      "7352/7352 [==============================] - 113s 15ms/step - loss: 0.8303 - acc: 0.5922 - val_loss: 0.8531 - val_acc: 0.6067\n",
      "Epoch 12/30\n",
      "7352/7352 [==============================] - 119s 16ms/step - loss: 0.8138 - acc: 0.6092 - val_loss: 0.8285 - val_acc: 0.6125\n",
      "Epoch 13/30\n",
      "7352/7352 [==============================] - 114s 15ms/step - loss: 0.7910 - acc: 0.6171 - val_loss: 0.8114 - val_acc: 0.6074\n",
      "Epoch 14/30\n",
      "7352/7352 [==============================] - 105s 14ms/step - loss: 0.7967 - acc: 0.6234 - val_loss: 0.7799 - val_acc: 0.6145\n",
      "Epoch 15/30\n",
      "7352/7352 [==============================] - 100s 14ms/step - loss: 0.7896 - acc: 0.6281 - val_loss: 0.8703 - val_acc: 0.6037\n",
      "Epoch 16/30\n",
      "7352/7352 [==============================] - 126s 17ms/step - loss: 0.7816 - acc: 0.6232 - val_loss: 0.7770 - val_acc: 0.6240\n",
      "Epoch 17/30\n",
      "7352/7352 [==============================] - 147s 20ms/step - loss: 0.8032 - acc: 0.6202 - val_loss: 1.0445 - val_acc: 0.5687\n",
      "Epoch 18/30\n",
      "7352/7352 [==============================] - 145s 20ms/step - loss: 0.7722 - acc: 0.6287 - val_loss: 0.8113 - val_acc: 0.6115\n",
      "Epoch 19/30\n",
      "7352/7352 [==============================] - 146s 20ms/step - loss: 0.7546 - acc: 0.6333 - val_loss: 0.7914 - val_acc: 0.6189\n",
      "Epoch 20/30\n",
      "7352/7352 [==============================] - 156s 21ms/step - loss: 0.7642 - acc: 0.6330 - val_loss: 0.7967 - val_acc: 0.6189\n",
      "Epoch 21/30\n",
      "7352/7352 [==============================] - 136s 19ms/step - loss: 0.7572 - acc: 0.6338 - val_loss: 0.7868 - val_acc: 0.6111\n",
      "Epoch 22/30\n",
      "7352/7352 [==============================] - 142s 19ms/step - loss: 0.7433 - acc: 0.6362 - val_loss: 0.8068 - val_acc: 0.6067\n",
      "Epoch 23/30\n",
      "7352/7352 [==============================] - 124s 17ms/step - loss: 0.7510 - acc: 0.6357 - val_loss: 0.7869 - val_acc: 0.6274\n",
      "Epoch 24/30\n",
      "7352/7352 [==============================] - 136s 19ms/step - loss: 0.7465 - acc: 0.6336 - val_loss: 0.8026 - val_acc: 0.6193\n",
      "Epoch 25/30\n",
      "7352/7352 [==============================] - 133s 18ms/step - loss: 0.7432 - acc: 0.6371 - val_loss: 0.8121 - val_acc: 0.6247\n",
      "Epoch 26/30\n",
      "7352/7352 [==============================] - 123s 17ms/step - loss: 0.7476 - acc: 0.6370 - val_loss: 0.7391 - val_acc: 0.6193\n",
      "Epoch 27/30\n",
      "7352/7352 [==============================] - 134s 18ms/step - loss: 0.7499 - acc: 0.6405 - val_loss: 0.8061 - val_acc: 0.6149\n",
      "Epoch 28/30\n",
      "7352/7352 [==============================] - 130s 18ms/step - loss: 0.7468 - acc: 0.6370 - val_loss: 0.7677 - val_acc: 0.6244\n",
      "Epoch 29/30\n",
      "7352/7352 [==============================] - 120s 16ms/step - loss: 0.7547 - acc: 0.6368 - val_loss: 0.8190 - val_acc: 0.6081\n",
      "Epoch 30/30\n",
      "7352/7352 [==============================] - 129s 18ms/step - loss: 0.7830 - acc: 0.6368 - val_loss: 0.9640 - val_acc: 0.6105\n",
      "Pred                LAYING  SITTING  STANDING  WALKING\n",
      "True                                                  \n",
      "LAYING                 479       31        27        0\n",
      "SITTING                  0      372       116        3\n",
      "STANDING                 0       61       471        0\n",
      "WALKING                  0       17         2      477\n",
      "WALKING_DOWNSTAIRS       0       12         2      406\n",
      "WALKING_UPSTAIRS         0        8         4      459\n",
      "2947/2947 [==============================] - 4s 1ms/step\n",
      "Accuracy of model 32 units in the first layer, 16 units in the second layer with 0.7 drop out rate [0.9640496854544253, 0.6104513064133017]\n"
     ]
    }
   ],
   "source": [
    "n_hidden = 32\n",
    "drop_out_rate = 0.7\n",
    "# Initiliazing the sequential model\n",
    "model = Sequential()\n",
    "# Configuring the parameters\n",
    "model.add(LSTM(n_hidden, input_shape=(timesteps, input_dim), return_sequences= True))\n",
    "# Adding a dropout layer\n",
    "model.add(Dropout(drop_out_rate))\n",
    "\n",
    "model.add(LSTM(16))\n",
    "# Adding a dropout layer\n",
    "model.add(Dropout(drop_out_rate))\n",
    "\n",
    "# Adding a dense output layer with sigmoid activation\n",
    "model.add(Dense(n_classes, activation='sigmoid'))\n",
    "print(model.summary())\n",
    "\n",
    "# Compiling the model\n",
    "model.compile(loss='categorical_crossentropy',\n",
    "              optimizer='rmsprop',\n",
    "              metrics=['accuracy'])\n",
    "\n",
    "# Training the model\n",
    "history = model.fit(X_train,\n",
    "          Y_train,\n",
    "          batch_size=batch_size,\n",
    "          validation_data=(X_test, Y_test),\n",
    "          epochs=epochs)\n",
    "\n",
    "# Confusion Matrix\n",
    "print(confusion_matrix(Y_test, model.predict(X_test)))\n",
    "\n",
    "score = model.evaluate(X_test, Y_test)\n",
    "print(f'Accuracy of model 32 units in the first layer, 16 units in the second layer with 0.7 drop out rate {score}')"
   ]
  },
  {
   "cell_type": "code",
   "execution_count": 30,
   "metadata": {},
   "outputs": [
    {
     "data": {
      "image/png": "[encoded data removed]",
      "text/plain": [
       "<Figure size 432x288 with 1 Axes>"
      ]
     },
     "metadata": {},
     "output_type": "display_data"
    }
   ],
   "source": [
    "fig,ax = plt.subplots(1,1)\n",
    "ax.set_xlabel('epoch') ; ax.set_ylabel('Categorical Crossentropy Loss')\n",
    "# list of epoch numbers\n",
    "x = list(range(1,31))\n",
    "vy = history.history['val_loss']\n",
    "ty = history.history['loss']\n",
    "plt_dynamic(x, vy, ty, ax)"
   ]
  },
  {
   "cell_type": "code",
   "execution_count": 35,
   "metadata": {},
   "outputs": [],
   "source": [
    "results_df = pd.DataFrame(columns=['No. of Layers','Number of LSTM units','Dropout rate','Overfitting','Accuracy'])\n",
    "\n",
    "results_df['No. of Layers'] = [1, 1, 1, 1, 2]\n",
    "results_df['Number of LSTM units'] = ['42','22','32','32','32,16']\n",
    "results_df['Dropout rate']= ['0.5','0.5','0.8','0.3','0.7,0.7']\n",
    "results_df['Overfitting'] = ['No','No','No','Yes','Yes']\n",
    "results_df['Accuracy'] = [91.211,88.903,81.5088,84.6063,61.045]"
   ]
  },
  {
   "cell_type": "markdown",
   "metadata": {},
   "source": [
    "# Conclusion"
   ]
  },
  {
   "cell_type": "code",
   "execution_count": 36,
   "metadata": {},
   "outputs": [
    {
     "data": {
      "text/html": [
       "<div>\n",
       "<style scoped>\n",
       "    .dataframe tbody tr th:only-of-type {\n",
       "        vertical-align: middle;\n",
       "    }\n",
       "\n",
       "    .dataframe tbody tr th {\n",
       "        vertical-align: top;\n",
       "    }\n",
       "\n",
       "    .dataframe thead th {\n",
       "        text-align: right;\n",
       "    }\n",
       "</style>\n",
       "<table border=\"1\" class=\"dataframe\">\n",
       "  <thead>\n",
       "    <tr style=\"text-align: right;\">\n",
       "      <th></th>\n",
       "      <th>No. of Layers</th>\n",
       "      <th>Number of LSTM units</th>\n",
       "      <th>Dropout rate</th>\n",
       "      <th>Overfitting</th>\n",
       "      <th>Accuracy</th>\n",
       "    </tr>\n",
       "  </thead>\n",
       "  <tbody>\n",
       "    <tr>\n",
       "      <th>0</th>\n",
       "      <td>1</td>\n",
       "      <td>42</td>\n",
       "      <td>0.5</td>\n",
       "      <td>No</td>\n",
       "      <td>91.2110</td>\n",
       "    </tr>\n",
       "    <tr>\n",
       "      <th>1</th>\n",
       "      <td>1</td>\n",
       "      <td>22</td>\n",
       "      <td>0.5</td>\n",
       "      <td>No</td>\n",
       "      <td>88.9030</td>\n",
       "    </tr>\n",
       "    <tr>\n",
       "      <th>2</th>\n",
       "      <td>1</td>\n",
       "      <td>32</td>\n",
       "      <td>0.8</td>\n",
       "      <td>No</td>\n",
       "      <td>81.5088</td>\n",
       "    </tr>\n",
       "    <tr>\n",
       "      <th>3</th>\n",
       "      <td>1</td>\n",
       "      <td>32</td>\n",
       "      <td>0.3</td>\n",
       "      <td>Yes</td>\n",
       "      <td>84.6063</td>\n",
       "    </tr>\n",
       "    <tr>\n",
       "      <th>4</th>\n",
       "      <td>2</td>\n",
       "      <td>32,16</td>\n",
       "      <td>0.7,0.7</td>\n",
       "      <td>Yes</td>\n",
       "      <td>61.0450</td>\n",
       "    </tr>\n",
       "  </tbody>\n",
       "</table>\n",
       "</div>"
      ],
      "text/plain": [
       "   No. of Layers Number of LSTM units Dropout rate Overfitting  Accuracy\n",
       "0              1                   42          0.5          No   91.2110\n",
       "1              1                   22          0.5          No   88.9030\n",
       "2              1                   32          0.8          No   81.5088\n",
       "3              1                   32          0.3         Yes   84.6063\n",
       "4              2                32,16      0.7,0.7         Yes   61.0450"
      ]
     },
     "execution_count": 36,
     "metadata": {},
     "output_type": "execute_result"
    }
   ],
   "source": [
    "results_df"
   ]
  },
  {
   "cell_type": "markdown",
   "metadata": {},
   "source": [
    "* Increase in number of LSTM units increased the accuracy\n",
    "* Decrease in number of LSTM units decreased the accuracy\n",
    "* Increase in Dropout rate decreased the accuracy\n",
    "* Decrease in Dropout rate also decreased the accuracy due to overfitting\n",
    "* Increase in the number of layers of LSTM decreased the accurancy even after increasing the dropout rate"
   ]
  }
 ],
 "metadata": {
  "kernelspec": {
   "display_name": "Python 3",
   "language": "python",
   "name": "python3"
  },
  "language_info": {
   "codemirror_mode": {
    "name": "ipython",
    "version": 3
   },
   "file_extension": ".py",
   "mimetype": "text/x-python",
   "name": "python",
   "nbconvert_exporter": "python",
   "pygments_lexer": "ipython3",
   "version": "3.6.5"
  }
 },
 "nbformat": 4,
 "nbformat_minor": 2
}
