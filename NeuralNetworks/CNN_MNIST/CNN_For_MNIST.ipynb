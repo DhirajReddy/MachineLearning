{
 "cells": [
  {
   "cell_type": "code",
   "execution_count": 0,
   "metadata": {
    "colab": {},
    "colab_type": "code",
    "id": "YhZdzpI-r5_U"
   },
   "outputs": [],
   "source": [
    "import keras\n",
    "from keras.datasets import mnist"
   ]
  },
  {
   "cell_type": "code",
   "execution_count": 2,
   "metadata": {
    "colab": {
     "base_uri": "https://localhost:8080/",
     "height": 50
    },
    "colab_type": "code",
    "id": "rKgDSEAtsuci",
    "outputId": "91477b49-8d5e-40b1-8fa3-aab5a74754b7"
   },
   "outputs": [
    {
     "name": "stdout",
     "output_type": "stream",
     "text": [
      "Downloading data from https://s3.amazonaws.com/img-datasets/mnist.npz\n",
      "11493376/11490434 [==============================] - 0s 0us/step\n"
     ]
    }
   ],
   "source": [
    "(X_train, Y_train), (X_test, Y_test) = mnist.load_data()"
   ]
  },
  {
   "cell_type": "code",
   "execution_count": 4,
   "metadata": {
    "colab": {
     "base_uri": "https://localhost:8080/",
     "height": 67
    },
    "colab_type": "code",
    "id": "bNHDXzIbs7-J",
    "outputId": "3f985638-01aa-40dc-ecff-e67f9ee4d1c6"
   },
   "outputs": [
    {
     "name": "stdout",
     "output_type": "stream",
     "text": [
      "Number of train images 60000\n",
      "Number of test images 10000\n",
      "Shape of each image 28 x 28\n"
     ]
    }
   ],
   "source": [
    "print(f'Number of train images {X_train.shape[0]}')\n",
    "print(f'Number of test images {X_test.shape[0]}')\n",
    "print(f'Shape of each image {X_train.shape[1]} x {X_train.shape[2]}')"
   ]
  },
  {
   "cell_type": "code",
   "execution_count": 0,
   "metadata": {
    "colab": {},
    "colab_type": "code",
    "id": "uKRn41Mtv4BV"
   },
   "outputs": [],
   "source": [
    "from keras import backend as K"
   ]
  },
  {
   "cell_type": "code",
   "execution_count": 0,
   "metadata": {
    "colab": {},
    "colab_type": "code",
    "id": "LnmVrxLPuGff"
   },
   "outputs": [],
   "source": [
    "if K.image_data_format() == 'channels_first':\n",
    "  X_train = X_train.reshape(X_train.shape[0], 1, 28, 28)\n",
    "  X_test = X_test.reshape(X_test.shape[0], 1, 28, 28)\n",
    "else:\n",
    "  X_train = X_train.reshape(X_train.shape[0], 28, 28, 1)\n",
    "  X_test = X_test.reshape(X_test.shape[0], 28, 28, 1)"
   ]
  },
  {
   "cell_type": "code",
   "execution_count": 8,
   "metadata": {
    "colab": {
     "base_uri": "https://localhost:8080/",
     "height": 34
    },
    "colab_type": "code",
    "id": "EEz24sLIwwaq",
    "outputId": "37757b53-f05e-4bdd-ef54-5dca93c89dc7"
   },
   "outputs": [
    {
     "data": {
      "text/plain": [
       "(60000, 28, 28, 1)"
      ]
     },
     "execution_count": 8,
     "metadata": {
      "tags": []
     },
     "output_type": "execute_result"
    }
   ],
   "source": [
    "X_train.shape"
   ]
  },
  {
   "cell_type": "code",
   "execution_count": 0,
   "metadata": {
    "colab": {},
    "colab_type": "code",
    "id": "ADzdNhL7w6Of"
   },
   "outputs": [],
   "source": [
    "X_train = X_train.astype('float32')\n",
    "X_test = X_test.astype('float32')\n",
    "X_train /= 255\n",
    "X_test /= 255"
   ]
  },
  {
   "cell_type": "code",
   "execution_count": 0,
   "metadata": {
    "colab": {},
    "colab_type": "code",
    "id": "hmNkvDRzxRGl"
   },
   "outputs": [],
   "source": [
    "Y_train = keras.utils.to_categorical(Y_train, 10)\n",
    "Y_test = keras.utils.to_categorical(Y_test, 10)"
   ]
  },
  {
   "cell_type": "markdown",
   "metadata": {
    "colab_type": "text",
    "id": "nqkBds1RzpRH"
   },
   "source": [
    "### **ConvNet 1** Using 3 convolution layers of 5x5, 3x3, 2x2 kernels with same padding. Maxpooling of 2,2."
   ]
  },
  {
   "cell_type": "code",
   "execution_count": 0,
   "metadata": {
    "colab": {},
    "colab_type": "code",
    "id": "ZDzUYVNx0b6o"
   },
   "outputs": [],
   "source": [
    "from keras.models import Sequential\n",
    "from keras.layers import Dense, Dropout, Flatten\n",
    "from keras.layers.normalization import BatchNormalization\n",
    "from keras.layers import Conv2D, MaxPooling2D"
   ]
  },
  {
   "cell_type": "code",
   "execution_count": 0,
   "metadata": {
    "colab": {},
    "colab_type": "code",
    "id": "jpXhs3Nf58Wf"
   },
   "outputs": [],
   "source": [
    "def plt_dynamic(x, vy, ty, ax, colors=['b']):\n",
    "  ax.plot(x, vy, 'b', label=\"Validation Loss\")\n",
    "  ax.plot(x, ty, 'r', label=\"Train Loss\")\n",
    "  plt.legend()\n",
    "  plt.grid()\n",
    "  fig.canvas.draw()"
   ]
  },
  {
   "cell_type": "code",
   "execution_count": 0,
   "metadata": {
    "colab": {},
    "colab_type": "code",
    "id": "C41_ulch8vML"
   },
   "outputs": [],
   "source": [
    "%matplotlib notebook\n",
    "%matplotlib inline\n",
    "import matplotlib.pyplot as plt"
   ]
  },
  {
   "cell_type": "code",
   "execution_count": 19,
   "metadata": {
    "colab": {
     "base_uri": "https://localhost:8080/",
     "height": 1022
    },
    "colab_type": "code",
    "id": "CytwCTazxZRy",
    "outputId": "1957a715-d935-4da7-fbfb-5a7bede946e4"
   },
   "outputs": [
    {
     "name": "stdout",
     "output_type": "stream",
     "text": [
      "WARNING:tensorflow:From /usr/local/lib/python3.6/dist-packages/tensorflow/python/ops/math_ops.py:3066: to_int32 (from tensorflow.python.ops.math_ops) is deprecated and will be removed in a future version.\n",
      "Instructions for updating:\n",
      "Use tf.cast instead.\n",
      "Train on 60000 samples, validate on 10000 samples\n",
      "Epoch 1/20\n",
      "60000/60000 [==============================] - 31s 510us/step - loss: 1.1565 - acc: 0.6184 - val_loss: 0.1783 - val_acc: 0.9483\n",
      "Epoch 2/20\n",
      "60000/60000 [==============================] - 30s 493us/step - loss: 0.3491 - acc: 0.8945 - val_loss: 0.0955 - val_acc: 0.9712\n",
      "Epoch 3/20\n",
      "60000/60000 [==============================] - 29s 485us/step - loss: 0.2384 - acc: 0.9301 - val_loss: 0.0744 - val_acc: 0.9765\n",
      "Epoch 4/20\n",
      "60000/60000 [==============================] - 29s 481us/step - loss: 0.1934 - acc: 0.9436 - val_loss: 0.0615 - val_acc: 0.9816\n",
      "Epoch 5/20\n",
      "60000/60000 [==============================] - 29s 478us/step - loss: 0.1704 - acc: 0.9503 - val_loss: 0.0532 - val_acc: 0.9829\n",
      "Epoch 6/20\n",
      "60000/60000 [==============================] - 29s 484us/step - loss: 0.1512 - acc: 0.9556 - val_loss: 0.0528 - val_acc: 0.9824\n",
      "Epoch 7/20\n",
      "60000/60000 [==============================] - 29s 477us/step - loss: 0.1407 - acc: 0.9588 - val_loss: 0.0523 - val_acc: 0.9837\n",
      "Epoch 8/20\n",
      "60000/60000 [==============================] - 29s 478us/step - loss: 0.1301 - acc: 0.9615 - val_loss: 0.0465 - val_acc: 0.9852\n",
      "Epoch 9/20\n",
      "60000/60000 [==============================] - 29s 476us/step - loss: 0.1211 - acc: 0.9648 - val_loss: 0.0452 - val_acc: 0.9845\n",
      "Epoch 10/20\n",
      "60000/60000 [==============================] - 29s 478us/step - loss: 0.1180 - acc: 0.9653 - val_loss: 0.0474 - val_acc: 0.9854\n",
      "Epoch 11/20\n",
      "60000/60000 [==============================] - 29s 476us/step - loss: 0.1139 - acc: 0.9671 - val_loss: 0.0451 - val_acc: 0.9856\n",
      "Epoch 12/20\n",
      "60000/60000 [==============================] - 29s 477us/step - loss: 0.1062 - acc: 0.9688 - val_loss: 0.0394 - val_acc: 0.9869\n",
      "Epoch 13/20\n",
      "60000/60000 [==============================] - 29s 481us/step - loss: 0.1060 - acc: 0.9693 - val_loss: 0.0441 - val_acc: 0.9861\n",
      "Epoch 14/20\n",
      "60000/60000 [==============================] - 29s 478us/step - loss: 0.1027 - acc: 0.9697 - val_loss: 0.0413 - val_acc: 0.9861\n",
      "Epoch 15/20\n",
      "60000/60000 [==============================] - 29s 477us/step - loss: 0.0998 - acc: 0.9715 - val_loss: 0.0385 - val_acc: 0.9875\n",
      "Epoch 16/20\n",
      "60000/60000 [==============================] - 29s 476us/step - loss: 0.0999 - acc: 0.9710 - val_loss: 0.0393 - val_acc: 0.9868\n",
      "Epoch 17/20\n",
      "60000/60000 [==============================] - 29s 476us/step - loss: 0.0933 - acc: 0.9726 - val_loss: 0.0368 - val_acc: 0.9879\n",
      "Epoch 18/20\n",
      "60000/60000 [==============================] - 29s 479us/step - loss: 0.0940 - acc: 0.9725 - val_loss: 0.0375 - val_acc: 0.9877\n",
      "Epoch 19/20\n",
      "60000/60000 [==============================] - 29s 476us/step - loss: 0.0867 - acc: 0.9746 - val_loss: 0.0368 - val_acc: 0.9881\n",
      "Epoch 20/20\n",
      "60000/60000 [==============================] - 28s 474us/step - loss: 0.0877 - acc: 0.9749 - val_loss: 0.0360 - val_acc: 0.9883\n",
      "Test score: 0.035986967329168694\n",
      "Test accuracy: 0.9883\n"
     ]
    },
    {
     "ename": "NameError",
     "evalue": "ignored",
     "output_type": "error",
     "traceback": [
      "\u001b[0;31m---------------------------------------------------------------------------\u001b[0m",
      "\u001b[0;31mNameError\u001b[0m                                 Traceback (most recent call last)",
      "\u001b[0;32m<ipython-input-19-edd55f826f3c>\u001b[0m in \u001b[0;36m<module>\u001b[0;34m()\u001b[0m\n\u001b[1;32m     27\u001b[0m \u001b[0mprint\u001b[0m\u001b[0;34m(\u001b[0m\u001b[0;34m'Test score:'\u001b[0m\u001b[0;34m,\u001b[0m \u001b[0mscore\u001b[0m\u001b[0;34m[\u001b[0m\u001b[0;36m0\u001b[0m\u001b[0;34m]\u001b[0m\u001b[0;34m)\u001b[0m\u001b[0;34m\u001b[0m\u001b[0;34m\u001b[0m\u001b[0m\n\u001b[1;32m     28\u001b[0m \u001b[0mprint\u001b[0m\u001b[0;34m(\u001b[0m\u001b[0;34m'Test accuracy:'\u001b[0m\u001b[0;34m,\u001b[0m \u001b[0mscore\u001b[0m\u001b[0;34m[\u001b[0m\u001b[0;36m1\u001b[0m\u001b[0;34m]\u001b[0m\u001b[0;34m)\u001b[0m\u001b[0;34m\u001b[0m\u001b[0;34m\u001b[0m\u001b[0m\n\u001b[0;32m---> 29\u001b[0;31m \u001b[0mfig\u001b[0m\u001b[0;34m,\u001b[0m\u001b[0max\u001b[0m \u001b[0;34m=\u001b[0m \u001b[0mplt\u001b[0m\u001b[0;34m.\u001b[0m\u001b[0msubplots\u001b[0m\u001b[0;34m(\u001b[0m\u001b[0;36m1\u001b[0m\u001b[0;34m,\u001b[0m\u001b[0;36m1\u001b[0m\u001b[0;34m)\u001b[0m\u001b[0;34m\u001b[0m\u001b[0;34m\u001b[0m\u001b[0m\n\u001b[0m\u001b[1;32m     30\u001b[0m \u001b[0max\u001b[0m\u001b[0;34m.\u001b[0m\u001b[0mset_xlabel\u001b[0m\u001b[0;34m(\u001b[0m\u001b[0;34m'epoch'\u001b[0m\u001b[0;34m)\u001b[0m \u001b[0;34m;\u001b[0m \u001b[0max\u001b[0m\u001b[0;34m.\u001b[0m\u001b[0mset_ylabel\u001b[0m\u001b[0;34m(\u001b[0m\u001b[0;34m'Categorical Crossentropy Loss'\u001b[0m\u001b[0;34m)\u001b[0m\u001b[0;34m\u001b[0m\u001b[0;34m\u001b[0m\u001b[0m\n\u001b[1;32m     31\u001b[0m \u001b[0;31m# list of epoch numbers\u001b[0m\u001b[0;34m\u001b[0m\u001b[0;34m\u001b[0m\u001b[0;34m\u001b[0m\u001b[0m\n",
      "\u001b[0;31mNameError\u001b[0m: name 'plt' is not defined"
     ]
    }
   ],
   "source": [
    "model = Sequential()\n",
    "\n",
    "model.add(Conv2D(filters = 64,kernel_size = (5,5), strides=2, padding='same', activation='relu', kernel_initializer=keras.initializers.he_normal(0)))\n",
    "model.add(MaxPooling2D(pool_size=(2,2), strides=2, padding='valid'))\n",
    "model.add(Dropout(0.25))\n",
    "\n",
    "model.add(Conv2D(filters = 32,kernel_size = (3,3), strides=2, padding='same', activation='relu', kernel_initializer=keras.initializers.he_normal(0)))\n",
    "model.add(MaxPooling2D(pool_size=(2,2), strides=2, padding='valid'))\n",
    "model.add(Dropout(0.35))\n",
    "\n",
    "model.add(Conv2D(filters = 16,kernel_size = (2,2), strides=2, padding='same', activation='relu', kernel_initializer=keras.initializers.he_normal(0)))\n",
    "\n",
    "model.add(Flatten())\n",
    "model.add(BatchNormalization())\n",
    "\n",
    "model.add(Dense(256, activation='relu', kernel_initializer=keras.initializers.he_normal(0)))\n",
    "model.add(Dropout(0.4))\n",
    "model.add(BatchNormalization())\n",
    "model.add(Dense(128, activation='relu', kernel_initializer=keras.initializers.he_normal(0)))\n",
    "model.add(Dropout(0.4))\n",
    "model.add(BatchNormalization())\n",
    "model.add(Dense(10, activation='softmax', kernel_initializer=keras.initializers.he_normal(0)))\n",
    "\n",
    "model.compile(optimizer='adam', loss='categorical_crossentropy', metrics=['accuracy'])\n",
    "history = model.fit(X_train, Y_train, batch_size=128, epochs=20,verbose=1, validation_data=(X_test, Y_test))\n",
    "score = model.evaluate(X_test, Y_test, verbose=0)\n",
    "print('Test score:', score[0])\n",
    "print('Test accuracy:', score[1])"
   ]
  },
  {
   "cell_type": "markdown",
   "metadata": {
    "colab_type": "text",
    "id": "Zso5roSQ9YBh"
   },
   "source": [
    "Test score: 0.035986967329168694 </br>\n",
    "**Test accuracy: 0.9883**"
   ]
  },
  {
   "cell_type": "code",
   "execution_count": 24,
   "metadata": {
    "colab": {
     "base_uri": "https://localhost:8080/",
     "height": 281
    },
    "colab_type": "code",
    "id": "fHQO0Ojr80yA",
    "outputId": "d6664bb6-4984-46d8-c7d9-3b91bb1ef9a1"
   },
   "outputs": [
    {
     "data": {
      "image/png": "[encoded data removed]",
      "text/plain": [
       "<Figure size 432x288 with 1 Axes>"
      ]
     },
     "metadata": {
      "tags": []
     },
     "output_type": "display_data"
    }
   ],
   "source": [
    "fig,ax = plt.subplots(1,1)\n",
    "ax.set_xlabel('epoch') ; ax.set_ylabel('Categorical Crossentropy Loss')\n",
    "# list of epoch numbers\n",
    "x = list(range(1,20+1))\n",
    "vy = history.history['val_loss']\n",
    "ty = history.history['loss']\n",
    "plt_dynamic(x, vy, ty, ax)"
   ]
  },
  {
   "cell_type": "code",
   "execution_count": 26,
   "metadata": {
    "colab": {
     "base_uri": "https://localhost:8080/",
     "height": 1218
    },
    "colab_type": "code",
    "id": "Yv3OY8eb8VrY",
    "outputId": "e74f7729-c62e-4366-86b4-03f46e696775"
   },
   "outputs": [
    {
     "name": "stdout",
     "output_type": "stream",
     "text": [
      "Train on 60000 samples, validate on 10000 samples\n",
      "Epoch 1/20\n",
      "60000/60000 [==============================] - 148s 2ms/step - loss: 1.8531 - acc: 0.3549 - val_loss: 0.7748 - val_acc: 0.7206\n",
      "Epoch 2/20\n",
      "60000/60000 [==============================] - 146s 2ms/step - loss: 0.8180 - acc: 0.7258 - val_loss: 0.2719 - val_acc: 0.9386\n",
      "Epoch 3/20\n",
      "60000/60000 [==============================] - 147s 2ms/step - loss: 0.5349 - acc: 0.8408 - val_loss: 0.1692 - val_acc: 0.9578\n",
      "Epoch 4/20\n",
      "60000/60000 [==============================] - 147s 2ms/step - loss: 0.4243 - acc: 0.8790 - val_loss: 0.1482 - val_acc: 0.9639\n",
      "Epoch 5/20\n",
      "60000/60000 [==============================] - 147s 2ms/step - loss: 0.3701 - acc: 0.8961 - val_loss: 0.1254 - val_acc: 0.9688\n",
      "Epoch 6/20\n",
      "60000/60000 [==============================] - 147s 2ms/step - loss: 0.3294 - acc: 0.9090 - val_loss: 0.1143 - val_acc: 0.9725\n",
      "Epoch 7/20\n",
      "60000/60000 [==============================] - 147s 2ms/step - loss: 0.2899 - acc: 0.9225 - val_loss: 0.1180 - val_acc: 0.9713\n",
      "Epoch 8/20\n",
      "60000/60000 [==============================] - 147s 2ms/step - loss: 0.2647 - acc: 0.9302 - val_loss: 0.0944 - val_acc: 0.9755\n",
      "Epoch 9/20\n",
      "60000/60000 [==============================] - 147s 2ms/step - loss: 0.2492 - acc: 0.9341 - val_loss: 0.1054 - val_acc: 0.9755\n",
      "Epoch 10/20\n",
      "60000/60000 [==============================] - 147s 2ms/step - loss: 0.2391 - acc: 0.9361 - val_loss: 0.0878 - val_acc: 0.9807\n",
      "Epoch 11/20\n",
      "60000/60000 [==============================] - 147s 2ms/step - loss: 0.2275 - acc: 0.9409 - val_loss: 0.0813 - val_acc: 0.9807\n",
      "Epoch 12/20\n",
      "60000/60000 [==============================] - 148s 2ms/step - loss: 0.2192 - acc: 0.9431 - val_loss: 0.0785 - val_acc: 0.9816\n",
      "Epoch 13/20\n",
      "60000/60000 [==============================] - 148s 2ms/step - loss: 0.2047 - acc: 0.9471 - val_loss: 0.0958 - val_acc: 0.9778\n",
      "Epoch 14/20\n",
      "60000/60000 [==============================] - 147s 2ms/step - loss: 0.1918 - acc: 0.9511 - val_loss: 0.0846 - val_acc: 0.9817\n",
      "Epoch 15/20\n",
      "60000/60000 [==============================] - 147s 2ms/step - loss: 0.1868 - acc: 0.9517 - val_loss: 0.0875 - val_acc: 0.9821\n",
      "Epoch 16/20\n",
      "60000/60000 [==============================] - 146s 2ms/step - loss: 0.1845 - acc: 0.9531 - val_loss: 0.0833 - val_acc: 0.9823\n",
      "Epoch 17/20\n",
      "60000/60000 [==============================] - 147s 2ms/step - loss: 0.1820 - acc: 0.9545 - val_loss: 0.0754 - val_acc: 0.9848\n",
      "Epoch 18/20\n",
      "60000/60000 [==============================] - 147s 2ms/step - loss: 0.1750 - acc: 0.9554 - val_loss: 0.0883 - val_acc: 0.9827\n",
      "Epoch 19/20\n",
      "60000/60000 [==============================] - 148s 2ms/step - loss: 0.1685 - acc: 0.9568 - val_loss: 0.0987 - val_acc: 0.9788\n",
      "Epoch 20/20\n",
      "60000/60000 [==============================] - 147s 2ms/step - loss: 0.1631 - acc: 0.9582 - val_loss: 0.0844 - val_acc: 0.9833\n",
      "Test score: 0.0843752438634634\n",
      "Test accuracy: 0.9833\n"
     ]
    },
    {
     "ename": "NameError",
     "evalue": "ignored",
     "output_type": "error",
     "traceback": [
      "\u001b[0;31m---------------------------------------------------------------------------\u001b[0m",
      "\u001b[0;31mNameError\u001b[0m                                 Traceback (most recent call last)",
      "\u001b[0;32m<ipython-input-26-e84a929be8e4>\u001b[0m in \u001b[0;36m<module>\u001b[0;34m()\u001b[0m\n\u001b[1;32m     33\u001b[0m \u001b[0max\u001b[0m\u001b[0;34m.\u001b[0m\u001b[0mset_xlabel\u001b[0m\u001b[0;34m(\u001b[0m\u001b[0;34m'epoch'\u001b[0m\u001b[0;34m)\u001b[0m \u001b[0;34m;\u001b[0m \u001b[0max\u001b[0m\u001b[0;34m.\u001b[0m\u001b[0mset_ylabel\u001b[0m\u001b[0;34m(\u001b[0m\u001b[0;34m'Categorical Crossentropy Loss'\u001b[0m\u001b[0;34m)\u001b[0m\u001b[0;34m\u001b[0m\u001b[0;34m\u001b[0m\u001b[0m\n\u001b[1;32m     34\u001b[0m \u001b[0;31m# list of epoch numbers\u001b[0m\u001b[0;34m\u001b[0m\u001b[0;34m\u001b[0m\u001b[0;34m\u001b[0m\u001b[0m\n\u001b[0;32m---> 35\u001b[0;31m \u001b[0mx\u001b[0m \u001b[0;34m=\u001b[0m \u001b[0mlist\u001b[0m\u001b[0;34m(\u001b[0m\u001b[0mrange\u001b[0m\u001b[0;34m(\u001b[0m\u001b[0;36m1\u001b[0m\u001b[0;34m,\u001b[0m\u001b[0mnb_epoch\u001b[0m\u001b[0;34m+\u001b[0m\u001b[0;36m1\u001b[0m\u001b[0;34m)\u001b[0m\u001b[0;34m)\u001b[0m\u001b[0;34m\u001b[0m\u001b[0;34m\u001b[0m\u001b[0m\n\u001b[0m\u001b[1;32m     36\u001b[0m \u001b[0mvy\u001b[0m \u001b[0;34m=\u001b[0m \u001b[0mhistory\u001b[0m\u001b[0;34m.\u001b[0m\u001b[0mhistory\u001b[0m\u001b[0;34m[\u001b[0m\u001b[0;34m'val_loss'\u001b[0m\u001b[0;34m]\u001b[0m\u001b[0;34m\u001b[0m\u001b[0;34m\u001b[0m\u001b[0m\n\u001b[1;32m     37\u001b[0m \u001b[0mty\u001b[0m \u001b[0;34m=\u001b[0m \u001b[0mhistory\u001b[0m\u001b[0;34m.\u001b[0m\u001b[0mhistory\u001b[0m\u001b[0;34m[\u001b[0m\u001b[0;34m'loss'\u001b[0m\u001b[0;34m]\u001b[0m\u001b[0;34m\u001b[0m\u001b[0;34m\u001b[0m\u001b[0m\n",
      "\u001b[0;31mNameError\u001b[0m: name 'nb_epoch' is not defined"
     ]
    },
    {
     "data": {
      "image/png": "[encoded data removed]",
      "text/plain": [
       "<Figure size 432x288 with 1 Axes>"
      ]
     },
     "metadata": {
      "tags": []
     },
     "output_type": "display_data"
    }
   ],
   "source": [
    "model = Sequential()\n",
    "\n",
    "model.add(Conv2D(filters = 128,kernel_size = (7,7), strides=2, padding='same', activation='relu', kernel_initializer=keras.initializers.he_normal(0)))\n",
    "model.add(Conv2D(filters = 64,kernel_size = (5,5), strides=2, padding='same', activation='relu', kernel_initializer=keras.initializers.he_normal(0)))\n",
    "model.add(MaxPooling2D(pool_size=(2,2), strides=2, padding='valid'))\n",
    "model.add(Dropout(0.25))\n",
    "model.add(Conv2D(filters = 32,kernel_size = (3,3), strides=2, padding='same', activation='relu', kernel_initializer=keras.initializers.he_normal(0)))\n",
    "model.add(MaxPooling2D(pool_size=(2,2), strides=2, padding='valid'))\n",
    "model.add(Dropout(0.35))\n",
    "\n",
    "model.add(Conv2D(filters = 16,kernel_size = (2,2), strides=2, padding='same', activation='relu', kernel_initializer=keras.initializers.he_normal(0)))\n",
    "model.add(Conv2D(filters = 16,kernel_size = (2,2), strides=2, padding='same', activation='relu', kernel_initializer=keras.initializers.he_normal(0)))\n",
    "model.add(MaxPooling2D(pool_size=(2,2), strides=2, padding='same'))\n",
    "model.add(Dropout(0.4))\n",
    "\n",
    "model.add(Flatten())\n",
    "model.add(BatchNormalization())\n",
    "\n",
    "model.add(Dense(256, activation='relu', kernel_initializer=keras.initializers.he_normal(0)))\n",
    "model.add(Dropout(0.4))\n",
    "model.add(BatchNormalization())\n",
    "model.add(Dense(128, activation='relu', kernel_initializer=keras.initializers.he_normal(0)))\n",
    "model.add(Dropout(0.4))\n",
    "model.add(BatchNormalization())\n",
    "model.add(Dense(10, activation='softmax', kernel_initializer=keras.initializers.he_normal(0)))\n",
    "\n",
    "model.compile(optimizer='adam', loss='categorical_crossentropy', metrics=['accuracy'])\n",
    "history = model.fit(X_train, Y_train, batch_size=128, epochs=20,verbose=1, validation_data=(X_test, Y_test))\n",
    "score = model.evaluate(X_test, Y_test, verbose=0)\n",
    "print('Test score:', score[0])\n",
    "print('Test accuracy:', score[1])\n",
    "fig,ax = plt.subplots(1,1)\n",
    "ax.set_xlabel('epoch') ; ax.set_ylabel('Categorical Crossentropy Loss')\n",
    "# list of epoch numbers\n",
    "x = list(range(1,nb_epoch+1))\n",
    "vy = history.history['val_loss']\n",
    "ty = history.history['loss']\n",
    "plt_dynamic(x, vy, ty, ax)"
   ]
  },
  {
   "cell_type": "code",
   "execution_count": 27,
   "metadata": {
    "colab": {
     "base_uri": "https://localhost:8080/",
     "height": 279
    },
    "colab_type": "code",
    "id": "V9rMyoZCJ_Ib",
    "outputId": "72924a0b-3cfd-4850-bbdb-5852ff06e98e"
   },
   "outputs": [
    {
     "data": {
      "image/png": "[encoded data removed]",
      "text/plain": [
       "<Figure size 432x288 with 1 Axes>"
      ]
     },
     "metadata": {
      "tags": []
     },
     "output_type": "display_data"
    }
   ],
   "source": [
    "fig,ax = plt.subplots(1,1)\n",
    "ax.set_xlabel('epoch') ; ax.set_ylabel('Categorical Crossentropy Loss')\n",
    "# list of epoch numbers\n",
    "x = list(range(1,20+1))\n",
    "vy = history.history['val_loss']\n",
    "ty = history.history['loss']\n",
    "plt_dynamic(x, vy, ty, ax)"
   ]
  },
  {
   "cell_type": "code",
   "execution_count": 29,
   "metadata": {
    "colab": {
     "base_uri": "https://localhost:8080/",
     "height": 1002
    },
    "colab_type": "code",
    "id": "ezzcLGpV_Lyv",
    "outputId": "3e9e3305-0949-43f5-a0e1-8637888f2fbe"
   },
   "outputs": [
    {
     "name": "stdout",
     "output_type": "stream",
     "text": [
      "Train on 60000 samples, validate on 10000 samples\n",
      "Epoch 1/20\n",
      "60000/60000 [==============================] - 289s 5ms/step - loss: 2.0730 - acc: 0.2522 - val_loss: 1.4718 - val_acc: 0.3435\n",
      "Epoch 2/20\n",
      "60000/60000 [==============================] - 285s 5ms/step - loss: 1.3277 - acc: 0.4488 - val_loss: 1.1151 - val_acc: 0.4824\n",
      "Epoch 3/20\n",
      "60000/60000 [==============================] - 286s 5ms/step - loss: 1.1567 - acc: 0.5201 - val_loss: 1.0367 - val_acc: 0.5522\n",
      "Epoch 4/20\n",
      "60000/60000 [==============================] - 287s 5ms/step - loss: 1.0610 - acc: 0.5604 - val_loss: 0.9984 - val_acc: 0.6044\n",
      "Epoch 5/20\n",
      "60000/60000 [==============================] - 286s 5ms/step - loss: 1.0966 - acc: 0.5521 - val_loss: 1.3115 - val_acc: 0.4406\n",
      "Epoch 6/20\n",
      "60000/60000 [==============================] - 288s 5ms/step - loss: 1.0691 - acc: 0.5685 - val_loss: 1.0965 - val_acc: 0.5101\n",
      "Epoch 7/20\n",
      "60000/60000 [==============================] - 286s 5ms/step - loss: 0.9089 - acc: 0.6344 - val_loss: 1.0382 - val_acc: 0.5884\n",
      "Epoch 8/20\n",
      "60000/60000 [==============================] - 288s 5ms/step - loss: 0.8197 - acc: 0.6759 - val_loss: 1.0728 - val_acc: 0.6470\n",
      "Epoch 9/20\n",
      "60000/60000 [==============================] - 289s 5ms/step - loss: 0.7761 - acc: 0.6936 - val_loss: 0.8854 - val_acc: 0.6713\n",
      "Epoch 10/20\n",
      "60000/60000 [==============================] - 287s 5ms/step - loss: 0.7635 - acc: 0.6994 - val_loss: 0.8213 - val_acc: 0.7049\n",
      "Epoch 11/20\n",
      "60000/60000 [==============================] - 288s 5ms/step - loss: 0.7246 - acc: 0.7204 - val_loss: 0.8162 - val_acc: 0.6780\n",
      "Epoch 12/20\n",
      "60000/60000 [==============================] - 286s 5ms/step - loss: 0.7285 - acc: 0.7147 - val_loss: 0.9171 - val_acc: 0.7316\n",
      "Epoch 13/20\n",
      "60000/60000 [==============================] - 287s 5ms/step - loss: 0.6738 - acc: 0.7380 - val_loss: 0.9338 - val_acc: 0.7037\n",
      "Epoch 14/20\n",
      "60000/60000 [==============================] - 286s 5ms/step - loss: 0.6254 - acc: 0.7589 - val_loss: 0.8540 - val_acc: 0.7148\n",
      "Epoch 15/20\n",
      "60000/60000 [==============================] - 286s 5ms/step - loss: 0.5902 - acc: 0.7711 - val_loss: 0.6231 - val_acc: 0.7436\n",
      "Epoch 16/20\n",
      "60000/60000 [==============================] - 287s 5ms/step - loss: 0.5769 - acc: 0.7796 - val_loss: 0.7420 - val_acc: 0.7420\n",
      "Epoch 17/20\n",
      "60000/60000 [==============================] - 288s 5ms/step - loss: 0.5358 - acc: 0.7926 - val_loss: 0.6917 - val_acc: 0.7628\n",
      "Epoch 18/20\n",
      "60000/60000 [==============================] - 294s 5ms/step - loss: 0.4962 - acc: 0.8071 - val_loss: 0.7090 - val_acc: 0.7625\n",
      "Epoch 19/20\n",
      "60000/60000 [==============================] - 311s 5ms/step - loss: 0.4888 - acc: 0.8107 - val_loss: 0.5000 - val_acc: 0.7702\n",
      "Epoch 20/20\n",
      "60000/60000 [==============================] - 309s 5ms/step - loss: 0.4600 - acc: 0.8215 - val_loss: 0.6064 - val_acc: 0.7713\n",
      "Test score: 0.6063781654834748\n",
      "Test accuracy: 0.7713\n"
     ]
    },
    {
     "data": {
      "image/png": "[encoded data removed]",
      "text/plain": [
       "<Figure size 432x288 with 1 Axes>"
      ]
     },
     "metadata": {
      "tags": []
     },
     "output_type": "display_data"
    }
   ],
   "source": [
    "model = Sequential()\n",
    "\n",
    "model.add(Conv2D(filters = 256,kernel_size = (3,3), strides=2, padding='same', activation='relu', kernel_initializer=keras.initializers.he_normal(0)))\n",
    "model.add(MaxPooling2D(pool_size=(2,2), strides=2, padding='valid'))\n",
    "model.add(Dropout(0.25))\n",
    "model.add(Conv2D(filters = 128,kernel_size = (5,5), strides=2, padding='same', activation='relu', kernel_initializer=keras.initializers.he_normal(0)))\n",
    "model.add(MaxPooling2D(pool_size=(2,2), strides=2, padding='valid'))\n",
    "model.add(Dropout(0.35))\n",
    "model.add(Conv2D(filters = 64,kernel_size = (7,7), strides=2, padding='same', activation='relu', kernel_initializer=keras.initializers.he_normal(0)))\n",
    "model.add(MaxPooling2D(pool_size=(2,2), strides=2, padding='same'))\n",
    "model.add(Dropout(0.35))\n",
    "\n",
    "model.add(Conv2D(filters = 32,kernel_size = (3,3), strides=2, padding='same', activation='relu', kernel_initializer=keras.initializers.he_normal(0)))\n",
    "model.add(MaxPooling2D(pool_size=(2,2), strides=2, padding='same'))\n",
    "model.add(Dropout(0.4))\n",
    "model.add(Conv2D(filters = 16,kernel_size = (2,2), strides=2, padding='same', activation='relu', kernel_initializer=keras.initializers.he_normal(0)))\n",
    "model.add(MaxPooling2D(pool_size=(2,2), strides=2, padding='same'))\n",
    "model.add(Dropout(0.2))\n",
    "model.add(Conv2D(filters = 16,kernel_size = (1,1), strides=2, padding='same', activation='relu', kernel_initializer=keras.initializers.he_normal(0)))\n",
    "model.add(MaxPooling2D(pool_size=(2,2), strides=2, padding='same'))\n",
    "model.add(Dropout(0.2))\n",
    "model.add(Conv2D(filters = 32,kernel_size = (5,5), strides=2, padding='same', activation='relu', kernel_initializer=keras.initializers.he_normal(0)))\n",
    "\n",
    "model.add(Flatten())\n",
    "model.add(BatchNormalization())\n",
    "\n",
    "model.add(Dense(256, activation='relu', kernel_initializer=keras.initializers.he_normal(0)))\n",
    "model.add(Dropout(0.4))\n",
    "model.add(BatchNormalization())\n",
    "model.add(Dense(128, activation='relu', kernel_initializer=keras.initializers.he_normal(0)))\n",
    "model.add(Dropout(0.4))\n",
    "model.add(BatchNormalization())\n",
    "model.add(Dense(10, activation='softmax', kernel_initializer=keras.initializers.he_normal(0)))\n",
    "\n",
    "model.compile(optimizer='adam', loss='categorical_crossentropy', metrics=['accuracy'])\n",
    "history = model.fit(X_train, Y_train, batch_size=128, epochs=20,verbose=1, validation_data=(X_test, Y_test))\n",
    "score = model.evaluate(X_test, Y_test, verbose=0)\n",
    "print('Test score:', score[0])\n",
    "print('Test accuracy:', score[1])\n",
    "fig,ax = plt.subplots(1,1)\n",
    "ax.set_xlabel('epoch') ; ax.set_ylabel('Categorical Crossentropy Loss')\n",
    "# list of epoch numbers\n",
    "x = list(range(1,20+1))\n",
    "vy = history.history['val_loss']\n",
    "ty = history.history['loss']\n",
    "plt_dynamic(x, vy, ty, ax)"
   ]
  },
  {
   "cell_type": "markdown",
   "metadata": {
    "colab_type": "text",
    "id": "9HWO6pXHmVDR"
   },
   "source": [
    "## Conclusion"
   ]
  },
  {
   "cell_type": "markdown",
   "metadata": {
    "colab_type": "text",
    "id": "cDJqoPI0mYP-"
   },
   "source": [
    "\n",
    "\n",
    "*   It is noted that chaining two convolution layers without maxpooling and drop out reduces the convergence speed and accuracy\n",
    "*   Although the 3rd architecture is deep, the accuracy is in shambles. This is the problem that Residual networks can solve.\n",
    "* The MLP after flatten is not changed to check how ConvNets affect the results\n",
    "\n"
   ]
  },
  {
   "cell_type": "markdown",
   "metadata": {
    "colab_type": "text",
    "id": "nzN22IvhnCcj"
   },
   "source": [
    "\n",
    "\n",
    "*   3 ConvNets - Test Acc - 98.83%\n",
    "*   5 ConvNets - Test Acc - 98.33%\n",
    "*   7 ConvNets - Test Acc - 77.13%\n",
    "\n",
    "## The Shallowest network is performing better"
   ]
  }
 ],
 "metadata": {
  "colab": {
   "collapsed_sections": [],
   "name": "CNN_For_MNIST.ipynb",
   "provenance": [],
   "version": "0.3.2"
  },
  "kernelspec": {
   "display_name": "Python 3",
   "language": "python",
   "name": "python3"
  },
  "language_info": {
   "codemirror_mode": {
    "name": "ipython",
    "version": 3
   },
   "file_extension": ".py",
   "mimetype": "text/x-python",
   "name": "python",
   "nbconvert_exporter": "python",
   "pygments_lexer": "ipython3",
   "version": "3.6.5"
  }
 },
 "nbformat": 4,
 "nbformat_minor": 1
}
