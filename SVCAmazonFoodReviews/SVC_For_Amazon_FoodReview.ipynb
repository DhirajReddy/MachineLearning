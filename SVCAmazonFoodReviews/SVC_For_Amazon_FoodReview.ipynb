{
 "cells": [
  {
   "cell_type": "code",
   "execution_count": 1,
   "metadata": {},
   "outputs": [
    {
     "name": "stderr",
     "output_type": "stream",
     "text": [
      "C:\\ProgramData\\Anaconda3\\lib\\site-packages\\gensim\\utils.py:1209: UserWarning: detected Windows; aliasing chunkize to chunkize_serial\n",
      "  warnings.warn(\"detected Windows; aliasing chunkize to chunkize_serial\")\n"
     ]
    }
   ],
   "source": [
    "%matplotlib inline\n",
    "import warnings\n",
    "warnings.filterwarnings(\"ignore\")\n",
    "\n",
    "import sqlite3\n",
    "import numpy as np\n",
    "import pandas as pd\n",
    "import nltk\n",
    "import matplotlib.pyplot as plt\n",
    "import string\n",
    "import seaborn as sns\n",
    "from sklearn.metrics import confusion_matrix\n",
    "from sklearn.feature_extraction.text import TfidfVectorizer\n",
    "from sklearn.feature_extraction.text import TfidfTransformer\n",
    "from sklearn.feature_extraction.text import CountVectorizer\n",
    "from sklearn.decomposition import TruncatedSVD\n",
    "from sklearn.preprocessing import StandardScaler\n",
    "\n",
    "import re\n",
    "from nltk.corpus import stopwords\n",
    "from nltk.stem import PorterStemmer\n",
    "from nltk.stem.wordnet import WordNetLemmatizer\n",
    "from gensim.models import keyedvectors"
   ]
  },
  {
   "cell_type": "markdown",
   "metadata": {},
   "source": [
    "# Connect to database"
   ]
  },
  {
   "cell_type": "code",
   "execution_count": null,
   "metadata": {},
   "outputs": [],
   "source": [
    "#Load database\n",
    "conn = sqlite3.connect('amazon_food_reviews.sqlite')\n",
    "\n",
    "original_data = pd.read_sql_query(\"\"\"SELECT * FROM Reviews WHERE Score!=3\"\"\", conn)\n",
    "\n",
    "original_data.head()"
   ]
  },
  {
   "cell_type": "markdown",
   "metadata": {},
   "source": [
    "## Data preprocessing"
   ]
  },
  {
   "cell_type": "code",
   "execution_count": null,
   "metadata": {},
   "outputs": [],
   "source": [
    "# Replace number rating with positive and negative strings\n",
    "print(f'Size after droping duplicates {original_data.size}')\n",
    "original_data = original_data.drop_duplicates({\"UserId\", \"ProfileName\", \"Time\", \"Text\"})\n",
    "\n",
    "original_data[\"Score\"] = original_data[\"Score\"].map(lambda x: \"positive\" if x > 3 else \"negative\")\n",
    "print(f'Size before droping duplicates {original_data.size}')"
   ]
  },
  {
   "cell_type": "code",
   "execution_count": null,
   "metadata": {},
   "outputs": [],
   "source": [
    "original_data = original_data[original_data.HelpfulnessDenominator >= original_data.HelpfulnessNumerator]\n",
    "print(f'Size after droping Helpfulness denominator greater than Numerator {original_data.size}')"
   ]
  },
  {
   "cell_type": "code",
   "execution_count": null,
   "metadata": {},
   "outputs": [],
   "source": [
    "#Number of positive and negative reviews\n",
    "original_data[\"Score\"].value_counts()\n"
   ]
  },
  {
   "cell_type": "raw",
   "metadata": {},
   "source": [
    "The data is imbalanced"
   ]
  },
  {
   "cell_type": "markdown",
   "metadata": {},
   "source": [
    "#### We are concerned only about the Reviews and the score column so extract those in to a new variable"
   ]
  },
  {
   "cell_type": "code",
   "execution_count": null,
   "metadata": {},
   "outputs": [],
   "source": [
    "filtered_data = original_data.loc[:,[\"Time\",\"Score\",\"Text\"]]\n",
    "\n",
    "np_random_perm = np.random.permutation(30000)\n",
    "\n",
    "filtered_data = filtered_data[filtered_data.Score == \"positive\"].iloc[np_random_perm, :]. \\\n",
    "                    append(filtered_data[filtered_data.Score == \"negative\"].iloc[np_random_perm, :])\n",
    "\n",
    "filtered_data = filtered_data.sort_values(by=['Time'])\n",
    "\n",
    "print(filtered_data.shape)\n",
    "print(filtered_data.isnull().any())\n",
    "print(filtered_data.head())\n",
    "print(filtered_data.tail())"
   ]
  },
  {
   "cell_type": "markdown",
   "metadata": {},
   "source": [
    "## Text preprocessing : Remove Html Tags, Punctuations, alphanumerics and stop words. \n",
    "\n",
    "1. Obtain stem words for the remaining words and run algorithm using the data\n",
    "2. Obtain lemma for each word and run algorithm using the data"
   ]
  },
  {
   "cell_type": "code",
   "execution_count": 3,
   "metadata": {},
   "outputs": [],
   "source": [
    "# Code copied from the description python note book\n",
    "\n",
    "stop = set(stopwords.words('english')) #set of stopwords\n",
    "sno = nltk.stem.SnowballStemmer('english') #initialising the snowball stemmer\n",
    "\n",
    "def cleanhtml(sentence): #function to clean the word of any html-tags\n",
    "    cleanr = re.compile('<.*?>')\n",
    "    cleantext = re.sub(cleanr, ' ', sentence)\n",
    "    return cleantext\n",
    "def cleanpunc(sentence): #function to clean the word of any punctuation or special characters\n",
    "    cleaned = re.sub(r'[?|!|\\'|\"|#]',r'',sentence)\n",
    "    cleaned = re.sub(r'[.|,|)|(|\\|/|-]',r' ',cleaned)\n",
    "    return  cleaned"
   ]
  },
  {
   "cell_type": "markdown",
   "metadata": {},
   "source": [
    "#### Clean the reviews"
   ]
  },
  {
   "cell_type": "code",
   "execution_count": null,
   "metadata": {},
   "outputs": [],
   "source": [
    "processed_reviews=[]\n",
    "\n",
    "for (index, review) in enumerate(filtered_data[\"Text\"].values):\n",
    "    processedReviewWords = []\n",
    "    cleanedReview = cleanpunc(cleanhtml(review))\n",
    "    for word in cleanedReview.split():\n",
    "        word_in_lowercase = word.lower()\n",
    "        if(word_in_lowercase.isalpha and \\\n",
    "           (word_in_lowercase not in stop) and \\\n",
    "           len(word_in_lowercase)>2):\n",
    "            processedReviewWords.append(sno.stem(word_in_lowercase).encode('utf8'))\n",
    "    processed_reviews.append(b\" \".join(processedReviewWords))\n",
    "    \n",
    "print(processed_reviews[:5])"
   ]
  },
  {
   "cell_type": "markdown",
   "metadata": {},
   "source": [
    "#### Append the cleaned text to the table with the normal text"
   ]
  },
  {
   "cell_type": "code",
   "execution_count": null,
   "metadata": {
    "scrolled": true
   },
   "outputs": [],
   "source": [
    "filtered_data[\"CleanedText\"] = processed_reviews\n",
    "filtered_data[\"CleanedText\"] = filtered_data[\"CleanedText\"].str.decode(\"utf-8\")\n",
    "filtered_data.head()"
   ]
  },
  {
   "cell_type": "markdown",
   "metadata": {},
   "source": [
    "#### Import libraries for Clasification"
   ]
  },
  {
   "cell_type": "code",
   "execution_count": 2,
   "metadata": {
    "scrolled": false
   },
   "outputs": [
    {
     "name": "stderr",
     "output_type": "stream",
     "text": [
      "C:\\ProgramData\\Anaconda3\\lib\\site-packages\\sklearn\\cross_validation.py:41: DeprecationWarning: This module was deprecated in version 0.18 in favor of the model_selection module into which all the refactored classes and functions are moved. Also note that the interface of the new CV iterators are different from that of this module. This module will be removed in 0.20.\n",
      "  \"This module will be removed in 0.20.\", DeprecationWarning)\n"
     ]
    }
   ],
   "source": [
    "from sklearn.metrics import accuracy_score\n",
    "from sklearn.cross_validation import cross_val_score\n",
    "from collections import Counter\n",
    "from sklearn.metrics import accuracy_score\n",
    "from sklearn import cross_validation"
   ]
  },
  {
   "cell_type": "code",
   "execution_count": 3,
   "metadata": {},
   "outputs": [
    {
     "name": "stderr",
     "output_type": "stream",
     "text": [
      "C:\\ProgramData\\Anaconda3\\lib\\site-packages\\sklearn\\grid_search.py:42: DeprecationWarning: This module was deprecated in version 0.18 in favor of the model_selection module into which all the refactored classes and functions are moved. This module will be removed in 0.20.\n",
      "  DeprecationWarning)\n"
     ]
    }
   ],
   "source": [
    "from sklearn.grid_search import GridSearchCV\n",
    "from sklearn.svm import SVC\n",
    "from sklearn.metrics import f1_score\n",
    "from sklearn.metrics import precision_score\n",
    "from sklearn.metrics import recall_score"
   ]
  },
  {
   "cell_type": "code",
   "execution_count": 5,
   "metadata": {},
   "outputs": [],
   "source": [
    "from sklearn.preprocessing import label_binarize\n",
    "encoded_column_vector = label_binarize(filtered_data['Score'], classes=['negative','positive']) \n",
    "# negative will be 0 and positive will be 1\n",
    "encoded_labels = np.ravel(encoded_column_vector) # Reshape array"
   ]
  },
  {
   "cell_type": "markdown",
   "metadata": {},
   "source": [
    "## Split data in to train and test"
   ]
  },
  {
   "cell_type": "code",
   "execution_count": 9,
   "metadata": {},
   "outputs": [],
   "source": [
    "X_train, X_test, Y_train, Y_test = cross_validation.train_test_split(filtered_data[\"CleanedText\"], encoded_labels,\\\n",
    "                                                                     test_size=0.3, random_state=0, shuffle = False)"
   ]
  },
  {
   "cell_type": "markdown",
   "metadata": {},
   "source": [
    "## Common Functions definitions"
   ]
  },
  {
   "cell_type": "code",
   "execution_count": 10,
   "metadata": {},
   "outputs": [],
   "source": [
    "def ColumnStandardization(train_data, test_data):\n",
    "    \"\"\" Column standardization to get unit variance.\n",
    "    with_mean is set to false so that it works for sparse matrix\n",
    "    \"\"\"\n",
    "    standardizer = StandardScaler(with_mean=False)\n",
    "    std_train_data = standardizer.fit_transform(train_data)\n",
    "    std_test_data = standardizer.transform(test_data)\n",
    "    return (std_train_data, std_test_data)"
   ]
  },
  {
   "cell_type": "code",
   "execution_count": 11,
   "metadata": {},
   "outputs": [],
   "source": [
    "def Svc_Classifier(train_features, train_class, test_features, test_class, X_SearchCV):\n",
    "    \"\"\"\n",
    "    1. Calculates C and gaama value\n",
    "    2. Plots cross validation erros v/s the alpha values\n",
    "    3. Plots confusion matrix for the predictions\n",
    "    \"\"\"\n",
    "    \n",
    "    powers_of_ten = [0.001, 0.01, 0.1, 1, 10, 100, 1000]\n",
    "    \n",
    "    hyper_parameters = [{'C' : [0.001, 0.01, 0.1, 1, 10, 100, 1000]},\\\n",
    "                        {'gamma' : [0.001, 0.01, 0.1, 1, 10, 100, 1000]}]\n",
    "\n",
    "    model = X_SearchCV(SVC(kernel='rbf'), hyper_parameters, cv=5, \\\n",
    "                                        scoring='accuracy')\n",
    "    \n",
    "    model.fit(train_features, train_class)\n",
    "    print(model.best_estimator_)\n",
    "    acc = model.score(test_features, test_class) * float(100)\n",
    "    \n",
    "    predictions = model.predict(test_features)\n",
    "\n",
    "    f1 = f1_score(test_class, predictions) * float(100)\n",
    "    precision = precision_score(test_class, predictions) * float(100)\n",
    "    recall = recall_score(test_class, predictions) * float(100)\n",
    "    \n",
    "    print(f'Accuracy = {acc}') \n",
    "    print(f'F1 Score = {f1}') \n",
    "    print(f'Precision = {precision}') \n",
    "    print(f'Recall = {recall}') \n",
    "    \n",
    "    df_cm = pd.DataFrame(data=confusion_matrix(test_class, predictions),index=range(2),columns= ['Negative','Positive'])\n",
    "    \n",
    "    sns.set(font_scale=1.4)#for label size\n",
    "    sns.heatmap(df_cm, annot=True,annot_kws={\"size\": 16}, fmt='g')\n",
    "\n",
    "    return model"
   ]
  },
  {
   "cell_type": "code",
   "execution_count": 12,
   "metadata": {},
   "outputs": [],
   "source": [
    "import scipy"
   ]
  },
  {
   "cell_type": "code",
   "execution_count": 29,
   "metadata": {},
   "outputs": [],
   "source": [
    "def Svc_Classifier_RandomSearch(train_features, train_class, test_features, test_class, X_SearchCV):\n",
    "    \"\"\"\n",
    "    1. Calculates C and gaama value\n",
    "    2. Plots cross validation erros v/s the alpha values\n",
    "    3. Plots confusion matrix for the predictions\n",
    "    \"\"\"\n",
    "    \n",
    "    hyper_parameters = {'gamma':[1000,500,100,50,10,5,1,0.5,0.1,0.05,0.01,0.005,0.001,0.0005,0.0001],\n",
    "             'C':[1000,500,100,50,10,5,1,0.5,0.1,0.05,0.01,0.005,0.001,0.0005,0.0001]}\n",
    "   \n",
    "    model = X_SearchCV(SVC(kernel='rbf'), hyper_parameters, cv=5, \\\n",
    "                                        scoring='accuracy')\n",
    "    \n",
    "    model.fit(train_features, train_class)\n",
    "    print(model.best_estimator_)\n",
    "    acc = model.score(test_features, test_class) * float(100)\n",
    "    \n",
    "    predictions = model.predict(test_features)\n",
    "\n",
    "    f1 = f1_score(test_class, predictions) * float(100)\n",
    "    precision = precision_score(test_class, predictions) * float(100)\n",
    "    recall = recall_score(test_class, predictions) * float(100)\n",
    "    \n",
    "    print(f'Accuracy = {acc}') \n",
    "    print(f'F1 Score = {f1}') \n",
    "    print(f'Precision = {precision}') \n",
    "    print(f'Recall = {recall}') \n",
    "    \n",
    "    df_cm = pd.DataFrame(data=confusion_matrix(test_class, predictions),index=range(2),columns= ['Negative','Positive'])\n",
    "    \n",
    "    sns.set(font_scale=1.4)#for label size\n",
    "    sns.heatmap(df_cm, annot=True,annot_kws={\"size\": 16}, fmt='g')\n",
    "\n",
    "    return model"
   ]
  },
  {
   "cell_type": "markdown",
   "metadata": {},
   "source": [
    "### Bag Of Words"
   ]
  },
  {
   "cell_type": "code",
   "execution_count": 9,
   "metadata": {
    "scrolled": false
   },
   "outputs": [
    {
     "name": "stdout",
     "output_type": "stream",
     "text": [
      "<class 'scipy.sparse.csr.csr_matrix'>\n",
      "Shape of final_bigrams : (42000, 69090)\n"
     ]
    },
    {
     "name": "stderr",
     "output_type": "stream",
     "text": [
      "C:\\ProgramData\\Anaconda3\\lib\\site-packages\\sklearn\\utils\\validation.py:475: DataConversionWarning: Data with input dtype int64 was converted to float64 by StandardScaler.\n",
      "  warnings.warn(msg, DataConversionWarning)\n",
      "C:\\ProgramData\\Anaconda3\\lib\\site-packages\\sklearn\\utils\\validation.py:475: DataConversionWarning: Data with input dtype int64 was converted to float64 by StandardScaler.\n",
      "  warnings.warn(msg, DataConversionWarning)\n",
      "C:\\ProgramData\\Anaconda3\\lib\\site-packages\\sklearn\\utils\\validation.py:475: DataConversionWarning: Data with input dtype int64 was converted to float64 by StandardScaler.\n",
      "  warnings.warn(msg, DataConversionWarning)\n"
     ]
    }
   ],
   "source": [
    "count_vectorizer = CountVectorizer(ngram_range=(1,3), min_df=5)\n",
    "\n",
    "#fit and transform train data\n",
    "bow_X_tr = count_vectorizer.fit_transform(X_train)\n",
    "\n",
    "# transform test data, note that i am not fitting the vectorizer just transforming the test data\n",
    "bow_X_test = count_vectorizer.transform(X_test)\n",
    "\n",
    "(bow_X_tr, bow_X_test) = ColumnStandardization(bow_X_tr, bow_X_test)\n",
    "\n",
    "print(type(bow_X_tr))\n",
    "print(f\"Shape of final_bigrams : {bow_X_tr.get_shape()}\")"
   ]
  },
  {
   "cell_type": "markdown",
   "metadata": {},
   "source": [
    "#### Run Classifier"
   ]
  },
  {
   "cell_type": "code",
   "execution_count": 10,
   "metadata": {},
   "outputs": [
    {
     "name": "stdout",
     "output_type": "stream",
     "text": [
      "SVC(C=1, cache_size=200, class_weight=None, coef0=0.0,\n",
      "  decision_function_shape='ovr', degree=3, gamma='auto', kernel='rbf',\n",
      "  max_iter=-1, probability=False, random_state=None, shrinking=True,\n",
      "  tol=0.001, verbose=False)\n",
      "Accuracy = 88.39444444444445\n",
      "F1 Score = 88.1944051992088\n",
      "Precision = 89.00422037184897\n",
      "Recall = 87.3991935483871\n"
     ]
    },
    {
     "data": {
      "image/png": "[encoded data removed]",
      "text/plain": [
       "<Figure size 432x288 with 2 Axes>"
      ]
     },
     "metadata": {},
     "output_type": "display_data"
    }
   ],
   "source": [
    "model = Svc_Classifier(train_features = bow_X_tr, train_class = Y_train, \\\n",
    "                                     test_features = bow_X_test, test_class = Y_test, X_SearchCV = GridSearchCV)"
   ]
  },
  {
   "cell_type": "markdown",
   "metadata": {},
   "source": [
    "#### How accuracy changes with C for gaama regularization"
   ]
  },
  {
   "cell_type": "code",
   "execution_count": 11,
   "metadata": {},
   "outputs": [
    {
     "data": {
      "text/plain": [
       "[mean: 0.50171, std: 0.00002, params: {'C': 0.001},\n",
       " mean: 0.53655, std: 0.00751, params: {'C': 0.01},\n",
       " mean: 0.58348, std: 0.00859, params: {'C': 0.1},\n",
       " mean: 0.87374, std: 0.00382, params: {'C': 1},\n",
       " mean: 0.86469, std: 0.00425, params: {'C': 10},\n",
       " mean: 0.86221, std: 0.00480, params: {'C': 100},\n",
       " mean: 0.86250, std: 0.00477, params: {'C': 1000},\n",
       " mean: 0.50431, std: 0.00067, params: {'gamma': 0.001},\n",
       " mean: 0.50286, std: 0.00044, params: {'gamma': 0.01},\n",
       " mean: 0.50271, std: 0.00039, params: {'gamma': 0.1},\n",
       " mean: 0.50267, std: 0.00040, params: {'gamma': 1},\n",
       " mean: 0.50269, std: 0.00038, params: {'gamma': 10},\n",
       " mean: 0.50269, std: 0.00038, params: {'gamma': 100},\n",
       " mean: 0.50269, std: 0.00038, params: {'gamma': 1000}]"
      ]
     },
     "execution_count": 11,
     "metadata": {},
     "output_type": "execute_result"
    }
   ],
   "source": [
    "model.grid_scores_"
   ]
  },
  {
   "cell_type": "markdown",
   "metadata": {},
   "source": [
    "### TFIDF"
   ]
  },
  {
   "cell_type": "code",
   "execution_count": 13,
   "metadata": {
    "scrolled": true
   },
   "outputs": [
    {
     "name": "stdout",
     "output_type": "stream",
     "text": [
      "<class 'scipy.sparse.csr.csr_matrix'>\n",
      "Shape of final_bigrams : (42000, 60455)\n"
     ]
    }
   ],
   "source": [
    "tfidf_vectorizer = TfidfVectorizer(ngram_range=(1,2), min_df=5)\n",
    "tfidf_X_tr = tfidf_vectorizer.fit_transform(X_train)\n",
    "tfidf_X_test = tfidf_vectorizer.transform(X_test)\n",
    "(tfidf_X_tr, tfidf_X_test) = ColumnStandardization(tfidf_X_tr, tfidf_X_test)\n",
    "print(type(tfidf_X_tr))\n",
    "print(f\"Shape of final_bigrams : {tfidf_X_tr.get_shape()}\")"
   ]
  },
  {
   "cell_type": "code",
   "execution_count": 12,
   "metadata": {},
   "outputs": [],
   "source": [
    "from sklearn.model_selection import RandomizedSearchCV"
   ]
  },
  {
   "cell_type": "markdown",
   "metadata": {},
   "source": [
    "### Run classifier"
   ]
  },
  {
   "cell_type": "code",
   "execution_count": null,
   "metadata": {},
   "outputs": [],
   "source": [
    "from sklearn.decomposition import TruncatedSVD"
   ]
  },
  {
   "cell_type": "code",
   "execution_count": null,
   "metadata": {},
   "outputs": [],
   "source": [
    "def GetTruncatedFeatures(train_data, test_data):\n",
    "    svd = TruncatedSVD(n_components=20000)\n",
    "    ret_train_data = svd.fit_transform(train_data)\n",
    "    ret_test_data = svd.trasform(test_data)\n",
    "    return ret_train_data, ret_test_data"
   ]
  },
  {
   "cell_type": "code",
   "execution_count": null,
   "metadata": {},
   "outputs": [],
   "source": [
    "tfidf_X_tr_reduced , tfidf_X_test_reduced = GetTruncatedFeatures(tfidf_X_tr, tfidf_X_test)"
   ]
  },
  {
   "cell_type": "code",
   "execution_count": 7,
   "metadata": {},
   "outputs": [],
   "source": [
    "tfidf_X_tr_reduced = OpenFile(r'D:\\Studies\\AppliedAi\\AmazonFoodReviews\\tfidf_X_tr_reduced.p')\n",
    "tfidf_X_test_reduced = OpenFile(r'D:\\Studies\\AppliedAi\\AmazonFoodReviews\\tfidf_X_test_reduced.p')"
   ]
  },
  {
   "cell_type": "code",
   "execution_count": 10,
   "metadata": {},
   "outputs": [],
   "source": [
    "Y_train = OpenFile(r'D:\\Studies\\AppliedAi\\AmazonFoodReviews\\Y_train.p')\n",
    "Y_test = OpenFile(r'D:\\Studies\\AppliedAi\\AmazonFoodReviews\\Y_test.p')"
   ]
  },
  {
   "cell_type": "code",
   "execution_count": 14,
   "metadata": {},
   "outputs": [
    {
     "name": "stdout",
     "output_type": "stream",
     "text": [
      "SVC(C=1, cache_size=200, class_weight=None, coef0=0.0,\n",
      "  decision_function_shape='ovr', degree=3, gamma=0.01, kernel='rbf',\n",
      "  max_iter=-1, probability=False, random_state=None, shrinking=True,\n",
      "  tol=0.001, verbose=False)\n"
     ]
    }
   ],
   "source": [
    "hyper_parameters = {'gamma':[10,5,1,0.5,0.1,0.05,0.01],\n",
    "             'C':[100,50,10,5,1,0.5,0.1]}\n",
    "\n",
    "model = RandomizedSearchCV(SVC(kernel='rbf'), hyper_parameters, cv=5, \\\n",
    "                                        scoring='accuracy')\n",
    "    \n",
    "model.fit(tfidf_X_tr_reduced, Y_train)\n",
    "print(model.best_estimator_)"
   ]
  },
  {
   "cell_type": "code",
   "execution_count": 15,
   "metadata": {},
   "outputs": [
    {
     "name": "stdout",
     "output_type": "stream",
     "text": [
      "Accuracy = 52.87222222222222\n",
      "F1 Score = 65.27203504318992\n",
      "Precision = 48.75244618395303\n",
      "Recall = 98.72445820433437\n"
     ]
    },
    {
     "data": {
      "text/plain": [
       "<matplotlib.axes._subplots.AxesSubplot at 0x23c873873c8>"
      ]
     },
     "execution_count": 15,
     "metadata": {},
     "output_type": "execute_result"
    },
    {
     "data": {
      "image/png": "[encoded data removed]",
      "text/plain": [
       "<Figure size 432x288 with 2 Axes>"
      ]
     },
     "metadata": {},
     "output_type": "display_data"
    }
   ],
   "source": [
    "acc = model.score(tfidf_X_test_reduced, Y_test) * float(100)\n",
    "predictions = model.predict(tfidf_X_test_reduced)\n",
    "\n",
    "f1 = f1_score(Y_test, predictions) * float(100)\n",
    "precision = precision_score(Y_test, predictions) * float(100)\n",
    "recall = recall_score(Y_test, predictions) * float(100)\n",
    "  \n",
    "print(f'Accuracy = {acc}') \n",
    "print(f'F1 Score = {f1}') \n",
    "print(f'Precision = {precision}') \n",
    "print(f'Recall = {recall}') \n",
    " \n",
    "df_cm = pd.DataFrame(data=confusion_matrix(Y_test, predictions),index=range(2),columns= ['Negative','Positive'])\n",
    "  \n",
    "sns.set(font_scale=1.4)#for label size\n",
    "sns.heatmap(df_cm, annot=True,annot_kws={\"size\": 16}, fmt='g')"
   ]
  },
  {
   "cell_type": "code",
   "execution_count": 14,
   "metadata": {},
   "outputs": [],
   "source": [
    "from gensim.models import Word2Vec\n",
    "from gensim.models import KeyedVectors\n",
    "import pickle"
   ]
  },
  {
   "cell_type": "code",
   "execution_count": 15,
   "metadata": {},
   "outputs": [],
   "source": [
    "def cleanpunc(sentence): #function to clean the word of any punctuation or special characters\n",
    "    cleaned = re.sub(r'[?|!|\\'|\"|#]',r'',sentence)\n",
    "    cleaned = re.sub(r'[.|,|)|(|\\|/|-]',r' ',cleaned)\n",
    "    return  cleaned"
   ]
  },
  {
   "cell_type": "code",
   "execution_count": 16,
   "metadata": {},
   "outputs": [],
   "source": [
    "def Get_List_of_Sentences(cleanedText):\n",
    "    list_of_sent=[]\n",
    "    for sent in cleanedText:\n",
    "        list_of_sent.append(cleanpunc(sent).split())\n",
    "    return list_of_sent"
   ]
  },
  {
   "cell_type": "code",
   "execution_count": 17,
   "metadata": {},
   "outputs": [],
   "source": [
    "def Get_Word2Vec_Vectors(list_of_sent):\n",
    "    w2v_model = Word2Vec(list_of_sent,min_count=5,size=50, workers=4)\n",
    "    return w2v_model"
   ]
  },
  {
   "cell_type": "code",
   "execution_count": 18,
   "metadata": {},
   "outputs": [],
   "source": [
    "def GetAvgW2V_Vectors(list_of_sent, w2v_model):\n",
    "    w2v_words = list(w2v_model.wv.vocab)\n",
    "    sent_vectors = []; # the avg-w2v for each sentence/review is stored in this list\n",
    "    for sent in list_of_sent: # for each review/sentence\n",
    "        sent_vec = np.zeros(50) # as word vectors are of zero length\n",
    "        cnt_words =0; # num of words with a valid vector in the sentence/review\n",
    "        for word in sent: # for each word in a review/sentence\n",
    "            if word in w2v_words:\n",
    "                vec = w2v_model.wv[word]\n",
    "                sent_vec += vec\n",
    "                cnt_words += 1\n",
    "        if cnt_words != 0:\n",
    "            sent_vec /= cnt_words\n",
    "        sent_vectors.append(sent_vec)\n",
    "    \n",
    "    return sent_vectors"
   ]
  },
  {
   "cell_type": "code",
   "execution_count": 19,
   "metadata": {},
   "outputs": [],
   "source": [
    "X_tr_listOfSent = Get_List_of_Sentences(X_train)\n",
    "X_test_listOfSent = Get_List_of_Sentences(X_test)\n",
    "X_tr_w2vModel = Get_Word2Vec_Vectors(X_tr_listOfSent)"
   ]
  },
  {
   "cell_type": "code",
   "execution_count": 38,
   "metadata": {
    "scrolled": false
   },
   "outputs": [],
   "source": [
    "# Get Average word2vec vector for each set of data -> Column standardize those vectors\n",
    "avg_X_tr = GetAvgW2V_Vectors(X_tr_listOfSent, X_tr_w2vModel)\n",
    "avg_X_test = GetAvgW2V_Vectors(X_test_listOfSent, X_tr_w2vModel)\n",
    "(avg_X_tr, avg_X_test) = ColumnStandardization(avg_X_tr, avg_X_test)"
   ]
  },
  {
   "cell_type": "code",
   "execution_count": 20,
   "metadata": {},
   "outputs": [],
   "source": [
    "def GetTfIdfW2V_Vectors(list_of_sent, w2v_model, final_tfidf):\n",
    "    # TF-IDF weighted Word2Vec\n",
    "    tfidf_feat = tfidf_vectorizer.get_feature_names() # tfidf words/col-names\n",
    "    # final_tf_idf is the sparse matrix with row= sentence, col=word and cell_val = tfidf\n",
    "\n",
    "    tfidf_sent_vectors = [] # the tfidf-w2v for each sentence/review is stored in this list\n",
    "    w2v_words = list(w2v_model.wv.vocab)\n",
    "    print(f'number of sentences = {len(list_of_sent)}')\n",
    "    for (row,sent) in enumerate(list_of_sent): # for each review/sentence \n",
    "        sent_vec = np.zeros(50) # as word vectors are of zero length\n",
    "        weight_sum =0; # num of words with a valid vector in the sentence/review\n",
    "        for word in sent: # for each word in a review/sentence\n",
    "            if (word in w2v_words) and (word in tfidf_feat):\n",
    "                vec = w2v_model.wv[word]\n",
    "                # obtain the tf_idfidf of a word in a sentence/review\n",
    "                tf_idf = final_tfidf[row, tfidf_feat.index(word)]\n",
    "                sent_vec += (vec * tf_idf)\n",
    "                weight_sum += tf_idf\n",
    "        if weight_sum != 0:\n",
    "            sent_vec /= weight_sum\n",
    "        tfidf_sent_vectors.append(sent_vec)\n",
    "        print(f'Sentence number {row}', end = \"\\r\")\n",
    "    \n",
    "    return tfidf_sent_vectors"
   ]
  },
  {
   "cell_type": "code",
   "execution_count": 21,
   "metadata": {
    "scrolled": true
   },
   "outputs": [
    {
     "name": "stdout",
     "output_type": "stream",
     "text": [
      "number of sentences = 42000\n",
      "Sentence number 41999\r"
     ]
    }
   ],
   "source": [
    "# Get Average word2vec vector for each set of data -> Column standardize those vectors\n",
    "avgtfidf_X_tr = GetTfIdfW2V_Vectors(X_tr_listOfSent, X_tr_w2vModel, tfidf_X_tr)"
   ]
  },
  {
   "cell_type": "code",
   "execution_count": 22,
   "metadata": {},
   "outputs": [
    {
     "name": "stdout",
     "output_type": "stream",
     "text": [
      "number of sentences = 18000\n",
      "Sentence number 17999\r"
     ]
    }
   ],
   "source": [
    "avgtfidf_X_test = GetTfIdfW2V_Vectors(X_test_listOfSent, X_tr_w2vModel, tfidf_X_test)\n",
    "(avgtfidf_X_tr, avgtfidf_X_test) = ColumnStandardization(avgtfidf_X_tr, avgtfidf_X_test)"
   ]
  },
  {
   "cell_type": "code",
   "execution_count": 53,
   "metadata": {},
   "outputs": [
    {
     "name": "stdout",
     "output_type": "stream",
     "text": [
      "SVC(C=1, cache_size=200, class_weight=None, coef0=0.0,\n",
      "  decision_function_shape='ovr', degree=3, gamma='auto', kernel='rbf',\n",
      "  max_iter=-1, probability=False, random_state=None, shrinking=True,\n",
      "  tol=0.001, verbose=False)\n",
      "Accuracy = 85.64444444444445\n",
      "F1 Score = 85.45045045045046\n",
      "Precision = 85.91485507246377\n",
      "Recall = 84.9910394265233\n"
     ]
    },
    {
     "data": {
      "image/png": "[encoded data removed]",
      "text/plain": [
       "<Figure size 432x288 with 2 Axes>"
      ]
     },
     "metadata": {},
     "output_type": "display_data"
    }
   ],
   "source": [
    "model_avg_w2v = Svc_Classifier(train_features = avg_X_tr, train_class = Y_train, \\\n",
    "                                     test_features = avg_X_test, test_class = Y_test, X_SearchCV = GridSearchCV)"
   ]
  },
  {
   "cell_type": "markdown",
   "metadata": {},
   "source": [
    "#### How accuracy changes with C for gaama regularization"
   ]
  },
  {
   "cell_type": "code",
   "execution_count": 11,
   "metadata": {},
   "outputs": [
    {
     "data": {
      "text/plain": [
       "[mean: 0.50171, std: 0.00002, params: {'C': 0.001},\n",
       " mean: 0.53655, std: 0.00751, params: {'C': 0.01},\n",
       " mean: 0.58348, std: 0.00859, params: {'C': 0.1},\n",
       " mean: 0.87374, std: 0.00382, params: {'C': 1},\n",
       " mean: 0.86469, std: 0.00425, params: {'C': 10},\n",
       " mean: 0.86221, std: 0.00480, params: {'C': 100},\n",
       " mean: 0.86250, std: 0.00477, params: {'C': 1000},\n",
       " mean: 0.50431, std: 0.00067, params: {'gamma': 0.001},\n",
       " mean: 0.50286, std: 0.00044, params: {'gamma': 0.01},\n",
       " mean: 0.50271, std: 0.00039, params: {'gamma': 0.1},\n",
       " mean: 0.50267, std: 0.00040, params: {'gamma': 1},\n",
       " mean: 0.50269, std: 0.00038, params: {'gamma': 10},\n",
       " mean: 0.50269, std: 0.00038, params: {'gamma': 100},\n",
       " mean: 0.50269, std: 0.00038, params: {'gamma': 1000}]"
      ]
     },
     "execution_count": 11,
     "metadata": {},
     "output_type": "execute_result"
    }
   ],
   "source": [
    "model.grid_scores_"
   ]
  },
  {
   "cell_type": "code",
   "execution_count": 23,
   "metadata": {
    "scrolled": true
   },
   "outputs": [
    {
     "name": "stdout",
     "output_type": "stream",
     "text": [
      "SVC(C=1, cache_size=200, class_weight=None, coef0=0.0,\n",
      "  decision_function_shape='ovr', degree=3, gamma='auto', kernel='rbf',\n",
      "  max_iter=-1, probability=False, random_state=None, shrinking=True,\n",
      "  tol=0.001, verbose=False)\n",
      "Accuracy = 83.56666666666666\n",
      "F1 Score = 83.27868852459015\n",
      "Precision = 84.06756448299475\n",
      "Recall = 82.50448028673834\n"
     ]
    },
    {
     "data": {
      "image/png": "[encoded data removed]",
      "text/plain": [
       "<Figure size 432x288 with 2 Axes>"
      ]
     },
     "metadata": {},
     "output_type": "display_data"
    }
   ],
   "source": [
    "model_avgtfidf_w2v = Svc_Classifier(train_features = avgtfidf_X_tr, train_class = Y_train, \\\n",
    "                                     test_features = avgtfidf_X_test, test_class = Y_test, X_SearchCV = GridSearchCV)"
   ]
  },
  {
   "cell_type": "code",
   "execution_count": null,
   "metadata": {},
   "outputs": [],
   "source": [
    "def Svc_linear_Classifier(train_features, train_class, test_features, test_class, X_SearchCV):\n",
    "    \"\"\"\n",
    "    1. Calculates C and gaama value\n",
    "    2. Plots cross validation erros v/s the alpha values\n",
    "    3. Plots confusion matrix for the predictions\n",
    "    \"\"\"\n",
    "    \n",
    "    powers_of_ten = [0.001, 0.01, 0.1, 1, 10, 100, 1000]\n",
    "    \n",
    "    hyper_parameters = [{'C' : [0.001, 0.01, 0.1, 1, 10, 100, 1000]},\\\n",
    "                        {'gamma' : [0.001, 0.01, 0.1, 1, 10, 100, 1000]}]\n",
    "\n",
    "    model = X_SearchCV(SVC(kernel='linear'), hyper_parameters, cv=5, \\\n",
    "                                        scoring='accuracy')\n",
    "    \n",
    "    model.fit(train_features, train_class)\n",
    "    print(model.best_estimator_)\n",
    "    acc = model.score(test_features, test_class) * float(100)\n",
    "    \n",
    "    predictions = model.predict(test_features)\n",
    "\n",
    "    f1 = f1_score(test_class, predictions) * float(100)\n",
    "    precision = precision_score(test_class, predictions) * float(100)\n",
    "    recall = recall_score(test_class, predictions) * float(100)\n",
    "    \n",
    "    print(f'Accuracy = {acc}') \n",
    "    print(f'F1 Score = {f1}') \n",
    "    print(f'Precision = {precision}') \n",
    "    print(f'Recall = {recall}') \n",
    "    \n",
    "    df_cm = pd.DataFrame(data=confusion_matrix(test_class, predictions),index=range(2),columns= ['Negative','Positive'])\n",
    "    \n",
    "    sns.set(font_scale=1.4)#for label size\n",
    "    sns.heatmap(df_cm, annot=True,annot_kws={\"size\": 16}, fmt='g')\n",
    "\n",
    "    return model"
   ]
  },
  {
   "cell_type": "code",
   "execution_count": null,
   "metadata": {},
   "outputs": [],
   "source": [
    "model_avgtfidf_w2v_linear = Svc_linear_Classifier(train_features = avgtfidf_X_tr, train_class = Y_train, \\\n",
    "                                     test_features = avgtfidf_X_test, test_class = Y_test, X_SearchCV = GridSearchCV)"
   ]
  },
  {
   "cell_type": "code",
   "execution_count": null,
   "metadata": {},
   "outputs": [],
   "source": [
    "model_avg_w2v_linear = Svc_linear_Classifier(train_features = avg_X_tr, train_class = Y_train, \\\n",
    "                                     test_features = avg_X_test, test_class = Y_test, X_SearchCV = GridSearchCV)"
   ]
  },
  {
   "cell_type": "markdown",
   "metadata": {},
   "source": [
    "# Conclusion"
   ]
  },
  {
   "cell_type": "code",
   "execution_count": 16,
   "metadata": {
    "scrolled": false
   },
   "outputs": [
    {
     "data": {
      "text/html": [
       "<div>\n",
       "<style scoped>\n",
       "    .dataframe tbody tr th:only-of-type {\n",
       "        vertical-align: middle;\n",
       "    }\n",
       "\n",
       "    .dataframe tbody tr th {\n",
       "        vertical-align: top;\n",
       "    }\n",
       "\n",
       "    .dataframe thead th {\n",
       "        text-align: right;\n",
       "    }\n",
       "</style>\n",
       "<table border=\"1\" class=\"dataframe\">\n",
       "  <thead>\n",
       "    <tr style=\"text-align: right;\">\n",
       "      <th></th>\n",
       "      <th>Alogrithm</th>\n",
       "      <th>Accuracy</th>\n",
       "    </tr>\n",
       "  </thead>\n",
       "  <tbody>\n",
       "    <tr>\n",
       "      <th>0</th>\n",
       "      <td>Bow</td>\n",
       "      <td>88.39</td>\n",
       "    </tr>\n",
       "    <tr>\n",
       "      <th>1</th>\n",
       "      <td>Tfidf</td>\n",
       "      <td>52.87</td>\n",
       "    </tr>\n",
       "    <tr>\n",
       "      <th>2</th>\n",
       "      <td>Avg_w2v</td>\n",
       "      <td>85.64</td>\n",
       "    </tr>\n",
       "    <tr>\n",
       "      <th>3</th>\n",
       "      <td>Tfidf_w2v</td>\n",
       "      <td>83.56</td>\n",
       "    </tr>\n",
       "  </tbody>\n",
       "</table>\n",
       "</div>"
      ],
      "text/plain": [
       "   Alogrithm  Accuracy\n",
       "0        Bow     88.39\n",
       "1      Tfidf     52.87\n",
       "2    Avg_w2v     85.64\n",
       "3  Tfidf_w2v     83.56"
      ]
     },
     "execution_count": 16,
     "metadata": {},
     "output_type": "execute_result"
    }
   ],
   "source": [
    "conclusion = {'Alogrithm' : ['Bow', 'Tfidf', 'Avg_w2v', 'Tfidf_w2v'], \\\n",
    "              'Accuracy' : [88.39, 52.87, 85.64, 83.56]}\n",
    "df_conclusion = pd.DataFrame(data=conclusion)\n",
    "\n",
    "df_conclusion"
   ]
  },
  {
   "cell_type": "markdown",
   "metadata": {},
   "source": [
    "1. Grid search is not fast and takes a lot of time in training.\n",
    "2. Bag of words showed better performance than any other featurization\n",
    "3. The lower value of accuracy for tfidf is because we used rbf kernel. Linear kernel produces better results. "
   ]
  },
  {
   "cell_type": "code",
   "execution_count": 4,
   "metadata": {},
   "outputs": [],
   "source": [
    "import pickle"
   ]
  },
  {
   "cell_type": "code",
   "execution_count": 5,
   "metadata": {},
   "outputs": [],
   "source": [
    "def OpenFile(fileName):\n",
    "    return pickle.load(open(fileName, 'rb'))"
   ]
  }
 ],
 "metadata": {
  "kernelspec": {
   "display_name": "Python 3",
   "language": "python",
   "name": "python3"
  },
  "language_info": {
   "codemirror_mode": {
    "name": "ipython",
    "version": 3
   },
   "file_extension": ".py",
   "mimetype": "text/x-python",
   "name": "python",
   "nbconvert_exporter": "python",
   "pygments_lexer": "ipython3",
   "version": "3.6.5"
  }
 },
 "nbformat": 4,
 "nbformat_minor": 2
}
