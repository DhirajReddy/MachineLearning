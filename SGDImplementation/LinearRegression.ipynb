{
 "cells": [
  {
   "cell_type": "code",
   "execution_count": 638,
   "metadata": {},
   "outputs": [],
   "source": [
    "from sklearn.datasets import load_boston\n",
    "boston = load_boston()\n"
   ]
  },
  {
   "cell_type": "code",
   "execution_count": 639,
   "metadata": {
    "scrolled": true
   },
   "outputs": [
    {
     "name": "stdout",
     "output_type": "stream",
     "text": [
      "(506, 13)\n"
     ]
    }
   ],
   "source": [
    "print(boston.data.shape)"
   ]
  },
  {
   "cell_type": "code",
   "execution_count": 640,
   "metadata": {
    "scrolled": true
   },
   "outputs": [
    {
     "name": "stdout",
     "output_type": "stream",
     "text": [
      "['CRIM' 'ZN' 'INDUS' 'CHAS' 'NOX' 'RM' 'AGE' 'DIS' 'RAD' 'TAX' 'PTRATIO'\n",
      " 'B' 'LSTAT']\n"
     ]
    }
   ],
   "source": [
    "print(boston.feature_names)"
   ]
  },
  {
   "cell_type": "code",
   "execution_count": 641,
   "metadata": {},
   "outputs": [],
   "source": [
    "bos['PRICE'] = boston.target\n",
    "\n",
    "X = bos.drop('PRICE', axis = 1)\n",
    "Y = bos['PRICE']"
   ]
  },
  {
   "cell_type": "code",
   "execution_count": 642,
   "metadata": {},
   "outputs": [
    {
     "data": {
      "text/plain": [
       "0    24.0\n",
       "1    21.6\n",
       "2    34.7\n",
       "3    33.4\n",
       "4    36.2\n",
       "Name: PRICE, dtype: float64"
      ]
     },
     "execution_count": 642,
     "metadata": {},
     "output_type": "execute_result"
    }
   ],
   "source": [
    "Y.head()"
   ]
  },
  {
   "cell_type": "code",
   "execution_count": 643,
   "metadata": {},
   "outputs": [
    {
     "name": "stdout",
     "output_type": "stream",
     "text": [
      "(339, 13)\n",
      "(167, 13)\n",
      "(339,)\n",
      "(167,)\n"
     ]
    }
   ],
   "source": [
    "from sklearn import cross_validation\n",
    "X_train, X_test, Y_train, Y_test = cross_validation.train_test_split(X, Y, test_size = 0.33, random_state = 5)\n",
    "print(X_train.shape)\n",
    "print(X_test.shape)\n",
    "print(Y_train.shape)\n",
    "print(Y_test.shape)"
   ]
  },
  {
   "cell_type": "code",
   "execution_count": 644,
   "metadata": {},
   "outputs": [
    {
     "data": {
      "image/png": "[encoded data removed]",
      "text/plain": [
       "<Figure size 432x288 with 1 Axes>"
      ]
     },
     "metadata": {},
     "output_type": "display_data"
    }
   ],
   "source": [
    "# code source:https://medium.com/@haydar_ai/learning-data-science-day-9-linear-regression-on-boston-housing-dataset-cd62a80775ef\n",
    "%matplotlib inline\n",
    "from sklearn.linear_model import LinearRegression\n",
    "import matplotlib.pyplot as plt\n",
    "\n",
    "lm = LinearRegression()\n",
    "lm.fit(X_train, Y_train)\n",
    "\n",
    "Y_pred = lm.predict(X_test)\n",
    "\n",
    "plt.scatter(Y_test, Y_pred)\n",
    "plt.xlabel(\"Prices: $Y_i$\")\n",
    "plt.ylabel(\"Predicted prices: $\\hat{Y}_i$\")\n",
    "plt.title(\"Prices vs Predicted prices: $Y_i$ vs $\\hat{Y}_i$\")\n",
    "plt.show()"
   ]
  },
  {
   "cell_type": "code",
   "execution_count": 645,
   "metadata": {
    "scrolled": false
   },
   "outputs": [
    {
     "data": {
      "image/png": "[encoded data removed]",
      "text/plain": [
       "<Figure size 432x288 with 1 Axes>"
      ]
     },
     "metadata": {},
     "output_type": "display_data"
    }
   ],
   "source": [
    "delta_y = Y_test - Y_pred;\n",
    "\n",
    "import seaborn as sns;\n",
    "import numpy as np;\n",
    "sns.set_style('whitegrid')\n",
    "sns.kdeplot(np.array(delta_y), bw=0.5)\n",
    "plt.show()\n"
   ]
  },
  {
   "cell_type": "code",
   "execution_count": 646,
   "metadata": {},
   "outputs": [],
   "source": [
    "from sklearn.preprocessing import StandardScaler"
   ]
  },
  {
   "cell_type": "code",
   "execution_count": 647,
   "metadata": {},
   "outputs": [],
   "source": [
    "def ColumnStandardization(train_data, test_data):\n",
    "    \"\"\" Column standardization to get unit variance.\n",
    "    with_mean is set to false so that it works for sparse matrix\n",
    "    \"\"\"\n",
    "    standardizer = StandardScaler()\n",
    "    std_train_data = standardizer.fit_transform(train_data)\n",
    "    std_test_data = standardizer.transform(test_data)\n",
    "    return (std_train_data, std_test_data)"
   ]
  },
  {
   "cell_type": "code",
   "execution_count": 648,
   "metadata": {},
   "outputs": [],
   "source": [
    "def predict_y(test_inputs, w, b):\n",
    "    \"\"\"\n",
    "    Predicts the Y values for the provided test inputs.\n",
    "    div_vector is the optimal w* \n",
    "    div_intercept is the optimal b*\n",
    "    \"\"\"\n",
    "    test_inputs = np.array(test_inputs)\n",
    "    ret_output = [(np.dot(w,xi) + b) for xi in test_inputs]\n",
    "        \n",
    "    return ret_output # return the predicted values"
   ]
  },
  {
   "cell_type": "code",
   "execution_count": 649,
   "metadata": {},
   "outputs": [],
   "source": [
    "def plot_predictions(predictions):\n",
    "    plt.scatter(Y_test, predictions)\n",
    "    plt.xlabel(\"Prices: $Y_i$\")\n",
    "    plt.ylabel(\"Predicted prices: $\\hat{Y}_i$\")\n",
    "    plt.title(\"Prices vs Predicted prices: $Y_i$ vs $\\hat{Y}_i$\")\n",
    "    plt.show()"
   ]
  },
  {
   "cell_type": "code",
   "execution_count": 653,
   "metadata": {},
   "outputs": [],
   "source": [
    "def StoichasticGradientDescent(X_train, Y_train, w_current, b_current, num_of_iterations, learning_rate, stoichastic_constant):\n",
    "    \"\"\"\n",
    "    Performs the Gradient descent algorithm.\n",
    "    X_train -> Train input on which the SGD is run\n",
    "    Y_train -> Observed outputs for the given X_train\n",
    "    b_current -> initial Y intercept of the line. b of the y = w.x + b\n",
    "    w_current -> initial weight vector. w of the y = w.x + b\n",
    "    learning_rate -> the rate at which the optimum value is achived\n",
    "    stoichastic_constant -> The number of random inputs to pick from the train data to calculate the intermediate w and b\n",
    "    \"\"\"\n",
    "    for _ in range(num_of_iterations):\n",
    "        \n",
    "        # indicies of the randomly picked input values \n",
    "        k_indices = random.sample(range(0,339), stoichastic_constant) \n",
    "        \n",
    "        X_samples = np.array([X_train[i] for i in k_indices]) # randomly picked input sample \n",
    "        y_samples = np.array([Y_train[i] for i in k_indices]) # randomly picked output of the input sample\n",
    "        \n",
    "        y_currents = [(np.dot(w_current, xi) + b_current) for xi in X_samples] # y_current = w.xi + b\n",
    "        \n",
    "        # summation of[ (-2) (xi) (yi - w.xi - b) ]\n",
    "        # summation of[ (-2) (xi) (yi - (w.xi + b)) ]\n",
    "        # summation of[ (-2) (xi) (yi - y_current) ]\n",
    "        w_gradient = float(-2) * sum((X_samples.T * (y_samples - y_currents)).T)\n",
    "\n",
    "        # summation of[ (-2) (yi - w.xi - b) ]\n",
    "        # summation of[ (-2) (yi - (w.xi + b)) ]\n",
    "        # summation of[ (-2) (yi - y_current) ]\n",
    "        b_gradient = float(-2) * sum(y_samples - y_currents) \n",
    "        \n",
    "        # wi+1 = wi - r . dl\\dw\n",
    "        w_current = w_current - (learning_rate * w_gradient)\n",
    "        \n",
    "        # bi+1 = bi - r . dl\\db\n",
    "        b_current = b_current - (learning_rate * b_gradient)\n",
    "            \n",
    "    return w_current, b_current"
   ]
  },
  {
   "cell_type": "code",
   "execution_count": 651,
   "metadata": {},
   "outputs": [],
   "source": [
    "import random\n",
    "train_input, test_input = ColumnStandardization(X_train,X_test)\n",
    "\n",
    "train_input = np.array(train_input)\n",
    "\n",
    "train_output = np.array(Y_train)"
   ]
  },
  {
   "cell_type": "code",
   "execution_count": 654,
   "metadata": {},
   "outputs": [
    {
     "name": "stdout",
     "output_type": "stream",
     "text": [
      "[-1.36986934  0.78201421 -0.41500137  0.66482854 -1.30219142  3.02631952\n",
      " -0.31428005 -2.73325602  2.13724282 -1.24657183 -1.92488459  1.08524094\n",
      " -3.28452828]\n",
      "22.424298826316303\n"
     ]
    },
    {
     "data": {
      "image/png": "[encoded data removed]",
      "text/plain": [
       "<Figure size 432x288 with 1 Axes>"
      ]
     },
     "metadata": {},
     "output_type": "display_data"
    }
   ],
   "source": [
    "w_star, b_star = StoichasticGradientDescent(train, y, np.zeros(X.shape[1]), 0, 500, 0.001, 20)\n",
    "\n",
    "print(w_star)\n",
    "print(b_star)\n",
    "\n",
    "# prediction using w0 and b0 are optimal vector and intercept\n",
    "y_expected = predict_y(test, w_star, b_star)\n",
    "\n",
    "plot_predictions(y_expected)"
   ]
  },
  {
   "cell_type": "code",
   "execution_count": 655,
   "metadata": {},
   "outputs": [
    {
     "name": "stdout",
     "output_type": "stream",
     "text": [
      "[-1.03730751  0.48847619 -0.43140205  0.30698059 -0.63986194  3.09816012\n",
      " -0.38605481 -1.86780121  0.90877473 -0.44617361 -1.96748346  0.92874207\n",
      " -3.17350991]\n",
      "22.352826233060988\n"
     ]
    },
    {
     "data": {
      "image/png": "[encoded data removed]",
      "text/plain": [
       "<Figure size 432x288 with 1 Axes>"
      ]
     },
     "metadata": {},
     "output_type": "display_data"
    }
   ],
   "source": [
    "w_star, b_star = StoichasticGradientDescent(train, y, np.zeros(X.shape[1]), 0, 800, 0.0001, 30)\n",
    "\n",
    "print(w_star)\n",
    "print(b_star)\n",
    "\n",
    "# prediction using w0 and b0 are optimal vector and intercept\n",
    "y_expected = predict_y(test, w_star, b_star)\n",
    "\n",
    "plot_predictions(y_expected)"
   ]
  },
  {
   "cell_type": "code",
   "execution_count": 657,
   "metadata": {
    "scrolled": false
   },
   "outputs": [
    {
     "data": {
      "image/png": "[encoded data removed]",
      "text/plain": [
       "<Figure size 432x288 with 1 Axes>"
      ]
     },
     "metadata": {},
     "output_type": "display_data"
    }
   ],
   "source": [
    "plt.scatter(Y_pred, y_expected)\n",
    "plt.xlabel(\"Prices: sk learn\")\n",
    "plt.ylabel(\"Predicted prices: dhiraj never learns\")\n",
    "plt.title(\"My atrocities with SGD\")\n",
    "plt.show()"
   ]
  },
  {
   "cell_type": "code",
   "execution_count": 658,
   "metadata": {},
   "outputs": [],
   "source": [
    "from sklearn.metrics import r2_score\n",
    "from sklearn.metrics import mean_squared_error"
   ]
  },
  {
   "cell_type": "code",
   "execution_count": 660,
   "metadata": {},
   "outputs": [
    {
     "data": {
      "text/html": [
       "<div>\n",
       "<style scoped>\n",
       "    .dataframe tbody tr th:only-of-type {\n",
       "        vertical-align: middle;\n",
       "    }\n",
       "\n",
       "    .dataframe tbody tr th {\n",
       "        vertical-align: top;\n",
       "    }\n",
       "\n",
       "    .dataframe thead th {\n",
       "        text-align: right;\n",
       "    }\n",
       "</style>\n",
       "<table border=\"1\" class=\"dataframe\">\n",
       "  <thead>\n",
       "    <tr style=\"text-align: right;\">\n",
       "      <th></th>\n",
       "      <th>SK learn</th>\n",
       "      <th>Dhiraj</th>\n",
       "    </tr>\n",
       "  </thead>\n",
       "  <tbody>\n",
       "    <tr>\n",
       "      <th>0</th>\n",
       "      <td>0.695539</td>\n",
       "      <td>0.684726</td>\n",
       "    </tr>\n",
       "    <tr>\n",
       "      <th>1</th>\n",
       "      <td>28.541367</td>\n",
       "      <td>29.554995</td>\n",
       "    </tr>\n",
       "  </tbody>\n",
       "</table>\n",
       "</div>"
      ],
      "text/plain": [
       "    SK learn     Dhiraj\n",
       "0   0.695539   0.684726\n",
       "1  28.541367  29.554995"
      ]
     },
     "execution_count": 660,
     "metadata": {},
     "output_type": "execute_result"
    }
   ],
   "source": [
    "comparision = [[r2_score(Y_test, Y_pred), r2_score(Y_test, y_expected)],\n",
    "               [mean_squared_error(Y_test, Y_pred), mean_squared_error(Y_test, y_expected)]]\n",
    "comp_df = pd.DataFrame(data=comparision, columns=[\"SK learn\", \"Dhiraj\"])\n",
    "\n",
    "comp_df.head()"
   ]
  },
  {
   "cell_type": "code",
   "execution_count": 666,
   "metadata": {},
   "outputs": [
    {
     "data": {
      "text/html": [
       "<div>\n",
       "<style scoped>\n",
       "    .dataframe tbody tr th:only-of-type {\n",
       "        vertical-align: middle;\n",
       "    }\n",
       "\n",
       "    .dataframe tbody tr th {\n",
       "        vertical-align: top;\n",
       "    }\n",
       "\n",
       "    .dataframe thead th {\n",
       "        text-align: right;\n",
       "    }\n",
       "</style>\n",
       "<table border=\"1\" class=\"dataframe\">\n",
       "  <thead>\n",
       "    <tr style=\"text-align: right;\">\n",
       "      <th></th>\n",
       "      <th>SK learn</th>\n",
       "      <th>Dhiraj</th>\n",
       "    </tr>\n",
       "  </thead>\n",
       "  <tbody>\n",
       "    <tr>\n",
       "      <th>0</th>\n",
       "      <td>37.467236</td>\n",
       "      <td>36.616170</td>\n",
       "    </tr>\n",
       "    <tr>\n",
       "      <th>1</th>\n",
       "      <td>31.391547</td>\n",
       "      <td>29.352734</td>\n",
       "    </tr>\n",
       "    <tr>\n",
       "      <th>2</th>\n",
       "      <td>27.120196</td>\n",
       "      <td>26.707366</td>\n",
       "    </tr>\n",
       "    <tr>\n",
       "      <th>3</th>\n",
       "      <td>6.468433</td>\n",
       "      <td>5.415143</td>\n",
       "    </tr>\n",
       "    <tr>\n",
       "      <th>4</th>\n",
       "      <td>33.629667</td>\n",
       "      <td>33.474465</td>\n",
       "    </tr>\n",
       "  </tbody>\n",
       "</table>\n",
       "</div>"
      ],
      "text/plain": [
       "    SK learn     Dhiraj\n",
       "0  37.467236  36.616170\n",
       "1  31.391547  29.352734\n",
       "2  27.120196  26.707366\n",
       "3   6.468433   5.415143\n",
       "4  33.629667  33.474465"
      ]
     },
     "execution_count": 666,
     "metadata": {},
     "output_type": "execute_result"
    }
   ],
   "source": [
    "comparision = {\"SK learn\" : Y_pred, \"Dhiraj\" : y_expected}\n",
    "comp_df = pd.DataFrame(data=comparision)\n",
    "\n",
    "comp_df.head()"
   ]
  }
 ],
 "metadata": {
  "kernelspec": {
   "display_name": "Python 3",
   "language": "python",
   "name": "python3"
  },
  "language_info": {
   "codemirror_mode": {
    "name": "ipython",
    "version": 3
   },
   "file_extension": ".py",
   "mimetype": "text/x-python",
   "name": "python",
   "nbconvert_exporter": "python",
   "pygments_lexer": "ipython3",
   "version": "3.6.5"
  }
 },
 "nbformat": 4,
 "nbformat_minor": 2
}
